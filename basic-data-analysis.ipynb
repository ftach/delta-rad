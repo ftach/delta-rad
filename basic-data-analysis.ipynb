{
 "cells": [
  {
   "cell_type": "markdown",
   "metadata": {},
   "source": [
    "# Basic data analysis"
   ]
  },
  {
   "cell_type": "code",
   "execution_count": 2,
   "metadata": {},
   "outputs": [],
   "source": [
    "import pandas as pd "
   ]
  },
  {
   "cell_type": "markdown",
   "metadata": {},
   "source": [
    "## Correlate Patient number and File Number "
   ]
  },
  {
   "cell_type": "code",
   "execution_count": 3,
   "metadata": {},
   "outputs": [
    {
     "name": "stdout",
     "output_type": "stream",
     "text": [
      "['Patients', 'Dosi Volumes cibles ', 'Dosi OAR ', 'TTT', 'TTT OAR', 'Moyennes OAR ', 'Fin ttt', '1 mois ', '3 mois ', '6 mois ', '9 mois ', '1 an', '2 ans', 'Survies ']\n"
     ]
    }
   ],
   "source": [
    "# Create patient dict\n",
    "clinics_file_path = \"C:/Users/Valenzuela/Documents/PhD/MANQUE DOSSIER PYTHON PROCESS/Recueil clinique pancréas MRIdian.xls\"\n",
    "clinics_xls = pd.ExcelFile(clinics_file_path)\n",
    "print(clinics_xls.sheet_names)\n",
    "#clinics_df = xls.parse"
   ]
  },
  {
   "cell_type": "markdown",
   "metadata": {},
   "source": [
    "## Compute radiomics variations between F1/F2, F1/F3, Simu/F2, Simu/F3 "
   ]
  },
  {
   "cell_type": "code",
   "execution_count": null,
   "metadata": {},
   "outputs": [],
   "source": []
  }
 ],
 "metadata": {
  "kernelspec": {
   "display_name": "radiomics",
   "language": "python",
   "name": "python3"
  },
  "language_info": {
   "codemirror_mode": {
    "name": "ipython",
    "version": 3
   },
   "file_extension": ".py",
   "mimetype": "text/x-python",
   "name": "python",
   "nbconvert_exporter": "python",
   "pygments_lexer": "ipython3",
   "version": "3.6.13"
  }
 },
 "nbformat": 4,
 "nbformat_minor": 2
}
