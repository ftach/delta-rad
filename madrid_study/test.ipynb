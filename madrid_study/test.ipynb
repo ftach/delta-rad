{
 "cells": [
  {
   "cell_type": "code",
   "execution_count": 18,
   "metadata": {},
   "outputs": [],
   "source": [
    "import dicom2nifti\n",
    "import os \n",
    "import pydicom\n",
    "import matplotlib.pyplot as plt\n",
    "import SimpleITK as sitk\n",
    "import numpy as np\n",
    "from dcmrtstruct2nii import dcmrtstruct2nii, list_rt_structs\n",
    "import shutil "
   ]
  },
  {
   "cell_type": "markdown",
   "metadata": {},
   "source": [
    "# Load reference image as nifti"
   ]
  },
  {
   "cell_type": "code",
   "execution_count": 17,
   "metadata": {},
   "outputs": [
    {
     "name": "stdout",
     "output_type": "stream",
     "text": [
      "Converted DICOM series to NIfTI: /home/tachennf/Documents/delta-rad/madrid_study/data/Mont1/nifti_simu/simu.nii.gz\n"
     ]
    }
   ],
   "source": [
    "base_folder = \"/home/tachennf/Documents/delta-rad/madrid_study/data/Mont1/simu/\"\n",
    "output_file = \"/home/tachennf/Documents/delta-rad/madrid_study/data/Mont1/nifti_simu/\" + \"simu.nii.gz\"\n",
    "def dicom_to_nifti(dicom_directory, output_file):\n",
    "    # Read the DICOM series\n",
    "    reader = sitk.ImageSeriesReader()\n",
    "    dicom_names = reader.GetGDCMSeriesFileNames(dicom_directory)\n",
    "    reader.SetFileNames(dicom_names)\n",
    "\n",
    "    # Convert to a SimpleITK image\n",
    "    image = reader.Execute()\n",
    "\n",
    "    # Write the image as a NIfTI file\n",
    "    sitk.WriteImage(image, output_file)\n",
    "    print(f\"Converted DICOM series to NIfTI: {output_file}\")\n",
    "\n",
    "dicom_to_nifti(base_folder, output_file)"
   ]
  },
  {
   "cell_type": "markdown",
   "metadata": {},
   "source": [
    "# Load RT STRUCT"
   ]
  },
  {
   "cell_type": "code",
   "execution_count": 18,
   "metadata": {},
   "outputs": [
    {
     "name": "stdout",
     "output_type": "stream",
     "text": [
      "[13.4678, -62.9823, -130.7115, 14.9678, -62.9823, -130.7115, 16.4678, -62.9823, -130.7115, 17.9678, -62.9823, -130.7115, 19.4678, -62.9823, -130.7115, 20.9678, -62.9823, -130.7115, 22.4678, -62.9823, -130.7115, 23.9678, -62.9823, -130.7115, 25.4678, -62.9823, -130.7115, 26.9678, -62.9823, -130.7115, 28.4678, -62.9823, -130.7115, 29.9678, -62.9823, -130.7115, 31.4678, -62.9823, -130.7115, 32.9678, -62.9823, -130.7115, 34.4678, -62.9823, -130.7115, 35.9678, -62.9823, -130.7115, 37.4678, -62.9823, -130.7115, 38.9678, -62.9823, -130.7115, 40.4678, -62.9823, -130.7115, 41.9678, -62.9823, -130.7115, 43.4678, -62.9823, -130.7115, 44.9678, -62.9823, -130.7115, 46.4678, -62.9823, -130.7115, 47.9678, -62.9823, -130.7115, 49.4678, -62.9823, -130.7115, 50.9678, -62.9823, -130.7115, 52.4678, -62.9823, -130.7115, 53.9678, -62.9823, -130.7115, 55.4678, -62.9823, -130.7115, 55.4678, -62.9823, -130.7115, 56.9678, -61.4823, -130.7115, 58.4678, -61.4823, -130.7115, 59.9678, -61.4823, -130.7115, 61.4678, -61.4823, -130.7115, 61.4678, -61.4823, -130.7115, 62.9678, -59.9823, -130.7115, 64.4678, -59.9823, -130.7115, 65.9678, -59.9823, -130.7115, 67.4678, -59.9823, -130.7115, 68.9678, -59.9823, -130.7115, 68.9678, -59.9823, -130.7115, 70.4678, -58.4823, -130.7115, 71.9678, -58.4823, -130.7115, 73.4678, -58.4823, -130.7115, 73.4678, -58.4823, -130.7115, 74.9678, -56.9823, -130.7115, 76.4678, -56.9823, -130.7115, 77.9678, -56.9823, -130.7115, 79.4678, -56.9823, -130.7115, 79.4678, -56.9823, -130.7115, 80.9678, -55.4823, -130.7115, 82.4678, -55.4823, -130.7115, 83.9678, -55.4823, -130.7115, 83.9678, -55.4823, -130.7115, 83.9678, -53.9823, -130.7115, 83.9678, -52.4823, -130.7115, 83.9678, -50.9823, -130.7115, 83.9678, -49.4823, -130.7115, 83.9678, -47.9823, -130.7115, 83.9678, -46.4823, -130.7115, 83.9678, -44.9823, -130.7115, 83.9678, -43.4823, -130.7115, 83.9678, -41.9823, -130.7115, 83.9678, -40.4823, -130.7115, 83.9678, -40.4823, -130.7115, 82.4678, -40.4823, -130.7115, 80.9678, -40.4823, -130.7115, 79.4678, -40.4823, -130.7115, 77.9678, -40.4823, -130.7115, 76.4678, -40.4823, -130.7115, 74.9678, -40.4823, -130.7115, 73.4678, -38.9823, -130.7115, 73.4678, -38.9823, -130.7115, 71.9678, -37.4823, -130.7115, 71.9678, -37.4823, -130.7115, 70.4678, -35.9823, -130.7115, 70.4678, -35.9823, -130.7115, 68.9678, -34.4823, -130.7115, 68.9678, -34.4823, -130.7115, 67.4678, -32.9823, -130.7115, 67.4678, -31.4823, -130.7115, 67.4678, -29.9823, -130.7115, 67.4678, -28.4823, -130.7115, 67.4678, -26.9823, -130.7115, 68.9678, -25.4823, -130.7115, 68.9678, -25.4823, -130.7115, 70.4678, -23.9823, -130.7115, 71.9678, -23.9823, -130.7115, 73.4678, -23.9823, -130.7115, 74.9678, -23.9823, -130.7115, 76.4678, -23.9823, -130.7115, 77.9678, -23.9823, -130.7115, 79.4678, -23.9823, -130.7115, 80.9678, -23.9823, -130.7115, 82.4678, -23.9823, -130.7115, 83.9678, -23.9823, -130.7115, 85.4678, -23.9823, -130.7115, 85.4678, -23.9823, -130.7115, 85.4678, -22.4823, -130.7115, 85.4678, -20.9823, -130.7115, 85.4678, -19.4823, -130.7115, 85.4678, -17.9823, -130.7115, 85.4678, -16.4823, -130.7115, 85.4678, -14.9823, -130.7115, 85.4678, -13.4823, -130.7115, 85.4678, -11.9823, -130.7115, 85.4678, -10.4823, -130.7115, 85.4678, -8.9823, -130.7115, 85.4678, -7.4823, -130.7115, 85.4678, -5.9823, -130.7115, 85.4678, -5.9823, -130.7115, 83.9678, -4.4823, -130.7115, 83.9678, -4.4823, -130.7115, 82.4678, -2.9823, -130.7115, 83.9678, -1.4823, -130.7115, 85.4678, -1.4823, -130.7115, 86.9678, -1.4823, -130.7115, 88.4678, -1.4823, -130.7115, 88.4678, -1.4823, -130.7115, 89.9678, 0.0177, -130.7115, 91.4678, 0.0177, -130.7115, 92.9678, 0.0177, -130.7115, 94.4678, 0.0177, -130.7115, 95.9678, 0.0177, -130.7115, 97.4678, 0.0177, -130.7115, 98.9678, 0.0177, -130.7115, 100.4678, 0.0177, -130.7115, 101.9678, 0.0177, -130.7115, 103.4678, 0.0177, -130.7115, 104.9678, 0.0177, -130.7115, 104.9678, 0.0177, -130.7115, 104.9678, 1.5177, -130.7115, 104.9678, 3.0177, -130.7115, 104.9678, 4.5177, -130.7115, 104.9678, 6.0177, -130.7115, 104.9678, 7.5177, -130.7115, 104.9678, 9.0177, -130.7115, 104.9678, 10.5177, -130.7115, 104.9678, 12.0177, -130.7115, 104.9678, 13.5177, -130.7115, 104.9678, 15.0177, -130.7115, 104.9678, 15.0177, -130.7115, 103.4678, 15.0177, -130.7115, 101.9678, 15.0177, -130.7115, 100.4678, 16.5177, -130.7115, 101.9678, 18.0177, -130.7115, 103.4678, 18.0177, -130.7115, 103.4678, 18.0177, -130.7115, 104.9678, 19.5177, -130.7115, 104.9678, 19.5177, -130.7115, 104.9678, 21.0177, -130.7115, 104.9678, 22.5177, -130.7115, 104.9678, 24.0177, -130.7115, 104.9678, 25.5177, -130.7115, 104.9678, 27.0177, -130.7115, 104.9678, 28.5177, -130.7115, 104.9678, 30.0177, -130.7115, 104.9678, 31.5177, -130.7115, 104.9678, 33.0177, -130.7115, 104.9678, 34.5177, -130.7115, 104.9678, 36.0177, -130.7115, 104.9678, 37.5177, -130.7115, 104.9678, 39.0177, -130.7115, 104.9678, 40.5177, -130.7115, 104.9678, 40.5177, -130.7115, 103.4678, 42.0177, -130.7115, 103.4678, 43.5177, -130.7115, 103.4678, 45.0177, -130.7115, 103.4678, 45.0177, -130.7115, 101.9678, 46.5177, -130.7115, 101.9678, 46.5177, -130.7115, 100.4678, 48.0177, -130.7115, 100.4678, 48.0177, -130.7115, 98.9678, 48.0177, -130.7115, 97.4678, 49.5177, -130.7115, 97.4678, 49.5177, -130.7115, 95.9678, 49.5177, -130.7115, 94.4678, 51.0177, -130.7115, 94.4678, 52.5177, -130.7115, 94.4678, 54.0177, -130.7115, 94.4678, 55.5177, -130.7115, 94.4678, 55.5177, -130.7115, 92.9678, 55.5177, -130.7115, 91.4678, 55.5177, -130.7115, 89.9678, 55.5177, -130.7115, 88.4678, 55.5177, -130.7115, 86.9678, 55.5177, -130.7115, 85.4678, 55.5177, -130.7115, 83.9678, 55.5177, -130.7115, 82.4678, 55.5177, -130.7115, 80.9678, 55.5177, -130.7115, 79.4678, 55.5177, -130.7115, 79.4678, 55.5177, -130.7115, 79.4678, 54.0177, -130.7115, 79.4678, 52.5177, -130.7115, 79.4678, 51.0177, -130.7115, 79.4678, 49.5177, -130.7115, 79.4678, 48.0177, -130.7115, 79.4678, 46.5177, -130.7115, 79.4678, 45.0177, -130.7115, 77.9678, 43.5177, -130.7115, 76.4678, 43.5177, -130.7115, 76.4678, 43.5177, -130.7115, 76.4678, 42.0177, -130.7115, 74.9678, 40.5177, -130.7115, 73.4678, 40.5177, -130.7115, 73.4678, 40.5177, -130.7115, 73.4678, 39.0177, -130.7115, 73.4678, 37.5177, -130.7115, 73.4678, 36.0177, -130.7115, 71.9678, 34.5177, -130.7115, 70.4678, 34.5177, -130.7115, 70.4678, 34.5177, -130.7115, 70.4678, 33.0177, -130.7115, 68.9678, 31.5177, -130.7115, 67.4678, 31.5177, -130.7115, 65.9678, 31.5177, -130.7115, 64.4678, 31.5177, -130.7115, 62.9678, 31.5177, -130.7115, 61.4678, 31.5177, -130.7115, 59.9678, 31.5177, -130.7115, 58.4678, 31.5177, -130.7115, 58.4678, 31.5177, -130.7115, 58.4678, 30.0177, -130.7115, 58.4678, 28.5177, -130.7115, 58.4678, 27.0177, -130.7115, 58.4678, 25.5177, -130.7115, 58.4678, 24.0177, -130.7115, 58.4678, 22.5177, -130.7115, 58.4678, 21.0177, -130.7115, 56.9678, 19.5177, -130.7115, 55.4678, 19.5177, -130.7115, 55.4678, 19.5177, -130.7115, 53.9678, 18.0177, -130.7115, 53.9678, 18.0177, -130.7115, 52.4678, 16.5177, -130.7115, 50.9678, 16.5177, -130.7115, 49.4678, 16.5177, -130.7115, 47.9678, 16.5177, -130.7115, 46.4678, 16.5177, -130.7115, 46.4678, 16.5177, -130.7115, 46.4678, 15.0177, -130.7115, 44.9678, 13.5177, -130.7115, 44.9678, 13.5177, -130.7115, 43.4678, 12.0177, -130.7115, 41.9678, 12.0177, -130.7115, 40.4678, 12.0177, -130.7115, 38.9678, 12.0177, -130.7115, 38.9678, 12.0177, -130.7115, 37.4678, 10.5177, -130.7115, 35.9678, 10.5177, -130.7115, 34.4678, 10.5177, -130.7115, 32.9678, 10.5177, -130.7115, 31.4678, 10.5177, -130.7115, 29.9678, 10.5177, -130.7115, 28.4678, 10.5177, -130.7115, 26.9678, 10.5177, -130.7115, 25.4678, 10.5177, -130.7115, 23.9678, 10.5177, -130.7115, 23.9678, 10.5177, -130.7115, 23.9678, 9.0177, -130.7115, 23.9678, 7.5177, -130.7115, 23.9678, 6.0177, -130.7115, 23.9678, 4.5177, -130.7115, 22.4678, 3.0177, -130.7115, 22.4678, 3.0177, -130.7115, 20.9678, 1.5177, -130.7115, 19.4678, 3.0177, -130.7115, 19.4678, 3.0177, -130.7115, 17.9678, 3.0177, -130.7115, 16.4678, 3.0177, -130.7115, 14.9678, 4.5177, -130.7115, 14.9678, 4.5177, -130.7115, 13.4678, 4.5177, -130.7115, 11.9678, 4.5177, -130.7115, 10.4678, 6.0177, -130.7115, 10.4678, 6.0177, -130.7115, 8.9678, 6.0177, -130.7115, 7.4678, 6.0177, -130.7115, 5.9678, 6.0177, -130.7115, 4.4678, 6.0177, -130.7115, 2.9678, 6.0177, -130.7115, 1.4678, 7.5177, -130.7115, 1.4678, 7.5177, -130.7115, -0.0322, 9.0177, -130.7115, -0.0322, 9.0177, -130.7115, -1.5322, 9.0177, -130.7115, -3.0322, 9.0177, -130.7115, -4.5322, 10.5177, -130.7115, -4.5322, 10.5177, -130.7115, -6.0322, 10.5177, -130.7115, -7.5322, 12.0177, -130.7115, -7.5322, 13.5177, -130.7115, -7.5322, 13.5177, -130.7115, -9.0322, 13.5177, -130.7115, -10.5322, 13.5177, -130.7115, -12.0322, 13.5177, -130.7115, -13.5322, 13.5177, -130.7115, -15.0322, 13.5177, -130.7115, -16.5322, 13.5177, -130.7115, -18.0322, 13.5177, -130.7115, -19.5322, 13.5177, -130.7115, -21.0322, 13.5177, -130.7115, -22.5322, 13.5177, -130.7115, -24.0322, 13.5177, -130.7115, -25.5322, 13.5177, -130.7115, -27.0322, 13.5177, -130.7115, -28.5322, 13.5177, -130.7115, -30.0322, 13.5177, -130.7115, -31.5322, 15.0177, -130.7115, -31.5322, 16.5177, -130.7115, -31.5322, 16.5177, -130.7115, -33.0322, 16.5177, -130.7115, -34.5322, 16.5177, -130.7115, -36.0322, 18.0177, -130.7115, -36.0322, 19.5177, -130.7115, -36.0322, 19.5177, -130.7115, -37.5322, 21.0177, -130.7115, -37.5322, 21.0177, -130.7115, -39.0322, 21.0177, -130.7115, -40.5322, 21.0177, -130.7115, -42.0322, 21.0177, -130.7115, -43.5322, 21.0177, -130.7115, -45.0322, 21.0177, -130.7115, -46.5322, 22.5177, -130.7115, -46.5322, 24.0177, -130.7115, -46.5322, 25.5177, -130.7115, -46.5322, 27.0177, -130.7115, -46.5322, 27.0177, -130.7115, -48.0322, 28.5177, -130.7115, -48.0322, 30.0177, -130.7115, -48.0322, 30.0177, -130.7115, -49.5322, 30.0177, -130.7115, -51.0322, 31.5177, -130.7115, -51.0322, 31.5177, -130.7115, -52.5322, 33.0177, -130.7115, -52.5322, 33.0177, -130.7115, -54.0322, 34.5177, -130.7115, -54.0322, 34.5177, -130.7115, -55.5322, 34.5177, -130.7115, -57.0322, 36.0177, -130.7115, -57.0322, 36.0177, -130.7115, -58.5322, 37.5177, -130.7115, -58.5322, 37.5177, -130.7115, -60.0322, 39.0177, -130.7115, -60.0322, 40.5177, -130.7115, -60.0322, 42.0177, -130.7115, -60.0322, 43.5177, -130.7115, -60.0322, 43.5177, -130.7115, -61.5322, 43.5177, -130.7115, -63.0322, 45.0177, -130.7115, -63.0322, 46.5177, -130.7115, -63.0322, 48.0177, -130.7115, -63.0322, 49.5177, -130.7115, -63.0322, 51.0177, -130.7115, -63.0322, 52.5177, -130.7115, -63.0322, 54.0177, -130.7115, -63.0322, 55.5177, -130.7115, -63.0322, 57.0177, -130.7115, -63.0322, 58.5177, -130.7115, -63.0322, 58.5177, -130.7115, -64.5322, 58.5177, -130.7115, -66.0322, 58.5177, -130.7115, -67.5322, 58.5177, -130.7115, -69.0322, 58.5177, -130.7115, -70.5322, 58.5177, -130.7115, -72.0322, 58.5177, -130.7115, -73.5322, 58.5177, -130.7115, -75.0322, 58.5177, -130.7115, -76.5322, 58.5177, -130.7115, -78.0322, 58.5177, -130.7115, -79.5322, 58.5177, -130.7115, -81.0322, 58.5177, -130.7115, -82.5322, 58.5177, -130.7115, -82.5322, 58.5177, -130.7115, -82.5322, 57.0177, -130.7115, -82.5322, 55.5177, -130.7115, -82.5322, 54.0177, -130.7115, -82.5322, 52.5177, -130.7115, -82.5322, 51.0177, -130.7115, -82.5322, 49.5177, -130.7115, -82.5322, 48.0177, -130.7115, -82.5322, 46.5177, -130.7115, -82.5322, 45.0177, -130.7115, -82.5322, 43.5177, -130.7115, -82.5322, 42.0177, -130.7115, -82.5322, 40.5177, -130.7115, -82.5322, 40.5177, -130.7115, -81.0322, 39.0177, -130.7115, -81.0322, 37.5177, -130.7115, -81.0322, 37.5177, -130.7115, -79.5322, 36.0177, -130.7115, -79.5322, 36.0177, -130.7115, -78.0322, 34.5177, -130.7115, -78.0322, 34.5177, -130.7115, -76.5322, 33.0177, -130.7115, -76.5322, 31.5177, -130.7115, -78.0322, 30.0177, -130.7115, -78.0322, 30.0177, -130.7115, -78.0322, 28.5177, -130.7115, -78.0322, 27.0177, -130.7115, -78.0322, 25.5177, -130.7115, -79.5322, 24.0177, -130.7115, -81.0322, 24.0177, -130.7115, -82.5322, 24.0177, -130.7115, -84.0322, 24.0177, -130.7115, -85.5322, 24.0177, -130.7115, -85.5322, 24.0177, -130.7115, -85.5322, 22.5177, -130.7115, -85.5322, 21.0177, -130.7115, -85.5322, 19.5177, -130.7115, -85.5322, 18.0177, -130.7115, -85.5322, 16.5177, -130.7115, -85.5322, 15.0177, -130.7115, -85.5322, 13.5177, -130.7115, -85.5322, 12.0177, -130.7115, -85.5322, 10.5177, -130.7115, -85.5322, 9.0177, -130.7115, -85.5322, 7.5177, -130.7115, -85.5322, 6.0177, -130.7115, -85.5322, 4.5177, -130.7115, -85.5322, 3.0177, -130.7115, -85.5322, 1.5177, -130.7115, -85.5322, 0.0177, -130.7115, -85.5322, -1.4823, -130.7115, -85.5322, -1.4823, -130.7115, -84.0322, -2.9823, -130.7115, -84.0322, -2.9823, -130.7115, -82.5322, -2.9823, -130.7115, -81.0322, -2.9823, -130.7115, -79.5322, -4.4823, -130.7115, -79.5322, -5.9823, -130.7115, -79.5322, -7.4823, -130.7115, -79.5322, -7.4823, -130.7115, -78.0322, -7.4823, -130.7115, -76.5322, -7.4823, -130.7115, -75.0322, -8.9823, -130.7115, -75.0322, -10.4823, -130.7115, -75.0322, -10.4823, -130.7115, -73.5322, -10.4823, -130.7115, -72.0322, -11.9823, -130.7115, -72.0322, -13.4823, -130.7115, -72.0322, -14.9823, -130.7115, -72.0322, -16.4823, -130.7115, -72.0322, -17.9823, -130.7115, -72.0322, -17.9823, -130.7115, -70.5322, -17.9823, -130.7115, -69.0322, -17.9823, -130.7115, -67.5322, -17.9823, -130.7115, -66.0322, -17.9823, -130.7115, -64.5322, -17.9823, -130.7115, -63.0322, -17.9823, -130.7115, -61.5322, -17.9823, -130.7115, -60.0322, -17.9823, -130.7115, -58.5322, -17.9823, -130.7115, -57.0322, -17.9823, -130.7115, -55.5322, -17.9823, -130.7115, -54.0322, -17.9823, -130.7115, -52.5322, -17.9823, -130.7115, -51.0322, -19.4823, -130.7115, -52.5322, -20.9823, -130.7115, -52.5322, -20.9823, -130.7115, -52.5322, -22.4823, -130.7115, -52.5322, -23.9823, -130.7115, -54.0322, -25.4823, -130.7115, -54.0322, -25.4823, -130.7115, -55.5322, -26.9823, -130.7115, -57.0322, -26.9823, -130.7115, -57.0322, -26.9823, -130.7115, -58.5322, -28.4823, -130.7115, -58.5322, -28.4823, -130.7115, -60.0322, -29.9823, -130.7115, -60.0322, -29.9823, -130.7115, -61.5322, -31.4823, -130.7115, -63.0322, -31.4823, -130.7115, -64.5322, -31.4823, -130.7115, -66.0322, -31.4823, -130.7115, -67.5322, -31.4823, -130.7115, -69.0322, -31.4823, -130.7115, -70.5322, -31.4823, -130.7115, -72.0322, -31.4823, -130.7115, -73.5322, -31.4823, -130.7115, -75.0322, -31.4823, -130.7115, -76.5322, -31.4823, -130.7115, -76.5322, -31.4823, -130.7115, -76.5322, -32.9823, -130.7115, -76.5322, -34.4823, -130.7115, -76.5322, -35.9823, -130.7115, -76.5322, -37.4823, -130.7115, -76.5322, -38.9823, -130.7115, -76.5322, -40.4823, -130.7115, -76.5322, -41.9823, -130.7115, -76.5322, -43.4823, -130.7115, -76.5322, -44.9823, -130.7115, -76.5322, -46.4823, -130.7115, -76.5322, -47.9823, -130.7115, -76.5322, -49.4823, -130.7115, -76.5322, -49.4823, -130.7115, -75.0322, -50.9823, -130.7115, -75.0322, -50.9823, -130.7115, -73.5322, -50.9823, -130.7115, -72.0322, -50.9823, -130.7115, -70.5322, -52.4823, -130.7115, -70.5322, -52.4823, -130.7115, -69.0322, -52.4823, -130.7115, -67.5322, -52.4823, -130.7115, -66.0322, -53.9823, -130.7115, -66.0322, -53.9823, -130.7115, -64.5322, -53.9823, -130.7115, -63.0322, -53.9823, -130.7115, -61.5322, -53.9823, -130.7115, -60.0322, -55.4823, -130.7115, -60.0322, -55.4823, -130.7115, -58.5322, -55.4823, -130.7115, -57.0322, -55.4823, -130.7115, -55.5322, -55.4823, -130.7115, -54.0322, -55.4823, -130.7115, -52.5322, -55.4823, -130.7115, -51.0322, -55.4823, -130.7115, -49.5322, -55.4823, -130.7115, -48.0322, -56.9823, -130.7115, -48.0322, -56.9823, -130.7115, -46.5322, -56.9823, -130.7115, -45.0322, -56.9823, -130.7115, -43.5322, -56.9823, -130.7115, -42.0322, -56.9823, -130.7115, -40.5322, -58.4823, -130.7115, -40.5322, -58.4823, -130.7115, -39.0322, -58.4823, -130.7115, -37.5322, -58.4823, -130.7115, -36.0322, -59.9823, -130.7115, -36.0322, -59.9823, -130.7115, -34.5322, -59.9823, -130.7115, -33.0322, -59.9823, -130.7115, -31.5322, -59.9823, -130.7115, -30.0322, -61.4823, -130.7115, -30.0322, -61.4823, -130.7115, -28.5322, -61.4823, -130.7115, -27.0322, -61.4823, -130.7115, -25.5322, -61.4823, -130.7115, -24.0322, -61.4823, -130.7115, -22.5322, -61.4823, -130.7115, -21.0322, -61.4823, -130.7115, -19.5322, -61.4823, -130.7115, -18.0322, -61.4823, -130.7115, -16.5322, -61.4823, -130.7115, -15.0322, -61.4823, -130.7115, -13.5322, -61.4823, -130.7115, -12.0322, -61.4823, -130.7115, -10.5322, -61.4823, -130.7115, -9.0322, -61.4823, -130.7115, -7.5322, -61.4823, -130.7115, -6.0322, -61.4823, -130.7115, -4.5322, -61.4823, -130.7115, -3.0322, -61.4823, -130.7115, -1.5322, -61.4823, -130.7115, -0.0322, -61.4823, -130.7115, 1.4678, -61.4823, -130.7115, 2.9678, -61.4823, -130.7115, 4.4678, -61.4823, -130.7115, 5.9678, -61.4823, -130.7115, 5.9678, -61.4823, -130.7115, 7.4678, -59.9823, -130.7115, 8.9678, -59.9823, -130.7115, 10.4678, -61.4823, -130.7115, 10.4678, -61.4823, -130.7115, 11.9678, -62.9823, -130.7115, 11.9678, -62.9823, -130.7115]\n"
     ]
    }
   ],
   "source": [
    "rt_struct_path = \"/home/tachennf/Documents/delta-rad/madrid_study/data/Mont1/Montpellier_mont1_RTst_2024-07-11_110955_MRI.Study.from.2024-07-11.02.04_RTSTR_n1__00000/2.16.840.1.114362.1.12289667.27454039548.698351266.280.551.dcm\"\n",
    "\n",
    "rt_struct = pydicom.dcmread(rt_struct_path)\n",
    "roi_names = [roi.ROIName for roi in rt_struct.StructureSetROISequence]\n",
    "#for contour in rt_struct.ROIContourSequence:\n",
    "print(rt_struct.ROIContourSequence[0].ContourSequence[0].ContourData)\n",
    "# print(contour.ReferencedROINumber, contour.ContourSequence[0].ContourData)\n",
    "# print(roi_names)\n",
    "# print(rt_struct.StructureSetROISequence[0])"
   ]
  },
  {
   "cell_type": "code",
   "execution_count": 19,
   "metadata": {},
   "outputs": [
    {
     "name": "stdout",
     "output_type": "stream",
     "text": [
      "(332, 234, 88)\n",
      "got ptv\n",
      "0\n",
      "0\n",
      "0\n",
      "0\n",
      "0\n",
      "0\n",
      "0\n",
      "0\n",
      "0\n",
      "0\n",
      "0\n",
      "0\n",
      "0\n",
      "3168\n",
      "3168\n",
      "3168\n",
      "3168\n",
      "3168\n",
      "3168\n",
      "3168\n",
      "3168\n",
      "3168\n",
      "3168\n",
      "3168\n",
      "3168\n",
      "3168\n",
      "3168\n",
      "3168\n",
      "k:  88\n"
     ]
    },
    {
     "data": {
      "image/png": "[encoded data removed]",
      "text/plain": [
       "<Figure size 640x480 with 1 Axes>"
      ]
     },
     "metadata": {},
     "output_type": "display_data"
    }
   ],
   "source": [
    "# Load the RT Struct file\n",
    "\n",
    "# # Access basic information\n",
    "# print(f\"Modality: {rt_struct.Modality}\")\n",
    "# print(f\"Number of Structures: {len(rt_struct.StructureSetROISequence)}\")\n",
    "# print(f\"Patient Name: {rt_struct.StructureSetROISequence}\")\n",
    "# \n",
    "# Iterate over structuresimport pydicom\n",
    "import numpy as np\n",
    "import nibabel as nib\n",
    "from scipy.ndimage import binary_fill_holes\n",
    "from skimage.draw import polygon2mask\n",
    "\n",
    "def contour_to_mask(contour_sequence, shape, slice_index):\n",
    "    \"\"\"\n",
    "    Convert a single contour sequence to a binary mask.\n",
    "    \"\"\"\n",
    "    for contour in contour_sequence:\n",
    "        coordinates = contour.ContourData\n",
    "        \n",
    "        points = np.array(coordinates).reshape(-1, 3) # shape len(coordinates), 3 (x, y, z)\n",
    "        poly_coords = points[:, :2]\n",
    "        poly_coords = np.round(poly_coords).astype(int)\n",
    "\n",
    "        mask = polygon2mask(shape, poly_coords)\n",
    "        plt.imshow(mask)\n",
    "\n",
    "        return mask\n",
    "        \n",
    "\n",
    "def rtstruct_to_nifti(rtstruct_path, reference_image_path, output_path):\n",
    "    \"\"\"\n",
    "    Convert RT Struct contours to NIfTI masks.\n",
    "    \"\"\"\n",
    "    rtstruct = pydicom.dcmread(rtstruct_path)\n",
    "    reference_image = nib.load(reference_image_path)\n",
    "    reference_data = reference_image.get_fdata()\n",
    "    print(reference_data.shape)\n",
    "    shape = reference_data.shape[:2]\n",
    "\n",
    "    for roi in rtstruct.StructureSetROISequence:\n",
    "        roi_name = roi.ROIName\n",
    "        # print(f\"Processing ROI: {roi_name}\")\n",
    "\n",
    "        # Create a 3D mask for the ROI\n",
    "        if roi_name == 'PTV': \n",
    "            print('got ptv')\n",
    "            mask_3d = np.zeros(reference_data.shape, dtype=np.uint8)\n",
    "            k = 0 \n",
    "            for contour in rtstruct.ROIContourSequence:\n",
    "                if contour.ReferencedROINumber == roi.ROINumber:\n",
    "                    for slice_index in range(reference_data.shape[2]):\n",
    "                        mask_2d = contour_to_mask(contour.ContourSequence, shape, slice_index) # TODO: fix this \n",
    "                        if mask_2d is not None:\n",
    "                            mask_3d[:, :, slice_index] = mask_2d\n",
    "                            k += 1\n",
    "                print(np.sum(mask_3d))\n",
    "\n",
    "            # Save the mask as a NIfTI file\n",
    "            nifti_mask = nib.Nifti1Image(mask_3d, reference_image.affine)\n",
    "            nib.save(nifti_mask, f\"{output_path}/{roi_name}.nii.gz\")\n",
    "            print(\"k: \", k)\n",
    "# Example usage\n",
    "rt_struct = pydicom.dcmread(rt_struct_path)\n",
    "\n",
    "output_path = \"/home/tachennf/Documents/delta-rad/madrid_study/data/Mont1/nifti_simu/\"\n",
    "\n",
    "rtstruct_to_nifti(rt_struct_path, output_file, output_path)\n"
   ]
  },
  {
   "cell_type": "code",
   "execution_count": 2,
   "metadata": {},
   "outputs": [
    {
     "ename": "RuntimeError",
     "evalue": "Exception thrown in SimpleITK ImageFileReader_ReadImageInformation: /tmp/SimpleITK/Code/IO/src/sitkImageReaderBase.cxx:99:\nsitk::ERROR: Unable to determine ImageIO reader for \"/home/tachennf/Documents/delta-rad/madrid_study/data/Mont1/Montpellier_mont1_RTst_2024-07-11_110955_MRI.Study.from.2024-07-11.02.04_RTSTR_n1__00000/2.16.840.1.114362.1.12289667.27454039548.698351266.280.551.dcm\"",
     "output_type": "error",
     "traceback": [
      "\u001b[0;31m---------------------------------------------------------------------------\u001b[0m",
      "\u001b[0;31mRuntimeError\u001b[0m                              Traceback (most recent call last)",
      "\u001b[0;32m/tmp/ipykernel_84791/1071204998.py\u001b[0m in \u001b[0;36m?\u001b[0;34m()\u001b[0m\n\u001b[0;32m----> 4\u001b[0;31m \u001b[0mreader\u001b[0m \u001b[0;34m=\u001b[0m \u001b[0msitk\u001b[0m\u001b[0;34m.\u001b[0m\u001b[0mImageFileReader\u001b[0m\u001b[0;34m(\u001b[0m\u001b[0;34m)\u001b[0m\u001b[0;34m\u001b[0m\u001b[0;34m\u001b[0m\u001b[0m\n\u001b[0m\u001b[1;32m      5\u001b[0m \u001b[0mreader\u001b[0m\u001b[0;34m.\u001b[0m\u001b[0mSetFileName\u001b[0m\u001b[0;34m(\u001b[0m\u001b[0;34m\"/home/tachennf/Documents/delta-rad/madrid_study/data/Mont1/Montpellier_mont1_RTst_2024-07-11_110955_MRI.Study.from.2024-07-11.02.04_RTSTR_n1__00000/2.16.840.1.114362.1.12289667.27454039548.698351266.280.551.dcm\"\u001b[0m\u001b[0;34m)\u001b[0m\u001b[0;34m\u001b[0m\u001b[0;34m\u001b[0m\u001b[0m\n\u001b[1;32m      6\u001b[0m \u001b[0mreader\u001b[0m\u001b[0;34m.\u001b[0m\u001b[0mLoadPrivateTagsOn\u001b[0m\u001b[0;34m(\u001b[0m\u001b[0;34m)\u001b[0m\u001b[0;34m\u001b[0m\u001b[0;34m\u001b[0m\u001b[0m\n\u001b[1;32m      7\u001b[0m \u001b[0mreader\u001b[0m\u001b[0;34m.\u001b[0m\u001b[0mReadImageInformation\u001b[0m\u001b[0;34m(\u001b[0m\u001b[0;34m)\u001b[0m\u001b[0;34m\u001b[0m\u001b[0;34m\u001b[0m\u001b[0m\n",
      "\u001b[0;32m~/miniconda3/envs/flothesis/lib/python3.8/site-packages/SimpleITK/SimpleITK.py\u001b[0m in \u001b[0;36m?\u001b[0;34m(self)\u001b[0m\n\u001b[1;32m   8515\u001b[0m         \u001b[0minformation\u001b[0m \u001b[0mcan\u001b[0m \u001b[0mstill\u001b[0m \u001b[0mbe\u001b[0m \u001b[0mread\u001b[0m\u001b[0;34m.\u001b[0m\u001b[0;34m\u001b[0m\u001b[0;34m\u001b[0m\u001b[0m\n\u001b[1;32m   8516\u001b[0m \u001b[0;34m\u001b[0m\u001b[0m\n\u001b[1;32m   8517\u001b[0m \u001b[0;34m\u001b[0m\u001b[0m\n\u001b[1;32m   8518\u001b[0m         \"\"\"\n\u001b[0;32m-> 8519\u001b[0;31m         \u001b[0;32mreturn\u001b[0m \u001b[0m_SimpleITK\u001b[0m\u001b[0;34m.\u001b[0m\u001b[0mImageFileReader_ReadImageInformation\u001b[0m\u001b[0;34m(\u001b[0m\u001b[0mself\u001b[0m\u001b[0;34m)\u001b[0m\u001b[0;34m\u001b[0m\u001b[0;34m\u001b[0m\u001b[0m\n\u001b[0m",
      "\u001b[0;31mRuntimeError\u001b[0m: Exception thrown in SimpleITK ImageFileReader_ReadImageInformation: /tmp/SimpleITK/Code/IO/src/sitkImageReaderBase.cxx:99:\nsitk::ERROR: Unable to determine ImageIO reader for \"/home/tachennf/Documents/delta-rad/madrid_study/data/Mont1/Montpellier_mont1_RTst_2024-07-11_110955_MRI.Study.from.2024-07-11.02.04_RTSTR_n1__00000/2.16.840.1.114362.1.12289667.27454039548.698351266.280.551.dcm\""
     ]
    }
   ],
   "source": [
    "reader = sitk.ImageFileReader()\n",
    "reader.SetFileName(\"/home/tachennf/Documents/delta-rad/madrid_study/data/Mont1/Montpellier_mont1_RTst_2024-07-11_110955_MRI.Study.from.2024-07-11.02.04_RTSTR_n1__00000/2.16.840.1.114362.1.12289667.27454039548.698351266.280.551.dcm\")\n",
    "reader.LoadPrivateTagsOn()\n",
    "reader.ReadImageInformation()\n",
    "for k in reader.GetMetaDataKeys():\n",
    "    v = reader.GetMetaData(k)\n",
    "    print(f'({k}) = = \"{v}\"')"
   ]
  },
  {
   "cell_type": "markdown",
   "metadata": {},
   "source": [
    "# DicomRTTool"
   ]
  },
  {
   "cell_type": "code",
   "execution_count": 25,
   "metadata": {},
   "outputs": [
    {
     "name": "stderr",
     "output_type": "stream",
     "text": [
      "Loading through DICOM files: 100%|██████████| 1/1 [00:00<00:00, 11.17it/s]"
     ]
    },
    {
     "name": "stdout",
     "output_type": "stream",
     "text": [
      "Loading from /home/tachennf/Documents/delta-rad/madrid_study/data/Mont1/Montpellier_mont1_RTst_2024-07-11_110955_MRI.Study.from.2024-07-11.02.04_RTSTR_n1__00000\n",
      "Compiling dictionaries together...\n",
      "Index 0, description None at None\n",
      "1 unique series IDs were found. Default is index 0, to change use set_index(index)\n",
      "This index does not have an associated image within the loaded folders\n"
     ]
    },
    {
     "name": "stderr",
     "output_type": "stream",
     "text": [
      "\n"
     ]
    }
   ],
   "source": [
    "from DicomRTTool.ReaderWriter import DicomReaderWriter, ROIAssociationClass\n",
    "Dicom_path = \"/home/tachennf/Documents/delta-rad/madrid_study/data/Mont1/Montpellier_mont1_RTst_2024-07-11_110955_MRI.Study.from.2024-07-11.02.04_RTSTR_n1__00000\"\n",
    "Dicom_reader = DicomReaderWriter(description='Examples', arg_max=True)\n",
    "Dicom_reader.walk_through_folders(Dicom_path) # This will parse through all DICOM present in the folder and subfolders\n",
    "Dicom_reader.get_images()\n",
    "# all_rois = Dicom_reader.return_rois(print_rois=True) # Return a list of all rois present\n"
   ]
  },
  {
   "cell_type": "code",
   "execution_count": 22,
   "metadata": {},
   "outputs": [
    {
     "ename": "AttributeError",
     "evalue": "'DicomReaderWriter' object has no attribute 'set_contour_names_and_assocations'",
     "output_type": "error",
     "traceback": [
      "\u001b[0;31m---------------------------------------------------------------------------\u001b[0m",
      "\u001b[0;31mAttributeError\u001b[0m                            Traceback (most recent call last)",
      "Cell \u001b[0;32mIn[22], line 3\u001b[0m\n\u001b[1;32m      1\u001b[0m Contour_names \u001b[38;5;241m=\u001b[39m [\u001b[38;5;124m'\u001b[39m\u001b[38;5;124mPTV\u001b[39m\u001b[38;5;124m'\u001b[39m] \u001b[38;5;66;03m# Define what rois you want\u001b[39;00m\n\u001b[1;32m      2\u001b[0m associations \u001b[38;5;241m=\u001b[39m [ROIAssociationClass(\u001b[38;5;124m'\u001b[39m\u001b[38;5;124mPTV\u001b[39m\u001b[38;5;124m'\u001b[39m, [\u001b[38;5;124m'\u001b[39m\u001b[38;5;124mPTV\u001b[39m\u001b[38;5;124m'\u001b[39m])] \u001b[38;5;66;03m# Any list of roi associations\u001b[39;00m\n\u001b[0;32m----> 3\u001b[0m \u001b[43mDicom_reader\u001b[49m\u001b[38;5;241;43m.\u001b[39;49m\u001b[43mset_contour_names_and_assocations\u001b[49m(Contour_names)\n\u001b[1;32m      4\u001b[0m Dicom_reader\u001b[38;5;241m.\u001b[39mget_images_and_mask()\n",
      "\u001b[0;31mAttributeError\u001b[0m: 'DicomReaderWriter' object has no attribute 'set_contour_names_and_assocations'"
     ]
    }
   ],
   "source": [
    "Contour_names = ['PTV'] # Define what rois you want\n",
    "associations = [ROIAssociationClass('PTV', ['PTV'])] # Any list of roi associations\n",
    "Dicom_reader.set_contour_names_and_assocations(Contour_names)\n",
    "Dicom_reader.get_images_and_mask()\n"
   ]
  },
  {
   "cell_type": "markdown",
   "metadata": {},
   "source": [
    "# dcmrtstruct2nii "
   ]
  },
  {
   "cell_type": "code",
   "execution_count": 7,
   "metadata": {},
   "outputs": [
    {
     "name": "stdout",
     "output_type": "stream",
     "text": [
      "['Skin', 'Aorta', 'Esophagus', 'Heart', 'KIDNEY_LEFT', 'KIDNEY_RIGHT', 'Liver', 'SPINAL_CORD', 'Spleen', 'Stomach', 'Bowel', 'Duodenum', 'GTV_5000_Tumor', 'PTV', 'MARGEN2CM', 'MARGEN4CM', 'MARGEN7CM', 'RF_4MENOS2', 'RF_7MENOS4', 'CRITSTRUCT', 'CRITIDF', 'CRITALL', 'PTV_HIGH', 'PTV_LOW', 'TRACKING', 'agua', 'aire', 'Isocenter']\n"
     ]
    }
   ],
   "source": [
    "rt_struct_path = \"/home/tachennf/Documents/delta-rad/madrid_study/data/Mont1/Montpellier_mont1_RTst_2024-07-11_110955_MRI.Study.from.2024-07-11.02.04_RTSTR_n1__00000/2.16.840.1.114362.1.12289667.27454039548.698351266.280.551.dcm\"\n",
    "output_path = \"/home/tachennf/Documents/delta-rad/madrid_study/data/Mont1/nifti_simu/\"\n",
    "original_extracted_dicom = \"/home/tachennf/Documents/delta-rad/madrid_study/data/Mont1/Montpellier_mont1_MR_2024-07-22_131350_Study-F0_TRUFI_n88__00000/\"\n",
    "print(list_rt_structs(rt_struct_path))\n",
    "dcmrtstruct2nii(rt_struct_path, original_extracted_dicom, output_path, structures=\"GTV_5000_Tumor\", mask_foreground_value=1)"
   ]
  },
  {
   "cell_type": "markdown",
   "metadata": {},
   "source": [
    "# Organize folders "
   ]
  },
  {
   "cell_type": "code",
   "execution_count": null,
   "metadata": {},
   "outputs": [
    {
     "name": "stdout",
     "output_type": "stream",
     "text": [
      "Mont16\n"
     ]
    }
   ],
   "source": [
    "if os.path.exists(\"/home/tachennf/Documents/delta-rad/madrid_study/clean_data/\") == False: \n",
    "    os.mkdir(\"/home/tachennf/Documents/delta-rad/madrid_study/clean_data/\")\n",
    "\n",
    "patients_list = os.listdir(\"/home/tachennf/Documents/delta-rad/madrid_study/Montpelier/\")\n",
    "\n",
    "for p in patients_list:\n",
    "    print(p)\n",
    "    patient_folder = \"/home/tachennf/Documents/delta-rad/madrid_study/Montpelier/\" + p + \"/\"\n",
    "    # récupérer tous les folders (image, rtstruct, rtdose, rtplan)\n",
    "    dicom_folders = [x for x in os.listdir(patient_folder) if \"_MR_\" in x]\n",
    "    rt_struct_folders = [x for x in os.listdir(patient_folder) if \"RTst\" in x]\n",
    "    rt_dose_folders = [x for x in os.listdir(patient_folder) if \"RTDOSE\" in x]\n",
    "    rt_plan_folders = [x for x in os.listdir(patient_folder) if \"RTPLAN\" in x]\n",
    "\n",
    "    if p == 'Mont16':\n",
    "        # remove folder that contain \"Pancreas2_n1__00000\" in the name\n",
    "        dicom_folders = [x for x in dicom_folders if \"Pancreas2_n1__00000\" not in x]\n",
    "        rt_struct_folders = [x for x in rt_struct_folders if \"Pancreas2_n1__00000\" not in x]\n",
    "        rt_dose_folders = [x for x in rt_dose_folders if \"Pancreas2_n1__00000\" not in x]\n",
    "        rt_plan_folders = [x for x in rt_plan_folders if \"Pancreas2_n1__00000\" not in x]\n",
    "        assert len(dicom_folders) == len(rt_struct_folders) == len(rt_dose_folders) == len(rt_plan_folders), \"Different number of folders\"\n",
    "\n",
    "    # récupérer les numéros de série \n",
    "    series = []\n",
    "    for i in range(len(dicom_folders)):\n",
    "        dicom_folder = patient_folder + dicom_folders[i]\n",
    "        dicom_path = dicom_folder + '/' + os.listdir(dicom_folder)[0]\n",
    "        dicom_data = pydicom.dcmread(dicom_path)\n",
    "        series.append(dicom_data.StudyDate) #  SeriesInstanceUID\n",
    "        \n",
    "    # creer un dossier pour chaque patient dans clean_data\n",
    "    if os.path.exists(\"/home/tachennf/Documents/delta-rad/madrid_study/clean_data/\" + p) == False:\n",
    "        os.mkdir(\"/home/tachennf/Documents/delta-rad/madrid_study/clean_data/\" + p)\n",
    "    for i in range(len(series)):\n",
    "        if os.path.exists(\"/home/tachennf/Documents/delta-rad/madrid_study/clean_data/\" + p + \"/\" + series[i]) == False:\n",
    "            os.mkdir(\"/home/tachennf/Documents/delta-rad/madrid_study/clean_data/\" + p + \"/\" + series[i]) # creer un dossier pour chaque série\n",
    "        dicom_folder = patient_folder + dicom_folders[i]\n",
    "        rt_struct_folder = patient_folder + rt_struct_folders[i]\n",
    "        rt_dose_folder = patient_folder + rt_dose_folders[i]\n",
    "        rt_plan_folder = patient_folder + rt_plan_folders[i]\n",
    "#  \n",
    "        # # creer un dossier pour chaque modalité \n",
    "        if os.path.exists(\"/home/tachennf/Documents/delta-rad/madrid_study/clean_data/\" + p + \"/\" + series[i] + \"/image\") == False:\n",
    "            os.mkdir(\"/home/tachennf/Documents/delta-rad/madrid_study/clean_data/\" + p + \"/\" + series[i] + \"/image\")\n",
    "        if os.path.exists(\"/home/tachennf/Documents/delta-rad/madrid_study/clean_data/\" + p + \"/\" + series[i] + \"/rt_struct\") == False:\n",
    "            os.mkdir(\"/home/tachennf/Documents/delta-rad/madrid_study/clean_data/\" + p + \"/\" + series[i] + \"/rt_struct\")\n",
    "        if os.path.exists(\"/home/tachennf/Documents/delta-rad/madrid_study/clean_data/\" + p + \"/\" + series[i] + \"/rt_dose\") == False:\n",
    "            os.mkdir(\"/home/tachennf/Documents/delta-rad/madrid_study/clean_data/\" + p + \"/\" + series[i] + \"/rt_dose\")\n",
    "        if os.path.exists(\"/home/tachennf/Documents/delta-rad/madrid_study/clean_data/\" + p + \"/\" + series[i] + \"/rt_plan\") == False:\n",
    "            os.mkdir(\"/home/tachennf/Documents/delta-rad/madrid_study/clean_data/\" + p + \"/\" + series[i] + \"/rt_plan\")\n",
    "        #     \n",
    "        # copier les dicom depuis l'ancien dossier vers le nouveau \n",
    "        for file in os.listdir(dicom_folder):\n",
    "            shutil.copy(dicom_folder + '/' + file, \"/home/tachennf/Documents/delta-rad/madrid_study/clean_data/\" + p + \"/\" + series[i] + \"/image\") \n",
    "        # copier les rtstruct depuis l'ancien dossier vers le nouveau\n",
    "        for file in os.listdir(rt_struct_folder):\n",
    "            shutil.copy(rt_struct_folder + '/' + file, \"/home/tachennf/Documents/delta-rad/madrid_study/clean_data/\" + p + \"/\" + series[i] + \"/rt_struct\") \n",
    "        # copier les rtdose depuis l'ancien dossier vers le nouveau\n",
    "        for file in os.listdir(rt_dose_folder):\n",
    "            shutil.copy(rt_dose_folder + '/' + file, \"/home/tachennf/Documents/delta-rad/madrid_study/clean_data/\" + p + \"/\" + series[i] + \"/rt_dose\")\n",
    "        # copier les rtplan depuis l'ancien dossier vers le nouveau\n",
    "        for file in os.listdir(rt_plan_folder):\n",
    "            shutil.copy(rt_plan_folder + '/' + file, \"/home/tachennf/Documents/delta-rad/madrid_study/clean_data/\" + p + \"/\" + series[i] + \"/rt_plan\")\n"
   ]
  },
  {
   "cell_type": "markdown",
   "metadata": {},
   "source": [
    "Organiser dossier en: \n",
    "patients \n",
    "    date \n",
    "        image\n",
    "        rt_dose \n",
    "        rt_struct \n",
    "        rt_plan"
   ]
  },
  {
   "cell_type": "markdown",
   "metadata": {},
   "source": [
    "# Convert image and rt_struct to nifti"
   ]
  },
  {
   "cell_type": "code",
   "execution_count": null,
   "metadata": {},
   "outputs": [],
   "source": [
    "clean_data_folder = \"/home/tachennf/Documents/delta-rad/madrid_study/clean_data/\"\n",
    "nifti_folder = \"/home/tachennf/Documents/delta-rad/madrid_study/nifti_data/\"\n",
    "\n",
    "if os.path.exists(nifti_folder) == False: \n",
    "    os.mkdir(nifti_folder)\n",
    "\n",
    "patients_list = os.listdir(clean_data_folder)\n",
    "structure_count = {}\n",
    "\n",
    "for p in patients_list: \n",
    "    if os.path.exists(nifti_folder + p) == False: \n",
    "        os.mkdir(nifti_folder + p)\n",
    "    series = os.listdir(clean_data_folder + p)\n",
    "    for s in series: \n",
    "        if os.path.exists(nifti_folder + p + '/' + s) == False: \n",
    "            os.mkdir(nifti_folder + p + '/' + s)\n",
    "        image_folder = clean_data_folder + p + '/' + s + '/image/'\n",
    "        rt_struct_folder = clean_data_folder + p + '/' + s + '/rt_struct/'\n",
    "\n",
    "        rt_struct_path = rt_struct_folder + os.listdir(rt_struct_folder)[0]\n",
    "        list_rt_struct = list_rt_structs(rt_struct_path)\n",
    "\n",
    "        # for structure in list_rt_struct: \n",
    "        #     if structure in structure_count: \n",
    "        #         structure_count[structure] += 1\n",
    "        #     else: \n",
    "        #         structure_count[structure] = 1\n",
    "\n",
    "\n",
    "        structures = []\n",
    "        if \"GTV\" in list_rt_struct: \n",
    "            structures.append(\"GTV\")\n",
    "        if \"GTV_5000_Tumor\" in list_rt_struct:\n",
    "            structures.append(\"GTV_5000_Tumor\")\n",
    "        if \"GTV40\" in list_rt_struct:\n",
    "            structures.append(\"GTV40\")\n",
    "        if \"PTV\" in list_rt_struct: \n",
    "            structures.append(\"PTV\")\n",
    "        if \"PTV30\" in list_rt_struct:\n",
    "            structures.append(\"PTV30\")\n",
    "# \n",
    "        if len(structures) != 2: \n",
    "            print(p, list_rt_struct)\n",
    "            continue \n",
    "# \n",
    "        output_path = nifti_folder + p + '/' + s + '/'\n",
    "        dcmrtstruct2nii(rt_struct_path, image_folder, output_path, structures=structures, mask_foreground_value=1)\n",
    "# \n",
    "        if \"GTV_5000_Tumor\" in structures: \n",
    "            # rename nifti file \n",
    "            os.rename(output_path + \"mask_GTV_5000_Tumor.nii.gz\", output_path + \"mask_GTV.nii.gz\")\n",
    "        if \"GTV40\" in structures: \n",
    "            # rename nifti file \n",
    "            os.rename(output_path + \"mask_GTV40.nii.gz\", output_path + \"mask_GTV.nii.gz\")\n",
    "        if \"PTV30\" in structures: \n",
    "            # rename nifti file \n",
    "            os.rename(output_path + \"mask_PTV30.nii.gz\", output_path + \"mask_PTV.nii.gz\")"
   ]
  },
  {
   "cell_type": "code",
   "execution_count": 50,
   "metadata": {},
   "outputs": [
    {
     "name": "stdout",
     "output_type": "stream",
     "text": [
      "['GTV', 'PTV', 'PTV_HIGH', 'PTV_LOW', 'GTV_5000_Tumor', 'GTV40', 'PTV30', 'PTV_HIGH30', 'PTV_HIGH40', 'PTV_LOW30', 'PTV_LOW40', 'PTV35', 'PTV35_HIGH', 'PTV35_LOW', 'PTV40', 'PTV40_HIGH', 'PTV40_LOW', 'PTV_HIGH0_3', 'PTV_LOW0_3', 'PTV50', 'PTV50_HIGH', 'PTV50_LOW', 'PTV_3', 'PTV_5', 'PTV_H', 'PTV_L', 'PTV50_H', 'PTV_7', 'PTV40_8', 'GTV1', 'GTV2', 'PTV1', 'PTV2', 'PTV50GG', 'PTV50TUMOR', 'PTVGG_HIGH', 'PTVGG_LOW', 'PTVTUMOR_HIGH', 'PTVTUMOR_LOW', 'PTV_0_5', 'PTV_1_5', 'PTV35_PTV50', 'PTV35_H', 'PTV35_L', 'PTV50_L', 'GTV45']\n"
     ]
    },
    {
     "ename": "ValueError",
     "evalue": "shape mismatch: objects cannot be broadcast to a single shape.  Mismatch is between arg 0 with shape (46,) and arg 1 with shape (201,).",
     "output_type": "error",
     "traceback": [
      "\u001b[0;31m---------------------------------------------------------------------------\u001b[0m",
      "\u001b[0;31mValueError\u001b[0m                                Traceback (most recent call last)",
      "Cell \u001b[0;32mIn[50], line 6\u001b[0m\n\u001b[1;32m      4\u001b[0m \u001b[38;5;66;03m# Tracer l'histogramme\u001b[39;00m\n\u001b[1;32m      5\u001b[0m plt\u001b[38;5;241m.\u001b[39mfigure(figsize\u001b[38;5;241m=\u001b[39m(\u001b[38;5;241m10\u001b[39m, \u001b[38;5;241m6\u001b[39m))\n\u001b[0;32m----> 6\u001b[0m \u001b[43mplt\u001b[49m\u001b[38;5;241;43m.\u001b[39;49m\u001b[43mbar\u001b[49m\u001b[43m(\u001b[49m\u001b[43mstructures\u001b[49m\u001b[43m,\u001b[49m\u001b[43m \u001b[49m\u001b[43mstructure_count\u001b[49m\u001b[38;5;241;43m.\u001b[39;49m\u001b[43mvalues\u001b[49m\u001b[43m(\u001b[49m\u001b[43m)\u001b[49m\u001b[43m)\u001b[49m\n\u001b[1;32m      7\u001b[0m plt\u001b[38;5;241m.\u001b[39mxlabel(\u001b[38;5;124m'\u001b[39m\u001b[38;5;124mStructures\u001b[39m\u001b[38;5;124m'\u001b[39m)\n\u001b[1;32m      8\u001b[0m plt\u001b[38;5;241m.\u001b[39mylabel(\u001b[38;5;124m'\u001b[39m\u001b[38;5;124mNombre d\u001b[39m\u001b[38;5;130;01m\\'\u001b[39;00m\u001b[38;5;124moccurrences\u001b[39m\u001b[38;5;124m'\u001b[39m)\n",
      "File \u001b[0;32m~/miniconda3/envs/flothesis/lib/python3.8/site-packages/matplotlib/pyplot.py:2439\u001b[0m, in \u001b[0;36mbar\u001b[0;34m(x, height, width, bottom, align, data, **kwargs)\u001b[0m\n\u001b[1;32m   2435\u001b[0m \u001b[38;5;129m@_copy_docstring_and_deprecators\u001b[39m(Axes\u001b[38;5;241m.\u001b[39mbar)\n\u001b[1;32m   2436\u001b[0m \u001b[38;5;28;01mdef\u001b[39;00m \u001b[38;5;21mbar\u001b[39m(\n\u001b[1;32m   2437\u001b[0m         x, height, width\u001b[38;5;241m=\u001b[39m\u001b[38;5;241m0.8\u001b[39m, bottom\u001b[38;5;241m=\u001b[39m\u001b[38;5;28;01mNone\u001b[39;00m, \u001b[38;5;241m*\u001b[39m, align\u001b[38;5;241m=\u001b[39m\u001b[38;5;124m'\u001b[39m\u001b[38;5;124mcenter\u001b[39m\u001b[38;5;124m'\u001b[39m,\n\u001b[1;32m   2438\u001b[0m         data\u001b[38;5;241m=\u001b[39m\u001b[38;5;28;01mNone\u001b[39;00m, \u001b[38;5;241m*\u001b[39m\u001b[38;5;241m*\u001b[39mkwargs):\n\u001b[0;32m-> 2439\u001b[0m     \u001b[38;5;28;01mreturn\u001b[39;00m \u001b[43mgca\u001b[49m\u001b[43m(\u001b[49m\u001b[43m)\u001b[49m\u001b[38;5;241;43m.\u001b[39;49m\u001b[43mbar\u001b[49m\u001b[43m(\u001b[49m\n\u001b[1;32m   2440\u001b[0m \u001b[43m        \u001b[49m\u001b[43mx\u001b[49m\u001b[43m,\u001b[49m\u001b[43m \u001b[49m\u001b[43mheight\u001b[49m\u001b[43m,\u001b[49m\u001b[43m \u001b[49m\u001b[43mwidth\u001b[49m\u001b[38;5;241;43m=\u001b[39;49m\u001b[43mwidth\u001b[49m\u001b[43m,\u001b[49m\u001b[43m \u001b[49m\u001b[43mbottom\u001b[49m\u001b[38;5;241;43m=\u001b[39;49m\u001b[43mbottom\u001b[49m\u001b[43m,\u001b[49m\u001b[43m \u001b[49m\u001b[43malign\u001b[49m\u001b[38;5;241;43m=\u001b[39;49m\u001b[43malign\u001b[49m\u001b[43m,\u001b[49m\n\u001b[1;32m   2441\u001b[0m \u001b[43m        \u001b[49m\u001b[38;5;241;43m*\u001b[39;49m\u001b[38;5;241;43m*\u001b[39;49m\u001b[43m(\u001b[49m\u001b[43m{\u001b[49m\u001b[38;5;124;43m\"\u001b[39;49m\u001b[38;5;124;43mdata\u001b[39;49m\u001b[38;5;124;43m\"\u001b[39;49m\u001b[43m:\u001b[49m\u001b[43m \u001b[49m\u001b[43mdata\u001b[49m\u001b[43m}\u001b[49m\u001b[43m \u001b[49m\u001b[38;5;28;43;01mif\u001b[39;49;00m\u001b[43m \u001b[49m\u001b[43mdata\u001b[49m\u001b[43m \u001b[49m\u001b[38;5;129;43;01mis\u001b[39;49;00m\u001b[43m \u001b[49m\u001b[38;5;129;43;01mnot\u001b[39;49;00m\u001b[43m \u001b[49m\u001b[38;5;28;43;01mNone\u001b[39;49;00m\u001b[43m \u001b[49m\u001b[38;5;28;43;01melse\u001b[39;49;00m\u001b[43m \u001b[49m\u001b[43m{\u001b[49m\u001b[43m}\u001b[49m\u001b[43m)\u001b[49m\u001b[43m,\u001b[49m\u001b[43m \u001b[49m\u001b[38;5;241;43m*\u001b[39;49m\u001b[38;5;241;43m*\u001b[39;49m\u001b[43mkwargs\u001b[49m\u001b[43m)\u001b[49m\n",
      "File \u001b[0;32m~/miniconda3/envs/flothesis/lib/python3.8/site-packages/matplotlib/__init__.py:1446\u001b[0m, in \u001b[0;36m_preprocess_data.<locals>.inner\u001b[0;34m(ax, data, *args, **kwargs)\u001b[0m\n\u001b[1;32m   1443\u001b[0m \u001b[38;5;129m@functools\u001b[39m\u001b[38;5;241m.\u001b[39mwraps(func)\n\u001b[1;32m   1444\u001b[0m \u001b[38;5;28;01mdef\u001b[39;00m \u001b[38;5;21minner\u001b[39m(ax, \u001b[38;5;241m*\u001b[39margs, data\u001b[38;5;241m=\u001b[39m\u001b[38;5;28;01mNone\u001b[39;00m, \u001b[38;5;241m*\u001b[39m\u001b[38;5;241m*\u001b[39mkwargs):\n\u001b[1;32m   1445\u001b[0m     \u001b[38;5;28;01mif\u001b[39;00m data \u001b[38;5;129;01mis\u001b[39;00m \u001b[38;5;28;01mNone\u001b[39;00m:\n\u001b[0;32m-> 1446\u001b[0m         \u001b[38;5;28;01mreturn\u001b[39;00m \u001b[43mfunc\u001b[49m\u001b[43m(\u001b[49m\u001b[43max\u001b[49m\u001b[43m,\u001b[49m\u001b[43m \u001b[49m\u001b[38;5;241;43m*\u001b[39;49m\u001b[38;5;28;43mmap\u001b[39;49m\u001b[43m(\u001b[49m\u001b[43msanitize_sequence\u001b[49m\u001b[43m,\u001b[49m\u001b[43m \u001b[49m\u001b[43margs\u001b[49m\u001b[43m)\u001b[49m\u001b[43m,\u001b[49m\u001b[43m \u001b[49m\u001b[38;5;241;43m*\u001b[39;49m\u001b[38;5;241;43m*\u001b[39;49m\u001b[43mkwargs\u001b[49m\u001b[43m)\u001b[49m\n\u001b[1;32m   1448\u001b[0m     bound \u001b[38;5;241m=\u001b[39m new_sig\u001b[38;5;241m.\u001b[39mbind(ax, \u001b[38;5;241m*\u001b[39margs, \u001b[38;5;241m*\u001b[39m\u001b[38;5;241m*\u001b[39mkwargs)\n\u001b[1;32m   1449\u001b[0m     auto_label \u001b[38;5;241m=\u001b[39m (bound\u001b[38;5;241m.\u001b[39marguments\u001b[38;5;241m.\u001b[39mget(label_namer)\n\u001b[1;32m   1450\u001b[0m                   \u001b[38;5;129;01mor\u001b[39;00m bound\u001b[38;5;241m.\u001b[39mkwargs\u001b[38;5;241m.\u001b[39mget(label_namer))\n",
      "File \u001b[0;32m~/miniconda3/envs/flothesis/lib/python3.8/site-packages/matplotlib/axes/_axes.py:2409\u001b[0m, in \u001b[0;36mAxes.bar\u001b[0;34m(self, x, height, width, bottom, align, **kwargs)\u001b[0m\n\u001b[1;32m   2406\u001b[0m     \u001b[38;5;28;01mif\u001b[39;00m yerr \u001b[38;5;129;01mis\u001b[39;00m \u001b[38;5;129;01mnot\u001b[39;00m \u001b[38;5;28;01mNone\u001b[39;00m:\n\u001b[1;32m   2407\u001b[0m         yerr \u001b[38;5;241m=\u001b[39m \u001b[38;5;28mself\u001b[39m\u001b[38;5;241m.\u001b[39m_convert_dx(yerr, y0, y, \u001b[38;5;28mself\u001b[39m\u001b[38;5;241m.\u001b[39mconvert_yunits)\n\u001b[0;32m-> 2409\u001b[0m x, height, width, y, linewidth, hatch \u001b[38;5;241m=\u001b[39m \u001b[43mnp\u001b[49m\u001b[38;5;241;43m.\u001b[39;49m\u001b[43mbroadcast_arrays\u001b[49m\u001b[43m(\u001b[49m\n\u001b[1;32m   2410\u001b[0m \u001b[43m    \u001b[49m\u001b[38;5;66;43;03m# Make args iterable too.\u001b[39;49;00m\n\u001b[1;32m   2411\u001b[0m \u001b[43m    \u001b[49m\u001b[43mnp\u001b[49m\u001b[38;5;241;43m.\u001b[39;49m\u001b[43matleast_1d\u001b[49m\u001b[43m(\u001b[49m\u001b[43mx\u001b[49m\u001b[43m)\u001b[49m\u001b[43m,\u001b[49m\u001b[43m \u001b[49m\u001b[43mheight\u001b[49m\u001b[43m,\u001b[49m\u001b[43m \u001b[49m\u001b[43mwidth\u001b[49m\u001b[43m,\u001b[49m\u001b[43m \u001b[49m\u001b[43my\u001b[49m\u001b[43m,\u001b[49m\u001b[43m \u001b[49m\u001b[43mlinewidth\u001b[49m\u001b[43m,\u001b[49m\u001b[43m \u001b[49m\u001b[43mhatch\u001b[49m\u001b[43m)\u001b[49m\n\u001b[1;32m   2413\u001b[0m \u001b[38;5;66;03m# Now that units have been converted, set the tick locations.\u001b[39;00m\n\u001b[1;32m   2414\u001b[0m \u001b[38;5;28;01mif\u001b[39;00m orientation \u001b[38;5;241m==\u001b[39m \u001b[38;5;124m'\u001b[39m\u001b[38;5;124mvertical\u001b[39m\u001b[38;5;124m'\u001b[39m:\n",
      "File \u001b[0;32m<__array_function__ internals>:200\u001b[0m, in \u001b[0;36mbroadcast_arrays\u001b[0;34m(*args, **kwargs)\u001b[0m\n",
      "File \u001b[0;32m~/miniconda3/envs/flothesis/lib/python3.8/site-packages/numpy/lib/stride_tricks.py:540\u001b[0m, in \u001b[0;36mbroadcast_arrays\u001b[0;34m(subok, *args)\u001b[0m\n\u001b[1;32m    533\u001b[0m \u001b[38;5;66;03m# nditer is not used here to avoid the limit of 32 arrays.\u001b[39;00m\n\u001b[1;32m    534\u001b[0m \u001b[38;5;66;03m# Otherwise, something like the following one-liner would suffice:\u001b[39;00m\n\u001b[1;32m    535\u001b[0m \u001b[38;5;66;03m# return np.nditer(args, flags=['multi_index', 'zerosize_ok'],\u001b[39;00m\n\u001b[1;32m    536\u001b[0m \u001b[38;5;66;03m#                  order='C').itviews\u001b[39;00m\n\u001b[1;32m    538\u001b[0m args \u001b[38;5;241m=\u001b[39m [np\u001b[38;5;241m.\u001b[39marray(_m, copy\u001b[38;5;241m=\u001b[39m\u001b[38;5;28;01mFalse\u001b[39;00m, subok\u001b[38;5;241m=\u001b[39msubok) \u001b[38;5;28;01mfor\u001b[39;00m _m \u001b[38;5;129;01min\u001b[39;00m args]\n\u001b[0;32m--> 540\u001b[0m shape \u001b[38;5;241m=\u001b[39m \u001b[43m_broadcast_shape\u001b[49m\u001b[43m(\u001b[49m\u001b[38;5;241;43m*\u001b[39;49m\u001b[43margs\u001b[49m\u001b[43m)\u001b[49m\n\u001b[1;32m    542\u001b[0m \u001b[38;5;28;01mif\u001b[39;00m \u001b[38;5;28mall\u001b[39m(array\u001b[38;5;241m.\u001b[39mshape \u001b[38;5;241m==\u001b[39m shape \u001b[38;5;28;01mfor\u001b[39;00m array \u001b[38;5;129;01min\u001b[39;00m args):\n\u001b[1;32m    543\u001b[0m     \u001b[38;5;66;03m# Common case where nothing needs to be broadcasted.\u001b[39;00m\n\u001b[1;32m    544\u001b[0m     \u001b[38;5;28;01mreturn\u001b[39;00m args\n",
      "File \u001b[0;32m~/miniconda3/envs/flothesis/lib/python3.8/site-packages/numpy/lib/stride_tricks.py:422\u001b[0m, in \u001b[0;36m_broadcast_shape\u001b[0;34m(*args)\u001b[0m\n\u001b[1;32m    417\u001b[0m \u001b[38;5;250m\u001b[39m\u001b[38;5;124;03m\"\"\"Returns the shape of the arrays that would result from broadcasting the\u001b[39;00m\n\u001b[1;32m    418\u001b[0m \u001b[38;5;124;03msupplied arrays against each other.\u001b[39;00m\n\u001b[1;32m    419\u001b[0m \u001b[38;5;124;03m\"\"\"\u001b[39;00m\n\u001b[1;32m    420\u001b[0m \u001b[38;5;66;03m# use the old-iterator because np.nditer does not handle size 0 arrays\u001b[39;00m\n\u001b[1;32m    421\u001b[0m \u001b[38;5;66;03m# consistently\u001b[39;00m\n\u001b[0;32m--> 422\u001b[0m b \u001b[38;5;241m=\u001b[39m \u001b[43mnp\u001b[49m\u001b[38;5;241;43m.\u001b[39;49m\u001b[43mbroadcast\u001b[49m\u001b[43m(\u001b[49m\u001b[38;5;241;43m*\u001b[39;49m\u001b[43margs\u001b[49m\u001b[43m[\u001b[49m\u001b[43m:\u001b[49m\u001b[38;5;241;43m32\u001b[39;49m\u001b[43m]\u001b[49m\u001b[43m)\u001b[49m\n\u001b[1;32m    423\u001b[0m \u001b[38;5;66;03m# unfortunately, it cannot handle 32 or more arguments directly\u001b[39;00m\n\u001b[1;32m    424\u001b[0m \u001b[38;5;28;01mfor\u001b[39;00m pos \u001b[38;5;129;01min\u001b[39;00m \u001b[38;5;28mrange\u001b[39m(\u001b[38;5;241m32\u001b[39m, \u001b[38;5;28mlen\u001b[39m(args), \u001b[38;5;241m31\u001b[39m):\n\u001b[1;32m    425\u001b[0m     \u001b[38;5;66;03m# ironically, np.broadcast does not properly handle np.broadcast\u001b[39;00m\n\u001b[1;32m    426\u001b[0m     \u001b[38;5;66;03m# objects (it treats them as scalars)\u001b[39;00m\n\u001b[1;32m    427\u001b[0m     \u001b[38;5;66;03m# use broadcasting to avoid allocating the full array\u001b[39;00m\n",
      "\u001b[0;31mValueError\u001b[0m: shape mismatch: objects cannot be broadcast to a single shape.  Mismatch is between arg 0 with shape (46,) and arg 1 with shape (201,)."
     ]
    },
    {
     "data": {
      "image/png": "[encoded data removed]",
      "text/plain": [
       "<Figure size 1000x600 with 1 Axes>"
      ]
     },
     "metadata": {},
     "output_type": "display_data"
    }
   ],
   "source": [
    "# keep only structures for which the key begins by 'GTV' or 'PTV'\n",
    "structures = [key for key in structure_count.keys() if key.startswith('GTV') or key.startswith('PTV')]\n",
    "print(structures)\n",
    "# Tracer l'histogramme\n",
    "plt.figure(figsize=(10, 6))\n",
    "plt.bar(structures, structure_count.values())\n",
    "plt.xlabel('Structures')\n",
    "plt.ylabel('Nombre d\\'occurrences')\n",
    "plt.title('Histogramme des structures pour l\\'ensemble des patients')\n",
    "plt.xticks(rotation=45, ha='right')\n",
    "plt.tight_layout()\n",
    "plt.show()"
   ]
  },
  {
   "cell_type": "code",
   "execution_count": null,
   "metadata": {},
   "outputs": [],
   "source": []
  }
 ],
 "metadata": {
  "kernelspec": {
   "display_name": "flothesis",
   "language": "python",
   "name": "python3"
  },
  "language_info": {
   "codemirror_mode": {
    "name": "ipython",
    "version": 3
   },
   "file_extension": ".py",
   "mimetype": "text/x-python",
   "name": "python",
   "nbconvert_exporter": "python",
   "pygments_lexer": "ipython3",
   "version": "3.8.20"
  }
 },
 "nbformat": 4,
 "nbformat_minor": 2
}
