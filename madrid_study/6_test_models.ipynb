{
 "cells": [
  {
   "cell_type": "code",
   "execution_count": null,
   "id": "bd288ae8",
   "metadata": {},
   "outputs": [],
   "source": [
    "import pandas as pd\n",
    "import numpy as np \n",
    "import random\n",
    "import os \n",
    "import sys \n",
    "from sklearn.preprocessing import StandardScaler, MinMaxScaler\n",
    "import joblib "
   ]
  },
  {
   "cell_type": "code",
   "execution_count": 10,
   "id": "293590da",
   "metadata": {},
   "outputs": [],
   "source": [
    "# Get the current working directory\n",
    "current_working_directory = os.getcwd()\n",
    "\n",
    "# Construct the path to the 1D_radiomics/utils directory\n",
    "utils_path = os.path.abspath(os.path.join(current_working_directory, '..', '1D_radiomics', 'utils'))\n",
    "\n",
    "# Add the path to sys.path\n",
    "sys.path.append(utils_path)\n",
    "\n",
    "# Now you can import your module\n",
    "import src.feature_selection as fsa \n",
    "import src.dataset as dataset\n",
    "import src.test as test\n",
    "import src.train as train"
   ]
  },
  {
   "cell_type": "markdown",
   "id": "110d8bc2",
   "metadata": {},
   "source": [
    "# Test ICM models"
   ]
  },
  {
   "cell_type": "code",
   "execution_count": null,
   "id": "df24f563",
   "metadata": {},
   "outputs": [],
   "source": [
    "np.random.seed(42)\n",
    "random.seed(42)\n",
    "print(\"Seed example = \", random.randint(0, 100))"
   ]
  },
  {
   "cell_type": "markdown",
   "id": "a0413673",
   "metadata": {},
   "source": [
    "# Load ICM data"
   ]
  },
  {
   "cell_type": "code",
   "execution_count": null,
   "id": "caf92526",
   "metadata": {},
   "outputs": [],
   "source": [
    "\n",
    "params = dataset.load_config('/home/tachennf/Documents/delta-rad/1D_radiomics/full_training_settings.yaml')\n",
    "\n",
    "folder_path = params['paths']['data_folder_path']\n",
    "outcome_csv = params['paths']['outcome_csv_file']\n",
    "# results_file = params['paths']['results_file']   \n",
    "delta_rad_tables = params['paths']['delta_rad_tables']\n",
    "models_folder = params['paths']['models_folder']\n",
    "if not os.path.exists(models_folder):\n",
    "    os.makedirs(models_folder)\n",
    "outcomes_list = params['parameters']['outcomes_list']\n",
    "feat_sel_algo_list = params['parameters']['feat_sel_algo_list']\n",
    "pred_algo_list = params['parameters']['pred_algo_list']\n",
    "max_features = params['parameters']['max_features']\n",
    "smote = params['parameters']['smote']"
   ]
  },
  {
   "cell_type": "markdown",
   "id": "8a26d1d2",
   "metadata": {},
   "source": [
    "# Load models"
   ]
  },
  {
   "cell_type": "code",
   "execution_count": null,
   "id": "48666e9c",
   "metadata": {},
   "outputs": [
    {
     "name": "stdout",
     "output_type": "stream",
     "text": [
      "Training on table  simu_gtv.csv\n",
      "Training for outcome  one_year_local_control_status\n",
      "Training on table  f1_gtv.csv\n",
      "Training for outcome  one_year_local_control_status\n",
      "Training on table  f3_gtv.csv\n",
      "Training for outcome  one_year_local_control_status\n",
      "Training on table  f5_gtv.csv\n",
      "Training for outcome  one_year_local_control_status\n",
      "Training on table  simu_f1_gtv.csv\n",
      "Training for outcome  one_year_local_control_status\n",
      "Training on table  simu_f3_gtv.csv\n",
      "Training for outcome  one_year_local_control_status\n",
      "Training on table  simu_f5_gtv.csv\n",
      "Training for outcome  one_year_local_control_status\n",
      "Training on table  f1_f3_gtv.csv\n",
      "Training for outcome  one_year_local_control_status\n",
      "Training on table  f1_f5_gtv.csv\n",
      "Training for outcome  one_year_local_control_status\n"
     ]
    }
   ],
   "source": [
    "for table in delta_rad_tables:\n",
    "    print('Training on table ', table)\n",
    "    for outcome in outcomes_list: \n",
    "        print(\"Training for outcome \", outcome)\n",
    "        X, y, features_list = dataset.get_xy(os.path.join(folder_path, table), os.path.join(folder_path, outcome_csv), outcome, smote=smote) # Load the dataset \n",
    "        for fs_algo in feat_sel_algo_list:\n",
    "            if 'CHI2' in fs_algo:\n",
    "                min_max_scaler = MinMaxScaler()\n",
    "                X = min_max_scaler.fit_transform(X)\n",
    "            else:     \n",
    "                znorm_scaler = StandardScaler()\n",
    "                X = znorm_scaler.fit_transform(X)\n",
    "            # TODO: get previously selected features\n",
    "            best_features = .... \n",
    "            for nb_features in range(1, max_features+1): # number of features selected\n",
    "                sel_features, X_filtered = fsa.filter_dataset3(X, best_features, nb_features, features_list)\n",
    "                for pred_algo in pred_algo_list:\n",
    "                    # TODO: load model \n",
    "                    loaded_model = joblib.load('model.joblib')\n"
   ]
  },
  {
   "cell_type": "markdown",
   "id": "69c6844d",
   "metadata": {},
   "source": [
    "# Compute train metrics\n",
    "Thresholds etc "
   ]
  },
  {
   "cell_type": "code",
   "execution_count": null,
   "id": "a4c76f1c",
   "metadata": {},
   "outputs": [],
   "source": []
  },
  {
   "cell_type": "markdown",
   "id": "195a9367",
   "metadata": {},
   "source": [
    "# Predictions on Madrid data"
   ]
  },
  {
   "cell_type": "code",
   "execution_count": null,
   "id": "654d578f",
   "metadata": {},
   "outputs": [],
   "source": []
  }
 ],
 "metadata": {
  "kernelspec": {
   "display_name": "flothesis",
   "language": "python",
   "name": "python3"
  },
  "language_info": {
   "codemirror_mode": {
    "name": "ipython",
    "version": 3
   },
   "file_extension": ".py",
   "mimetype": "text/x-python",
   "name": "python",
   "nbconvert_exporter": "python",
   "pygments_lexer": "ipython3",
   "version": "3.8.20"
  }
 },
 "nbformat": 4,
 "nbformat_minor": 5
}
