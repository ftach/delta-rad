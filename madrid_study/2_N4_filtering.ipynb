{
 "cells": [
  {
   "cell_type": "code",
   "execution_count": 1,
   "id": "3f3c4ab3",
   "metadata": {},
   "outputs": [],
   "source": [
    "import os \n",
    "import SimpleITK as sitk\n",
    "from multiprocessing import Pool, cpu_count\n",
    "from medpy.io import load, save, get_pixel_spacing\n",
    "from medpy.filter.smoothing import anisotropic_diffusion"
   ]
  },
  {
   "cell_type": "markdown",
   "id": "727aa616",
   "metadata": {},
   "source": [
    "# N4 filtering of nii images"
   ]
  },
  {
   "cell_type": "code",
   "execution_count": 2,
   "id": "89bc9f74",
   "metadata": {},
   "outputs": [],
   "source": [
    "def process_patient(nifti_folder, patient): \n",
    "    series = os.listdir(nifti_folder + patient)\n",
    "    for s in series: \n",
    "        img = sitk.ReadImage(nifti_folder + patient + \"/\" + s + '/image.nii.gz')\n",
    "        mask_image = sitk.OtsuThreshold(img, 0, 1, 50)\n",
    "        input_image = sitk.Cast(img, sitk.sitkFloat32)\n",
    "        corrector = sitk.N4BiasFieldCorrectionImageFilter()\n",
    "        img_bf_corr = corrector.Execute(input_image, mask_image)\n",
    "        sitk.WriteImage(img_bf_corr, nifti_folder + patient + \"/\" + s + '/N4_filtered_image.nii.gz')"
   ]
  },
  {
   "cell_type": "code",
   "execution_count": 3,
   "id": "3ac1a2e6",
   "metadata": {},
   "outputs": [
    {
     "name": "stdout",
     "output_type": "stream",
     "text": [
      "Processed patient Mont1 with N4 bias field correction\n"
     ]
    }
   ],
   "source": [
    "nifti_folder = \"/home/tachennf/Documents/delta-rad/data/Madrid/nifti_data/\"\n",
    "patients_list = os.listdir(nifti_folder)\n",
    "patients_list = ['Mont1']\n",
    "for p in patients_list: \n",
    "    process_patient(nifti_folder, p)\n",
    "    print(\"Processed patient \" + p + \" with N4 bias field correction\")\n"
   ]
  },
  {
   "cell_type": "code",
   "execution_count": 4,
   "id": "924cea62",
   "metadata": {},
   "outputs": [
    {
     "name": "stdout",
     "output_type": "stream",
     "text": [
      "Number of cores:  16\n"
     ]
    }
   ],
   "source": [
    "nifti_folder = \"/home/tachennf/Documents/delta-rad/data/Madrid/nifti_data/\"\n",
    "patients_list = os.listdir(nifti_folder)\n",
    "print(\"Number of cores: \", cpu_count())\n",
    "with Pool(cpu_count()) as pool:\n",
    "    pool.starmap(process_patient, [(nifti_folder, p) for p in patients_list])"
   ]
  },
  {
   "cell_type": "markdown",
   "id": "8ed5b950",
   "metadata": {},
   "source": [
    "## Noise filtering\n",
    "Using Anisotropic diffusion (Perona-Malik). \n",
    "Settings:\n",
    "> Number of iteration: 5\n",
    "\n",
    "> kappa: 5\n",
    "\n",
    "> gamma: 3"
   ]
  },
  {
   "cell_type": "code",
   "execution_count": 5,
   "id": "bddfb768",
   "metadata": {},
   "outputs": [],
   "source": [
    "def noise_process_patient(nifti_folder, patient, num_it=5, kappa=5, gamma=3):\n",
    "    series = os.listdir(nifti_folder + patient)\n",
    "    for s in series: \n",
    "        img_array, header = load(nifti_folder + patient + \"/\" + s + '/N4_filtered_image.nii.gz')\n",
    "        filtered_img_array = anisotropic_diffusion(img_array, num_it, kappa, gamma, get_pixel_spacing(header))\n",
    "        filtered_img_array[filtered_img_array<=0] = 0\n",
    "        save(filtered_img_array, nifti_folder + patient + \"/\" + s + '/Aniso_N4_filtered_image.nii.gz', header)"
   ]
  },
  {
   "cell_type": "code",
   "execution_count": 6,
   "id": "237d9ca3",
   "metadata": {},
   "outputs": [
    {
     "name": "stdout",
     "output_type": "stream",
     "text": [
      "Noise filtering runs.\n",
      "Noise filtering done.\n"
     ]
    }
   ],
   "source": [
    "print(\"Noise filtering runs.\")\n",
    "with Pool(cpu_count()) as pool:\n",
    "    pool.starmap(noise_process_patient, [(nifti_folder, p) for p in patients_list])\n",
    "print(\"Noise filtering done.\")"
   ]
  }
 ],
 "metadata": {
  "kernelspec": {
   "display_name": "flothesis",
   "language": "python",
   "name": "python3"
  },
  "language_info": {
   "codemirror_mode": {
    "name": "ipython",
    "version": 3
   },
   "file_extension": ".py",
   "mimetype": "text/x-python",
   "name": "python",
   "nbconvert_exporter": "python",
   "pygments_lexer": "ipython3",
   "version": "3.8.20"
  }
 },
 "nbformat": 4,
 "nbformat_minor": 5
}
