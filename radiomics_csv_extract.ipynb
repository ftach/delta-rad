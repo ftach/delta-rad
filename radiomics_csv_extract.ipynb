{
 "cells": [
  {
   "cell_type": "markdown",
   "metadata": {},
   "source": [
    "# Radiomics csv extraction\n",
    "Create csv file by fraction (or delta-fraction) from 'filtered_features_gtv.xlsx'"
   ]
  },
  {
   "cell_type": "code",
   "execution_count": 1,
   "metadata": {},
   "outputs": [],
   "source": [
    "import pandas as pd \n",
    "import csv\n",
    "import pingouin\n",
    "import matplotlib.pyplot as plt \n",
    "import numpy as np\n",
    "import seaborn as sns"
   ]
  },
  {
   "cell_type": "markdown",
   "metadata": {},
   "source": [
    "### Load csv"
   ]
  },
  {
   "cell_type": "code",
   "execution_count": 2,
   "metadata": {},
   "outputs": [
    {
     "data": {
      "text/html": [
       "<div>\n",
       "<style scoped>\n",
       "    .dataframe tbody tr th:only-of-type {\n",
       "        vertical-align: middle;\n",
       "    }\n",
       "\n",
       "    .dataframe tbody tr th {\n",
       "        vertical-align: top;\n",
       "    }\n",
       "\n",
       "    .dataframe thead th {\n",
       "        text-align: right;\n",
       "    }\n",
       "</style>\n",
       "<table border=\"1\" class=\"dataframe\">\n",
       "  <thead>\n",
       "    <tr style=\"text-align: right;\">\n",
       "      <th></th>\n",
       "      <th>original_shape_Elongation</th>\n",
       "      <th>original_shape_Flatness</th>\n",
       "      <th>original_shape_LeastAxisLength</th>\n",
       "      <th>original_shape_MajorAxisLength</th>\n",
       "      <th>original_shape_Maximum2DDiameterColumn</th>\n",
       "      <th>original_shape_Maximum2DDiameterRow</th>\n",
       "      <th>original_shape_Maximum2DDiameterSlice</th>\n",
       "      <th>original_shape_Maximum3DDiameter</th>\n",
       "      <th>original_shape_MeshVolume</th>\n",
       "      <th>original_shape_MinorAxisLength</th>\n",
       "      <th>...</th>\n",
       "      <th>original_ngtdm_Coarseness</th>\n",
       "      <th>original_ngtdm_Contrast</th>\n",
       "      <th>Patient Rxmic</th>\n",
       "      <th>Fraction</th>\n",
       "      <th>Volume</th>\n",
       "      <th>Récidive Locale</th>\n",
       "      <th>Récidive Méta</th>\n",
       "      <th>Décès</th>\n",
       "      <th>Récidive</th>\n",
       "      <th>Évènement</th>\n",
       "    </tr>\n",
       "    <tr>\n",
       "      <th>ID</th>\n",
       "      <th></th>\n",
       "      <th></th>\n",
       "      <th></th>\n",
       "      <th></th>\n",
       "      <th></th>\n",
       "      <th></th>\n",
       "      <th></th>\n",
       "      <th></th>\n",
       "      <th></th>\n",
       "      <th></th>\n",
       "      <th></th>\n",
       "      <th></th>\n",
       "      <th></th>\n",
       "      <th></th>\n",
       "      <th></th>\n",
       "      <th></th>\n",
       "      <th></th>\n",
       "      <th></th>\n",
       "      <th></th>\n",
       "      <th></th>\n",
       "      <th></th>\n",
       "    </tr>\n",
       "  </thead>\n",
       "  <tbody>\n",
       "    <tr>\n",
       "      <th>Patient38_IRM_simu_mridian_gtv</th>\n",
       "      <td>0.431793</td>\n",
       "      <td>0.370555</td>\n",
       "      <td>24.678556</td>\n",
       "      <td>66.598953</td>\n",
       "      <td>53.068955</td>\n",
       "      <td>57.813322</td>\n",
       "      <td>47.606047</td>\n",
       "      <td>68.904864</td>\n",
       "      <td>24300.18231</td>\n",
       "      <td>28.756943</td>\n",
       "      <td>...</td>\n",
       "      <td>0.001856</td>\n",
       "      <td>0.175404</td>\n",
       "      <td>Patient 38</td>\n",
       "      <td>Simulation mridian</td>\n",
       "      <td>GTV</td>\n",
       "      <td>0</td>\n",
       "      <td>0</td>\n",
       "      <td>1</td>\n",
       "      <td>0</td>\n",
       "      <td>1</td>\n",
       "    </tr>\n",
       "    <tr>\n",
       "      <th>Patient38_mridian_ttt_2_gtv</th>\n",
       "      <td>0.442144</td>\n",
       "      <td>0.371772</td>\n",
       "      <td>24.636047</td>\n",
       "      <td>66.266497</td>\n",
       "      <td>52.185463</td>\n",
       "      <td>57.813322</td>\n",
       "      <td>47.606047</td>\n",
       "      <td>69.633631</td>\n",
       "      <td>24369.47426</td>\n",
       "      <td>29.299306</td>\n",
       "      <td>...</td>\n",
       "      <td>0.001997</td>\n",
       "      <td>0.128942</td>\n",
       "      <td>Patient 38</td>\n",
       "      <td>2</td>\n",
       "      <td>GTV</td>\n",
       "      <td>0</td>\n",
       "      <td>0</td>\n",
       "      <td>1</td>\n",
       "      <td>0</td>\n",
       "      <td>1</td>\n",
       "    </tr>\n",
       "    <tr>\n",
       "      <th>Patient38_mridian_ttt_4_gtv</th>\n",
       "      <td>0.442374</td>\n",
       "      <td>0.371341</td>\n",
       "      <td>24.625888</td>\n",
       "      <td>66.316118</td>\n",
       "      <td>53.068955</td>\n",
       "      <td>57.813322</td>\n",
       "      <td>47.606047</td>\n",
       "      <td>68.904864</td>\n",
       "      <td>24464.75070</td>\n",
       "      <td>29.336497</td>\n",
       "      <td>...</td>\n",
       "      <td>0.002107</td>\n",
       "      <td>0.153118</td>\n",
       "      <td>Patient 38</td>\n",
       "      <td>4</td>\n",
       "      <td>GTV</td>\n",
       "      <td>0</td>\n",
       "      <td>0</td>\n",
       "      <td>1</td>\n",
       "      <td>0</td>\n",
       "      <td>1</td>\n",
       "    </tr>\n",
       "    <tr>\n",
       "      <th>Patient38_mridian_ttt_5_gtv</th>\n",
       "      <td>0.442374</td>\n",
       "      <td>0.371341</td>\n",
       "      <td>24.625888</td>\n",
       "      <td>66.316118</td>\n",
       "      <td>53.068955</td>\n",
       "      <td>57.813322</td>\n",
       "      <td>47.606047</td>\n",
       "      <td>68.904864</td>\n",
       "      <td>24464.75070</td>\n",
       "      <td>29.336497</td>\n",
       "      <td>...</td>\n",
       "      <td>0.002032</td>\n",
       "      <td>0.169598</td>\n",
       "      <td>Patient 38</td>\n",
       "      <td>5</td>\n",
       "      <td>GTV</td>\n",
       "      <td>0</td>\n",
       "      <td>0</td>\n",
       "      <td>1</td>\n",
       "      <td>0</td>\n",
       "      <td>1</td>\n",
       "    </tr>\n",
       "    <tr>\n",
       "      <th>Patient10_IRM_simu_GIE_gtv</th>\n",
       "      <td>0.672158</td>\n",
       "      <td>0.549602</td>\n",
       "      <td>25.401274</td>\n",
       "      <td>46.217551</td>\n",
       "      <td>46.704549</td>\n",
       "      <td>54.477126</td>\n",
       "      <td>38.744658</td>\n",
       "      <td>54.865907</td>\n",
       "      <td>18814.74989</td>\n",
       "      <td>31.065518</td>\n",
       "      <td>...</td>\n",
       "      <td>0.003128</td>\n",
       "      <td>0.828998</td>\n",
       "      <td>Patient 10</td>\n",
       "      <td>Simulation GIE</td>\n",
       "      <td>GTV</td>\n",
       "      <td>0</td>\n",
       "      <td>1</td>\n",
       "      <td>1</td>\n",
       "      <td>1</td>\n",
       "      <td>1</td>\n",
       "    </tr>\n",
       "  </tbody>\n",
       "</table>\n",
       "<p>5 rows × 89 columns</p>\n",
       "</div>"
      ],
      "text/plain": [
       "                                original_shape_Elongation  \\\n",
       "ID                                                          \n",
       "Patient38_IRM_simu_mridian_gtv                   0.431793   \n",
       "Patient38_mridian_ttt_2_gtv                      0.442144   \n",
       "Patient38_mridian_ttt_4_gtv                      0.442374   \n",
       "Patient38_mridian_ttt_5_gtv                      0.442374   \n",
       "Patient10_IRM_simu_GIE_gtv                       0.672158   \n",
       "\n",
       "                                original_shape_Flatness  \\\n",
       "ID                                                        \n",
       "Patient38_IRM_simu_mridian_gtv                 0.370555   \n",
       "Patient38_mridian_ttt_2_gtv                    0.371772   \n",
       "Patient38_mridian_ttt_4_gtv                    0.371341   \n",
       "Patient38_mridian_ttt_5_gtv                    0.371341   \n",
       "Patient10_IRM_simu_GIE_gtv                     0.549602   \n",
       "\n",
       "                                original_shape_LeastAxisLength  \\\n",
       "ID                                                               \n",
       "Patient38_IRM_simu_mridian_gtv                       24.678556   \n",
       "Patient38_mridian_ttt_2_gtv                          24.636047   \n",
       "Patient38_mridian_ttt_4_gtv                          24.625888   \n",
       "Patient38_mridian_ttt_5_gtv                          24.625888   \n",
       "Patient10_IRM_simu_GIE_gtv                           25.401274   \n",
       "\n",
       "                                original_shape_MajorAxisLength  \\\n",
       "ID                                                               \n",
       "Patient38_IRM_simu_mridian_gtv                       66.598953   \n",
       "Patient38_mridian_ttt_2_gtv                          66.266497   \n",
       "Patient38_mridian_ttt_4_gtv                          66.316118   \n",
       "Patient38_mridian_ttt_5_gtv                          66.316118   \n",
       "Patient10_IRM_simu_GIE_gtv                           46.217551   \n",
       "\n",
       "                                original_shape_Maximum2DDiameterColumn  \\\n",
       "ID                                                                       \n",
       "Patient38_IRM_simu_mridian_gtv                               53.068955   \n",
       "Patient38_mridian_ttt_2_gtv                                  52.185463   \n",
       "Patient38_mridian_ttt_4_gtv                                  53.068955   \n",
       "Patient38_mridian_ttt_5_gtv                                  53.068955   \n",
       "Patient10_IRM_simu_GIE_gtv                                   46.704549   \n",
       "\n",
       "                                original_shape_Maximum2DDiameterRow  \\\n",
       "ID                                                                    \n",
       "Patient38_IRM_simu_mridian_gtv                            57.813322   \n",
       "Patient38_mridian_ttt_2_gtv                               57.813322   \n",
       "Patient38_mridian_ttt_4_gtv                               57.813322   \n",
       "Patient38_mridian_ttt_5_gtv                               57.813322   \n",
       "Patient10_IRM_simu_GIE_gtv                                54.477126   \n",
       "\n",
       "                                original_shape_Maximum2DDiameterSlice  \\\n",
       "ID                                                                      \n",
       "Patient38_IRM_simu_mridian_gtv                              47.606047   \n",
       "Patient38_mridian_ttt_2_gtv                                 47.606047   \n",
       "Patient38_mridian_ttt_4_gtv                                 47.606047   \n",
       "Patient38_mridian_ttt_5_gtv                                 47.606047   \n",
       "Patient10_IRM_simu_GIE_gtv                                  38.744658   \n",
       "\n",
       "                                original_shape_Maximum3DDiameter  \\\n",
       "ID                                                                 \n",
       "Patient38_IRM_simu_mridian_gtv                         68.904864   \n",
       "Patient38_mridian_ttt_2_gtv                            69.633631   \n",
       "Patient38_mridian_ttt_4_gtv                            68.904864   \n",
       "Patient38_mridian_ttt_5_gtv                            68.904864   \n",
       "Patient10_IRM_simu_GIE_gtv                             54.865907   \n",
       "\n",
       "                                original_shape_MeshVolume  \\\n",
       "ID                                                          \n",
       "Patient38_IRM_simu_mridian_gtv                24300.18231   \n",
       "Patient38_mridian_ttt_2_gtv                   24369.47426   \n",
       "Patient38_mridian_ttt_4_gtv                   24464.75070   \n",
       "Patient38_mridian_ttt_5_gtv                   24464.75070   \n",
       "Patient10_IRM_simu_GIE_gtv                    18814.74989   \n",
       "\n",
       "                                original_shape_MinorAxisLength  ...  \\\n",
       "ID                                                              ...   \n",
       "Patient38_IRM_simu_mridian_gtv                       28.756943  ...   \n",
       "Patient38_mridian_ttt_2_gtv                          29.299306  ...   \n",
       "Patient38_mridian_ttt_4_gtv                          29.336497  ...   \n",
       "Patient38_mridian_ttt_5_gtv                          29.336497  ...   \n",
       "Patient10_IRM_simu_GIE_gtv                           31.065518  ...   \n",
       "\n",
       "                                original_ngtdm_Coarseness  \\\n",
       "ID                                                          \n",
       "Patient38_IRM_simu_mridian_gtv                   0.001856   \n",
       "Patient38_mridian_ttt_2_gtv                      0.001997   \n",
       "Patient38_mridian_ttt_4_gtv                      0.002107   \n",
       "Patient38_mridian_ttt_5_gtv                      0.002032   \n",
       "Patient10_IRM_simu_GIE_gtv                       0.003128   \n",
       "\n",
       "                                original_ngtdm_Contrast  Patient Rxmic  \\\n",
       "ID                                                                       \n",
       "Patient38_IRM_simu_mridian_gtv                 0.175404     Patient 38   \n",
       "Patient38_mridian_ttt_2_gtv                    0.128942     Patient 38   \n",
       "Patient38_mridian_ttt_4_gtv                    0.153118     Patient 38   \n",
       "Patient38_mridian_ttt_5_gtv                    0.169598     Patient 38   \n",
       "Patient10_IRM_simu_GIE_gtv                     0.828998     Patient 10   \n",
       "\n",
       "                                          Fraction  Volume  Récidive Locale  \\\n",
       "ID                                                                            \n",
       "Patient38_IRM_simu_mridian_gtv  Simulation mridian     GTV                0   \n",
       "Patient38_mridian_ttt_2_gtv                      2     GTV                0   \n",
       "Patient38_mridian_ttt_4_gtv                      4     GTV                0   \n",
       "Patient38_mridian_ttt_5_gtv                      5     GTV                0   \n",
       "Patient10_IRM_simu_GIE_gtv          Simulation GIE     GTV                0   \n",
       "\n",
       "                                Récidive Méta  Décès  Récidive  Évènement  \n",
       "ID                                                                         \n",
       "Patient38_IRM_simu_mridian_gtv              0      1         0          1  \n",
       "Patient38_mridian_ttt_2_gtv                 0      1         0          1  \n",
       "Patient38_mridian_ttt_4_gtv                 0      1         0          1  \n",
       "Patient38_mridian_ttt_5_gtv                 0      1         0          1  \n",
       "Patient10_IRM_simu_GIE_gtv                  1      1         1          1  \n",
       "\n",
       "[5 rows x 89 columns]"
      ]
     },
     "execution_count": 2,
     "metadata": {},
     "output_type": "execute_result"
    }
   ],
   "source": [
    "patient_file = \"/mnt/c/Users/tachenne/delta-rad/filtered_features_gtv.xlsx\"\n",
    "filtered_features_gtv_df = pd.read_excel(patient_file, index_col=0)\n",
    "filtered_features_gtv_df.head()"
   ]
  },
  {
   "cell_type": "markdown",
   "metadata": {},
   "source": [
    "### Get patient list"
   ]
  },
  {
   "cell_type": "code",
   "execution_count": 6,
   "metadata": {},
   "outputs": [
    {
     "name": "stdout",
     "output_type": "stream",
     "text": [
      "(83,)\n"
     ]
    }
   ],
   "source": [
    "patient_list = np.unique(filtered_features_gtv_df['Patient Rxmic'].values)\n",
    "print(patient_list.shape)"
   ]
  },
  {
   "cell_type": "markdown",
   "metadata": {},
   "source": [
    "### Get features"
   ]
  },
  {
   "cell_type": "code",
   "execution_count": 46,
   "metadata": {},
   "outputs": [
    {
     "data": {
      "text/plain": [
       "['original_shape_Elongation',\n",
       " 'original_shape_Flatness',\n",
       " 'original_shape_LeastAxisLength',\n",
       " 'original_shape_MajorAxisLength',\n",
       " 'original_shape_Maximum2DDiameterColumn',\n",
       " 'original_shape_Maximum2DDiameterRow',\n",
       " 'original_shape_Maximum2DDiameterSlice',\n",
       " 'original_shape_Maximum3DDiameter',\n",
       " 'original_shape_MeshVolume',\n",
       " 'original_shape_MinorAxisLength',\n",
       " 'original_shape_Sphericity',\n",
       " 'original_shape_SurfaceArea',\n",
       " 'original_shape_SurfaceVolumeRatio',\n",
       " 'original_shape_VoxelVolume',\n",
       " 'original_firstorder_10Percentile',\n",
       " 'original_firstorder_90Percentile',\n",
       " 'original_firstorder_Energy',\n",
       " 'original_firstorder_Entropy',\n",
       " 'original_firstorder_InterquartileRange',\n",
       " 'original_firstorder_Kurtosis',\n",
       " 'original_firstorder_Maximum',\n",
       " 'original_firstorder_MeanAbsoluteDeviation',\n",
       " 'original_firstorder_Mean',\n",
       " 'original_firstorder_Median',\n",
       " 'original_firstorder_Range',\n",
       " 'original_firstorder_RobustMeanAbsoluteDeviation',\n",
       " 'original_firstorder_RootMeanSquared',\n",
       " 'original_firstorder_Skewness',\n",
       " 'original_firstorder_TotalEnergy',\n",
       " 'original_firstorder_Uniformity',\n",
       " 'original_glcm_ClusterShade',\n",
       " 'original_glcm_Contrast',\n",
       " 'original_glcm_Correlation',\n",
       " 'original_glcm_DifferenceAverage',\n",
       " 'original_glcm_DifferenceEntropy',\n",
       " 'original_glcm_DifferenceVariance',\n",
       " 'original_glcm_Id',\n",
       " 'original_glcm_Idm',\n",
       " 'original_glcm_Idmn',\n",
       " 'original_glcm_Idn',\n",
       " 'original_glcm_Imc1',\n",
       " 'original_glcm_Imc2',\n",
       " 'original_glcm_InverseVariance',\n",
       " 'original_glcm_JointAverage',\n",
       " 'original_glcm_JointEnergy',\n",
       " 'original_glcm_JointEntropy',\n",
       " 'original_glcm_MCC',\n",
       " 'original_glcm_MaximumProbability',\n",
       " 'original_glcm_SumAverage',\n",
       " 'original_glcm_SumEntropy',\n",
       " 'original_glrlm_GrayLevelNonUniformity',\n",
       " 'original_glrlm_GrayLevelNonUniformityNormalized',\n",
       " 'original_glrlm_GrayLevelVariance',\n",
       " 'original_glrlm_LongRunEmphasis',\n",
       " 'original_glrlm_LongRunHighGrayLevelEmphasis',\n",
       " 'original_glrlm_RunEntropy',\n",
       " 'original_glrlm_RunLengthNonUniformity',\n",
       " 'original_glrlm_RunLengthNonUniformityNormalized',\n",
       " 'original_glrlm_RunPercentage',\n",
       " 'original_glrlm_RunVariance',\n",
       " 'original_glrlm_ShortRunEmphasis',\n",
       " 'original_glszm_GrayLevelNonUniformity',\n",
       " 'original_glszm_GrayLevelNonUniformityNormalized',\n",
       " 'original_glszm_GrayLevelVariance',\n",
       " 'original_glszm_LargeAreaHighGrayLevelEmphasis',\n",
       " 'original_glszm_SizeZoneNonUniformity',\n",
       " 'original_glszm_SizeZoneNonUniformityNormalized',\n",
       " 'original_glszm_SmallAreaEmphasis',\n",
       " 'original_glszm_ZoneEntropy',\n",
       " 'original_glszm_ZonePercentage',\n",
       " 'original_gldm_DependenceEntropy',\n",
       " 'original_gldm_DependenceNonUniformity',\n",
       " 'original_gldm_DependenceNonUniformityNormalized',\n",
       " 'original_gldm_DependenceVariance',\n",
       " 'original_gldm_GrayLevelNonUniformity',\n",
       " 'original_gldm_LargeDependenceEmphasis',\n",
       " 'original_gldm_LargeDependenceHighGrayLevelEmphasis',\n",
       " 'original_gldm_SmallDependenceEmphasis',\n",
       " 'original_ngtdm_Busyness',\n",
       " 'original_ngtdm_Coarseness',\n",
       " 'original_ngtdm_Contrast']"
      ]
     },
     "execution_count": 46,
     "metadata": {},
     "output_type": "execute_result"
    }
   ],
   "source": [
    "features = list(filtered_features_gtv_df.columns)[:-8]\n",
    "features \n"
   ]
  },
  {
   "cell_type": "code",
   "execution_count": 47,
   "metadata": {},
   "outputs": [
    {
     "name": "stdout",
     "output_type": "stream",
     "text": [
      "81\n"
     ]
    }
   ],
   "source": [
    "print(len(features))"
   ]
  },
  {
   "cell_type": "markdown",
   "metadata": {},
   "source": [
    "3 patients were rules out "
   ]
  },
  {
   "cell_type": "code",
   "execution_count": 63,
   "metadata": {},
   "outputs": [],
   "source": [
    "def extract_rad(extracted_feat_df, fraction: str, patient_list: list, features_list: list): \n",
    "    data = []\n",
    "    error_patients = set()\n",
    "    for patient in patient_list: \n",
    "        row_data = []\n",
    "        try:\n",
    "            line = extracted_feat_df.loc[(extracted_feat_df['Patient Rxmic'] == patient) & (extracted_feat_df['Fraction'] == fraction)].iloc[0]\n",
    "            for feature in features_list:\n",
    "                feature_value = line[feature]\n",
    "                row_data.append(feature_value) # add the value to raw_data \n",
    "        except IndexError:\n",
    "            for feature in features_list: \n",
    "                row_data.append(None)\n",
    "            error_patients.add(patient)\n",
    "            print(\"Error with patient \", patient)\n",
    "\n",
    "        data.append(row_data)\n",
    "\n",
    "    return data, error_patients"
   ]
  },
  {
   "cell_type": "markdown",
   "metadata": {},
   "source": [
    "## Simu features"
   ]
  },
  {
   "cell_type": "code",
   "execution_count": 64,
   "metadata": {},
   "outputs": [
    {
     "name": "stdout",
     "output_type": "stream",
     "text": [
      "Error with patient  Patient 17\n",
      "Error with patient  Patient 18\n",
      "Error with patient  Patient 19\n",
      "Error with patient  Patient 21\n",
      "Error with patient  Patient 22\n",
      "Error with patient  Patient 23\n",
      "Error with patient  Patient 24\n",
      "Error with patient  Patient 32\n",
      "Error with patient  Patient 57\n",
      "Error with patient  Patient 66\n"
     ]
    }
   ],
   "source": [
    "data_simu, error_patients = extract_rad(filtered_features_gtv_df, fraction='Simulation mridian', patient_list=patient_list, features_list=features)"
   ]
  },
  {
   "cell_type": "code",
   "execution_count": 66,
   "metadata": {},
   "outputs": [
    {
     "data": {
      "text/html": [
       "<div>\n",
       "<style scoped>\n",
       "    .dataframe tbody tr th:only-of-type {\n",
       "        vertical-align: middle;\n",
       "    }\n",
       "\n",
       "    .dataframe tbody tr th {\n",
       "        vertical-align: top;\n",
       "    }\n",
       "\n",
       "    .dataframe thead th {\n",
       "        text-align: right;\n",
       "    }\n",
       "</style>\n",
       "<table border=\"1\" class=\"dataframe\">\n",
       "  <thead>\n",
       "    <tr style=\"text-align: right;\">\n",
       "      <th></th>\n",
       "      <th>original_shape_Elongation</th>\n",
       "      <th>original_shape_Flatness</th>\n",
       "      <th>original_shape_LeastAxisLength</th>\n",
       "      <th>original_shape_MajorAxisLength</th>\n",
       "      <th>original_shape_Maximum2DDiameterColumn</th>\n",
       "      <th>original_shape_Maximum2DDiameterRow</th>\n",
       "      <th>original_shape_Maximum2DDiameterSlice</th>\n",
       "      <th>original_shape_Maximum3DDiameter</th>\n",
       "      <th>original_shape_MeshVolume</th>\n",
       "      <th>original_shape_MinorAxisLength</th>\n",
       "      <th>...</th>\n",
       "      <th>original_gldm_DependenceNonUniformity</th>\n",
       "      <th>original_gldm_DependenceNonUniformityNormalized</th>\n",
       "      <th>original_gldm_DependenceVariance</th>\n",
       "      <th>original_gldm_GrayLevelNonUniformity</th>\n",
       "      <th>original_gldm_LargeDependenceEmphasis</th>\n",
       "      <th>original_gldm_LargeDependenceHighGrayLevelEmphasis</th>\n",
       "      <th>original_gldm_SmallDependenceEmphasis</th>\n",
       "      <th>original_ngtdm_Busyness</th>\n",
       "      <th>original_ngtdm_Coarseness</th>\n",
       "      <th>original_ngtdm_Contrast</th>\n",
       "    </tr>\n",
       "  </thead>\n",
       "  <tbody>\n",
       "    <tr>\n",
       "      <th>Patient 1</th>\n",
       "      <td>0.809098</td>\n",
       "      <td>0.540257</td>\n",
       "      <td>32.780488</td>\n",
       "      <td>60.675736</td>\n",
       "      <td>68.556955</td>\n",
       "      <td>69.193452</td>\n",
       "      <td>67.797028</td>\n",
       "      <td>77.197323</td>\n",
       "      <td>56816.33303</td>\n",
       "      <td>49.092636</td>\n",
       "      <td>...</td>\n",
       "      <td>2257.463629</td>\n",
       "      <td>0.171410</td>\n",
       "      <td>4.637846</td>\n",
       "      <td>465.737737</td>\n",
       "      <td>15.078056</td>\n",
       "      <td>6698.875171</td>\n",
       "      <td>0.308881</td>\n",
       "      <td>1.301331</td>\n",
       "      <td>0.001009</td>\n",
       "      <td>0.212588</td>\n",
       "    </tr>\n",
       "    <tr>\n",
       "      <th>Patient 10</th>\n",
       "      <td>0.579832</td>\n",
       "      <td>0.477183</td>\n",
       "      <td>25.195758</td>\n",
       "      <td>52.801040</td>\n",
       "      <td>52.083538</td>\n",
       "      <td>56.582369</td>\n",
       "      <td>36.629694</td>\n",
       "      <td>56.956781</td>\n",
       "      <td>21011.88221</td>\n",
       "      <td>30.615753</td>\n",
       "      <td>...</td>\n",
       "      <td>947.524033</td>\n",
       "      <td>0.193807</td>\n",
       "      <td>2.838401</td>\n",
       "      <td>177.880753</td>\n",
       "      <td>11.413991</td>\n",
       "      <td>4109.477194</td>\n",
       "      <td>0.311449</td>\n",
       "      <td>0.542220</td>\n",
       "      <td>0.002563</td>\n",
       "      <td>0.167525</td>\n",
       "    </tr>\n",
       "    <tr>\n",
       "      <th>Patient 11</th>\n",
       "      <td>0.610618</td>\n",
       "      <td>0.589149</td>\n",
       "      <td>36.211498</td>\n",
       "      <td>61.464026</td>\n",
       "      <td>63.297750</td>\n",
       "      <td>69.995168</td>\n",
       "      <td>49.332752</td>\n",
       "      <td>76.679330</td>\n",
       "      <td>51006.63593</td>\n",
       "      <td>37.531020</td>\n",
       "      <td>...</td>\n",
       "      <td>1279.819919</td>\n",
       "      <td>0.108203</td>\n",
       "      <td>8.149638</td>\n",
       "      <td>1027.238079</td>\n",
       "      <td>31.195807</td>\n",
       "      <td>5265.488502</td>\n",
       "      <td>0.170264</td>\n",
       "      <td>1.678677</td>\n",
       "      <td>0.000794</td>\n",
       "      <td>0.037831</td>\n",
       "    </tr>\n",
       "    <tr>\n",
       "      <th>Patient 12</th>\n",
       "      <td>0.670671</td>\n",
       "      <td>0.593019</td>\n",
       "      <td>28.770337</td>\n",
       "      <td>48.515066</td>\n",
       "      <td>52.666912</td>\n",
       "      <td>53.962602</td>\n",
       "      <td>39.693094</td>\n",
       "      <td>54.865907</td>\n",
       "      <td>29645.58725</td>\n",
       "      <td>32.537632</td>\n",
       "      <td>...</td>\n",
       "      <td>961.939090</td>\n",
       "      <td>0.139837</td>\n",
       "      <td>4.871202</td>\n",
       "      <td>379.236953</td>\n",
       "      <td>19.719291</td>\n",
       "      <td>3075.038668</td>\n",
       "      <td>0.217825</td>\n",
       "      <td>1.131467</td>\n",
       "      <td>0.001644</td>\n",
       "      <td>0.093174</td>\n",
       "    </tr>\n",
       "    <tr>\n",
       "      <th>Patient 13</th>\n",
       "      <td>0.875893</td>\n",
       "      <td>0.645176</td>\n",
       "      <td>31.084952</td>\n",
       "      <td>48.180582</td>\n",
       "      <td>55.443965</td>\n",
       "      <td>60.133526</td>\n",
       "      <td>49.494058</td>\n",
       "      <td>60.683304</td>\n",
       "      <td>41996.87769</td>\n",
       "      <td>42.201017</td>\n",
       "      <td>...</td>\n",
       "      <td>1690.589975</td>\n",
       "      <td>0.173643</td>\n",
       "      <td>3.605871</td>\n",
       "      <td>419.164955</td>\n",
       "      <td>13.732334</td>\n",
       "      <td>3086.406738</td>\n",
       "      <td>0.290250</td>\n",
       "      <td>1.174338</td>\n",
       "      <td>0.001131</td>\n",
       "      <td>0.121467</td>\n",
       "    </tr>\n",
       "  </tbody>\n",
       "</table>\n",
       "<p>5 rows × 81 columns</p>\n",
       "</div>"
      ],
      "text/plain": [
       "            original_shape_Elongation  original_shape_Flatness  \\\n",
       "Patient 1                    0.809098                 0.540257   \n",
       "Patient 10                   0.579832                 0.477183   \n",
       "Patient 11                   0.610618                 0.589149   \n",
       "Patient 12                   0.670671                 0.593019   \n",
       "Patient 13                   0.875893                 0.645176   \n",
       "\n",
       "            original_shape_LeastAxisLength  original_shape_MajorAxisLength  \\\n",
       "Patient 1                        32.780488                       60.675736   \n",
       "Patient 10                       25.195758                       52.801040   \n",
       "Patient 11                       36.211498                       61.464026   \n",
       "Patient 12                       28.770337                       48.515066   \n",
       "Patient 13                       31.084952                       48.180582   \n",
       "\n",
       "            original_shape_Maximum2DDiameterColumn  \\\n",
       "Patient 1                                68.556955   \n",
       "Patient 10                               52.083538   \n",
       "Patient 11                               63.297750   \n",
       "Patient 12                               52.666912   \n",
       "Patient 13                               55.443965   \n",
       "\n",
       "            original_shape_Maximum2DDiameterRow  \\\n",
       "Patient 1                             69.193452   \n",
       "Patient 10                            56.582369   \n",
       "Patient 11                            69.995168   \n",
       "Patient 12                            53.962602   \n",
       "Patient 13                            60.133526   \n",
       "\n",
       "            original_shape_Maximum2DDiameterSlice  \\\n",
       "Patient 1                               67.797028   \n",
       "Patient 10                              36.629694   \n",
       "Patient 11                              49.332752   \n",
       "Patient 12                              39.693094   \n",
       "Patient 13                              49.494058   \n",
       "\n",
       "            original_shape_Maximum3DDiameter  original_shape_MeshVolume  \\\n",
       "Patient 1                          77.197323                56816.33303   \n",
       "Patient 10                         56.956781                21011.88221   \n",
       "Patient 11                         76.679330                51006.63593   \n",
       "Patient 12                         54.865907                29645.58725   \n",
       "Patient 13                         60.683304                41996.87769   \n",
       "\n",
       "            original_shape_MinorAxisLength  ...  \\\n",
       "Patient 1                        49.092636  ...   \n",
       "Patient 10                       30.615753  ...   \n",
       "Patient 11                       37.531020  ...   \n",
       "Patient 12                       32.537632  ...   \n",
       "Patient 13                       42.201017  ...   \n",
       "\n",
       "            original_gldm_DependenceNonUniformity  \\\n",
       "Patient 1                             2257.463629   \n",
       "Patient 10                             947.524033   \n",
       "Patient 11                            1279.819919   \n",
       "Patient 12                             961.939090   \n",
       "Patient 13                            1690.589975   \n",
       "\n",
       "            original_gldm_DependenceNonUniformityNormalized  \\\n",
       "Patient 1                                          0.171410   \n",
       "Patient 10                                         0.193807   \n",
       "Patient 11                                         0.108203   \n",
       "Patient 12                                         0.139837   \n",
       "Patient 13                                         0.173643   \n",
       "\n",
       "            original_gldm_DependenceVariance  \\\n",
       "Patient 1                           4.637846   \n",
       "Patient 10                          2.838401   \n",
       "Patient 11                          8.149638   \n",
       "Patient 12                          4.871202   \n",
       "Patient 13                          3.605871   \n",
       "\n",
       "            original_gldm_GrayLevelNonUniformity  \\\n",
       "Patient 1                             465.737737   \n",
       "Patient 10                            177.880753   \n",
       "Patient 11                           1027.238079   \n",
       "Patient 12                            379.236953   \n",
       "Patient 13                            419.164955   \n",
       "\n",
       "            original_gldm_LargeDependenceEmphasis  \\\n",
       "Patient 1                               15.078056   \n",
       "Patient 10                              11.413991   \n",
       "Patient 11                              31.195807   \n",
       "Patient 12                              19.719291   \n",
       "Patient 13                              13.732334   \n",
       "\n",
       "            original_gldm_LargeDependenceHighGrayLevelEmphasis  \\\n",
       "Patient 1                                         6698.875171    \n",
       "Patient 10                                        4109.477194    \n",
       "Patient 11                                        5265.488502    \n",
       "Patient 12                                        3075.038668    \n",
       "Patient 13                                        3086.406738    \n",
       "\n",
       "            original_gldm_SmallDependenceEmphasis  original_ngtdm_Busyness  \\\n",
       "Patient 1                                0.308881                 1.301331   \n",
       "Patient 10                               0.311449                 0.542220   \n",
       "Patient 11                               0.170264                 1.678677   \n",
       "Patient 12                               0.217825                 1.131467   \n",
       "Patient 13                               0.290250                 1.174338   \n",
       "\n",
       "            original_ngtdm_Coarseness  original_ngtdm_Contrast  \n",
       "Patient 1                    0.001009                 0.212588  \n",
       "Patient 10                   0.002563                 0.167525  \n",
       "Patient 11                   0.000794                 0.037831  \n",
       "Patient 12                   0.001644                 0.093174  \n",
       "Patient 13                   0.001131                 0.121467  \n",
       "\n",
       "[5 rows x 81 columns]"
      ]
     },
     "execution_count": 66,
     "metadata": {},
     "output_type": "execute_result"
    }
   ],
   "source": [
    "simu_gtv_df = pd.DataFrame(data_simu, index=patient_list, columns=features)\n",
    "simu_gtv_df.head()"
   ]
  },
  {
   "cell_type": "code",
   "execution_count": 67,
   "metadata": {},
   "outputs": [],
   "source": [
    "simu_gtv_df.to_csv('/mnt/c/Users/tachenne/delta-rad/extracted_radiomics/simu_gtv.csv')"
   ]
  },
  {
   "cell_type": "markdown",
   "metadata": {},
   "source": [
    "## F1 features"
   ]
  },
  {
   "cell_type": "code",
   "execution_count": 68,
   "metadata": {},
   "outputs": [
    {
     "name": "stdout",
     "output_type": "stream",
     "text": [
      "Error with patient  Patient 38\n",
      "Error with patient  Patient 80\n"
     ]
    }
   ],
   "source": [
    "data_f1, error_patients = extract_rad(filtered_features_gtv_df, fraction='1', patient_list=patient_list, features_list=features)"
   ]
  },
  {
   "cell_type": "code",
   "execution_count": 69,
   "metadata": {},
   "outputs": [],
   "source": [
    "f1_gtv_df = pd.DataFrame(data_f1, index=patient_list, columns=features)\n",
    "f1_gtv_df.to_csv('/mnt/c/Users/tachenne/delta-rad/extracted_radiomics/f1_gtv.csv')"
   ]
  },
  {
   "cell_type": "markdown",
   "metadata": {},
   "source": [
    "## F2 features"
   ]
  },
  {
   "cell_type": "code",
   "execution_count": 70,
   "metadata": {},
   "outputs": [
    {
     "name": "stdout",
     "output_type": "stream",
     "text": [
      "Error with patient  Patient 62\n",
      "Error with patient  Patient 74\n",
      "Error with patient  Patient 80\n",
      "Error with patient  Patient 82\n",
      "Error with patient  Patient 84\n",
      "Error with patient  Patient 85\n"
     ]
    }
   ],
   "source": [
    "data_f2, error_patients = extract_rad(filtered_features_gtv_df, fraction='2', patient_list=patient_list, features_list=features)"
   ]
  },
  {
   "cell_type": "code",
   "execution_count": 71,
   "metadata": {},
   "outputs": [],
   "source": [
    "f2_gtv_df = pd.DataFrame(data_f2, index=patient_list, columns=features)\n",
    "f2_gtv_df.to_csv('/mnt/c/Users/tachenne/delta-rad/extracted_radiomics/f2_gtv.csv')"
   ]
  },
  {
   "cell_type": "markdown",
   "metadata": {},
   "source": [
    "## F3 features"
   ]
  },
  {
   "cell_type": "code",
   "execution_count": 72,
   "metadata": {},
   "outputs": [
    {
     "name": "stdout",
     "output_type": "stream",
     "text": [
      "Error with patient  Patient 38\n",
      "Error with patient  Patient 56\n",
      "Error with patient  Patient 63\n",
      "Error with patient  Patient 74\n"
     ]
    }
   ],
   "source": [
    "data_f3, error_patients = extract_rad(filtered_features_gtv_df, fraction='3', patient_list=patient_list, features_list=features)"
   ]
  },
  {
   "cell_type": "code",
   "execution_count": 73,
   "metadata": {},
   "outputs": [],
   "source": [
    "f3_gtv_df = pd.DataFrame(data_f3, index=patient_list, columns=features)\n",
    "f3_gtv_df.to_csv('/mnt/c/Users/tachenne/delta-rad/extracted_radiomics/f3_gtv.csv')"
   ]
  },
  {
   "cell_type": "markdown",
   "metadata": {},
   "source": [
    "## Delta - Rad features"
   ]
  },
  {
   "cell_type": "code",
   "execution_count": 74,
   "metadata": {},
   "outputs": [],
   "source": [
    "def extract_delta_rad(extracted_feat_df, fraction1: str, fraction2: str, patient_list: list, features_list: list): \n",
    "    data = []\n",
    "    error_patients = set()\n",
    "    for patient in patient_list: \n",
    "        row_data = []\n",
    "        try:\n",
    "            line1 = extracted_feat_df.loc[(extracted_feat_df['Patient Rxmic'] == patient) & (extracted_feat_df['Fraction'] == fraction1)].iloc[0]\n",
    "            line2 = extracted_feat_df.loc[(extracted_feat_df['Patient Rxmic'] == patient) & (extracted_feat_df['Fraction'] == fraction2)].iloc[0]\n",
    "            for feature in features_list:\n",
    "                feature_value1 = line1[feature]\n",
    "                feature_value2 = line2[feature]\n",
    "                delta_feature = feature_value2 / feature_value1 \n",
    "                row_data.append(delta_feature) # add the value to raw_data \n",
    "        except IndexError:\n",
    "            for feature in features_list: \n",
    "                row_data.append(None)\n",
    "            error_patients.add(patient)\n",
    "            print(\"Error with patient \", patient)\n",
    "\n",
    "        data.append(row_data)\n",
    "\n",
    "    return data, error_patients"
   ]
  },
  {
   "cell_type": "markdown",
   "metadata": {},
   "source": [
    "## F1/F2"
   ]
  },
  {
   "cell_type": "code",
   "execution_count": 76,
   "metadata": {},
   "outputs": [
    {
     "name": "stdout",
     "output_type": "stream",
     "text": [
      "Error with patient  Patient 38\n",
      "Error with patient  Patient 62\n",
      "Error with patient  Patient 74\n",
      "Error with patient  Patient 80\n",
      "Error with patient  Patient 82\n",
      "Error with patient  Patient 84\n",
      "Error with patient  Patient 85\n"
     ]
    }
   ],
   "source": [
    "data_f1_f2, error_patients = extract_delta_rad(filtered_features_gtv_df, fraction1='1', fraction2='2', patient_list=patient_list, features_list=features)"
   ]
  },
  {
   "cell_type": "code",
   "execution_count": 77,
   "metadata": {},
   "outputs": [],
   "source": [
    "f1_f2_gtv_df = pd.DataFrame(data_f1_f2, index=patient_list, columns=features)\n",
    "f1_f2_gtv_df.to_csv('/mnt/c/Users/tachenne/delta-rad/extracted_radiomics/f1_f2_gtv.csv')"
   ]
  },
  {
   "cell_type": "markdown",
   "metadata": {},
   "source": [
    "## F2/F3"
   ]
  },
  {
   "cell_type": "code",
   "execution_count": 78,
   "metadata": {},
   "outputs": [
    {
     "name": "stdout",
     "output_type": "stream",
     "text": [
      "Error with patient  Patient 38\n",
      "Error with patient  Patient 56\n",
      "Error with patient  Patient 62\n",
      "Error with patient  Patient 63\n",
      "Error with patient  Patient 74\n",
      "Error with patient  Patient 80\n",
      "Error with patient  Patient 82\n",
      "Error with patient  Patient 84\n",
      "Error with patient  Patient 85\n"
     ]
    }
   ],
   "source": [
    "data_f2_f3, error_patients = extract_delta_rad(filtered_features_gtv_df, fraction1='2', fraction2='3', patient_list=patient_list, features_list=features)"
   ]
  },
  {
   "cell_type": "code",
   "execution_count": 79,
   "metadata": {},
   "outputs": [],
   "source": [
    "f2_f3_gtv_df = pd.DataFrame(data_f2_f3, index=patient_list, columns=features)\n",
    "f2_f3_gtv_df.to_csv('/mnt/c/Users/tachenne/delta-rad/extracted_radiomics/f2_f3_gtv.csv')"
   ]
  },
  {
   "cell_type": "markdown",
   "metadata": {},
   "source": [
    "## F1/F3"
   ]
  },
  {
   "cell_type": "code",
   "execution_count": 80,
   "metadata": {},
   "outputs": [
    {
     "name": "stdout",
     "output_type": "stream",
     "text": [
      "Error with patient  Patient 38\n",
      "Error with patient  Patient 56\n",
      "Error with patient  Patient 63\n",
      "Error with patient  Patient 74\n",
      "Error with patient  Patient 80\n"
     ]
    }
   ],
   "source": [
    "data_f1_f3, error_patients = extract_delta_rad(filtered_features_gtv_df, fraction1='1', fraction2='3', patient_list=patient_list, features_list=features)"
   ]
  },
  {
   "cell_type": "code",
   "execution_count": 81,
   "metadata": {},
   "outputs": [],
   "source": [
    "f1_f3_gtv_df = pd.DataFrame(data_f1_f3, index=patient_list, columns=features)\n",
    "f1_f3_gtv_df.to_csv('/mnt/c/Users/tachenne/delta-rad/extracted_radiomics/f1_f3_gtv.csv')"
   ]
  },
  {
   "cell_type": "markdown",
   "metadata": {},
   "source": [
    "## Get patient outcomes"
   ]
  },
  {
   "cell_type": "code",
   "execution_count": 3,
   "metadata": {},
   "outputs": [
    {
     "data": {
      "text/plain": [
       "['Récidive Locale', 'Récidive Méta', 'Décès', 'Récidive', 'Évènement']"
      ]
     },
     "execution_count": 3,
     "metadata": {},
     "output_type": "execute_result"
    }
   ],
   "source": [
    "outcome_features = list(filtered_features_gtv_df.columns)[-5:]\n",
    "outcome_features"
   ]
  },
  {
   "cell_type": "code",
   "execution_count": 5,
   "metadata": {},
   "outputs": [],
   "source": [
    "def extract_outcomes(extracted_feat_df, patient_list: list, features_list: list): \n",
    "    data = []\n",
    "    error_patients = set()\n",
    "    for patient in patient_list: \n",
    "        row_data = []\n",
    "        try:\n",
    "            line = extracted_feat_df.loc[(extracted_feat_df['Patient Rxmic'] == patient)].iloc[0]\n",
    "            for feature in features_list:\n",
    "                outcome_value = line[feature]\n",
    "                row_data.append(outcome_value) # add the value to raw_data \n",
    "        except IndexError:\n",
    "            for feature in features_list: \n",
    "                row_data.append(None)\n",
    "            error_patients.add(patient)\n",
    "            print(\"Error with patient \", patient)\n",
    "\n",
    "        data.append(row_data)\n",
    "\n",
    "    return data, error_patients"
   ]
  },
  {
   "cell_type": "code",
   "execution_count": 10,
   "metadata": {},
   "outputs": [],
   "source": [
    "outcome_data, error_patients = extract_outcomes(filtered_features_gtv_df, patient_list, outcome_features)"
   ]
  },
  {
   "cell_type": "code",
   "execution_count": 12,
   "metadata": {},
   "outputs": [],
   "source": [
    "outcome_df = pd.DataFrame(outcome_data, index=patient_list, columns=outcome_features)\n",
    "outcome_df.to_csv('/mnt/c/Users/tachenne/delta-rad/extracted_radiomics/outcomes.csv')"
   ]
  },
  {
   "cell_type": "code",
   "execution_count": 13,
   "metadata": {},
   "outputs": [
    {
     "data": {
      "text/html": [
       "<div>\n",
       "<style scoped>\n",
       "    .dataframe tbody tr th:only-of-type {\n",
       "        vertical-align: middle;\n",
       "    }\n",
       "\n",
       "    .dataframe tbody tr th {\n",
       "        vertical-align: top;\n",
       "    }\n",
       "\n",
       "    .dataframe thead th {\n",
       "        text-align: right;\n",
       "    }\n",
       "</style>\n",
       "<table border=\"1\" class=\"dataframe\">\n",
       "  <thead>\n",
       "    <tr style=\"text-align: right;\">\n",
       "      <th></th>\n",
       "      <th>Récidive Locale</th>\n",
       "      <th>Récidive Méta</th>\n",
       "      <th>Décès</th>\n",
       "      <th>Récidive</th>\n",
       "      <th>Évènement</th>\n",
       "    </tr>\n",
       "  </thead>\n",
       "  <tbody>\n",
       "    <tr>\n",
       "      <th>Patient 1</th>\n",
       "      <td>0</td>\n",
       "      <td>1</td>\n",
       "      <td>1</td>\n",
       "      <td>1</td>\n",
       "      <td>1</td>\n",
       "    </tr>\n",
       "    <tr>\n",
       "      <th>Patient 10</th>\n",
       "      <td>0</td>\n",
       "      <td>1</td>\n",
       "      <td>1</td>\n",
       "      <td>1</td>\n",
       "      <td>1</td>\n",
       "    </tr>\n",
       "    <tr>\n",
       "      <th>Patient 11</th>\n",
       "      <td>0</td>\n",
       "      <td>1</td>\n",
       "      <td>1</td>\n",
       "      <td>1</td>\n",
       "      <td>1</td>\n",
       "    </tr>\n",
       "    <tr>\n",
       "      <th>Patient 12</th>\n",
       "      <td>0</td>\n",
       "      <td>0</td>\n",
       "      <td>0</td>\n",
       "      <td>0</td>\n",
       "      <td>0</td>\n",
       "    </tr>\n",
       "    <tr>\n",
       "      <th>Patient 13</th>\n",
       "      <td>0</td>\n",
       "      <td>1</td>\n",
       "      <td>0</td>\n",
       "      <td>1</td>\n",
       "      <td>1</td>\n",
       "    </tr>\n",
       "    <tr>\n",
       "      <th>...</th>\n",
       "      <td>...</td>\n",
       "      <td>...</td>\n",
       "      <td>...</td>\n",
       "      <td>...</td>\n",
       "      <td>...</td>\n",
       "    </tr>\n",
       "    <tr>\n",
       "      <th>Patient 83</th>\n",
       "      <td>0</td>\n",
       "      <td>0</td>\n",
       "      <td>0</td>\n",
       "      <td>0</td>\n",
       "      <td>0</td>\n",
       "    </tr>\n",
       "    <tr>\n",
       "      <th>Patient 84</th>\n",
       "      <td>0</td>\n",
       "      <td>1</td>\n",
       "      <td>0</td>\n",
       "      <td>1</td>\n",
       "      <td>1</td>\n",
       "    </tr>\n",
       "    <tr>\n",
       "      <th>Patient 85</th>\n",
       "      <td>0</td>\n",
       "      <td>0</td>\n",
       "      <td>0</td>\n",
       "      <td>0</td>\n",
       "      <td>0</td>\n",
       "    </tr>\n",
       "    <tr>\n",
       "      <th>Patient 86</th>\n",
       "      <td>0</td>\n",
       "      <td>0</td>\n",
       "      <td>1</td>\n",
       "      <td>0</td>\n",
       "      <td>1</td>\n",
       "    </tr>\n",
       "    <tr>\n",
       "      <th>Patient 9</th>\n",
       "      <td>1</td>\n",
       "      <td>1</td>\n",
       "      <td>1</td>\n",
       "      <td>1</td>\n",
       "      <td>1</td>\n",
       "    </tr>\n",
       "  </tbody>\n",
       "</table>\n",
       "<p>83 rows × 5 columns</p>\n",
       "</div>"
      ],
      "text/plain": [
       "            Récidive Locale  Récidive Méta  Décès  Récidive  Évènement\n",
       "Patient 1                 0              1      1         1          1\n",
       "Patient 10                0              1      1         1          1\n",
       "Patient 11                0              1      1         1          1\n",
       "Patient 12                0              0      0         0          0\n",
       "Patient 13                0              1      0         1          1\n",
       "...                     ...            ...    ...       ...        ...\n",
       "Patient 83                0              0      0         0          0\n",
       "Patient 84                0              1      0         1          1\n",
       "Patient 85                0              0      0         0          0\n",
       "Patient 86                0              0      1         0          1\n",
       "Patient 9                 1              1      1         1          1\n",
       "\n",
       "[83 rows x 5 columns]"
      ]
     },
     "execution_count": 13,
     "metadata": {},
     "output_type": "execute_result"
    }
   ],
   "source": [
    "outcome_df"
   ]
  },
  {
   "cell_type": "markdown",
   "metadata": {},
   "source": [
    "## Outcomes statistics"
   ]
  },
  {
   "cell_type": "code",
   "execution_count": 14,
   "metadata": {},
   "outputs": [
    {
     "data": {
      "text/plain": [
       "Récidive Locale\n",
       "0    63\n",
       "1    20\n",
       "Name: count, dtype: int64"
      ]
     },
     "execution_count": 14,
     "metadata": {},
     "output_type": "execute_result"
    }
   ],
   "source": [
    "outcome_df[\"Récidive Locale\"].value_counts()"
   ]
  },
  {
   "cell_type": "code",
   "execution_count": 26,
   "metadata": {},
   "outputs": [
    {
     "name": "stdout",
     "output_type": "stream",
     "text": [
      "We need 6 patients with Récidive locale in the test set. \n"
     ]
    }
   ],
   "source": [
    "print('We need {} patients with Récidive locale in the test set. '.format(round(20*0.3)))"
   ]
  },
  {
   "cell_type": "code",
   "execution_count": 15,
   "metadata": {},
   "outputs": [
    {
     "data": {
      "text/plain": [
       "Récidive Méta\n",
       "1    62\n",
       "0    21\n",
       "Name: count, dtype: int64"
      ]
     },
     "execution_count": 15,
     "metadata": {},
     "output_type": "execute_result"
    }
   ],
   "source": [
    "outcome_df[\"Récidive Méta\"].value_counts()"
   ]
  },
  {
   "cell_type": "code",
   "execution_count": 27,
   "metadata": {},
   "outputs": [
    {
     "name": "stdout",
     "output_type": "stream",
     "text": [
      "We need 18 patients with Récidive Méta in the test set. \n"
     ]
    }
   ],
   "source": [
    "print('We need {} patients with Récidive Méta in the test set. '.format(int(62*0.3)))"
   ]
  },
  {
   "cell_type": "code",
   "execution_count": 16,
   "metadata": {},
   "outputs": [
    {
     "data": {
      "text/plain": [
       "Décès\n",
       "0    48\n",
       "1    35\n",
       "Name: count, dtype: int64"
      ]
     },
     "execution_count": 16,
     "metadata": {},
     "output_type": "execute_result"
    }
   ],
   "source": [
    "outcome_df[\"Décès\"].value_counts()"
   ]
  },
  {
   "cell_type": "code",
   "execution_count": 28,
   "metadata": {},
   "outputs": [
    {
     "name": "stdout",
     "output_type": "stream",
     "text": [
      "We need 10 patients with Décès in the test set. \n"
     ]
    }
   ],
   "source": [
    "print('We need {} patients with Décès in the test set. '.format(int(35*0.3)))"
   ]
  }
 ],
 "metadata": {
  "kernelspec": {
   "display_name": "floradiomics",
   "language": "python",
   "name": "python3"
  },
  "language_info": {
   "codemirror_mode": {
    "name": "ipython",
    "version": 3
   },
   "file_extension": ".py",
   "mimetype": "text/x-python",
   "name": "python",
   "nbconvert_exporter": "python",
   "pygments_lexer": "ipython3",
   "version": "3.8.20"
  }
 },
 "nbformat": 4,
 "nbformat_minor": 2
}
