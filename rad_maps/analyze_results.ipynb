{
 "cells": [
  {
   "cell_type": "markdown",
   "metadata": {},
   "source": [
    "# Feature maps heterogeneity parameters analysis "
   ]
  },
  {
   "cell_type": "code",
   "execution_count": 1,
   "metadata": {},
   "outputs": [],
   "source": [
    "from compare_feature_maps import compare_params\n",
    "import pandas as pd "
   ]
  },
  {
   "cell_type": "markdown",
   "metadata": {},
   "source": [
    "## 12/01/2025\n",
    "Clustered feature map using k-means clustering. K was set to 4 to have background low, medium and high expression. But background is annoying for proper clustering. The range of the valus used for clustering\n",
    "is not ideal. \n",
    "It is possible to plot the histogram of the clustered maps. \n",
    "It is also possible to compute other intensity parameters. Ex: mean, std, cv, skewness, kurtosis, min, max.\n",
    "Finally, we can plot a delta-radiomic feature map.\n",
    "\n",
    "## 14/01/2025\n",
    "Certains paramètres d'intensité sont plus significatifs que d'autres pour prédire un outcome. \n",
    "\n",
    "### F1, Récidive locale, Maximum\n",
    "Significant difference between groups for mean in Récidive Locale patients for original_firstorder_Maximum in ttt_1 fraction. P-value:  0.01523967334277116\n",
    "Significant difference between groups for cv in Récidive Locale patients for original_firstorder_Maximum in ttt_1 fraction. P-value:  0.004424113982089846\n",
    "Significant difference between groups for skewness in Récidive Locale patients for original_firstorder_Maximum in ttt_1 fraction. P-value:  0.004828608766055622\n",
    "Significant difference between groups for kurtosis in Récidive Locale patients for original_firstorder_Maximum in ttt_1 fraction. P-value:  0.019873465528917274 \n",
    "\n",
    "### F3, Décès, Kurtosis\n",
    "No significant differences\n",
    "\n",
    "### Delta-radiomics maps\n",
    "Significant difference between groups for std in Décès patients for original_firstorder_Skewness in ttt_1_ttt_3 fraction. P-value:  0.02394217584052614\n",
    "Significant difference between groups for min in Décès patients for original_firstorder_Skewness in ttt_1_ttt_3 fraction. P-value:  0.013257175726916481"
   ]
  },
  {
   "cell_type": "markdown",
   "metadata": {},
   "source": [
    "## Récidive locale "
   ]
  },
  {
   "cell_type": "markdown",
   "metadata": {},
   "source": [
    "### F1"
   ]
  },
  {
   "cell_type": "code",
   "execution_count": 2,
   "metadata": {},
   "outputs": [
    {
     "name": "stdout",
     "output_type": "stream",
     "text": [
      "Significant difference between groups for mean in Récidive Locale patients for original_glrlm_GrayLevelNonUniformity in ttt_1 fraction. P-value:  0.022209298062167572\n",
      "Significant difference between groups for cv in Récidive Locale patients for original_glrlm_GrayLevelNonUniformity in ttt_1 fraction. P-value:  0.0038747497647223946\n",
      "Significant difference between groups for skewness in Récidive Locale patients for original_glrlm_GrayLevelNonUniformity in ttt_1 fraction. P-value:  0.0035437415123079547\n",
      "Significant difference between groups for kurtosis in Récidive Locale patients for original_glrlm_GrayLevelNonUniformity in ttt_1 fraction. P-value:  0.004424113982089846\n"
     ]
    }
   ],
   "source": [
    "# COMPARE FEATURE MAPS\n",
    "fractions = ['ttt_1'] # \n",
    "enabled_features = ['original_glrlm_GrayLevelNonUniformity']\n",
    "outcomes = ['Récidive Locale'] \n",
    "outcomes_df = pd.read_csv('/home/tachennf/Documents/delta-rad/extracted_radiomics/outcomes.csv', index_col=0) # load outcome table \n",
    "compare_params(outcomes, outcomes_df, fractions, enabled_features) "
   ]
  },
  {
   "cell_type": "markdown",
   "metadata": {},
   "source": [
    "### F5"
   ]
  },
  {
   "cell_type": "code",
   "execution_count": 3,
   "metadata": {},
   "outputs": [
    {
     "name": "stdout",
     "output_type": "stream",
     "text": [
      "Significant difference between groups for cv in Récidive Locale patients for original_glrlm_GrayLevelNonUniformity in ttt_5 fraction. P-value:  0.011402301214480284\n",
      "Significant difference between groups for skewness in Récidive Locale patients for original_glrlm_GrayLevelNonUniformity in ttt_5 fraction. P-value:  0.015472269924812671\n",
      "Significant difference between groups for kurtosis in Récidive Locale patients for original_glrlm_GrayLevelNonUniformity in ttt_5 fraction. P-value:  0.028700061764402415\n",
      "Significant difference between groups for mean in Récidive Locale patients for original_glszm_SizeZoneNonUniformityNormalized in ttt_5 fraction. P-value:  0.00628497005627164\n",
      "Significant difference between groups for cv in Récidive Locale patients for original_glszm_SizeZoneNonUniformityNormalized in ttt_5 fraction. P-value:  0.007235176109436068\n",
      "Significant difference between groups for skewness in Récidive Locale patients for original_glszm_SizeZoneNonUniformityNormalized in ttt_5 fraction. P-value:  0.00953084738180638\n",
      "Significant difference between groups for kurtosis in Récidive Locale patients for original_glszm_SizeZoneNonUniformityNormalized in ttt_5 fraction. P-value:  0.00997105422674626\n"
     ]
    }
   ],
   "source": [
    "fractions = ['ttt_5'] # \n",
    "enabled_features = ['original_glrlm_GrayLevelNonUniformity', 'original_glszm_SizeZoneNonUniformityNormalized']\n",
    "compare_params(outcomes, outcomes_df, fractions, enabled_features) "
   ]
  },
  {
   "cell_type": "markdown",
   "metadata": {},
   "source": [
    "### F1/F3"
   ]
  },
  {
   "cell_type": "code",
   "execution_count": 4,
   "metadata": {},
   "outputs": [
    {
     "name": "stdout",
     "output_type": "stream",
     "text": [
      "Significant difference between groups for max in Récidive Locale patients for original_glszm_LargeAreaHighGrayLevelEmphasis in ttt_1_ttt_3 fraction. P-value:  0.03881181972109178\n",
      "Significant difference between groups for kurtosis in Récidive Locale patients for original_glszm_LargeAreaHighGrayLevelEmphasis in ttt_1_ttt_3 fraction. P-value:  0.04167362675066033\n"
     ]
    }
   ],
   "source": [
    "fractions = ['ttt_1_ttt_3'] #\n",
    "enabled_features = ['original_glcm_Contrast', 'original_glszm_LargeAreaHighGrayLevelEmphasis', 'original_ngtdm_Contrast']\n",
    "compare_params(outcomes, outcomes_df, fractions, enabled_features)"
   ]
  },
  {
   "cell_type": "markdown",
   "metadata": {},
   "source": [
    "### F1/F4"
   ]
  },
  {
   "cell_type": "code",
   "execution_count": 5,
   "metadata": {},
   "outputs": [],
   "source": [
    "fractions = ['ttt_1_ttt_4'] #\n",
    "enabled_features = ['original_glcm_JointEnergy', 'original_glcm_MaximumProbability', 'original_gldm_DependenceVariance']\n",
    "compare_params(outcomes, outcomes_df, fractions, enabled_features)"
   ]
  },
  {
   "cell_type": "markdown",
   "metadata": {},
   "source": [
    "No significant results"
   ]
  },
  {
   "cell_type": "markdown",
   "metadata": {},
   "source": [
    "### F1/F5"
   ]
  },
  {
   "cell_type": "code",
   "execution_count": 6,
   "metadata": {},
   "outputs": [],
   "source": [
    "fractions = ['ttt_1_ttt_5'] #\n",
    "enabled_features =  ['original_firstorder_Entropy', 'original_gldm_DependenceEntropy', 'original_glrlm_GrayLevelNonUniformity']\n",
    "compare_params(outcomes, outcomes_df, fractions, enabled_features)"
   ]
  },
  {
   "cell_type": "markdown",
   "metadata": {},
   "source": [
    "No significant results"
   ]
  }
 ],
 "metadata": {
  "kernelspec": {
   "display_name": "flothesis",
   "language": "python",
   "name": "python3"
  },
  "language_info": {
   "codemirror_mode": {
    "name": "ipython",
    "version": 3
   },
   "file_extension": ".py",
   "mimetype": "text/x-python",
   "name": "python",
   "nbconvert_exporter": "python",
   "pygments_lexer": "ipython3",
   "version": "3.8.20"
  }
 },
 "nbformat": 4,
 "nbformat_minor": 2
}
