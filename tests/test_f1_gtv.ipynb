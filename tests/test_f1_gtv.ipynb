{
 "cells": [
  {
   "cell_type": "code",
   "execution_count": 1,
   "metadata": {},
   "outputs": [],
   "source": [
    "import pandas as pd \n",
    "import matplotlib.pyplot as plt\n",
    "import numpy as np\n",
    "from sklearn.preprocessing import StandardScaler, MinMaxScaler\n",
    "import random\n",
    "from sklearn.feature_selection import GenericUnivariateSelect, f_classif, chi2\n",
    "from sklearn.ensemble import RandomForestClassifier\n",
    "from sklearn.linear_model import Lasso\n",
    "\n",
    "\n",
    "# my modules\n",
    "from feature_selection import filter_dataset, select_best_features\n",
    "import sklearn_utils as sku\n",
    "from dataset import remove_highly_corr_features, get_highly_corr_features\n",
    "\n"
   ]
  },
  {
   "cell_type": "markdown",
   "metadata": {},
   "source": [
    "# Load datas"
   ]
  },
  {
   "cell_type": "code",
   "execution_count": 14,
   "metadata": {},
   "outputs": [
    {
     "data": {
      "text/html": [
       "<div>\n",
       "<style scoped>\n",
       "    .dataframe tbody tr th:only-of-type {\n",
       "        vertical-align: middle;\n",
       "    }\n",
       "\n",
       "    .dataframe tbody tr th {\n",
       "        vertical-align: top;\n",
       "    }\n",
       "\n",
       "    .dataframe thead th {\n",
       "        text-align: right;\n",
       "    }\n",
       "</style>\n",
       "<table border=\"1\" class=\"dataframe\">\n",
       "  <thead>\n",
       "    <tr style=\"text-align: right;\">\n",
       "      <th></th>\n",
       "      <th>original_shape_Elongation</th>\n",
       "      <th>original_shape_Flatness</th>\n",
       "      <th>original_shape_LeastAxisLength</th>\n",
       "      <th>original_shape_MajorAxisLength</th>\n",
       "      <th>original_shape_Maximum2DDiameterColumn</th>\n",
       "      <th>original_shape_Maximum2DDiameterRow</th>\n",
       "      <th>original_shape_Maximum2DDiameterSlice</th>\n",
       "      <th>original_shape_Maximum3DDiameter</th>\n",
       "      <th>original_shape_MeshVolume</th>\n",
       "      <th>original_shape_MinorAxisLength</th>\n",
       "      <th>...</th>\n",
       "      <th>original_gldm_DependenceNonUniformity</th>\n",
       "      <th>original_gldm_DependenceNonUniformityNormalized</th>\n",
       "      <th>original_gldm_DependenceVariance</th>\n",
       "      <th>original_gldm_GrayLevelNonUniformity</th>\n",
       "      <th>original_gldm_LargeDependenceEmphasis</th>\n",
       "      <th>original_gldm_LargeDependenceHighGrayLevelEmphasis</th>\n",
       "      <th>original_gldm_SmallDependenceEmphasis</th>\n",
       "      <th>original_ngtdm_Busyness</th>\n",
       "      <th>original_ngtdm_Coarseness</th>\n",
       "      <th>original_ngtdm_Contrast</th>\n",
       "    </tr>\n",
       "  </thead>\n",
       "  <tbody>\n",
       "    <tr>\n",
       "      <th>Patient 1</th>\n",
       "      <td>0.814522</td>\n",
       "      <td>0.538269</td>\n",
       "      <td>32.517287</td>\n",
       "      <td>60.410832</td>\n",
       "      <td>70.014145</td>\n",
       "      <td>69.193452</td>\n",
       "      <td>67.541819</td>\n",
       "      <td>76.088009</td>\n",
       "      <td>56480.88058</td>\n",
       "      <td>49.205971</td>\n",
       "      <td>...</td>\n",
       "      <td>2195.246048</td>\n",
       "      <td>0.167640</td>\n",
       "      <td>4.699310</td>\n",
       "      <td>472.840092</td>\n",
       "      <td>15.558839</td>\n",
       "      <td>8102.702635</td>\n",
       "      <td>0.296525</td>\n",
       "      <td>1.216115</td>\n",
       "      <td>0.001020</td>\n",
       "      <td>0.212995</td>\n",
       "    </tr>\n",
       "    <tr>\n",
       "      <th>Patient 10</th>\n",
       "      <td>0.601118</td>\n",
       "      <td>0.494290</td>\n",
       "      <td>25.293625</td>\n",
       "      <td>51.171646</td>\n",
       "      <td>50.556283</td>\n",
       "      <td>55.515800</td>\n",
       "      <td>36.629694</td>\n",
       "      <td>55.968608</td>\n",
       "      <td>20277.82059</td>\n",
       "      <td>30.760211</td>\n",
       "      <td>...</td>\n",
       "      <td>1051.112736</td>\n",
       "      <td>0.222741</td>\n",
       "      <td>2.129936</td>\n",
       "      <td>111.705234</td>\n",
       "      <td>8.827930</td>\n",
       "      <td>7684.496715</td>\n",
       "      <td>0.365804</td>\n",
       "      <td>0.258613</td>\n",
       "      <td>0.003409</td>\n",
       "      <td>0.251278</td>\n",
       "    </tr>\n",
       "    <tr>\n",
       "      <th>Patient 11</th>\n",
       "      <td>0.601431</td>\n",
       "      <td>0.578848</td>\n",
       "      <td>35.839153</td>\n",
       "      <td>61.914659</td>\n",
       "      <td>63.297750</td>\n",
       "      <td>69.995168</td>\n",
       "      <td>49.332752</td>\n",
       "      <td>77.162898</td>\n",
       "      <td>50525.92301</td>\n",
       "      <td>37.237410</td>\n",
       "      <td>...</td>\n",
       "      <td>1267.815396</td>\n",
       "      <td>0.108203</td>\n",
       "      <td>8.421089</td>\n",
       "      <td>1024.608944</td>\n",
       "      <td>33.158914</td>\n",
       "      <td>5000.201246</td>\n",
       "      <td>0.146653</td>\n",
       "      <td>1.844096</td>\n",
       "      <td>0.000839</td>\n",
       "      <td>0.030869</td>\n",
       "    </tr>\n",
       "    <tr>\n",
       "      <th>Patient 12</th>\n",
       "      <td>0.685428</td>\n",
       "      <td>0.596022</td>\n",
       "      <td>28.102245</td>\n",
       "      <td>47.149668</td>\n",
       "      <td>51.802210</td>\n",
       "      <td>52.490050</td>\n",
       "      <td>39.187858</td>\n",
       "      <td>53.118997</td>\n",
       "      <td>28132.71296</td>\n",
       "      <td>32.317691</td>\n",
       "      <td>...</td>\n",
       "      <td>771.049318</td>\n",
       "      <td>0.118096</td>\n",
       "      <td>7.528479</td>\n",
       "      <td>412.334048</td>\n",
       "      <td>27.592127</td>\n",
       "      <td>3882.806555</td>\n",
       "      <td>0.186004</td>\n",
       "      <td>0.965982</td>\n",
       "      <td>0.001794</td>\n",
       "      <td>0.070645</td>\n",
       "    </tr>\n",
       "    <tr>\n",
       "      <th>Patient 13</th>\n",
       "      <td>0.846448</td>\n",
       "      <td>0.632900</td>\n",
       "      <td>31.130563</td>\n",
       "      <td>49.187200</td>\n",
       "      <td>56.933452</td>\n",
       "      <td>61.509557</td>\n",
       "      <td>49.494058</td>\n",
       "      <td>62.047144</td>\n",
       "      <td>42280.54162</td>\n",
       "      <td>41.634412</td>\n",
       "      <td>...</td>\n",
       "      <td>1608.637829</td>\n",
       "      <td>0.164113</td>\n",
       "      <td>3.896810</td>\n",
       "      <td>436.350949</td>\n",
       "      <td>15.172210</td>\n",
       "      <td>3633.545195</td>\n",
       "      <td>0.265225</td>\n",
       "      <td>1.061602</td>\n",
       "      <td>0.001125</td>\n",
       "      <td>0.098498</td>\n",
       "    </tr>\n",
       "  </tbody>\n",
       "</table>\n",
       "<p>5 rows × 81 columns</p>\n",
       "</div>"
      ],
      "text/plain": [
       "            original_shape_Elongation  original_shape_Flatness  \\\n",
       "Patient 1                    0.814522                 0.538269   \n",
       "Patient 10                   0.601118                 0.494290   \n",
       "Patient 11                   0.601431                 0.578848   \n",
       "Patient 12                   0.685428                 0.596022   \n",
       "Patient 13                   0.846448                 0.632900   \n",
       "\n",
       "            original_shape_LeastAxisLength  original_shape_MajorAxisLength  \\\n",
       "Patient 1                        32.517287                       60.410832   \n",
       "Patient 10                       25.293625                       51.171646   \n",
       "Patient 11                       35.839153                       61.914659   \n",
       "Patient 12                       28.102245                       47.149668   \n",
       "Patient 13                       31.130563                       49.187200   \n",
       "\n",
       "            original_shape_Maximum2DDiameterColumn  \\\n",
       "Patient 1                                70.014145   \n",
       "Patient 10                               50.556283   \n",
       "Patient 11                               63.297750   \n",
       "Patient 12                               51.802210   \n",
       "Patient 13                               56.933452   \n",
       "\n",
       "            original_shape_Maximum2DDiameterRow  \\\n",
       "Patient 1                             69.193452   \n",
       "Patient 10                            55.515800   \n",
       "Patient 11                            69.995168   \n",
       "Patient 12                            52.490050   \n",
       "Patient 13                            61.509557   \n",
       "\n",
       "            original_shape_Maximum2DDiameterSlice  \\\n",
       "Patient 1                               67.541819   \n",
       "Patient 10                              36.629694   \n",
       "Patient 11                              49.332752   \n",
       "Patient 12                              39.187858   \n",
       "Patient 13                              49.494058   \n",
       "\n",
       "            original_shape_Maximum3DDiameter  original_shape_MeshVolume  \\\n",
       "Patient 1                          76.088009                56480.88058   \n",
       "Patient 10                         55.968608                20277.82059   \n",
       "Patient 11                         77.162898                50525.92301   \n",
       "Patient 12                         53.118997                28132.71296   \n",
       "Patient 13                         62.047144                42280.54162   \n",
       "\n",
       "            original_shape_MinorAxisLength  ...  \\\n",
       "Patient 1                        49.205971  ...   \n",
       "Patient 10                       30.760211  ...   \n",
       "Patient 11                       37.237410  ...   \n",
       "Patient 12                       32.317691  ...   \n",
       "Patient 13                       41.634412  ...   \n",
       "\n",
       "            original_gldm_DependenceNonUniformity  \\\n",
       "Patient 1                             2195.246048   \n",
       "Patient 10                            1051.112736   \n",
       "Patient 11                            1267.815396   \n",
       "Patient 12                             771.049318   \n",
       "Patient 13                            1608.637829   \n",
       "\n",
       "            original_gldm_DependenceNonUniformityNormalized  \\\n",
       "Patient 1                                          0.167640   \n",
       "Patient 10                                         0.222741   \n",
       "Patient 11                                         0.108203   \n",
       "Patient 12                                         0.118096   \n",
       "Patient 13                                         0.164113   \n",
       "\n",
       "            original_gldm_DependenceVariance  \\\n",
       "Patient 1                           4.699310   \n",
       "Patient 10                          2.129936   \n",
       "Patient 11                          8.421089   \n",
       "Patient 12                          7.528479   \n",
       "Patient 13                          3.896810   \n",
       "\n",
       "            original_gldm_GrayLevelNonUniformity  \\\n",
       "Patient 1                             472.840092   \n",
       "Patient 10                            111.705234   \n",
       "Patient 11                           1024.608944   \n",
       "Patient 12                            412.334048   \n",
       "Patient 13                            436.350949   \n",
       "\n",
       "            original_gldm_LargeDependenceEmphasis  \\\n",
       "Patient 1                               15.558839   \n",
       "Patient 10                               8.827930   \n",
       "Patient 11                              33.158914   \n",
       "Patient 12                              27.592127   \n",
       "Patient 13                              15.172210   \n",
       "\n",
       "            original_gldm_LargeDependenceHighGrayLevelEmphasis  \\\n",
       "Patient 1                                         8102.702635    \n",
       "Patient 10                                        7684.496715    \n",
       "Patient 11                                        5000.201246    \n",
       "Patient 12                                        3882.806555    \n",
       "Patient 13                                        3633.545195    \n",
       "\n",
       "            original_gldm_SmallDependenceEmphasis  original_ngtdm_Busyness  \\\n",
       "Patient 1                                0.296525                 1.216115   \n",
       "Patient 10                               0.365804                 0.258613   \n",
       "Patient 11                               0.146653                 1.844096   \n",
       "Patient 12                               0.186004                 0.965982   \n",
       "Patient 13                               0.265225                 1.061602   \n",
       "\n",
       "            original_ngtdm_Coarseness  original_ngtdm_Contrast  \n",
       "Patient 1                    0.001020                 0.212995  \n",
       "Patient 10                   0.003409                 0.251278  \n",
       "Patient 11                   0.000839                 0.030869  \n",
       "Patient 12                   0.001794                 0.070645  \n",
       "Patient 13                   0.001125                 0.098498  \n",
       "\n",
       "[5 rows x 81 columns]"
      ]
     },
     "execution_count": 14,
     "metadata": {},
     "output_type": "execute_result"
    }
   ],
   "source": [
    "X = pd.read_csv('extracted_radiomics/f1_gtv.csv', index_col=0)\n",
    "X.head()"
   ]
  },
  {
   "cell_type": "code",
   "execution_count": 2,
   "metadata": {},
   "outputs": [
    {
     "data": {
      "text/html": [
       "<div>\n",
       "<style scoped>\n",
       "    .dataframe tbody tr th:only-of-type {\n",
       "        vertical-align: middle;\n",
       "    }\n",
       "\n",
       "    .dataframe tbody tr th {\n",
       "        vertical-align: top;\n",
       "    }\n",
       "\n",
       "    .dataframe thead th {\n",
       "        text-align: right;\n",
       "    }\n",
       "</style>\n",
       "<table border=\"1\" class=\"dataframe\">\n",
       "  <thead>\n",
       "    <tr style=\"text-align: right;\">\n",
       "      <th></th>\n",
       "      <th>Récidive Locale</th>\n",
       "      <th>Récidive Méta</th>\n",
       "      <th>Décès</th>\n",
       "      <th>Récidive</th>\n",
       "      <th>Évènement</th>\n",
       "    </tr>\n",
       "  </thead>\n",
       "  <tbody>\n",
       "    <tr>\n",
       "      <th>Patient 1</th>\n",
       "      <td>0</td>\n",
       "      <td>1</td>\n",
       "      <td>1</td>\n",
       "      <td>1</td>\n",
       "      <td>1</td>\n",
       "    </tr>\n",
       "    <tr>\n",
       "      <th>Patient 10</th>\n",
       "      <td>0</td>\n",
       "      <td>1</td>\n",
       "      <td>1</td>\n",
       "      <td>1</td>\n",
       "      <td>1</td>\n",
       "    </tr>\n",
       "    <tr>\n",
       "      <th>Patient 11</th>\n",
       "      <td>0</td>\n",
       "      <td>1</td>\n",
       "      <td>1</td>\n",
       "      <td>1</td>\n",
       "      <td>1</td>\n",
       "    </tr>\n",
       "    <tr>\n",
       "      <th>Patient 12</th>\n",
       "      <td>0</td>\n",
       "      <td>0</td>\n",
       "      <td>0</td>\n",
       "      <td>0</td>\n",
       "      <td>0</td>\n",
       "    </tr>\n",
       "    <tr>\n",
       "      <th>Patient 13</th>\n",
       "      <td>0</td>\n",
       "      <td>1</td>\n",
       "      <td>0</td>\n",
       "      <td>1</td>\n",
       "      <td>1</td>\n",
       "    </tr>\n",
       "  </tbody>\n",
       "</table>\n",
       "</div>"
      ],
      "text/plain": [
       "            Récidive Locale  Récidive Méta  Décès  Récidive  Évènement\n",
       "Patient 1                 0              1      1         1          1\n",
       "Patient 10                0              1      1         1          1\n",
       "Patient 11                0              1      1         1          1\n",
       "Patient 12                0              0      0         0          0\n",
       "Patient 13                0              1      0         1          1"
      ]
     },
     "execution_count": 2,
     "metadata": {},
     "output_type": "execute_result"
    }
   ],
   "source": [
    "y_train = pd.read_csv('y_train.csv', index_col=0)\n",
    "y_train.head()"
   ]
  },
  {
   "cell_type": "code",
   "execution_count": 3,
   "metadata": {},
   "outputs": [
    {
     "data": {
      "text/html": [
       "<div>\n",
       "<style scoped>\n",
       "    .dataframe tbody tr th:only-of-type {\n",
       "        vertical-align: middle;\n",
       "    }\n",
       "\n",
       "    .dataframe tbody tr th {\n",
       "        vertical-align: top;\n",
       "    }\n",
       "\n",
       "    .dataframe thead th {\n",
       "        text-align: right;\n",
       "    }\n",
       "</style>\n",
       "<table border=\"1\" class=\"dataframe\">\n",
       "  <thead>\n",
       "    <tr style=\"text-align: right;\">\n",
       "      <th></th>\n",
       "      <th>Récidive Locale</th>\n",
       "      <th>Récidive Méta</th>\n",
       "      <th>Décès</th>\n",
       "      <th>Récidive</th>\n",
       "      <th>Évènement</th>\n",
       "    </tr>\n",
       "  </thead>\n",
       "  <tbody>\n",
       "    <tr>\n",
       "      <th>Patient 34</th>\n",
       "      <td>1</td>\n",
       "      <td>1</td>\n",
       "      <td>0</td>\n",
       "      <td>1</td>\n",
       "      <td>1</td>\n",
       "    </tr>\n",
       "    <tr>\n",
       "      <th>Patient 64</th>\n",
       "      <td>1</td>\n",
       "      <td>0</td>\n",
       "      <td>1</td>\n",
       "      <td>1</td>\n",
       "      <td>1</td>\n",
       "    </tr>\n",
       "    <tr>\n",
       "      <th>Patient 31</th>\n",
       "      <td>1</td>\n",
       "      <td>1</td>\n",
       "      <td>0</td>\n",
       "      <td>1</td>\n",
       "      <td>1</td>\n",
       "    </tr>\n",
       "    <tr>\n",
       "      <th>Patient 76</th>\n",
       "      <td>1</td>\n",
       "      <td>1</td>\n",
       "      <td>0</td>\n",
       "      <td>1</td>\n",
       "      <td>1</td>\n",
       "    </tr>\n",
       "    <tr>\n",
       "      <th>Patient 36</th>\n",
       "      <td>1</td>\n",
       "      <td>1</td>\n",
       "      <td>0</td>\n",
       "      <td>1</td>\n",
       "      <td>1</td>\n",
       "    </tr>\n",
       "  </tbody>\n",
       "</table>\n",
       "</div>"
      ],
      "text/plain": [
       "            Récidive Locale  Récidive Méta  Décès  Récidive  Évènement\n",
       "Patient 34                1              1      0         1          1\n",
       "Patient 64                1              0      1         1          1\n",
       "Patient 31                1              1      0         1          1\n",
       "Patient 76                1              1      0         1          1\n",
       "Patient 36                1              1      0         1          1"
      ]
     },
     "execution_count": 3,
     "metadata": {},
     "output_type": "execute_result"
    }
   ],
   "source": [
    "y_val = pd.read_csv('y_val.csv', index_col=0)\n",
    "y_val.head()"
   ]
  },
  {
   "cell_type": "code",
   "execution_count": 4,
   "metadata": {},
   "outputs": [
    {
     "name": "stdout",
     "output_type": "stream",
     "text": [
      "Récidive Locale\n",
      "0    15\n",
      "1     8\n",
      "Name: count, dtype: int64\n",
      "Récidive Méta\n",
      "1    20\n",
      "0     3\n",
      "Name: count, dtype: int64\n",
      "Décès\n",
      "0    13\n",
      "1    10\n",
      "Name: count, dtype: int64\n"
     ]
    }
   ],
   "source": [
    "print(y_val['Récidive Locale'].value_counts())\n",
    "print(y_val['Récidive Méta'].value_counts())\n",
    "print(y_val['Décès'].value_counts())"
   ]
  },
  {
   "cell_type": "markdown",
   "metadata": {},
   "source": [
    "# Pre-processing"
   ]
  },
  {
   "cell_type": "markdown",
   "metadata": {},
   "source": [
    "## Remove N/A values"
   ]
  },
  {
   "cell_type": "code",
   "execution_count": 17,
   "metadata": {},
   "outputs": [],
   "source": [
    "X = X.dropna()"
   ]
  },
  {
   "cell_type": "markdown",
   "metadata": {},
   "source": [
    "## Remove highly correlated features"
   ]
  },
  {
   "cell_type": "code",
   "execution_count": 18,
   "metadata": {},
   "outputs": [
    {
     "data": {
      "text/html": [
       "<div>\n",
       "<style scoped>\n",
       "    .dataframe tbody tr th:only-of-type {\n",
       "        vertical-align: middle;\n",
       "    }\n",
       "\n",
       "    .dataframe tbody tr th {\n",
       "        vertical-align: top;\n",
       "    }\n",
       "\n",
       "    .dataframe thead th {\n",
       "        text-align: right;\n",
       "    }\n",
       "</style>\n",
       "<table border=\"1\" class=\"dataframe\">\n",
       "  <thead>\n",
       "    <tr style=\"text-align: right;\">\n",
       "      <th></th>\n",
       "      <th>original_shape_Elongation</th>\n",
       "      <th>original_shape_Flatness</th>\n",
       "      <th>original_shape_LeastAxisLength</th>\n",
       "      <th>original_shape_MajorAxisLength</th>\n",
       "      <th>original_shape_Maximum2DDiameterColumn</th>\n",
       "      <th>original_shape_Maximum2DDiameterRow</th>\n",
       "      <th>original_shape_Maximum2DDiameterSlice</th>\n",
       "      <th>original_shape_MeshVolume</th>\n",
       "      <th>original_shape_MinorAxisLength</th>\n",
       "      <th>original_shape_Sphericity</th>\n",
       "      <th>...</th>\n",
       "      <th>original_glcm_JointEnergy</th>\n",
       "      <th>original_glcm_MCC</th>\n",
       "      <th>original_glrlm_GrayLevelNonUniformity</th>\n",
       "      <th>original_glrlm_GrayLevelVariance</th>\n",
       "      <th>original_glszm_LargeAreaHighGrayLevelEmphasis</th>\n",
       "      <th>original_glszm_SizeZoneNonUniformityNormalized</th>\n",
       "      <th>original_glszm_ZoneEntropy</th>\n",
       "      <th>original_gldm_LargeDependenceHighGrayLevelEmphasis</th>\n",
       "      <th>original_ngtdm_Busyness</th>\n",
       "      <th>original_ngtdm_Contrast</th>\n",
       "    </tr>\n",
       "  </thead>\n",
       "  <tbody>\n",
       "    <tr>\n",
       "      <th>Patient 1</th>\n",
       "      <td>0.814522</td>\n",
       "      <td>0.538269</td>\n",
       "      <td>32.517287</td>\n",
       "      <td>60.410832</td>\n",
       "      <td>70.014145</td>\n",
       "      <td>69.193452</td>\n",
       "      <td>67.541819</td>\n",
       "      <td>56480.88058</td>\n",
       "      <td>49.205971</td>\n",
       "      <td>0.625791</td>\n",
       "      <td>...</td>\n",
       "      <td>0.002792</td>\n",
       "      <td>0.856873</td>\n",
       "      <td>418.135828</td>\n",
       "      <td>113.189229</td>\n",
       "      <td>39399.38790</td>\n",
       "      <td>0.389653</td>\n",
       "      <td>7.223195</td>\n",
       "      <td>8102.702635</td>\n",
       "      <td>1.216115</td>\n",
       "      <td>0.212995</td>\n",
       "    </tr>\n",
       "    <tr>\n",
       "      <th>Patient 10</th>\n",
       "      <td>0.601118</td>\n",
       "      <td>0.494290</td>\n",
       "      <td>25.293625</td>\n",
       "      <td>51.171646</td>\n",
       "      <td>50.556283</td>\n",
       "      <td>55.515800</td>\n",
       "      <td>36.629694</td>\n",
       "      <td>20277.82059</td>\n",
       "      <td>30.760211</td>\n",
       "      <td>0.579081</td>\n",
       "      <td>...</td>\n",
       "      <td>0.001277</td>\n",
       "      <td>0.845759</td>\n",
       "      <td>104.902913</td>\n",
       "      <td>139.164351</td>\n",
       "      <td>9675.43765</td>\n",
       "      <td>0.381291</td>\n",
       "      <td>7.360274</td>\n",
       "      <td>7684.496715</td>\n",
       "      <td>0.258613</td>\n",
       "      <td>0.251278</td>\n",
       "    </tr>\n",
       "    <tr>\n",
       "      <th>Patient 11</th>\n",
       "      <td>0.601431</td>\n",
       "      <td>0.578848</td>\n",
       "      <td>35.839153</td>\n",
       "      <td>61.914659</td>\n",
       "      <td>63.297750</td>\n",
       "      <td>69.995168</td>\n",
       "      <td>49.332752</td>\n",
       "      <td>50525.92301</td>\n",
       "      <td>37.237410</td>\n",
       "      <td>0.654873</td>\n",
       "      <td>...</td>\n",
       "      <td>0.011583</td>\n",
       "      <td>0.638003</td>\n",
       "      <td>830.577741</td>\n",
       "      <td>15.102531</td>\n",
       "      <td>479339.60330</td>\n",
       "      <td>0.309313</td>\n",
       "      <td>6.792426</td>\n",
       "      <td>5000.201246</td>\n",
       "      <td>1.844096</td>\n",
       "      <td>0.030869</td>\n",
       "    </tr>\n",
       "    <tr>\n",
       "      <th>Patient 12</th>\n",
       "      <td>0.685428</td>\n",
       "      <td>0.596022</td>\n",
       "      <td>28.102245</td>\n",
       "      <td>47.149668</td>\n",
       "      <td>51.802210</td>\n",
       "      <td>52.490050</td>\n",
       "      <td>39.187858</td>\n",
       "      <td>28132.71296</td>\n",
       "      <td>32.317691</td>\n",
       "      <td>0.733029</td>\n",
       "      <td>...</td>\n",
       "      <td>0.008098</td>\n",
       "      <td>0.781325</td>\n",
       "      <td>336.776263</td>\n",
       "      <td>35.013862</td>\n",
       "      <td>117195.43570</td>\n",
       "      <td>0.338525</td>\n",
       "      <td>6.830888</td>\n",
       "      <td>3882.806555</td>\n",
       "      <td>0.965982</td>\n",
       "      <td>0.070645</td>\n",
       "    </tr>\n",
       "    <tr>\n",
       "      <th>Patient 13</th>\n",
       "      <td>0.846448</td>\n",
       "      <td>0.632900</td>\n",
       "      <td>31.130563</td>\n",
       "      <td>49.187200</td>\n",
       "      <td>56.933452</td>\n",
       "      <td>61.509557</td>\n",
       "      <td>49.494058</td>\n",
       "      <td>42280.54162</td>\n",
       "      <td>41.634412</td>\n",
       "      <td>0.695784</td>\n",
       "      <td>...</td>\n",
       "      <td>0.003425</td>\n",
       "      <td>0.715065</td>\n",
       "      <td>389.544197</td>\n",
       "      <td>47.911558</td>\n",
       "      <td>21817.98713</td>\n",
       "      <td>0.355429</td>\n",
       "      <td>7.073258</td>\n",
       "      <td>3633.545195</td>\n",
       "      <td>1.061602</td>\n",
       "      <td>0.098498</td>\n",
       "    </tr>\n",
       "  </tbody>\n",
       "</table>\n",
       "<p>5 rows × 37 columns</p>\n",
       "</div>"
      ],
      "text/plain": [
       "            original_shape_Elongation  original_shape_Flatness  \\\n",
       "Patient 1                    0.814522                 0.538269   \n",
       "Patient 10                   0.601118                 0.494290   \n",
       "Patient 11                   0.601431                 0.578848   \n",
       "Patient 12                   0.685428                 0.596022   \n",
       "Patient 13                   0.846448                 0.632900   \n",
       "\n",
       "            original_shape_LeastAxisLength  original_shape_MajorAxisLength  \\\n",
       "Patient 1                        32.517287                       60.410832   \n",
       "Patient 10                       25.293625                       51.171646   \n",
       "Patient 11                       35.839153                       61.914659   \n",
       "Patient 12                       28.102245                       47.149668   \n",
       "Patient 13                       31.130563                       49.187200   \n",
       "\n",
       "            original_shape_Maximum2DDiameterColumn  \\\n",
       "Patient 1                                70.014145   \n",
       "Patient 10                               50.556283   \n",
       "Patient 11                               63.297750   \n",
       "Patient 12                               51.802210   \n",
       "Patient 13                               56.933452   \n",
       "\n",
       "            original_shape_Maximum2DDiameterRow  \\\n",
       "Patient 1                             69.193452   \n",
       "Patient 10                            55.515800   \n",
       "Patient 11                            69.995168   \n",
       "Patient 12                            52.490050   \n",
       "Patient 13                            61.509557   \n",
       "\n",
       "            original_shape_Maximum2DDiameterSlice  original_shape_MeshVolume  \\\n",
       "Patient 1                               67.541819                56480.88058   \n",
       "Patient 10                              36.629694                20277.82059   \n",
       "Patient 11                              49.332752                50525.92301   \n",
       "Patient 12                              39.187858                28132.71296   \n",
       "Patient 13                              49.494058                42280.54162   \n",
       "\n",
       "            original_shape_MinorAxisLength  original_shape_Sphericity  ...  \\\n",
       "Patient 1                        49.205971                   0.625791  ...   \n",
       "Patient 10                       30.760211                   0.579081  ...   \n",
       "Patient 11                       37.237410                   0.654873  ...   \n",
       "Patient 12                       32.317691                   0.733029  ...   \n",
       "Patient 13                       41.634412                   0.695784  ...   \n",
       "\n",
       "            original_glcm_JointEnergy  original_glcm_MCC  \\\n",
       "Patient 1                    0.002792           0.856873   \n",
       "Patient 10                   0.001277           0.845759   \n",
       "Patient 11                   0.011583           0.638003   \n",
       "Patient 12                   0.008098           0.781325   \n",
       "Patient 13                   0.003425           0.715065   \n",
       "\n",
       "            original_glrlm_GrayLevelNonUniformity  \\\n",
       "Patient 1                              418.135828   \n",
       "Patient 10                             104.902913   \n",
       "Patient 11                             830.577741   \n",
       "Patient 12                             336.776263   \n",
       "Patient 13                             389.544197   \n",
       "\n",
       "            original_glrlm_GrayLevelVariance  \\\n",
       "Patient 1                         113.189229   \n",
       "Patient 10                        139.164351   \n",
       "Patient 11                         15.102531   \n",
       "Patient 12                         35.013862   \n",
       "Patient 13                         47.911558   \n",
       "\n",
       "            original_glszm_LargeAreaHighGrayLevelEmphasis  \\\n",
       "Patient 1                                     39399.38790   \n",
       "Patient 10                                     9675.43765   \n",
       "Patient 11                                   479339.60330   \n",
       "Patient 12                                   117195.43570   \n",
       "Patient 13                                    21817.98713   \n",
       "\n",
       "            original_glszm_SizeZoneNonUniformityNormalized  \\\n",
       "Patient 1                                         0.389653   \n",
       "Patient 10                                        0.381291   \n",
       "Patient 11                                        0.309313   \n",
       "Patient 12                                        0.338525   \n",
       "Patient 13                                        0.355429   \n",
       "\n",
       "            original_glszm_ZoneEntropy  \\\n",
       "Patient 1                     7.223195   \n",
       "Patient 10                    7.360274   \n",
       "Patient 11                    6.792426   \n",
       "Patient 12                    6.830888   \n",
       "Patient 13                    7.073258   \n",
       "\n",
       "            original_gldm_LargeDependenceHighGrayLevelEmphasis  \\\n",
       "Patient 1                                         8102.702635    \n",
       "Patient 10                                        7684.496715    \n",
       "Patient 11                                        5000.201246    \n",
       "Patient 12                                        3882.806555    \n",
       "Patient 13                                        3633.545195    \n",
       "\n",
       "            original_ngtdm_Busyness  original_ngtdm_Contrast  \n",
       "Patient 1                  1.216115                 0.212995  \n",
       "Patient 10                 0.258613                 0.251278  \n",
       "Patient 11                 1.844096                 0.030869  \n",
       "Patient 12                 0.965982                 0.070645  \n",
       "Patient 13                 1.061602                 0.098498  \n",
       "\n",
       "[5 rows x 37 columns]"
      ]
     },
     "execution_count": 18,
     "metadata": {},
     "output_type": "execute_result"
    }
   ],
   "source": [
    "correlation_matrix = X.corr(method='pearson') \n",
    "X = remove_highly_corr_features(get_highly_corr_features(correlation_matrix), X) #  drop features whom collinearity > 0.9 \n",
    "X.head()\n"
   ]
  },
  {
   "cell_type": "code",
   "execution_count": 19,
   "metadata": {},
   "outputs": [],
   "source": [
    "features_list = X.columns"
   ]
  },
  {
   "cell_type": "markdown",
   "metadata": {},
   "source": [
    "## Keep only one outcome"
   ]
  },
  {
   "cell_type": "code",
   "execution_count": 20,
   "metadata": {},
   "outputs": [],
   "source": [
    "outcome = 'Décès'\n",
    "\n",
    "y_train = y_train.loc[:, [outcome]]\n",
    "y_val = y_val.loc[:, [outcome]]"
   ]
  },
  {
   "cell_type": "markdown",
   "metadata": {},
   "source": [
    "## Separate train and val in X"
   ]
  },
  {
   "cell_type": "code",
   "execution_count": 21,
   "metadata": {},
   "outputs": [],
   "source": [
    "X_train = X.drop(y_val.index)\n",
    "# drop from x_train the index that are not in y_train\n",
    "X_train = X_train.loc[X_train.index.isin(y_train.index)]\n",
    "X_val = X.loc[X.index.isin(y_val.index)] "
   ]
  },
  {
   "cell_type": "code",
   "execution_count": 22,
   "metadata": {},
   "outputs": [],
   "source": [
    "# reorganize y \n",
    "y_train = y_train.values.reshape(-1, 1).ravel() # to avoid errors\n",
    "y_val = y_val.values.reshape(-1, 1).ravel() # to avoid errors"
   ]
  },
  {
   "cell_type": "code",
   "execution_count": null,
   "metadata": {},
   "outputs": [],
   "source": [
    "assert len(X_train) == len(y_train), print(len(X_train), len(y_train))\n",
    "assert len(X_val) == len(y_val), print(len(X_val), len(y_val))"
   ]
  },
  {
   "cell_type": "markdown",
   "metadata": {},
   "source": [
    "## Normalization"
   ]
  },
  {
   "cell_type": "code",
   "execution_count": 24,
   "metadata": {},
   "outputs": [],
   "source": [
    "min_max_scaler = MinMaxScaler() # chi2 test does not work with negative values\n",
    "min_max_scaled_x_train = min_max_scaler.fit_transform(X_train)\n",
    "min_max_scaled_x_val = min_max_scaler.fit_transform(X_val)"
   ]
  },
  {
   "cell_type": "code",
   "execution_count": 25,
   "metadata": {},
   "outputs": [],
   "source": [
    "znorm_scaler = StandardScaler()\n",
    "znorm_scaled_x_train = znorm_scaler.fit_transform(X_train)\n",
    "znorm_scaled_x_val = znorm_scaler.fit_transform(X_val)"
   ]
  },
  {
   "cell_type": "markdown",
   "metadata": {},
   "source": [
    "# Feature selection"
   ]
  },
  {
   "cell_type": "code",
   "execution_count": 34,
   "metadata": {},
   "outputs": [],
   "source": [
    "max_features = 2"
   ]
  },
  {
   "cell_type": "markdown",
   "metadata": {},
   "source": [
    "## Random selection"
   ]
  },
  {
   "cell_type": "code",
   "execution_count": 42,
   "metadata": {},
   "outputs": [
    {
     "name": "stdout",
     "output_type": "stream",
     "text": [
      "Random selected features: ['original_firstorder_Entropy', 'original_shape_Elongation']\n"
     ]
    }
   ],
   "source": [
    "rdm_sel_features = random.sample(list(features_list), max_features)\n",
    "print('Random selected features:', rdm_sel_features)"
   ]
  },
  {
   "cell_type": "markdown",
   "metadata": {},
   "source": [
    "## ANOVA test"
   ]
  },
  {
   "cell_type": "code",
   "execution_count": 35,
   "metadata": {},
   "outputs": [],
   "source": [
    "selector = GenericUnivariateSelect(score_func=f_classif, mode='percentile', param=max_features+1) # param selects n-1 features\n",
    "\n",
    "X_selected = selector.fit_transform(znorm_scaled_x_train, y_train)\n",
    "\n",
    "anova_sel_features = selector.get_feature_names_out(features_list)"
   ]
  },
  {
   "cell_type": "code",
   "execution_count": 36,
   "metadata": {},
   "outputs": [
    {
     "name": "stdout",
     "output_type": "stream",
     "text": [
      "ANOVA selected features: ['original_shape_Sphericity' 'original_glcm_Idmn']\n"
     ]
    }
   ],
   "source": [
    "print('ANOVA selected features:', anova_sel_features)"
   ]
  },
  {
   "cell_type": "markdown",
   "metadata": {},
   "source": [
    "## LASSO"
   ]
  },
  {
   "cell_type": "code",
   "execution_count": 62,
   "metadata": {},
   "outputs": [],
   "source": [
    "param_grid = {'alpha' : list(np.arange(0.01, 0.11, 0.01))} # regularizer tuning\n",
    "estimator = Lasso(random_state=42) \n",
    "grid_lasso = sku.hyper_parameters_search(estimator, znorm_scaled_x_train, y_train, param_grid, scorer='f1', cv=5)"
   ]
  },
  {
   "cell_type": "code",
   "execution_count": 69,
   "metadata": {},
   "outputs": [
    {
     "name": "stdout",
     "output_type": "stream",
     "text": [
      "Lasso selected features: ['original_glszm_LargeAreaHighGrayLevelEmphasis', 'original_glcm_MCC']\n"
     ]
    }
   ],
   "source": [
    "lasso_sel_features = list(select_best_features(grid_lasso.best_estimator_.coef_, features_list, n_features=max_features).keys())\n",
    "print('Lasso selected features:', lasso_sel_features)"
   ]
  },
  {
   "cell_type": "markdown",
   "metadata": {},
   "source": [
    "# Predictions"
   ]
  },
  {
   "cell_type": "code",
   "execution_count": 43,
   "metadata": {},
   "outputs": [],
   "source": [
    "SCORER = 'f1'"
   ]
  },
  {
   "cell_type": "markdown",
   "metadata": {},
   "source": [
    "## Random Forest"
   ]
  },
  {
   "cell_type": "code",
   "execution_count": 71,
   "metadata": {},
   "outputs": [],
   "source": [
    "param_grid = {'max_depth': range(1, 21, 4), 'n_estimators' : range(25, 1001, 25)} # hyperparameters to search"
   ]
  },
  {
   "cell_type": "markdown",
   "metadata": {},
   "source": [
    "### W/ random selected features"
   ]
  },
  {
   "cell_type": "code",
   "execution_count": 53,
   "metadata": {},
   "outputs": [],
   "source": [
    "estimator = RandomForestClassifier(random_state=42) \n",
    "_, X_train_filtered, X_val_filtered = filter_dataset(X_train, X_val, rdm_sel_features, max_features, features_list)\n",
    "grid_rf = sku.hyper_parameters_search(estimator, X_train_filtered, y_train, param_grid, scorer=SCORER, cv=5) "
   ]
  },
  {
   "cell_type": "code",
   "execution_count": 54,
   "metadata": {},
   "outputs": [
    {
     "name": "stdout",
     "output_type": "stream",
     "text": [
      "PERFORMANCE METRICS\n",
      "\tTRAIN\tTEST\n",
      "ACC:\t100.00\t34.78\n",
      "SEN:\t100.00\t40.00\n",
      "SPE:\t100.00\t30.77\n",
      "PPV:\t100.00\t30.77\n",
      "F1:\t100.00\t34.78\n"
     ]
    },
    {
     "data": {
      "image/png": "[encoded data removed]",
      "text/plain": [
       "<Figure size 600x600 with 2 Axes>"
      ]
     },
     "metadata": {},
     "output_type": "display_data"
    },
    {
     "data": {
      "image/png": "[encoded data removed]",
      "text/plain": [
       "<Figure size 1200x400 with 2 Axes>"
      ]
     },
     "metadata": {},
     "output_type": "display_data"
    }
   ],
   "source": [
    "sku.analyze_train_test_performance(grid_rf.best_estimator_ , X_train_filtered, X_val_filtered, y_train, y_val)"
   ]
  },
  {
   "cell_type": "markdown",
   "metadata": {},
   "source": [
    "### W/ ANOVA selected features"
   ]
  },
  {
   "cell_type": "code",
   "execution_count": 51,
   "metadata": {},
   "outputs": [],
   "source": [
    "\n",
    "estimator = RandomForestClassifier(random_state=42) \n",
    "_, X_train_filtered, X_val_filtered = filter_dataset(X_train, X_val, anova_sel_features, max_features, features_list)\n",
    "grid_rf = sku.hyper_parameters_search(estimator, X_train_filtered, y_train, param_grid, scorer=SCORER, cv=5) "
   ]
  },
  {
   "cell_type": "code",
   "execution_count": 52,
   "metadata": {},
   "outputs": [
    {
     "name": "stdout",
     "output_type": "stream",
     "text": [
      "PERFORMANCE METRICS\n",
      "\tTRAIN\tTEST\n",
      "ACC:\t100.00\t56.52\n",
      "SEN:\t100.00\t40.00\n",
      "SPE:\t100.00\t69.23\n",
      "PPV:\t100.00\t50.00\n",
      "F1:\t100.00\t44.44\n"
     ]
    },
    {
     "data": {
      "image/png": "[encoded data removed]",
      "text/plain": [
       "<Figure size 600x600 with 2 Axes>"
      ]
     },
     "metadata": {},
     "output_type": "display_data"
    },
    {
     "data": {
      "image/png": "[encoded data removed]",
      "text/plain": [
       "<Figure size 1200x400 with 2 Axes>"
      ]
     },
     "metadata": {},
     "output_type": "display_data"
    }
   ],
   "source": [
    "sku.analyze_train_test_performance(grid_rf.best_estimator_ , X_train_filtered, X_val_filtered, y_train, y_val)"
   ]
  },
  {
   "cell_type": "markdown",
   "metadata": {},
   "source": [
    "### W/ Lasso selected features"
   ]
  },
  {
   "cell_type": "code",
   "execution_count": 72,
   "metadata": {},
   "outputs": [],
   "source": [
    "estimator = RandomForestClassifier(random_state=42) \n",
    "_, X_train_filtered, X_val_filtered = filter_dataset(X_train, X_val, lasso_sel_features, max_features, features_list)\n",
    "grid_rf = sku.hyper_parameters_search(estimator, X_train_filtered, y_train, param_grid, scorer=SCORER, cv=5) "
   ]
  },
  {
   "cell_type": "code",
   "execution_count": 73,
   "metadata": {},
   "outputs": [
    {
     "name": "stdout",
     "output_type": "stream",
     "text": [
      "PERFORMANCE METRICS\n",
      "\tTRAIN\tTEST\n",
      "ACC:\t100.00\t56.52\n",
      "SEN:\t100.00\t30.00\n",
      "SPE:\t100.00\t76.92\n",
      "PPV:\t100.00\t50.00\n",
      "F1:\t100.00\t37.50\n"
     ]
    },
    {
     "data": {
      "image/png": "[encoded data removed]",
      "text/plain": [
       "<Figure size 600x600 with 2 Axes>"
      ]
     },
     "metadata": {},
     "output_type": "display_data"
    },
    {
     "data": {
      "image/png": "[encoded data removed]",
      "text/plain": [
       "<Figure size 1200x400 with 2 Axes>"
      ]
     },
     "metadata": {},
     "output_type": "display_data"
    }
   ],
   "source": [
    "sku.analyze_train_test_performance(grid_rf.best_estimator_ , X_train_filtered, X_val_filtered, y_train, y_val)"
   ]
  }
 ],
 "metadata": {
  "kernelspec": {
   "display_name": "flothesis",
   "language": "python",
   "name": "python3"
  },
  "language_info": {
   "codemirror_mode": {
    "name": "ipython",
    "version": 3
   },
   "file_extension": ".py",
   "mimetype": "text/x-python",
   "name": "python",
   "nbconvert_exporter": "python",
   "pygments_lexer": "ipython3",
   "version": "3.8.20"
  }
 },
 "nbformat": 4,
 "nbformat_minor": 2
}
