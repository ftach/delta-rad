{
 "cells": [
  {
   "cell_type": "code",
   "execution_count": 2,
   "metadata": {},
   "outputs": [],
   "source": [
    "import pandas as pd \n",
    "import numpy as np \n",
    "import matplotlib.pyplot as plt "
   ]
  },
  {
   "cell_type": "markdown",
   "metadata": {},
   "source": [
    "# Get outcome dataframe"
   ]
  },
  {
   "cell_type": "code",
   "execution_count": 3,
   "metadata": {},
   "outputs": [
    {
     "name": "stdout",
     "output_type": "stream",
     "text": [
      "Index(['Liste recueil clinique', 'Date de recidive locale',\n",
      "       'Date de recidive méta'],\n",
      "      dtype='object')\n"
     ]
    },
    {
     "data": {
      "text/html": [
       "<div>\n",
       "<style scoped>\n",
       "    .dataframe tbody tr th:only-of-type {\n",
       "        vertical-align: middle;\n",
       "    }\n",
       "\n",
       "    .dataframe tbody tr th {\n",
       "        vertical-align: top;\n",
       "    }\n",
       "\n",
       "    .dataframe thead th {\n",
       "        text-align: right;\n",
       "    }\n",
       "</style>\n",
       "<table border=\"1\" class=\"dataframe\">\n",
       "  <thead>\n",
       "    <tr style=\"text-align: right;\">\n",
       "      <th></th>\n",
       "      <th>Liste recueil clinique</th>\n",
       "      <th>Date de recidive locale</th>\n",
       "      <th>Date de recidive méta</th>\n",
       "    </tr>\n",
       "  </thead>\n",
       "  <tbody>\n",
       "    <tr>\n",
       "      <th>9</th>\n",
       "      <td>1403778</td>\n",
       "      <td>NaN</td>\n",
       "      <td>2019-12-18 00:00:00</td>\n",
       "    </tr>\n",
       "    <tr>\n",
       "      <th>10</th>\n",
       "      <td>1906503</td>\n",
       "      <td>2020-07-01 00:00:00</td>\n",
       "      <td>2021-04-15 00:00:00</td>\n",
       "    </tr>\n",
       "    <tr>\n",
       "      <th>11</th>\n",
       "      <td>1904130</td>\n",
       "      <td>NaN</td>\n",
       "      <td>2020-09-18 00:00:00</td>\n",
       "    </tr>\n",
       "    <tr>\n",
       "      <th>12</th>\n",
       "      <td>1905976</td>\n",
       "      <td>NaN</td>\n",
       "      <td>2020-03-06 00:00:00</td>\n",
       "    </tr>\n",
       "    <tr>\n",
       "      <th>13</th>\n",
       "      <td>1907649</td>\n",
       "      <td>NaN</td>\n",
       "      <td>2020-04-30 00:00:00</td>\n",
       "    </tr>\n",
       "    <tr>\n",
       "      <th>14</th>\n",
       "      <td>1904380</td>\n",
       "      <td>2020-10-13 00:00:00</td>\n",
       "      <td>2020-11-23 00:00:00</td>\n",
       "    </tr>\n",
       "    <tr>\n",
       "      <th>15</th>\n",
       "      <td>1801184</td>\n",
       "      <td>NaN</td>\n",
       "      <td>NaN</td>\n",
       "    </tr>\n",
       "    <tr>\n",
       "      <th>16</th>\n",
       "      <td>1906208</td>\n",
       "      <td>NaN</td>\n",
       "      <td>2020-10-16 00:00:00</td>\n",
       "    </tr>\n",
       "    <tr>\n",
       "      <th>17</th>\n",
       "      <td>1907959</td>\n",
       "      <td>2020-03-05 00:00:00</td>\n",
       "      <td>2020-08-24 00:00:00</td>\n",
       "    </tr>\n",
       "    <tr>\n",
       "      <th>18</th>\n",
       "      <td>1908067</td>\n",
       "      <td>NaN</td>\n",
       "      <td>2020-05-14 00:00:00</td>\n",
       "    </tr>\n",
       "  </tbody>\n",
       "</table>\n",
       "</div>"
      ],
      "text/plain": [
       "   Liste recueil clinique Date de recidive locale Date de recidive méta\n",
       "9                 1403778                     NaN   2019-12-18 00:00:00\n",
       "10                1906503     2020-07-01 00:00:00   2021-04-15 00:00:00\n",
       "11                1904130                     NaN   2020-09-18 00:00:00\n",
       "12                1905976                     NaN   2020-03-06 00:00:00\n",
       "13                1907649                     NaN   2020-04-30 00:00:00\n",
       "14                1904380     2020-10-13 00:00:00   2020-11-23 00:00:00\n",
       "15                1801184                     NaN                   NaN\n",
       "16                1906208                     NaN   2020-10-16 00:00:00\n",
       "17                1907959     2020-03-05 00:00:00   2020-08-24 00:00:00\n",
       "18                1908067                     NaN   2020-05-14 00:00:00"
      ]
     },
     "execution_count": 3,
     "metadata": {},
     "output_type": "execute_result"
    }
   ],
   "source": [
    "outcome_xls = pd.ExcelFile(\"/mnt/c/Users/tachenne/delta-rad/Recueil clinique pancréas MRIdian.xls\") # if date de recidive locale et date de recidive meta vide \n",
    "last_sheet_name = outcome_xls.sheet_names[-1]\n",
    "\n",
    "# Lire la première feuille dans un DataFrame\n",
    "outcome_df = outcome_xls.parse(last_sheet_name)\n",
    "outcome_df = outcome_df.rename(columns={'Unnamed: 0': 'Liste recueil clinique', 'Unnamed: 4': 'Date de recidive locale',  'Unnamed: 6': 'Date de recidive méta'})\n",
    "outcome_df = outcome_df.loc[9:]\n",
    "outcome_df = outcome_df[['Liste recueil clinique', 'Date de recidive locale', 'Date de recidive méta']]\n",
    "print(outcome_df.columns)\n",
    "outcome_df.head(10)\n"
   ]
  },
  {
   "cell_type": "code",
   "execution_count": 4,
   "metadata": {},
   "outputs": [
    {
     "name": "stdout",
     "output_type": "stream",
     "text": [
      "9      True\n",
      "10     True\n",
      "11     True\n",
      "12     True\n",
      "13     True\n",
      "      ...  \n",
      "95    False\n",
      "96     True\n",
      "97    False\n",
      "98     True\n",
      "99     True\n",
      "Length: 91, dtype: bool\n"
     ]
    }
   ],
   "source": [
    "status = ~outcome_df['Date de recidive locale'].isnull() | ~outcome_df['Date de recidive méta'].isnull()\n",
    "print(status)\n"
   ]
  },
  {
   "cell_type": "code",
   "execution_count": 5,
   "metadata": {},
   "outputs": [
    {
     "data": {
      "text/html": [
       "<div>\n",
       "<style scoped>\n",
       "    .dataframe tbody tr th:only-of-type {\n",
       "        vertical-align: middle;\n",
       "    }\n",
       "\n",
       "    .dataframe tbody tr th {\n",
       "        vertical-align: top;\n",
       "    }\n",
       "\n",
       "    .dataframe thead th {\n",
       "        text-align: right;\n",
       "    }\n",
       "</style>\n",
       "<table border=\"1\" class=\"dataframe\">\n",
       "  <thead>\n",
       "    <tr style=\"text-align: right;\">\n",
       "      <th></th>\n",
       "      <th>Liste recueil clinique</th>\n",
       "      <th>Date de recidive locale</th>\n",
       "      <th>Date de recidive méta</th>\n",
       "      <th>Recurrence</th>\n",
       "    </tr>\n",
       "  </thead>\n",
       "  <tbody>\n",
       "    <tr>\n",
       "      <th>9</th>\n",
       "      <td>1403778</td>\n",
       "      <td>NaN</td>\n",
       "      <td>2019-12-18 00:00:00</td>\n",
       "      <td>True</td>\n",
       "    </tr>\n",
       "    <tr>\n",
       "      <th>10</th>\n",
       "      <td>1906503</td>\n",
       "      <td>2020-07-01 00:00:00</td>\n",
       "      <td>2021-04-15 00:00:00</td>\n",
       "      <td>True</td>\n",
       "    </tr>\n",
       "    <tr>\n",
       "      <th>11</th>\n",
       "      <td>1904130</td>\n",
       "      <td>NaN</td>\n",
       "      <td>2020-09-18 00:00:00</td>\n",
       "      <td>True</td>\n",
       "    </tr>\n",
       "    <tr>\n",
       "      <th>12</th>\n",
       "      <td>1905976</td>\n",
       "      <td>NaN</td>\n",
       "      <td>2020-03-06 00:00:00</td>\n",
       "      <td>True</td>\n",
       "    </tr>\n",
       "    <tr>\n",
       "      <th>13</th>\n",
       "      <td>1907649</td>\n",
       "      <td>NaN</td>\n",
       "      <td>2020-04-30 00:00:00</td>\n",
       "      <td>True</td>\n",
       "    </tr>\n",
       "    <tr>\n",
       "      <th>...</th>\n",
       "      <td>...</td>\n",
       "      <td>...</td>\n",
       "      <td>...</td>\n",
       "      <td>...</td>\n",
       "    </tr>\n",
       "    <tr>\n",
       "      <th>95</th>\n",
       "      <td>2204364</td>\n",
       "      <td>NaN</td>\n",
       "      <td>NaN</td>\n",
       "      <td>False</td>\n",
       "    </tr>\n",
       "    <tr>\n",
       "      <th>96</th>\n",
       "      <td>2201397</td>\n",
       "      <td>NaN</td>\n",
       "      <td>2022-09-27 00:00:00</td>\n",
       "      <td>True</td>\n",
       "    </tr>\n",
       "    <tr>\n",
       "      <th>97</th>\n",
       "      <td>2204013</td>\n",
       "      <td>NaN</td>\n",
       "      <td>NaN</td>\n",
       "      <td>False</td>\n",
       "    </tr>\n",
       "    <tr>\n",
       "      <th>98</th>\n",
       "      <td>2102092</td>\n",
       "      <td>2021-12-02 00:00:00</td>\n",
       "      <td>NaN</td>\n",
       "      <td>True</td>\n",
       "    </tr>\n",
       "    <tr>\n",
       "      <th>99</th>\n",
       "      <td>2002943</td>\n",
       "      <td>NaN</td>\n",
       "      <td>2021-10-18 00:00:00</td>\n",
       "      <td>True</td>\n",
       "    </tr>\n",
       "  </tbody>\n",
       "</table>\n",
       "<p>91 rows × 4 columns</p>\n",
       "</div>"
      ],
      "text/plain": [
       "   Liste recueil clinique Date de recidive locale Date de recidive méta  \\\n",
       "9                 1403778                     NaN   2019-12-18 00:00:00   \n",
       "10                1906503     2020-07-01 00:00:00   2021-04-15 00:00:00   \n",
       "11                1904130                     NaN   2020-09-18 00:00:00   \n",
       "12                1905976                     NaN   2020-03-06 00:00:00   \n",
       "13                1907649                     NaN   2020-04-30 00:00:00   \n",
       "..                    ...                     ...                   ...   \n",
       "95                2204364                     NaN                   NaN   \n",
       "96                2201397                     NaN   2022-09-27 00:00:00   \n",
       "97                2204013                     NaN                   NaN   \n",
       "98                2102092     2021-12-02 00:00:00                   NaN   \n",
       "99                2002943                     NaN   2021-10-18 00:00:00   \n",
       "\n",
       "    Recurrence  \n",
       "9         True  \n",
       "10        True  \n",
       "11        True  \n",
       "12        True  \n",
       "13        True  \n",
       "..         ...  \n",
       "95       False  \n",
       "96        True  \n",
       "97       False  \n",
       "98        True  \n",
       "99        True  \n",
       "\n",
       "[91 rows x 4 columns]"
      ]
     },
     "execution_count": 5,
     "metadata": {},
     "output_type": "execute_result"
    }
   ],
   "source": [
    "outcome_df.insert(loc=3, column='Recurrence', value=status)\n",
    "outcome_df"
   ]
  },
  {
   "cell_type": "code",
   "execution_count": 6,
   "metadata": {},
   "outputs": [
    {
     "name": "stdout",
     "output_type": "stream",
     "text": [
      "Longueur du fichier patient:  91\n"
     ]
    }
   ],
   "source": [
    "# get patient list file (only patient numbers and real ID ICM)\n",
    "patient_file = \"/mnt/c/Users/tachenne/delta-rad/Liste patients pancréas exports.xlsx\"\n",
    "patients_df = pd.read_excel(patient_file, index_col=0)\n",
    "patients_df = patients_df[['Liste recueil clinique']]\n",
    "patients_df.head()\n",
    "print(\"Longueur du fichier patient: \", patients_df.size)\n"
   ]
  },
  {
   "cell_type": "code",
   "execution_count": 7,
   "metadata": {},
   "outputs": [
    {
     "data": {
      "text/html": [
       "<div>\n",
       "<style scoped>\n",
       "    .dataframe tbody tr th:only-of-type {\n",
       "        vertical-align: middle;\n",
       "    }\n",
       "\n",
       "    .dataframe tbody tr th {\n",
       "        vertical-align: top;\n",
       "    }\n",
       "\n",
       "    .dataframe thead th {\n",
       "        text-align: right;\n",
       "    }\n",
       "</style>\n",
       "<table border=\"1\" class=\"dataframe\">\n",
       "  <thead>\n",
       "    <tr style=\"text-align: right;\">\n",
       "      <th></th>\n",
       "      <th>Liste recueil clinique</th>\n",
       "    </tr>\n",
       "  </thead>\n",
       "  <tbody>\n",
       "    <tr>\n",
       "      <th>Patient 1</th>\n",
       "      <td>1403778.0</td>\n",
       "    </tr>\n",
       "    <tr>\n",
       "      <th>Patient 2</th>\n",
       "      <td>1906503.0</td>\n",
       "    </tr>\n",
       "    <tr>\n",
       "      <th>Patient 3</th>\n",
       "      <td>1904130.0</td>\n",
       "    </tr>\n",
       "    <tr>\n",
       "      <th>Patient 4</th>\n",
       "      <td>1905976.0</td>\n",
       "    </tr>\n",
       "    <tr>\n",
       "      <th>Patient 5</th>\n",
       "      <td>1907649.0</td>\n",
       "    </tr>\n",
       "    <tr>\n",
       "      <th>...</th>\n",
       "      <td>...</td>\n",
       "    </tr>\n",
       "    <tr>\n",
       "      <th>NaN</th>\n",
       "      <td>2204364.0</td>\n",
       "    </tr>\n",
       "    <tr>\n",
       "      <th>NaN</th>\n",
       "      <td>2201397.0</td>\n",
       "    </tr>\n",
       "    <tr>\n",
       "      <th>NaN</th>\n",
       "      <td>2204013.0</td>\n",
       "    </tr>\n",
       "    <tr>\n",
       "      <th>NaN</th>\n",
       "      <td>2102092.0</td>\n",
       "    </tr>\n",
       "    <tr>\n",
       "      <th>NaN</th>\n",
       "      <td>2002943.0</td>\n",
       "    </tr>\n",
       "  </tbody>\n",
       "</table>\n",
       "<p>91 rows × 1 columns</p>\n",
       "</div>"
      ],
      "text/plain": [
       "           Liste recueil clinique\n",
       "Patient 1               1403778.0\n",
       "Patient 2               1906503.0\n",
       "Patient 3               1904130.0\n",
       "Patient 4               1905976.0\n",
       "Patient 5               1907649.0\n",
       "...                           ...\n",
       "NaN                     2204364.0\n",
       "NaN                     2201397.0\n",
       "NaN                     2204013.0\n",
       "NaN                     2102092.0\n",
       "NaN                     2002943.0\n",
       "\n",
       "[91 rows x 1 columns]"
      ]
     },
     "execution_count": 7,
     "metadata": {},
     "output_type": "execute_result"
    }
   ],
   "source": [
    "patients_df"
   ]
  },
  {
   "cell_type": "code",
   "execution_count": 8,
   "metadata": {},
   "outputs": [],
   "source": [
    "cleaned_outcome_df = outcome_df[outcome_df['Liste recueil clinique'] != 2003007]"
   ]
  },
  {
   "cell_type": "code",
   "execution_count": 9,
   "metadata": {},
   "outputs": [
    {
     "data": {
      "text/html": [
       "<div>\n",
       "<style scoped>\n",
       "    .dataframe tbody tr th:only-of-type {\n",
       "        vertical-align: middle;\n",
       "    }\n",
       "\n",
       "    .dataframe tbody tr th {\n",
       "        vertical-align: top;\n",
       "    }\n",
       "\n",
       "    .dataframe thead th {\n",
       "        text-align: right;\n",
       "    }\n",
       "</style>\n",
       "<table border=\"1\" class=\"dataframe\">\n",
       "  <thead>\n",
       "    <tr style=\"text-align: right;\">\n",
       "      <th></th>\n",
       "      <th>Liste recueil clinique</th>\n",
       "      <th>Date de recidive locale</th>\n",
       "      <th>Date de recidive méta</th>\n",
       "      <th>Recurrence</th>\n",
       "    </tr>\n",
       "  </thead>\n",
       "  <tbody>\n",
       "    <tr>\n",
       "      <th>9</th>\n",
       "      <td>1403778</td>\n",
       "      <td>NaN</td>\n",
       "      <td>2019-12-18 00:00:00</td>\n",
       "      <td>True</td>\n",
       "    </tr>\n",
       "    <tr>\n",
       "      <th>10</th>\n",
       "      <td>1906503</td>\n",
       "      <td>2020-07-01 00:00:00</td>\n",
       "      <td>2021-04-15 00:00:00</td>\n",
       "      <td>True</td>\n",
       "    </tr>\n",
       "    <tr>\n",
       "      <th>11</th>\n",
       "      <td>1904130</td>\n",
       "      <td>NaN</td>\n",
       "      <td>2020-09-18 00:00:00</td>\n",
       "      <td>True</td>\n",
       "    </tr>\n",
       "    <tr>\n",
       "      <th>12</th>\n",
       "      <td>1905976</td>\n",
       "      <td>NaN</td>\n",
       "      <td>2020-03-06 00:00:00</td>\n",
       "      <td>True</td>\n",
       "    </tr>\n",
       "    <tr>\n",
       "      <th>13</th>\n",
       "      <td>1907649</td>\n",
       "      <td>NaN</td>\n",
       "      <td>2020-04-30 00:00:00</td>\n",
       "      <td>True</td>\n",
       "    </tr>\n",
       "    <tr>\n",
       "      <th>...</th>\n",
       "      <td>...</td>\n",
       "      <td>...</td>\n",
       "      <td>...</td>\n",
       "      <td>...</td>\n",
       "    </tr>\n",
       "    <tr>\n",
       "      <th>90</th>\n",
       "      <td>2107222</td>\n",
       "      <td>NaN</td>\n",
       "      <td>2023-02-01 00:00:00</td>\n",
       "      <td>True</td>\n",
       "    </tr>\n",
       "    <tr>\n",
       "      <th>91</th>\n",
       "      <td>2107572</td>\n",
       "      <td>NaN</td>\n",
       "      <td>2022-09-24 00:00:00</td>\n",
       "      <td>True</td>\n",
       "    </tr>\n",
       "    <tr>\n",
       "      <th>92</th>\n",
       "      <td>2202953</td>\n",
       "      <td>2023-04-27 00:00:00</td>\n",
       "      <td>2023-04-27 00:00:00</td>\n",
       "      <td>True</td>\n",
       "    </tr>\n",
       "    <tr>\n",
       "      <th>93</th>\n",
       "      <td>0.601828</td>\n",
       "      <td>NaN</td>\n",
       "      <td>2022-12-05 00:00:00</td>\n",
       "      <td>True</td>\n",
       "    </tr>\n",
       "    <tr>\n",
       "      <th>94</th>\n",
       "      <td>1705579</td>\n",
       "      <td>NaN</td>\n",
       "      <td>NaN</td>\n",
       "      <td>False</td>\n",
       "    </tr>\n",
       "  </tbody>\n",
       "</table>\n",
       "<p>85 rows × 4 columns</p>\n",
       "</div>"
      ],
      "text/plain": [
       "   Liste recueil clinique Date de recidive locale Date de recidive méta  \\\n",
       "9                 1403778                     NaN   2019-12-18 00:00:00   \n",
       "10                1906503     2020-07-01 00:00:00   2021-04-15 00:00:00   \n",
       "11                1904130                     NaN   2020-09-18 00:00:00   \n",
       "12                1905976                     NaN   2020-03-06 00:00:00   \n",
       "13                1907649                     NaN   2020-04-30 00:00:00   \n",
       "..                    ...                     ...                   ...   \n",
       "90                2107222                     NaN   2023-02-01 00:00:00   \n",
       "91                2107572                     NaN   2022-09-24 00:00:00   \n",
       "92                2202953     2023-04-27 00:00:00   2023-04-27 00:00:00   \n",
       "93               0.601828                     NaN   2022-12-05 00:00:00   \n",
       "94                1705579                     NaN                   NaN   \n",
       "\n",
       "    Recurrence  \n",
       "9         True  \n",
       "10        True  \n",
       "11        True  \n",
       "12        True  \n",
       "13        True  \n",
       "..         ...  \n",
       "90        True  \n",
       "91        True  \n",
       "92        True  \n",
       "93        True  \n",
       "94       False  \n",
       "\n",
       "[85 rows x 4 columns]"
      ]
     },
     "execution_count": 9,
     "metadata": {},
     "output_type": "execute_result"
    }
   ],
   "source": [
    "cleaned_outcome_df = cleaned_outcome_df.iloc[: - 5]\n",
    "cleaned_outcome_df"
   ]
  },
  {
   "cell_type": "code",
   "execution_count": 10,
   "metadata": {},
   "outputs": [
    {
     "name": "stdout",
     "output_type": "stream",
     "text": [
      "Index([ 9, 10, 11, 12, 13, 14, 15, 16, 17, 18, 19, 20, 21, 22, 23, 24, 25, 26,\n",
      "       27, 28, 29, 30, 31, 32, 33, 34, 36, 37, 38, 39, 40, 41, 42, 43, 44, 45,\n",
      "       46, 47, 48, 49, 50, 51, 52, 53, 54, 55, 56, 57, 58, 59, 60, 61, 62, 63,\n",
      "       64, 65, 66, 67, 68, 69, 70, 71, 72, 73, 74, 75, 76, 77, 78, 79, 80, 81,\n",
      "       82, 83, 84, 85, 86, 87, 88, 89, 90, 91, 92, 93, 94],\n",
      "      dtype='int64')\n"
     ]
    }
   ],
   "source": [
    "print(cleaned_outcome_df.index)"
   ]
  },
  {
   "cell_type": "code",
   "execution_count": 11,
   "metadata": {},
   "outputs": [
    {
     "name": "stdout",
     "output_type": "stream",
     "text": [
      "[1, 2, 3, 4, 5, 6, 7, 8, 9, 10, 11, 12, 13, 14, 15, 16, 17, 18, 19, 20, 21, 22, 23, 24, 25, 26, 28, 29, 30, 31, 32, 33, 34, 35, 36, 37, 38, 39, 40, 41, 42, 43, 44, 45, 46, 47, 48, 49, 50, 51, 52, 53, 54, 55, 56, 57, 58, 59, 60, 61, 62, 63, 64, 65, 66, 67, 68, 69, 70, 71, 72, 73, 74, 75, 76, 77, 78, 79, 80, 81, 82, 83, 84, 85, 86]\n"
     ]
    }
   ],
   "source": [
    "new_indices = list(range(1, 87))  # De 1 à 85\n",
    "new_indices.remove(27)\n",
    "print(new_indices)"
   ]
  },
  {
   "cell_type": "code",
   "execution_count": 12,
   "metadata": {},
   "outputs": [
    {
     "data": {
      "text/plain": [
       "Liste recueil clinique                 2006974\n",
       "Date de recidive locale                    NaN\n",
       "Date de recidive méta      2021-08-24 00:00:00\n",
       "Recurrence                                True\n",
       "Name: 37, dtype: object"
      ]
     },
     "execution_count": 12,
     "metadata": {},
     "output_type": "execute_result"
    }
   ],
   "source": [
    "cleaned_outcome_df.iloc[27]"
   ]
  },
  {
   "cell_type": "code",
   "execution_count": 13,
   "metadata": {},
   "outputs": [
    {
     "data": {
      "text/html": [
       "<div>\n",
       "<style scoped>\n",
       "    .dataframe tbody tr th:only-of-type {\n",
       "        vertical-align: middle;\n",
       "    }\n",
       "\n",
       "    .dataframe tbody tr th {\n",
       "        vertical-align: top;\n",
       "    }\n",
       "\n",
       "    .dataframe thead th {\n",
       "        text-align: right;\n",
       "    }\n",
       "</style>\n",
       "<table border=\"1\" class=\"dataframe\">\n",
       "  <thead>\n",
       "    <tr style=\"text-align: right;\">\n",
       "      <th></th>\n",
       "      <th>Liste recueil clinique</th>\n",
       "      <th>Date de recidive locale</th>\n",
       "      <th>Date de recidive méta</th>\n",
       "      <th>Recurrence</th>\n",
       "    </tr>\n",
       "  </thead>\n",
       "  <tbody>\n",
       "    <tr>\n",
       "      <th>Patient 1</th>\n",
       "      <td>1403778</td>\n",
       "      <td>NaN</td>\n",
       "      <td>2019-12-18 00:00:00</td>\n",
       "      <td>True</td>\n",
       "    </tr>\n",
       "    <tr>\n",
       "      <th>Patient 2</th>\n",
       "      <td>1906503</td>\n",
       "      <td>2020-07-01 00:00:00</td>\n",
       "      <td>2021-04-15 00:00:00</td>\n",
       "      <td>True</td>\n",
       "    </tr>\n",
       "    <tr>\n",
       "      <th>Patient 3</th>\n",
       "      <td>1904130</td>\n",
       "      <td>NaN</td>\n",
       "      <td>2020-09-18 00:00:00</td>\n",
       "      <td>True</td>\n",
       "    </tr>\n",
       "    <tr>\n",
       "      <th>Patient 4</th>\n",
       "      <td>1905976</td>\n",
       "      <td>NaN</td>\n",
       "      <td>2020-03-06 00:00:00</td>\n",
       "      <td>True</td>\n",
       "    </tr>\n",
       "    <tr>\n",
       "      <th>Patient 5</th>\n",
       "      <td>1907649</td>\n",
       "      <td>NaN</td>\n",
       "      <td>2020-04-30 00:00:00</td>\n",
       "      <td>True</td>\n",
       "    </tr>\n",
       "    <tr>\n",
       "      <th>...</th>\n",
       "      <td>...</td>\n",
       "      <td>...</td>\n",
       "      <td>...</td>\n",
       "      <td>...</td>\n",
       "    </tr>\n",
       "    <tr>\n",
       "      <th>Patient 82</th>\n",
       "      <td>2107222</td>\n",
       "      <td>NaN</td>\n",
       "      <td>2023-02-01 00:00:00</td>\n",
       "      <td>True</td>\n",
       "    </tr>\n",
       "    <tr>\n",
       "      <th>Patient 83</th>\n",
       "      <td>2107572</td>\n",
       "      <td>NaN</td>\n",
       "      <td>2022-09-24 00:00:00</td>\n",
       "      <td>True</td>\n",
       "    </tr>\n",
       "    <tr>\n",
       "      <th>Patient 84</th>\n",
       "      <td>2202953</td>\n",
       "      <td>2023-04-27 00:00:00</td>\n",
       "      <td>2023-04-27 00:00:00</td>\n",
       "      <td>True</td>\n",
       "    </tr>\n",
       "    <tr>\n",
       "      <th>Patient 85</th>\n",
       "      <td>0.601828</td>\n",
       "      <td>NaN</td>\n",
       "      <td>2022-12-05 00:00:00</td>\n",
       "      <td>True</td>\n",
       "    </tr>\n",
       "    <tr>\n",
       "      <th>Patient 86</th>\n",
       "      <td>1705579</td>\n",
       "      <td>NaN</td>\n",
       "      <td>NaN</td>\n",
       "      <td>False</td>\n",
       "    </tr>\n",
       "  </tbody>\n",
       "</table>\n",
       "<p>85 rows × 4 columns</p>\n",
       "</div>"
      ],
      "text/plain": [
       "           Liste recueil clinique Date de recidive locale  \\\n",
       "Patient 1                 1403778                     NaN   \n",
       "Patient 2                 1906503     2020-07-01 00:00:00   \n",
       "Patient 3                 1904130                     NaN   \n",
       "Patient 4                 1905976                     NaN   \n",
       "Patient 5                 1907649                     NaN   \n",
       "...                           ...                     ...   \n",
       "Patient 82                2107222                     NaN   \n",
       "Patient 83                2107572                     NaN   \n",
       "Patient 84                2202953     2023-04-27 00:00:00   \n",
       "Patient 85               0.601828                     NaN   \n",
       "Patient 86                1705579                     NaN   \n",
       "\n",
       "           Date de recidive méta  Recurrence  \n",
       "Patient 1    2019-12-18 00:00:00        True  \n",
       "Patient 2    2021-04-15 00:00:00        True  \n",
       "Patient 3    2020-09-18 00:00:00        True  \n",
       "Patient 4    2020-03-06 00:00:00        True  \n",
       "Patient 5    2020-04-30 00:00:00        True  \n",
       "...                          ...         ...  \n",
       "Patient 82   2023-02-01 00:00:00        True  \n",
       "Patient 83   2022-09-24 00:00:00        True  \n",
       "Patient 84   2023-04-27 00:00:00        True  \n",
       "Patient 85   2022-12-05 00:00:00        True  \n",
       "Patient 86                   NaN       False  \n",
       "\n",
       "[85 rows x 4 columns]"
      ]
     },
     "execution_count": 13,
     "metadata": {},
     "output_type": "execute_result"
    }
   ],
   "source": [
    "cleaned_outcome_df.index = ['Patient ' + str(x) for x in new_indices]\n",
    "cleaned_outcome_df"
   ]
  },
  {
   "cell_type": "markdown",
   "metadata": {},
   "source": [
    "## Count number of recurrence True and false\n"
   ]
  },
  {
   "cell_type": "code",
   "execution_count": 14,
   "metadata": {},
   "outputs": [],
   "source": [
    "# Compter les occurrences de True\n",
    "true_rec_patients = cleaned_outcome_df[cleaned_outcome_df['Recurrence'] == True]\n",
    "\n",
    "# Compter les occurrences de False\n",
    "false_rec_patients = cleaned_outcome_df[cleaned_outcome_df['Recurrence'] == False]\n"
   ]
  },
  {
   "cell_type": "code",
   "execution_count": 15,
   "metadata": {},
   "outputs": [
    {
     "data": {
      "text/html": [
       "<div>\n",
       "<style scoped>\n",
       "    .dataframe tbody tr th:only-of-type {\n",
       "        vertical-align: middle;\n",
       "    }\n",
       "\n",
       "    .dataframe tbody tr th {\n",
       "        vertical-align: top;\n",
       "    }\n",
       "\n",
       "    .dataframe thead th {\n",
       "        text-align: right;\n",
       "    }\n",
       "</style>\n",
       "<table border=\"1\" class=\"dataframe\">\n",
       "  <thead>\n",
       "    <tr style=\"text-align: right;\">\n",
       "      <th></th>\n",
       "      <th>Liste recueil clinique</th>\n",
       "      <th>Date de recidive locale</th>\n",
       "      <th>Date de recidive méta</th>\n",
       "      <th>Recurrence</th>\n",
       "    </tr>\n",
       "  </thead>\n",
       "  <tbody>\n",
       "    <tr>\n",
       "      <th>Patient 1</th>\n",
       "      <td>1403778</td>\n",
       "      <td>NaN</td>\n",
       "      <td>2019-12-18 00:00:00</td>\n",
       "      <td>True</td>\n",
       "    </tr>\n",
       "    <tr>\n",
       "      <th>Patient 2</th>\n",
       "      <td>1906503</td>\n",
       "      <td>2020-07-01 00:00:00</td>\n",
       "      <td>2021-04-15 00:00:00</td>\n",
       "      <td>True</td>\n",
       "    </tr>\n",
       "    <tr>\n",
       "      <th>Patient 3</th>\n",
       "      <td>1904130</td>\n",
       "      <td>NaN</td>\n",
       "      <td>2020-09-18 00:00:00</td>\n",
       "      <td>True</td>\n",
       "    </tr>\n",
       "    <tr>\n",
       "      <th>Patient 4</th>\n",
       "      <td>1905976</td>\n",
       "      <td>NaN</td>\n",
       "      <td>2020-03-06 00:00:00</td>\n",
       "      <td>True</td>\n",
       "    </tr>\n",
       "    <tr>\n",
       "      <th>Patient 5</th>\n",
       "      <td>1907649</td>\n",
       "      <td>NaN</td>\n",
       "      <td>2020-04-30 00:00:00</td>\n",
       "      <td>True</td>\n",
       "    </tr>\n",
       "    <tr>\n",
       "      <th>...</th>\n",
       "      <td>...</td>\n",
       "      <td>...</td>\n",
       "      <td>...</td>\n",
       "      <td>...</td>\n",
       "    </tr>\n",
       "    <tr>\n",
       "      <th>Patient 80</th>\n",
       "      <td>1000305</td>\n",
       "      <td>2022-10-05 00:00:00</td>\n",
       "      <td>2022-10-05 00:00:00</td>\n",
       "      <td>True</td>\n",
       "    </tr>\n",
       "    <tr>\n",
       "      <th>Patient 82</th>\n",
       "      <td>2107222</td>\n",
       "      <td>NaN</td>\n",
       "      <td>2023-02-01 00:00:00</td>\n",
       "      <td>True</td>\n",
       "    </tr>\n",
       "    <tr>\n",
       "      <th>Patient 83</th>\n",
       "      <td>2107572</td>\n",
       "      <td>NaN</td>\n",
       "      <td>2022-09-24 00:00:00</td>\n",
       "      <td>True</td>\n",
       "    </tr>\n",
       "    <tr>\n",
       "      <th>Patient 84</th>\n",
       "      <td>2202953</td>\n",
       "      <td>2023-04-27 00:00:00</td>\n",
       "      <td>2023-04-27 00:00:00</td>\n",
       "      <td>True</td>\n",
       "    </tr>\n",
       "    <tr>\n",
       "      <th>Patient 85</th>\n",
       "      <td>0.601828</td>\n",
       "      <td>NaN</td>\n",
       "      <td>2022-12-05 00:00:00</td>\n",
       "      <td>True</td>\n",
       "    </tr>\n",
       "  </tbody>\n",
       "</table>\n",
       "<p>63 rows × 4 columns</p>\n",
       "</div>"
      ],
      "text/plain": [
       "           Liste recueil clinique Date de recidive locale  \\\n",
       "Patient 1                 1403778                     NaN   \n",
       "Patient 2                 1906503     2020-07-01 00:00:00   \n",
       "Patient 3                 1904130                     NaN   \n",
       "Patient 4                 1905976                     NaN   \n",
       "Patient 5                 1907649                     NaN   \n",
       "...                           ...                     ...   \n",
       "Patient 80                1000305     2022-10-05 00:00:00   \n",
       "Patient 82                2107222                     NaN   \n",
       "Patient 83                2107572                     NaN   \n",
       "Patient 84                2202953     2023-04-27 00:00:00   \n",
       "Patient 85               0.601828                     NaN   \n",
       "\n",
       "           Date de recidive méta  Recurrence  \n",
       "Patient 1    2019-12-18 00:00:00        True  \n",
       "Patient 2    2021-04-15 00:00:00        True  \n",
       "Patient 3    2020-09-18 00:00:00        True  \n",
       "Patient 4    2020-03-06 00:00:00        True  \n",
       "Patient 5    2020-04-30 00:00:00        True  \n",
       "...                          ...         ...  \n",
       "Patient 80   2022-10-05 00:00:00        True  \n",
       "Patient 82   2023-02-01 00:00:00        True  \n",
       "Patient 83   2022-09-24 00:00:00        True  \n",
       "Patient 84   2023-04-27 00:00:00        True  \n",
       "Patient 85   2022-12-05 00:00:00        True  \n",
       "\n",
       "[63 rows x 4 columns]"
      ]
     },
     "execution_count": 15,
     "metadata": {},
     "output_type": "execute_result"
    }
   ],
   "source": [
    "true_rec_patients"
   ]
  },
  {
   "cell_type": "code",
   "execution_count": 16,
   "metadata": {},
   "outputs": [
    {
     "data": {
      "text/html": [
       "<div>\n",
       "<style scoped>\n",
       "    .dataframe tbody tr th:only-of-type {\n",
       "        vertical-align: middle;\n",
       "    }\n",
       "\n",
       "    .dataframe tbody tr th {\n",
       "        vertical-align: top;\n",
       "    }\n",
       "\n",
       "    .dataframe thead th {\n",
       "        text-align: right;\n",
       "    }\n",
       "</style>\n",
       "<table border=\"1\" class=\"dataframe\">\n",
       "  <thead>\n",
       "    <tr style=\"text-align: right;\">\n",
       "      <th></th>\n",
       "      <th>Liste recueil clinique</th>\n",
       "      <th>Date de recidive locale</th>\n",
       "      <th>Date de recidive méta</th>\n",
       "      <th>Recurrence</th>\n",
       "    </tr>\n",
       "  </thead>\n",
       "  <tbody>\n",
       "    <tr>\n",
       "      <th>Patient 7</th>\n",
       "      <td>1801184</td>\n",
       "      <td>NaN</td>\n",
       "      <td>NaN</td>\n",
       "      <td>False</td>\n",
       "    </tr>\n",
       "    <tr>\n",
       "      <th>Patient 12</th>\n",
       "      <td>1906566</td>\n",
       "      <td>NaN</td>\n",
       "      <td>NaN</td>\n",
       "      <td>False</td>\n",
       "    </tr>\n",
       "    <tr>\n",
       "      <th>Patient 16</th>\n",
       "      <td>1104589</td>\n",
       "      <td>NaN</td>\n",
       "      <td>NaN</td>\n",
       "      <td>False</td>\n",
       "    </tr>\n",
       "    <tr>\n",
       "      <th>Patient 20</th>\n",
       "      <td>2000339</td>\n",
       "      <td>NaN</td>\n",
       "      <td>NaN</td>\n",
       "      <td>False</td>\n",
       "    </tr>\n",
       "    <tr>\n",
       "      <th>Patient 23</th>\n",
       "      <td>2003554</td>\n",
       "      <td>NaN</td>\n",
       "      <td>NaN</td>\n",
       "      <td>False</td>\n",
       "    </tr>\n",
       "    <tr>\n",
       "      <th>Patient 28</th>\n",
       "      <td>2005140</td>\n",
       "      <td>NaN</td>\n",
       "      <td>NaN</td>\n",
       "      <td>False</td>\n",
       "    </tr>\n",
       "    <tr>\n",
       "      <th>Patient 30</th>\n",
       "      <td>2006179</td>\n",
       "      <td>NaN</td>\n",
       "      <td>NaN</td>\n",
       "      <td>False</td>\n",
       "    </tr>\n",
       "    <tr>\n",
       "      <th>Patient 40</th>\n",
       "      <td>2101761</td>\n",
       "      <td>NaN</td>\n",
       "      <td>NaN</td>\n",
       "      <td>False</td>\n",
       "    </tr>\n",
       "    <tr>\n",
       "      <th>Patient 42</th>\n",
       "      <td>2007413</td>\n",
       "      <td>NaN</td>\n",
       "      <td>NaN</td>\n",
       "      <td>False</td>\n",
       "    </tr>\n",
       "    <tr>\n",
       "      <th>Patient 43</th>\n",
       "      <td>2102231</td>\n",
       "      <td>NaN</td>\n",
       "      <td>NaN</td>\n",
       "      <td>False</td>\n",
       "    </tr>\n",
       "    <tr>\n",
       "      <th>Patient 44</th>\n",
       "      <td>2100081</td>\n",
       "      <td>NaN</td>\n",
       "      <td>NaN</td>\n",
       "      <td>False</td>\n",
       "    </tr>\n",
       "    <tr>\n",
       "      <th>Patient 54</th>\n",
       "      <td>8203368</td>\n",
       "      <td>NaN</td>\n",
       "      <td>NaN</td>\n",
       "      <td>False</td>\n",
       "    </tr>\n",
       "    <tr>\n",
       "      <th>Patient 57</th>\n",
       "      <td>2105860</td>\n",
       "      <td>NaN</td>\n",
       "      <td>NaN</td>\n",
       "      <td>False</td>\n",
       "    </tr>\n",
       "    <tr>\n",
       "      <th>Patient 58</th>\n",
       "      <td>2106028</td>\n",
       "      <td>NaN</td>\n",
       "      <td>NaN</td>\n",
       "      <td>False</td>\n",
       "    </tr>\n",
       "    <tr>\n",
       "      <th>Patient 61</th>\n",
       "      <td>2102564</td>\n",
       "      <td>NaN</td>\n",
       "      <td>NaN</td>\n",
       "      <td>False</td>\n",
       "    </tr>\n",
       "    <tr>\n",
       "      <th>Patient 62</th>\n",
       "      <td>2104368</td>\n",
       "      <td>NaN</td>\n",
       "      <td>NaN</td>\n",
       "      <td>False</td>\n",
       "    </tr>\n",
       "    <tr>\n",
       "      <th>Patient 65</th>\n",
       "      <td>2106945</td>\n",
       "      <td>NaN</td>\n",
       "      <td>NaN</td>\n",
       "      <td>False</td>\n",
       "    </tr>\n",
       "    <tr>\n",
       "      <th>Patient 66</th>\n",
       "      <td>2106748</td>\n",
       "      <td>NaN</td>\n",
       "      <td>NaN</td>\n",
       "      <td>False</td>\n",
       "    </tr>\n",
       "    <tr>\n",
       "      <th>Patient 75</th>\n",
       "      <td>2100755</td>\n",
       "      <td>NaN</td>\n",
       "      <td>NaN</td>\n",
       "      <td>False</td>\n",
       "    </tr>\n",
       "    <tr>\n",
       "      <th>Patient 77</th>\n",
       "      <td>0.400444</td>\n",
       "      <td>NaN</td>\n",
       "      <td>NaN</td>\n",
       "      <td>False</td>\n",
       "    </tr>\n",
       "    <tr>\n",
       "      <th>Patient 81</th>\n",
       "      <td>2202779</td>\n",
       "      <td>NaN</td>\n",
       "      <td>NaN</td>\n",
       "      <td>False</td>\n",
       "    </tr>\n",
       "    <tr>\n",
       "      <th>Patient 86</th>\n",
       "      <td>1705579</td>\n",
       "      <td>NaN</td>\n",
       "      <td>NaN</td>\n",
       "      <td>False</td>\n",
       "    </tr>\n",
       "  </tbody>\n",
       "</table>\n",
       "</div>"
      ],
      "text/plain": [
       "           Liste recueil clinique Date de recidive locale  \\\n",
       "Patient 7                 1801184                     NaN   \n",
       "Patient 12                1906566                     NaN   \n",
       "Patient 16                1104589                     NaN   \n",
       "Patient 20                2000339                     NaN   \n",
       "Patient 23                2003554                     NaN   \n",
       "Patient 28                2005140                     NaN   \n",
       "Patient 30                2006179                     NaN   \n",
       "Patient 40                2101761                     NaN   \n",
       "Patient 42                2007413                     NaN   \n",
       "Patient 43                2102231                     NaN   \n",
       "Patient 44                2100081                     NaN   \n",
       "Patient 54                8203368                     NaN   \n",
       "Patient 57                2105860                     NaN   \n",
       "Patient 58                2106028                     NaN   \n",
       "Patient 61                2102564                     NaN   \n",
       "Patient 62                2104368                     NaN   \n",
       "Patient 65                2106945                     NaN   \n",
       "Patient 66                2106748                     NaN   \n",
       "Patient 75                2100755                     NaN   \n",
       "Patient 77               0.400444                     NaN   \n",
       "Patient 81                2202779                     NaN   \n",
       "Patient 86                1705579                     NaN   \n",
       "\n",
       "           Date de recidive méta  Recurrence  \n",
       "Patient 7                    NaN       False  \n",
       "Patient 12                   NaN       False  \n",
       "Patient 16                   NaN       False  \n",
       "Patient 20                   NaN       False  \n",
       "Patient 23                   NaN       False  \n",
       "Patient 28                   NaN       False  \n",
       "Patient 30                   NaN       False  \n",
       "Patient 40                   NaN       False  \n",
       "Patient 42                   NaN       False  \n",
       "Patient 43                   NaN       False  \n",
       "Patient 44                   NaN       False  \n",
       "Patient 54                   NaN       False  \n",
       "Patient 57                   NaN       False  \n",
       "Patient 58                   NaN       False  \n",
       "Patient 61                   NaN       False  \n",
       "Patient 62                   NaN       False  \n",
       "Patient 65                   NaN       False  \n",
       "Patient 66                   NaN       False  \n",
       "Patient 75                   NaN       False  \n",
       "Patient 77                   NaN       False  \n",
       "Patient 81                   NaN       False  \n",
       "Patient 86                   NaN       False  "
      ]
     },
     "execution_count": 16,
     "metadata": {},
     "output_type": "execute_result"
    }
   ],
   "source": [
    "false_rec_patients"
   ]
  },
  {
   "cell_type": "markdown",
   "metadata": {},
   "source": [
    "## Check that true rec not in false rec patients and the reverse "
   ]
  },
  {
   "cell_type": "code",
   "execution_count": 17,
   "metadata": {},
   "outputs": [
    {
     "name": "stdout",
     "output_type": "stream",
     "text": [
      "\n",
      "Vérification détaillée :\n",
      "Vérification terminée. \n"
     ]
    }
   ],
   "source": [
    "print(\"\\nVérification détaillée :\")\n",
    "for index in cleaned_outcome_df.index:\n",
    "    if cleaned_outcome_df.loc[index, 'Recurrence']:\n",
    "        assert cleaned_outcome_df.loc[index, 'Recurrence'], f\"Erreur: Patient {index} avec Recurrence=True est dans les patients avec Recurrence=False\"\n",
    "    else:\n",
    "        assert not cleaned_outcome_df.loc[index, 'Recurrence'], f\"Erreur: Patient {index} avec Recurrence=False est dans les patients avec Recurrence=True\"\n",
    "print(\"Vérification terminée. \")\n"
   ]
  },
  {
   "cell_type": "markdown",
   "metadata": {},
   "source": [
    "## Separate train and validation data\n",
    "We need 30% of the patients for validation. But we are not going to sample them randomly but we want to keep the same recurrence (false/true) distribution. "
   ]
  },
  {
   "cell_type": "code",
   "execution_count": 18,
   "metadata": {},
   "outputs": [
    {
     "name": "stdout",
     "output_type": "stream",
     "text": [
      "19 6 25\n"
     ]
    }
   ],
   "source": [
    "val_coef = 0.3\n",
    "true_val_size = 19\n",
    "false_val_size = 6\n",
    "print(true_val_size, false_val_size, int(val_coef*len(cleaned_outcome_df)))\n",
    "assert true_val_size + false_val_size == int(val_coef*len(cleaned_outcome_df)), \"Error\"\n"
   ]
  },
  {
   "cell_type": "code",
   "execution_count": 19,
   "metadata": {},
   "outputs": [
    {
     "data": {
      "text/html": [
       "<div>\n",
       "<style scoped>\n",
       "    .dataframe tbody tr th:only-of-type {\n",
       "        vertical-align: middle;\n",
       "    }\n",
       "\n",
       "    .dataframe tbody tr th {\n",
       "        vertical-align: top;\n",
       "    }\n",
       "\n",
       "    .dataframe thead th {\n",
       "        text-align: right;\n",
       "    }\n",
       "</style>\n",
       "<table border=\"1\" class=\"dataframe\">\n",
       "  <thead>\n",
       "    <tr style=\"text-align: right;\">\n",
       "      <th></th>\n",
       "      <th>Liste recueil clinique</th>\n",
       "      <th>Date de recidive locale</th>\n",
       "      <th>Date de recidive méta</th>\n",
       "      <th>Recurrence</th>\n",
       "    </tr>\n",
       "  </thead>\n",
       "  <tbody>\n",
       "    <tr>\n",
       "      <th>Patient 84</th>\n",
       "      <td>2202953</td>\n",
       "      <td>2023-04-27 00:00:00</td>\n",
       "      <td>2023-04-27 00:00:00</td>\n",
       "      <td>True</td>\n",
       "    </tr>\n",
       "    <tr>\n",
       "      <th>Patient 79</th>\n",
       "      <td>2200671</td>\n",
       "      <td>2022-11-14 00:00:00</td>\n",
       "      <td>NaN</td>\n",
       "      <td>True</td>\n",
       "    </tr>\n",
       "    <tr>\n",
       "      <th>Patient 1</th>\n",
       "      <td>1403778</td>\n",
       "      <td>NaN</td>\n",
       "      <td>2019-12-18 00:00:00</td>\n",
       "      <td>True</td>\n",
       "    </tr>\n",
       "    <tr>\n",
       "      <th>Patient 59</th>\n",
       "      <td>2106453</td>\n",
       "      <td>NaN</td>\n",
       "      <td>2022-02-22 00:00:00</td>\n",
       "      <td>True</td>\n",
       "    </tr>\n",
       "    <tr>\n",
       "      <th>Patient 6</th>\n",
       "      <td>1904380</td>\n",
       "      <td>2020-10-13 00:00:00</td>\n",
       "      <td>2020-11-23 00:00:00</td>\n",
       "      <td>True</td>\n",
       "    </tr>\n",
       "    <tr>\n",
       "      <th>Patient 49</th>\n",
       "      <td>2103912</td>\n",
       "      <td>NaN</td>\n",
       "      <td>2022-10-31 00:00:00</td>\n",
       "      <td>True</td>\n",
       "    </tr>\n",
       "    <tr>\n",
       "      <th>Patient 21</th>\n",
       "      <td>9802362</td>\n",
       "      <td>NaN</td>\n",
       "      <td>2021-07-05 00:00:00</td>\n",
       "      <td>True</td>\n",
       "    </tr>\n",
       "    <tr>\n",
       "      <th>Patient 15</th>\n",
       "      <td>1908485</td>\n",
       "      <td>NaN</td>\n",
       "      <td>2020-05-20 00:00:00</td>\n",
       "      <td>True</td>\n",
       "    </tr>\n",
       "    <tr>\n",
       "      <th>Patient 34</th>\n",
       "      <td>2007805</td>\n",
       "      <td>NaN</td>\n",
       "      <td>2021-12-01 00:00:00</td>\n",
       "      <td>True</td>\n",
       "    </tr>\n",
       "    <tr>\n",
       "      <th>Patient 83</th>\n",
       "      <td>2107572</td>\n",
       "      <td>NaN</td>\n",
       "      <td>2022-09-24 00:00:00</td>\n",
       "      <td>True</td>\n",
       "    </tr>\n",
       "    <tr>\n",
       "      <th>Patient 76</th>\n",
       "      <td>2107193</td>\n",
       "      <td>2022-11-03 00:00:00</td>\n",
       "      <td>2022-07-28 00:00:00</td>\n",
       "      <td>True</td>\n",
       "    </tr>\n",
       "    <tr>\n",
       "      <th>Patient 11</th>\n",
       "      <td>1602382</td>\n",
       "      <td>NaN</td>\n",
       "      <td>2020-05-25 00:00:00</td>\n",
       "      <td>True</td>\n",
       "    </tr>\n",
       "    <tr>\n",
       "      <th>Patient 53</th>\n",
       "      <td>1906664</td>\n",
       "      <td>NaN</td>\n",
       "      <td>2021-10-26 00:00:00</td>\n",
       "      <td>True</td>\n",
       "    </tr>\n",
       "    <tr>\n",
       "      <th>Patient 17</th>\n",
       "      <td>2001637</td>\n",
       "      <td>NaN</td>\n",
       "      <td>2021-10-26 00:00:00</td>\n",
       "      <td>True</td>\n",
       "    </tr>\n",
       "    <tr>\n",
       "      <th>Patient 47</th>\n",
       "      <td>2103697</td>\n",
       "      <td>NaN</td>\n",
       "      <td>2022-06-22 00:00:00</td>\n",
       "      <td>True</td>\n",
       "    </tr>\n",
       "    <tr>\n",
       "      <th>Patient 69</th>\n",
       "      <td>2107466</td>\n",
       "      <td>NaN</td>\n",
       "      <td>2022-02-08 00:00:00</td>\n",
       "      <td>True</td>\n",
       "    </tr>\n",
       "    <tr>\n",
       "      <th>Patient 4</th>\n",
       "      <td>1905976</td>\n",
       "      <td>NaN</td>\n",
       "      <td>2020-03-06 00:00:00</td>\n",
       "      <td>True</td>\n",
       "    </tr>\n",
       "    <tr>\n",
       "      <th>Patient 22</th>\n",
       "      <td>2003199</td>\n",
       "      <td>NaN</td>\n",
       "      <td>2021-08-04 00:00:00</td>\n",
       "      <td>True</td>\n",
       "    </tr>\n",
       "    <tr>\n",
       "      <th>Patient 68</th>\n",
       "      <td>2105173</td>\n",
       "      <td>2022-11-18 00:00:00</td>\n",
       "      <td>NaN</td>\n",
       "      <td>True</td>\n",
       "    </tr>\n",
       "  </tbody>\n",
       "</table>\n",
       "</div>"
      ],
      "text/plain": [
       "           Liste recueil clinique Date de recidive locale  \\\n",
       "Patient 84                2202953     2023-04-27 00:00:00   \n",
       "Patient 79                2200671     2022-11-14 00:00:00   \n",
       "Patient 1                 1403778                     NaN   \n",
       "Patient 59                2106453                     NaN   \n",
       "Patient 6                 1904380     2020-10-13 00:00:00   \n",
       "Patient 49                2103912                     NaN   \n",
       "Patient 21                9802362                     NaN   \n",
       "Patient 15                1908485                     NaN   \n",
       "Patient 34                2007805                     NaN   \n",
       "Patient 83                2107572                     NaN   \n",
       "Patient 76                2107193     2022-11-03 00:00:00   \n",
       "Patient 11                1602382                     NaN   \n",
       "Patient 53                1906664                     NaN   \n",
       "Patient 17                2001637                     NaN   \n",
       "Patient 47                2103697                     NaN   \n",
       "Patient 69                2107466                     NaN   \n",
       "Patient 4                 1905976                     NaN   \n",
       "Patient 22                2003199                     NaN   \n",
       "Patient 68                2105173     2022-11-18 00:00:00   \n",
       "\n",
       "           Date de recidive méta  Recurrence  \n",
       "Patient 84   2023-04-27 00:00:00        True  \n",
       "Patient 79                   NaN        True  \n",
       "Patient 1    2019-12-18 00:00:00        True  \n",
       "Patient 59   2022-02-22 00:00:00        True  \n",
       "Patient 6    2020-11-23 00:00:00        True  \n",
       "Patient 49   2022-10-31 00:00:00        True  \n",
       "Patient 21   2021-07-05 00:00:00        True  \n",
       "Patient 15   2020-05-20 00:00:00        True  \n",
       "Patient 34   2021-12-01 00:00:00        True  \n",
       "Patient 83   2022-09-24 00:00:00        True  \n",
       "Patient 76   2022-07-28 00:00:00        True  \n",
       "Patient 11   2020-05-25 00:00:00        True  \n",
       "Patient 53   2021-10-26 00:00:00        True  \n",
       "Patient 17   2021-10-26 00:00:00        True  \n",
       "Patient 47   2022-06-22 00:00:00        True  \n",
       "Patient 69   2022-02-08 00:00:00        True  \n",
       "Patient 4    2020-03-06 00:00:00        True  \n",
       "Patient 22   2021-08-04 00:00:00        True  \n",
       "Patient 68                   NaN        True  "
      ]
     },
     "execution_count": 19,
     "metadata": {},
     "output_type": "execute_result"
    }
   ],
   "source": [
    "true_rec_val_patients = true_rec_patients.sample(n=true_val_size, random_state=42) # extract true recurrence patients for validation from true recurrence patients\n",
    "true_rec_val_patients\n"
   ]
  },
  {
   "cell_type": "code",
   "execution_count": 20,
   "metadata": {},
   "outputs": [
    {
     "data": {
      "text/html": [
       "<div>\n",
       "<style scoped>\n",
       "    .dataframe tbody tr th:only-of-type {\n",
       "        vertical-align: middle;\n",
       "    }\n",
       "\n",
       "    .dataframe tbody tr th {\n",
       "        vertical-align: top;\n",
       "    }\n",
       "\n",
       "    .dataframe thead th {\n",
       "        text-align: right;\n",
       "    }\n",
       "</style>\n",
       "<table border=\"1\" class=\"dataframe\">\n",
       "  <thead>\n",
       "    <tr style=\"text-align: right;\">\n",
       "      <th></th>\n",
       "      <th>Liste recueil clinique</th>\n",
       "      <th>Date de recidive locale</th>\n",
       "      <th>Date de recidive méta</th>\n",
       "      <th>Recurrence</th>\n",
       "    </tr>\n",
       "  </thead>\n",
       "  <tbody>\n",
       "    <tr>\n",
       "      <th>Patient 2</th>\n",
       "      <td>1906503</td>\n",
       "      <td>2020-07-01 00:00:00</td>\n",
       "      <td>2021-04-15 00:00:00</td>\n",
       "      <td>True</td>\n",
       "    </tr>\n",
       "    <tr>\n",
       "      <th>Patient 3</th>\n",
       "      <td>1904130</td>\n",
       "      <td>NaN</td>\n",
       "      <td>2020-09-18 00:00:00</td>\n",
       "      <td>True</td>\n",
       "    </tr>\n",
       "    <tr>\n",
       "      <th>Patient 5</th>\n",
       "      <td>1907649</td>\n",
       "      <td>NaN</td>\n",
       "      <td>2020-04-30 00:00:00</td>\n",
       "      <td>True</td>\n",
       "    </tr>\n",
       "    <tr>\n",
       "      <th>Patient 8</th>\n",
       "      <td>1906208</td>\n",
       "      <td>NaN</td>\n",
       "      <td>2020-10-16 00:00:00</td>\n",
       "      <td>True</td>\n",
       "    </tr>\n",
       "    <tr>\n",
       "      <th>Patient 9</th>\n",
       "      <td>1907959</td>\n",
       "      <td>2020-03-05 00:00:00</td>\n",
       "      <td>2020-08-24 00:00:00</td>\n",
       "      <td>True</td>\n",
       "    </tr>\n",
       "  </tbody>\n",
       "</table>\n",
       "</div>"
      ],
      "text/plain": [
       "          Liste recueil clinique Date de recidive locale  \\\n",
       "Patient 2                1906503     2020-07-01 00:00:00   \n",
       "Patient 3                1904130                     NaN   \n",
       "Patient 5                1907649                     NaN   \n",
       "Patient 8                1906208                     NaN   \n",
       "Patient 9                1907959     2020-03-05 00:00:00   \n",
       "\n",
       "          Date de recidive méta  Recurrence  \n",
       "Patient 2   2021-04-15 00:00:00        True  \n",
       "Patient 3   2020-09-18 00:00:00        True  \n",
       "Patient 5   2020-04-30 00:00:00        True  \n",
       "Patient 8   2020-10-16 00:00:00        True  \n",
       "Patient 9   2020-08-24 00:00:00        True  "
      ]
     },
     "execution_count": 20,
     "metadata": {},
     "output_type": "execute_result"
    }
   ],
   "source": [
    "true_rec_train_patients = true_rec_patients.drop(true_rec_val_patients.index)\n",
    "true_rec_train_patients.head()"
   ]
  },
  {
   "cell_type": "code",
   "execution_count": 21,
   "metadata": {},
   "outputs": [
    {
     "name": "stdout",
     "output_type": "stream",
     "text": [
      "63 patients that did not repond to RT (had recurrence)\n"
     ]
    }
   ],
   "source": [
    "print(len(true_rec_train_patients) + len(true_rec_val_patients), \"patients that did not repond to RT (had recurrence)\")"
   ]
  },
  {
   "cell_type": "code",
   "execution_count": 22,
   "metadata": {},
   "outputs": [
    {
     "data": {
      "text/html": [
       "<div>\n",
       "<style scoped>\n",
       "    .dataframe tbody tr th:only-of-type {\n",
       "        vertical-align: middle;\n",
       "    }\n",
       "\n",
       "    .dataframe tbody tr th {\n",
       "        vertical-align: top;\n",
       "    }\n",
       "\n",
       "    .dataframe thead th {\n",
       "        text-align: right;\n",
       "    }\n",
       "</style>\n",
       "<table border=\"1\" class=\"dataframe\">\n",
       "  <thead>\n",
       "    <tr style=\"text-align: right;\">\n",
       "      <th></th>\n",
       "      <th>Liste recueil clinique</th>\n",
       "      <th>Date de recidive locale</th>\n",
       "      <th>Date de recidive méta</th>\n",
       "      <th>Recurrence</th>\n",
       "    </tr>\n",
       "  </thead>\n",
       "  <tbody>\n",
       "    <tr>\n",
       "      <th>Patient 7</th>\n",
       "      <td>1801184</td>\n",
       "      <td>NaN</td>\n",
       "      <td>NaN</td>\n",
       "      <td>False</td>\n",
       "    </tr>\n",
       "    <tr>\n",
       "      <th>Patient 58</th>\n",
       "      <td>2106028</td>\n",
       "      <td>NaN</td>\n",
       "      <td>NaN</td>\n",
       "      <td>False</td>\n",
       "    </tr>\n",
       "    <tr>\n",
       "      <th>Patient 42</th>\n",
       "      <td>2007413</td>\n",
       "      <td>NaN</td>\n",
       "      <td>NaN</td>\n",
       "      <td>False</td>\n",
       "    </tr>\n",
       "    <tr>\n",
       "      <th>Patient 12</th>\n",
       "      <td>1906566</td>\n",
       "      <td>NaN</td>\n",
       "      <td>NaN</td>\n",
       "      <td>False</td>\n",
       "    </tr>\n",
       "    <tr>\n",
       "      <th>Patient 62</th>\n",
       "      <td>2104368</td>\n",
       "      <td>NaN</td>\n",
       "      <td>NaN</td>\n",
       "      <td>False</td>\n",
       "    </tr>\n",
       "    <tr>\n",
       "      <th>Patient 28</th>\n",
       "      <td>2005140</td>\n",
       "      <td>NaN</td>\n",
       "      <td>NaN</td>\n",
       "      <td>False</td>\n",
       "    </tr>\n",
       "  </tbody>\n",
       "</table>\n",
       "</div>"
      ],
      "text/plain": [
       "           Liste recueil clinique Date de recidive locale  \\\n",
       "Patient 7                 1801184                     NaN   \n",
       "Patient 58                2106028                     NaN   \n",
       "Patient 42                2007413                     NaN   \n",
       "Patient 12                1906566                     NaN   \n",
       "Patient 62                2104368                     NaN   \n",
       "Patient 28                2005140                     NaN   \n",
       "\n",
       "           Date de recidive méta  Recurrence  \n",
       "Patient 7                    NaN       False  \n",
       "Patient 58                   NaN       False  \n",
       "Patient 42                   NaN       False  \n",
       "Patient 12                   NaN       False  \n",
       "Patient 62                   NaN       False  \n",
       "Patient 28                   NaN       False  "
      ]
     },
     "execution_count": 22,
     "metadata": {},
     "output_type": "execute_result"
    }
   ],
   "source": [
    "false_rec_val_patients = false_rec_patients.sample(n=false_val_size, random_state=42)\n",
    "false_rec_val_patients"
   ]
  },
  {
   "cell_type": "code",
   "execution_count": 23,
   "metadata": {},
   "outputs": [
    {
     "data": {
      "text/html": [
       "<div>\n",
       "<style scoped>\n",
       "    .dataframe tbody tr th:only-of-type {\n",
       "        vertical-align: middle;\n",
       "    }\n",
       "\n",
       "    .dataframe tbody tr th {\n",
       "        vertical-align: top;\n",
       "    }\n",
       "\n",
       "    .dataframe thead th {\n",
       "        text-align: right;\n",
       "    }\n",
       "</style>\n",
       "<table border=\"1\" class=\"dataframe\">\n",
       "  <thead>\n",
       "    <tr style=\"text-align: right;\">\n",
       "      <th></th>\n",
       "      <th>Liste recueil clinique</th>\n",
       "      <th>Date de recidive locale</th>\n",
       "      <th>Date de recidive méta</th>\n",
       "      <th>Recurrence</th>\n",
       "    </tr>\n",
       "  </thead>\n",
       "  <tbody>\n",
       "    <tr>\n",
       "      <th>Patient 16</th>\n",
       "      <td>1104589</td>\n",
       "      <td>NaN</td>\n",
       "      <td>NaN</td>\n",
       "      <td>False</td>\n",
       "    </tr>\n",
       "    <tr>\n",
       "      <th>Patient 20</th>\n",
       "      <td>2000339</td>\n",
       "      <td>NaN</td>\n",
       "      <td>NaN</td>\n",
       "      <td>False</td>\n",
       "    </tr>\n",
       "    <tr>\n",
       "      <th>Patient 23</th>\n",
       "      <td>2003554</td>\n",
       "      <td>NaN</td>\n",
       "      <td>NaN</td>\n",
       "      <td>False</td>\n",
       "    </tr>\n",
       "    <tr>\n",
       "      <th>Patient 30</th>\n",
       "      <td>2006179</td>\n",
       "      <td>NaN</td>\n",
       "      <td>NaN</td>\n",
       "      <td>False</td>\n",
       "    </tr>\n",
       "    <tr>\n",
       "      <th>Patient 40</th>\n",
       "      <td>2101761</td>\n",
       "      <td>NaN</td>\n",
       "      <td>NaN</td>\n",
       "      <td>False</td>\n",
       "    </tr>\n",
       "  </tbody>\n",
       "</table>\n",
       "</div>"
      ],
      "text/plain": [
       "           Liste recueil clinique Date de recidive locale  \\\n",
       "Patient 16                1104589                     NaN   \n",
       "Patient 20                2000339                     NaN   \n",
       "Patient 23                2003554                     NaN   \n",
       "Patient 30                2006179                     NaN   \n",
       "Patient 40                2101761                     NaN   \n",
       "\n",
       "           Date de recidive méta  Recurrence  \n",
       "Patient 16                   NaN       False  \n",
       "Patient 20                   NaN       False  \n",
       "Patient 23                   NaN       False  \n",
       "Patient 30                   NaN       False  \n",
       "Patient 40                   NaN       False  "
      ]
     },
     "execution_count": 23,
     "metadata": {},
     "output_type": "execute_result"
    }
   ],
   "source": [
    "false_rec_train_patients = false_rec_patients.drop(false_rec_val_patients.index)\n",
    "false_rec_train_patients.head()"
   ]
  },
  {
   "cell_type": "code",
   "execution_count": 24,
   "metadata": {},
   "outputs": [
    {
     "name": "stdout",
     "output_type": "stream",
     "text": [
      "22 patients that did respond well to RT (had no recurrence)\n"
     ]
    }
   ],
   "source": [
    "print(len(false_rec_val_patients)+len(false_rec_train_patients), \"patients that did respond well to RT (had no recurrence)\")"
   ]
  },
  {
   "cell_type": "markdown",
   "metadata": {},
   "source": [
    "# Feature selection\n",
    "Test for one csv file and compare"
   ]
  },
  {
   "cell_type": "markdown",
   "metadata": {},
   "source": [
    "## F1/F2 with GTV \n",
    "Idée: analyser la corrélation entre données GTV et PTV"
   ]
  },
  {
   "cell_type": "code",
   "execution_count": 25,
   "metadata": {},
   "outputs": [
    {
     "name": "stdout",
     "output_type": "stream",
     "text": [
      "['ID', 'original_shape_Elongation', 'original_shape_Flatness', 'original_shape_LeastAxisLength', 'original_shape_MajorAxisLength', 'original_shape_Maximum2DDiameterColumn', 'original_shape_Maximum2DDiameterRow', 'original_shape_Maximum2DDiameterSlice', 'original_shape_Maximum3DDiameter', 'original_shape_MeshVolume', 'original_shape_MinorAxisLength', 'original_shape_Sphericity', 'original_shape_SurfaceArea', 'original_shape_SurfaceVolumeRatio', 'original_shape_VoxelVolume', 'original_firstorder_10Percentile', 'original_firstorder_90Percentile', 'original_firstorder_Energy', 'original_firstorder_Entropy', 'original_firstorder_InterquartileRange', 'original_firstorder_Kurtosis', 'original_firstorder_Maximum', 'original_firstorder_MeanAbsoluteDeviation', 'original_firstorder_Mean', 'original_firstorder_Median', 'original_firstorder_Minimum', 'original_firstorder_Range', 'original_firstorder_RobustMeanAbsoluteDeviation', 'original_firstorder_RootMeanSquared', 'original_firstorder_Skewness', 'original_firstorder_TotalEnergy', 'original_firstorder_Uniformity', 'original_firstorder_Variance', 'original_glcm_Autocorrelation', 'original_glcm_ClusterProminence', 'original_glcm_ClusterShade', 'original_glcm_ClusterTendency', 'original_glcm_Contrast', 'original_glcm_Correlation', 'original_glcm_DifferenceAverage', 'original_glcm_DifferenceEntropy', 'original_glcm_DifferenceVariance', 'original_glcm_Id', 'original_glcm_Idm', 'original_glcm_Idmn', 'original_glcm_Idn', 'original_glcm_Imc1', 'original_glcm_Imc2', 'original_glcm_InverseVariance', 'original_glcm_JointAverage', 'original_glcm_JointEnergy', 'original_glcm_JointEntropy', 'original_glcm_MCC', 'original_glcm_MaximumProbability', 'original_glcm_SumAverage', 'original_glcm_SumEntropy', 'original_glcm_SumSquares', 'original_glrlm_GrayLevelNonUniformity', 'original_glrlm_GrayLevelNonUniformityNormalized', 'original_glrlm_GrayLevelVariance', 'original_glrlm_HighGrayLevelRunEmphasis', 'original_glrlm_LongRunEmphasis', 'original_glrlm_LongRunHighGrayLevelEmphasis', 'original_glrlm_LongRunLowGrayLevelEmphasis', 'original_glrlm_LowGrayLevelRunEmphasis', 'original_glrlm_RunEntropy', 'original_glrlm_RunLengthNonUniformity', 'original_glrlm_RunLengthNonUniformityNormalized', 'original_glrlm_RunPercentage', 'original_glrlm_RunVariance', 'original_glrlm_ShortRunEmphasis', 'original_glrlm_ShortRunHighGrayLevelEmphasis', 'original_glrlm_ShortRunLowGrayLevelEmphasis', 'original_glszm_GrayLevelNonUniformity', 'original_glszm_GrayLevelNonUniformityNormalized', 'original_glszm_GrayLevelVariance', 'original_glszm_HighGrayLevelZoneEmphasis', 'original_glszm_LargeAreaEmphasis', 'original_glszm_LargeAreaHighGrayLevelEmphasis', 'original_glszm_LargeAreaLowGrayLevelEmphasis', 'original_glszm_LowGrayLevelZoneEmphasis', 'original_glszm_SizeZoneNonUniformity', 'original_glszm_SizeZoneNonUniformityNormalized', 'original_glszm_SmallAreaEmphasis', 'original_glszm_SmallAreaHighGrayLevelEmphasis', 'original_glszm_SmallAreaLowGrayLevelEmphasis', 'original_glszm_ZoneEntropy', 'original_glszm_ZonePercentage', 'original_glszm_ZoneVariance', 'original_gldm_DependenceEntropy', 'original_gldm_DependenceNonUniformity', 'original_gldm_DependenceNonUniformityNormalized', 'original_gldm_DependenceVariance', 'original_gldm_GrayLevelNonUniformity', 'original_gldm_GrayLevelVariance', 'original_gldm_HighGrayLevelEmphasis', 'original_gldm_LargeDependenceEmphasis', 'original_gldm_LargeDependenceHighGrayLevelEmphasis', 'original_gldm_LargeDependenceLowGrayLevelEmphasis', 'original_gldm_LowGrayLevelEmphasis', 'original_gldm_SmallDependenceEmphasis', 'original_gldm_SmallDependenceHighGrayLevelEmphasis', 'original_gldm_SmallDependenceLowGrayLevelEmphasis', 'original_ngtdm_Busyness', 'original_ngtdm_Coarseness', 'original_ngtdm_Complexity', 'original_ngtdm_Contrast', 'original_ngtdm_Strength']\n",
      "['delta_f1_f2_gtv_original_shape_Elongation', 'delta_f1_f2_gtv_original_shape_Flatness', 'delta_f1_f2_gtv_original_shape_LeastAxisLength', 'delta_f1_f2_gtv_original_shape_MajorAxisLength', 'delta_f1_f2_gtv_original_shape_Maximum2DDiameterColumn', 'delta_f1_f2_gtv_original_shape_Maximum2DDiameterRow', 'delta_f1_f2_gtv_original_shape_Maximum2DDiameterSlice', 'delta_f1_f2_gtv_original_shape_Maximum3DDiameter', 'delta_f1_f2_gtv_original_shape_MeshVolume', 'delta_f1_f2_gtv_original_shape_MinorAxisLength', 'delta_f1_f2_gtv_original_shape_Sphericity', 'delta_f1_f2_gtv_original_shape_SurfaceArea', 'delta_f1_f2_gtv_original_shape_SurfaceVolumeRatio', 'delta_f1_f2_gtv_original_shape_VoxelVolume', 'delta_f1_f2_gtv_original_firstorder_10Percentile', 'delta_f1_f2_gtv_original_firstorder_90Percentile', 'delta_f1_f2_gtv_original_firstorder_Energy', 'delta_f1_f2_gtv_original_firstorder_Entropy', 'delta_f1_f2_gtv_original_firstorder_InterquartileRange', 'delta_f1_f2_gtv_original_firstorder_Kurtosis', 'delta_f1_f2_gtv_original_firstorder_Maximum', 'delta_f1_f2_gtv_original_firstorder_MeanAbsoluteDeviation', 'delta_f1_f2_gtv_original_firstorder_Mean', 'delta_f1_f2_gtv_original_firstorder_Median', 'delta_f1_f2_gtv_original_firstorder_Minimum', 'delta_f1_f2_gtv_original_firstorder_Range', 'delta_f1_f2_gtv_original_firstorder_RobustMeanAbsoluteDeviation', 'delta_f1_f2_gtv_original_firstorder_RootMeanSquared', 'delta_f1_f2_gtv_original_firstorder_Skewness', 'delta_f1_f2_gtv_original_firstorder_TotalEnergy', 'delta_f1_f2_gtv_original_firstorder_Uniformity', 'delta_f1_f2_gtv_original_firstorder_Variance', 'delta_f1_f2_gtv_original_glcm_Autocorrelation', 'delta_f1_f2_gtv_original_glcm_ClusterProminence', 'delta_f1_f2_gtv_original_glcm_ClusterShade', 'delta_f1_f2_gtv_original_glcm_ClusterTendency', 'delta_f1_f2_gtv_original_glcm_Contrast', 'delta_f1_f2_gtv_original_glcm_Correlation', 'delta_f1_f2_gtv_original_glcm_DifferenceAverage', 'delta_f1_f2_gtv_original_glcm_DifferenceEntropy', 'delta_f1_f2_gtv_original_glcm_DifferenceVariance', 'delta_f1_f2_gtv_original_glcm_Id', 'delta_f1_f2_gtv_original_glcm_Idm', 'delta_f1_f2_gtv_original_glcm_Idmn', 'delta_f1_f2_gtv_original_glcm_Idn', 'delta_f1_f2_gtv_original_glcm_Imc1', 'delta_f1_f2_gtv_original_glcm_Imc2', 'delta_f1_f2_gtv_original_glcm_InverseVariance', 'delta_f1_f2_gtv_original_glcm_JointAverage', 'delta_f1_f2_gtv_original_glcm_JointEnergy', 'delta_f1_f2_gtv_original_glcm_JointEntropy', 'delta_f1_f2_gtv_original_glcm_MCC', 'delta_f1_f2_gtv_original_glcm_MaximumProbability', 'delta_f1_f2_gtv_original_glcm_SumAverage', 'delta_f1_f2_gtv_original_glcm_SumEntropy', 'delta_f1_f2_gtv_original_glcm_SumSquares', 'delta_f1_f2_gtv_original_glrlm_GrayLevelNonUniformity', 'delta_f1_f2_gtv_original_glrlm_GrayLevelNonUniformityNormalized', 'delta_f1_f2_gtv_original_glrlm_GrayLevelVariance', 'delta_f1_f2_gtv_original_glrlm_HighGrayLevelRunEmphasis', 'delta_f1_f2_gtv_original_glrlm_LongRunEmphasis', 'delta_f1_f2_gtv_original_glrlm_LongRunHighGrayLevelEmphasis', 'delta_f1_f2_gtv_original_glrlm_LongRunLowGrayLevelEmphasis', 'delta_f1_f2_gtv_original_glrlm_LowGrayLevelRunEmphasis', 'delta_f1_f2_gtv_original_glrlm_RunEntropy', 'delta_f1_f2_gtv_original_glrlm_RunLengthNonUniformity', 'delta_f1_f2_gtv_original_glrlm_RunLengthNonUniformityNormalized', 'delta_f1_f2_gtv_original_glrlm_RunPercentage', 'delta_f1_f2_gtv_original_glrlm_RunVariance', 'delta_f1_f2_gtv_original_glrlm_ShortRunEmphasis', 'delta_f1_f2_gtv_original_glrlm_ShortRunHighGrayLevelEmphasis', 'delta_f1_f2_gtv_original_glrlm_ShortRunLowGrayLevelEmphasis', 'delta_f1_f2_gtv_original_glszm_GrayLevelNonUniformity', 'delta_f1_f2_gtv_original_glszm_GrayLevelNonUniformityNormalized', 'delta_f1_f2_gtv_original_glszm_GrayLevelVariance', 'delta_f1_f2_gtv_original_glszm_HighGrayLevelZoneEmphasis', 'delta_f1_f2_gtv_original_glszm_LargeAreaEmphasis', 'delta_f1_f2_gtv_original_glszm_LargeAreaHighGrayLevelEmphasis', 'delta_f1_f2_gtv_original_glszm_LargeAreaLowGrayLevelEmphasis', 'delta_f1_f2_gtv_original_glszm_LowGrayLevelZoneEmphasis', 'delta_f1_f2_gtv_original_glszm_SizeZoneNonUniformity', 'delta_f1_f2_gtv_original_glszm_SizeZoneNonUniformityNormalized', 'delta_f1_f2_gtv_original_glszm_SmallAreaEmphasis', 'delta_f1_f2_gtv_original_glszm_SmallAreaHighGrayLevelEmphasis', 'delta_f1_f2_gtv_original_glszm_SmallAreaLowGrayLevelEmphasis', 'delta_f1_f2_gtv_original_glszm_ZoneEntropy', 'delta_f1_f2_gtv_original_glszm_ZonePercentage', 'delta_f1_f2_gtv_original_glszm_ZoneVariance', 'delta_f1_f2_gtv_original_gldm_DependenceEntropy', 'delta_f1_f2_gtv_original_gldm_DependenceNonUniformity', 'delta_f1_f2_gtv_original_gldm_DependenceNonUniformityNormalized', 'delta_f1_f2_gtv_original_gldm_DependenceVariance', 'delta_f1_f2_gtv_original_gldm_GrayLevelNonUniformity', 'delta_f1_f2_gtv_original_gldm_GrayLevelVariance', 'delta_f1_f2_gtv_original_gldm_HighGrayLevelEmphasis', 'delta_f1_f2_gtv_original_gldm_LargeDependenceEmphasis', 'delta_f1_f2_gtv_original_gldm_LargeDependenceHighGrayLevelEmphasis', 'delta_f1_f2_gtv_original_gldm_LargeDependenceLowGrayLevelEmphasis', 'delta_f1_f2_gtv_original_gldm_LowGrayLevelEmphasis', 'delta_f1_f2_gtv_original_gldm_SmallDependenceEmphasis', 'delta_f1_f2_gtv_original_gldm_SmallDependenceHighGrayLevelEmphasis', 'delta_f1_f2_gtv_original_gldm_SmallDependenceLowGrayLevelEmphasis', 'delta_f1_f2_gtv_original_ngtdm_Busyness', 'delta_f1_f2_gtv_original_ngtdm_Coarseness', 'delta_f1_f2_gtv_original_ngtdm_Complexity', 'delta_f1_f2_gtv_original_ngtdm_Contrast', 'delta_f1_f2_gtv_original_ngtdm_Strength']\n"
     ]
    }
   ],
   "source": [
    "features_list = [\n",
    "    'original_shape_Elongation', 'original_shape_Flatness', 'original_shape_LeastAxisLength',\n",
    "    'original_shape_MajorAxisLength', 'original_shape_Maximum2DDiameterColumn',\n",
    "    'original_shape_Maximum2DDiameterRow', 'original_shape_Maximum2DDiameterSlice',\n",
    "    'original_shape_Maximum3DDiameter', 'original_shape_MeshVolume',\n",
    "    'original_shape_MinorAxisLength', 'original_shape_Sphericity',\n",
    "    'original_shape_SurfaceArea', 'original_shape_SurfaceVolumeRatio',\n",
    "    'original_shape_VoxelVolume', 'original_firstorder_10Percentile',\n",
    "    'original_firstorder_90Percentile', 'original_firstorder_Energy',\n",
    "    'original_firstorder_Entropy', 'original_firstorder_InterquartileRange',\n",
    "    'original_firstorder_Kurtosis', 'original_firstorder_Maximum',\n",
    "    'original_firstorder_MeanAbsoluteDeviation', 'original_firstorder_Mean',\n",
    "    'original_firstorder_Median', 'original_firstorder_Minimum',\n",
    "    'original_firstorder_Range', 'original_firstorder_RobustMeanAbsoluteDeviation',\n",
    "    'original_firstorder_RootMeanSquared', 'original_firstorder_Skewness',\n",
    "    'original_firstorder_TotalEnergy', 'original_firstorder_Uniformity',\n",
    "    'original_firstorder_Variance', 'original_glcm_Autocorrelation',\n",
    "    'original_glcm_ClusterProminence', 'original_glcm_ClusterShade',\n",
    "    'original_glcm_ClusterTendency', 'original_glcm_Contrast',\n",
    "    'original_glcm_Correlation', 'original_glcm_DifferenceAverage',\n",
    "    'original_glcm_DifferenceEntropy', 'original_glcm_DifferenceVariance',\n",
    "    'original_glcm_Id', 'original_glcm_Idm', 'original_glcm_Idmn', 'original_glcm_Idn',\n",
    "    'original_glcm_Imc1', 'original_glcm_Imc2', 'original_glcm_InverseVariance',\n",
    "    'original_glcm_JointAverage', 'original_glcm_JointEnergy',\n",
    "    'original_glcm_JointEntropy', 'original_glcm_MCC', 'original_glcm_MaximumProbability',\n",
    "    'original_glcm_SumAverage', 'original_glcm_SumEntropy', 'original_glcm_SumSquares',\n",
    "    'original_glrlm_GrayLevelNonUniformity', 'original_glrlm_GrayLevelNonUniformityNormalized',\n",
    "    'original_glrlm_GrayLevelVariance', 'original_glrlm_HighGrayLevelRunEmphasis',\n",
    "    'original_glrlm_LongRunEmphasis', 'original_glrlm_LongRunHighGrayLevelEmphasis',\n",
    "    'original_glrlm_LongRunLowGrayLevelEmphasis', 'original_glrlm_LowGrayLevelRunEmphasis',\n",
    "    'original_glrlm_RunEntropy', 'original_glrlm_RunLengthNonUniformity',\n",
    "    'original_glrlm_RunLengthNonUniformityNormalized', 'original_glrlm_RunPercentage',\n",
    "    'original_glrlm_RunVariance', 'original_glrlm_ShortRunEmphasis',\n",
    "    'original_glrlm_ShortRunHighGrayLevelEmphasis', 'original_glrlm_ShortRunLowGrayLevelEmphasis',\n",
    "    'original_glszm_GrayLevelNonUniformity', 'original_glszm_GrayLevelNonUniformityNormalized',\n",
    "    'original_glszm_GrayLevelVariance', 'original_glszm_HighGrayLevelZoneEmphasis',\n",
    "    'original_glszm_LargeAreaEmphasis', 'original_glszm_LargeAreaHighGrayLevelEmphasis',\n",
    "    'original_glszm_LargeAreaLowGrayLevelEmphasis', 'original_glszm_LowGrayLevelZoneEmphasis',\n",
    "    'original_glszm_SizeZoneNonUniformity', 'original_glszm_SizeZoneNonUniformityNormalized',\n",
    "    'original_glszm_SmallAreaEmphasis', 'original_glszm_SmallAreaHighGrayLevelEmphasis',\n",
    "    'original_glszm_SmallAreaLowGrayLevelEmphasis', 'original_glszm_ZoneEntropy',\n",
    "    'original_glszm_ZonePercentage', 'original_glszm_ZoneVariance',\n",
    "    'original_gldm_DependenceEntropy', 'original_gldm_DependenceNonUniformity',\n",
    "    'original_gldm_DependenceNonUniformityNormalized', 'original_gldm_DependenceVariance',\n",
    "    'original_gldm_GrayLevelNonUniformity', 'original_gldm_GrayLevelVariance',\n",
    "    'original_gldm_HighGrayLevelEmphasis', 'original_gldm_LargeDependenceEmphasis',\n",
    "    'original_gldm_LargeDependenceHighGrayLevelEmphasis',\n",
    "    'original_gldm_LargeDependenceLowGrayLevelEmphasis',\n",
    "    'original_gldm_LowGrayLevelEmphasis', 'original_gldm_SmallDependenceEmphasis',\n",
    "    'original_gldm_SmallDependenceHighGrayLevelEmphasis',\n",
    "    'original_gldm_SmallDependenceLowGrayLevelEmphasis', 'original_ngtdm_Busyness',\n",
    "    'original_ngtdm_Coarseness', 'original_ngtdm_Complexity', 'original_ngtdm_Contrast',\n",
    "    'original_ngtdm_Strength'\n",
    "]\n",
    "# define dataframe columns\n",
    "names = ['ID'] + features_list\n",
    "print(names)\n",
    "# define columns of simu/F1 delta rad next dataframe \n",
    "new_feature_list = ['delta_f1_f2_gtv_' + x for x in features_list]\n",
    "print(new_feature_list)"
   ]
  },
  {
   "cell_type": "code",
   "execution_count": 26,
   "metadata": {},
   "outputs": [
    {
     "data": {
      "text/html": [
       "<div>\n",
       "<style scoped>\n",
       "    .dataframe tbody tr th:only-of-type {\n",
       "        vertical-align: middle;\n",
       "    }\n",
       "\n",
       "    .dataframe tbody tr th {\n",
       "        vertical-align: top;\n",
       "    }\n",
       "\n",
       "    .dataframe thead th {\n",
       "        text-align: right;\n",
       "    }\n",
       "</style>\n",
       "<table border=\"1\" class=\"dataframe\">\n",
       "  <thead>\n",
       "    <tr style=\"text-align: right;\">\n",
       "      <th></th>\n",
       "      <th>delta_f1_f2_gtv_original_shape_Elongation</th>\n",
       "      <th>delta_f1_f2_gtv_original_shape_Flatness</th>\n",
       "      <th>delta_f1_f2_gtv_original_shape_LeastAxisLength</th>\n",
       "      <th>delta_f1_f2_gtv_original_shape_MajorAxisLength</th>\n",
       "      <th>delta_f1_f2_gtv_original_shape_Maximum2DDiameterColumn</th>\n",
       "      <th>delta_f1_f2_gtv_original_shape_Maximum2DDiameterRow</th>\n",
       "      <th>delta_f1_f2_gtv_original_shape_Maximum2DDiameterSlice</th>\n",
       "      <th>delta_f1_f2_gtv_original_shape_Maximum3DDiameter</th>\n",
       "      <th>delta_f1_f2_gtv_original_shape_MeshVolume</th>\n",
       "      <th>delta_f1_f2_gtv_original_shape_MinorAxisLength</th>\n",
       "      <th>...</th>\n",
       "      <th>delta_f1_f2_gtv_original_gldm_LargeDependenceLowGrayLevelEmphasis</th>\n",
       "      <th>delta_f1_f2_gtv_original_gldm_LowGrayLevelEmphasis</th>\n",
       "      <th>delta_f1_f2_gtv_original_gldm_SmallDependenceEmphasis</th>\n",
       "      <th>delta_f1_f2_gtv_original_gldm_SmallDependenceHighGrayLevelEmphasis</th>\n",
       "      <th>delta_f1_f2_gtv_original_gldm_SmallDependenceLowGrayLevelEmphasis</th>\n",
       "      <th>delta_f1_f2_gtv_original_ngtdm_Busyness</th>\n",
       "      <th>delta_f1_f2_gtv_original_ngtdm_Coarseness</th>\n",
       "      <th>delta_f1_f2_gtv_original_ngtdm_Complexity</th>\n",
       "      <th>delta_f1_f2_gtv_original_ngtdm_Contrast</th>\n",
       "      <th>delta_f1_f2_gtv_original_ngtdm_Strength</th>\n",
       "    </tr>\n",
       "  </thead>\n",
       "  <tbody>\n",
       "    <tr>\n",
       "      <th>NaN</th>\n",
       "      <td>delta_f1_f2_gtv_original_shape_Elongation</td>\n",
       "      <td>delta_f1_f2_gtv_original_shape_Flatness</td>\n",
       "      <td>delta_f1_f2_gtv_original_shape_LeastAxisLength</td>\n",
       "      <td>delta_f1_f2_gtv_original_shape_MajorAxisLength</td>\n",
       "      <td>delta_f1_f2_gtv_original_shape_Maximum2DDiamet...</td>\n",
       "      <td>delta_f1_f2_gtv_original_shape_Maximum2DDiamet...</td>\n",
       "      <td>delta_f1_f2_gtv_original_shape_Maximum2DDiamet...</td>\n",
       "      <td>delta_f1_f2_gtv_original_shape_Maximum3DDiameter</td>\n",
       "      <td>delta_f1_f2_gtv_original_shape_MeshVolume</td>\n",
       "      <td>delta_f1_f2_gtv_original_shape_MinorAxisLength</td>\n",
       "      <td>...</td>\n",
       "      <td>delta_f1_f2_gtv_original_gldm_LargeDependenceL...</td>\n",
       "      <td>delta_f1_f2_gtv_original_gldm_LowGrayLevelEmph...</td>\n",
       "      <td>delta_f1_f2_gtv_original_gldm_SmallDependenceE...</td>\n",
       "      <td>delta_f1_f2_gtv_original_gldm_SmallDependenceH...</td>\n",
       "      <td>delta_f1_f2_gtv_original_gldm_SmallDependenceL...</td>\n",
       "      <td>delta_f1_f2_gtv_original_ngtdm_Busyness</td>\n",
       "      <td>delta_f1_f2_gtv_original_ngtdm_Coarseness</td>\n",
       "      <td>delta_f1_f2_gtv_original_ngtdm_Complexity</td>\n",
       "      <td>delta_f1_f2_gtv_original_ngtdm_Contrast</td>\n",
       "      <td>delta_f1_f2_gtv_original_ngtdm_Strength</td>\n",
       "    </tr>\n",
       "    <tr>\n",
       "      <th>Patient 1</th>\n",
       "      <td>1.0149414258721936</td>\n",
       "      <td>1.0074374111081335</td>\n",
       "      <td>0.9974368965943667</td>\n",
       "      <td>0.9900733139451944</td>\n",
       "      <td>1.0</td>\n",
       "      <td>0.9994449070122994</td>\n",
       "      <td>1.0</td>\n",
       "      <td>1.0</td>\n",
       "      <td>0.9748118234809576</td>\n",
       "      <td>1.00486642157079</td>\n",
       "      <td>...</td>\n",
       "      <td>1.2314584487596094</td>\n",
       "      <td>1.1252224542812879</td>\n",
       "      <td>0.9486809918566094</td>\n",
       "      <td>0.9068556418257702</td>\n",
       "      <td>1.0264389660511064</td>\n",
       "      <td>1.0445421482259094</td>\n",
       "      <td>1.056893995552261</td>\n",
       "      <td>0.9236888369368765</td>\n",
       "      <td>0.9670507008915769</td>\n",
       "      <td>1.0399378992331816</td>\n",
       "    </tr>\n",
       "    <tr>\n",
       "      <th>Patient 2</th>\n",
       "      <td>1.0225833432436955</td>\n",
       "      <td>1.0133647635389431</td>\n",
       "      <td>1.0147267586653366</td>\n",
       "      <td>1.0013440338494908</td>\n",
       "      <td>0.9651460250074744</td>\n",
       "      <td>1.0617537167081992</td>\n",
       "      <td>1.5163299460179533</td>\n",
       "      <td>1.0620035116880624</td>\n",
       "      <td>1.2000804308470223</td>\n",
       "      <td>1.0239577300135294</td>\n",
       "      <td>...</td>\n",
       "      <td>0.9687803791849082</td>\n",
       "      <td>0.9454783268118273</td>\n",
       "      <td>1.0268534790684118</td>\n",
       "      <td>1.1773692553263946</td>\n",
       "      <td>0.8817974261682512</td>\n",
       "      <td>1.0973939688566694</td>\n",
       "      <td>0.8169427582621931</td>\n",
       "      <td>1.3574295582631413</td>\n",
       "      <td>1.1400354232110554</td>\n",
       "      <td>0.9975796877958977</td>\n",
       "    </tr>\n",
       "    <tr>\n",
       "      <th>Patient 3</th>\n",
       "      <td>0.9996188074959289</td>\n",
       "      <td>1.007395688649191</td>\n",
       "      <td>1.0084463997667712</td>\n",
       "      <td>1.0010429974139452</td>\n",
       "      <td>1.0</td>\n",
       "      <td>1.0</td>\n",
       "      <td>1.0</td>\n",
       "      <td>1.0</td>\n",
       "      <td>1.0123438714470576</td>\n",
       "      <td>1.0006614072696776</td>\n",
       "      <td>...</td>\n",
       "      <td>0.4358569653800307</td>\n",
       "      <td>0.5439261336075271</td>\n",
       "      <td>1.1897804614403913</td>\n",
       "      <td>1.7734779235355733</td>\n",
       "      <td>0.6118387084587389</td>\n",
       "      <td>0.5657350703695729</td>\n",
       "      <td>0.9709532177707567</td>\n",
       "      <td>2.0941032062565985</td>\n",
       "      <td>0.9461689310720233</td>\n",
       "      <td>1.8424700982909878</td>\n",
       "    </tr>\n",
       "    <tr>\n",
       "      <th>Patient 4</th>\n",
       "      <td>0.9793066921887899</td>\n",
       "      <td>0.9537199209647573</td>\n",
       "      <td>0.9692702339473082</td>\n",
       "      <td>1.016304905175349</td>\n",
       "      <td>1.0200306014562193</td>\n",
       "      <td>1.0118432264595953</td>\n",
       "      <td>1.0</td>\n",
       "      <td>1.0009979046947155</td>\n",
       "      <td>0.9788907226531014</td>\n",
       "      <td>0.9952741940031794</td>\n",
       "      <td>...</td>\n",
       "      <td>0.9643597327874158</td>\n",
       "      <td>1.0061963882015297</td>\n",
       "      <td>0.9521167022178358</td>\n",
       "      <td>0.8952447075358734</td>\n",
       "      <td>1.0650670083689928</td>\n",
       "      <td>0.8713053630367043</td>\n",
       "      <td>1.0081334020936592</td>\n",
       "      <td>1.0999682180827544</td>\n",
       "      <td>0.8344736629283562</td>\n",
       "      <td>1.1637164855137894</td>\n",
       "    </tr>\n",
       "    <tr>\n",
       "      <th>...</th>\n",
       "      <td>...</td>\n",
       "      <td>...</td>\n",
       "      <td>...</td>\n",
       "      <td>...</td>\n",
       "      <td>...</td>\n",
       "      <td>...</td>\n",
       "      <td>...</td>\n",
       "      <td>...</td>\n",
       "      <td>...</td>\n",
       "      <td>...</td>\n",
       "      <td>...</td>\n",
       "      <td>...</td>\n",
       "      <td>...</td>\n",
       "      <td>...</td>\n",
       "      <td>...</td>\n",
       "      <td>...</td>\n",
       "      <td>...</td>\n",
       "      <td>...</td>\n",
       "      <td>...</td>\n",
       "      <td>...</td>\n",
       "      <td>...</td>\n",
       "    </tr>\n",
       "    <tr>\n",
       "      <th>Patient 82</th>\n",
       "      <td>1.0267429543703417</td>\n",
       "      <td>1.0057069673820829</td>\n",
       "      <td>0.9920325245508069</td>\n",
       "      <td>0.9913160905180725</td>\n",
       "      <td>0.992231127789039</td>\n",
       "      <td>0.9932698150689871</td>\n",
       "      <td>1.0087186398099945</td>\n",
       "      <td>0.9947563287088904</td>\n",
       "      <td>0.989721614167625</td>\n",
       "      <td>1.0047643352738291</td>\n",
       "      <td>...</td>\n",
       "      <td>1.1191828783968878</td>\n",
       "      <td>1.0535088138156903</td>\n",
       "      <td>1.0041846869640128</td>\n",
       "      <td>1.0343313488479422</td>\n",
       "      <td>1.0485863604456636</td>\n",
       "      <td>1.0377541976448854</td>\n",
       "      <td>1.0240391149756944</td>\n",
       "      <td>1.075895950419839</td>\n",
       "      <td>1.0410935531864232</td>\n",
       "      <td>1.115809324281991</td>\n",
       "    </tr>\n",
       "    <tr>\n",
       "      <th>Patient 83</th>\n",
       "      <td>0.9869498692838976</td>\n",
       "      <td>0.9879002291893894</td>\n",
       "      <td>1.0014195118989508</td>\n",
       "      <td>1.0136848664572682</td>\n",
       "      <td>1.0225462622146242</td>\n",
       "      <td>1.0035457406064479</td>\n",
       "      <td>1.0</td>\n",
       "      <td>1.0147616532090105</td>\n",
       "      <td>1.0076890516447952</td>\n",
       "      <td>1.000456146445066</td>\n",
       "      <td>...</td>\n",
       "      <td>0.40074822323672</td>\n",
       "      <td>0.4579714659685028</td>\n",
       "      <td>1.13634363087306</td>\n",
       "      <td>1.6870558790311723</td>\n",
       "      <td>0.5258167898160477</td>\n",
       "      <td>0.6293115641000646</td>\n",
       "      <td>0.9452798907889297</td>\n",
       "      <td>1.5601381590195083</td>\n",
       "      <td>0.8717416706384625</td>\n",
       "      <td>1.297701862107879</td>\n",
       "    </tr>\n",
       "    <tr>\n",
       "      <th>Patient 84</th>\n",
       "      <td>1.0267429543703417</td>\n",
       "      <td>1.0057069673820829</td>\n",
       "      <td>0.9920325245508069</td>\n",
       "      <td>0.9913160905180725</td>\n",
       "      <td>0.992231127789039</td>\n",
       "      <td>0.9932698150689871</td>\n",
       "      <td>1.0087186398099945</td>\n",
       "      <td>0.9947563287088904</td>\n",
       "      <td>0.989721614167625</td>\n",
       "      <td>1.0047643352738291</td>\n",
       "      <td>...</td>\n",
       "      <td>1.1191828783968878</td>\n",
       "      <td>1.0535088138156903</td>\n",
       "      <td>1.0041846869640128</td>\n",
       "      <td>1.0343313488479422</td>\n",
       "      <td>1.0485863604456636</td>\n",
       "      <td>1.0377541976448854</td>\n",
       "      <td>1.0240391149756944</td>\n",
       "      <td>1.075895950419839</td>\n",
       "      <td>1.0410935531864232</td>\n",
       "      <td>1.115809324281991</td>\n",
       "    </tr>\n",
       "    <tr>\n",
       "      <th>Patient 85</th>\n",
       "      <td>1.0267429543703417</td>\n",
       "      <td>1.0057069673820829</td>\n",
       "      <td>0.9920325245508069</td>\n",
       "      <td>0.9913160905180725</td>\n",
       "      <td>0.992231127789039</td>\n",
       "      <td>0.9932698150689871</td>\n",
       "      <td>1.0087186398099945</td>\n",
       "      <td>0.9947563287088904</td>\n",
       "      <td>0.989721614167625</td>\n",
       "      <td>1.0047643352738291</td>\n",
       "      <td>...</td>\n",
       "      <td>1.1191828783968878</td>\n",
       "      <td>1.0535088138156903</td>\n",
       "      <td>1.0041846869640128</td>\n",
       "      <td>1.0343313488479422</td>\n",
       "      <td>1.0485863604456636</td>\n",
       "      <td>1.0377541976448854</td>\n",
       "      <td>1.0240391149756944</td>\n",
       "      <td>1.075895950419839</td>\n",
       "      <td>1.0410935531864232</td>\n",
       "      <td>1.115809324281991</td>\n",
       "    </tr>\n",
       "    <tr>\n",
       "      <th>Patient 86</th>\n",
       "      <td>0.9872696621939853</td>\n",
       "      <td>0.9841593014485005</td>\n",
       "      <td>0.993284858213951</td>\n",
       "      <td>1.0092724386712792</td>\n",
       "      <td>1.0215880977083234</td>\n",
       "      <td>1.0260310550989173</td>\n",
       "      <td>1.0</td>\n",
       "      <td>1.0206839205330291</td>\n",
       "      <td>1.001519906553895</td>\n",
       "      <td>0.9964240595886937</td>\n",
       "      <td>...</td>\n",
       "      <td>0.6100813870982725</td>\n",
       "      <td>0.7589101751041244</td>\n",
       "      <td>1.2783971272220127</td>\n",
       "      <td>1.9292594633097087</td>\n",
       "      <td>1.028717865759151</td>\n",
       "      <td>0.4975304747273708</td>\n",
       "      <td>1.0051034100516172</td>\n",
       "      <td>3.294648864246911</td>\n",
       "      <td>0.9758214587976093</td>\n",
       "      <td>2.983945078333839</td>\n",
       "    </tr>\n",
       "  </tbody>\n",
       "</table>\n",
       "<p>87 rows × 107 columns</p>\n",
       "</div>"
      ],
      "text/plain": [
       "            delta_f1_f2_gtv_original_shape_Elongation  \\\n",
       "NaN         delta_f1_f2_gtv_original_shape_Elongation   \n",
       "Patient 1                          1.0149414258721936   \n",
       "Patient 2                          1.0225833432436955   \n",
       "Patient 3                          0.9996188074959289   \n",
       "Patient 4                          0.9793066921887899   \n",
       "...                                               ...   \n",
       "Patient 82                         1.0267429543703417   \n",
       "Patient 83                         0.9869498692838976   \n",
       "Patient 84                         1.0267429543703417   \n",
       "Patient 85                         1.0267429543703417   \n",
       "Patient 86                         0.9872696621939853   \n",
       "\n",
       "            delta_f1_f2_gtv_original_shape_Flatness  \\\n",
       "NaN         delta_f1_f2_gtv_original_shape_Flatness   \n",
       "Patient 1                        1.0074374111081335   \n",
       "Patient 2                        1.0133647635389431   \n",
       "Patient 3                         1.007395688649191   \n",
       "Patient 4                        0.9537199209647573   \n",
       "...                                             ...   \n",
       "Patient 82                       1.0057069673820829   \n",
       "Patient 83                       0.9879002291893894   \n",
       "Patient 84                       1.0057069673820829   \n",
       "Patient 85                       1.0057069673820829   \n",
       "Patient 86                       0.9841593014485005   \n",
       "\n",
       "            delta_f1_f2_gtv_original_shape_LeastAxisLength  \\\n",
       "NaN         delta_f1_f2_gtv_original_shape_LeastAxisLength   \n",
       "Patient 1                               0.9974368965943667   \n",
       "Patient 2                               1.0147267586653366   \n",
       "Patient 3                               1.0084463997667712   \n",
       "Patient 4                               0.9692702339473082   \n",
       "...                                                    ...   \n",
       "Patient 82                              0.9920325245508069   \n",
       "Patient 83                              1.0014195118989508   \n",
       "Patient 84                              0.9920325245508069   \n",
       "Patient 85                              0.9920325245508069   \n",
       "Patient 86                               0.993284858213951   \n",
       "\n",
       "            delta_f1_f2_gtv_original_shape_MajorAxisLength  \\\n",
       "NaN         delta_f1_f2_gtv_original_shape_MajorAxisLength   \n",
       "Patient 1                               0.9900733139451944   \n",
       "Patient 2                               1.0013440338494908   \n",
       "Patient 3                               1.0010429974139452   \n",
       "Patient 4                                1.016304905175349   \n",
       "...                                                    ...   \n",
       "Patient 82                              0.9913160905180725   \n",
       "Patient 83                              1.0136848664572682   \n",
       "Patient 84                              0.9913160905180725   \n",
       "Patient 85                              0.9913160905180725   \n",
       "Patient 86                              1.0092724386712792   \n",
       "\n",
       "           delta_f1_f2_gtv_original_shape_Maximum2DDiameterColumn  \\\n",
       "NaN         delta_f1_f2_gtv_original_shape_Maximum2DDiamet...       \n",
       "Patient 1                                                 1.0       \n",
       "Patient 2                                  0.9651460250074744       \n",
       "Patient 3                                                 1.0       \n",
       "Patient 4                                  1.0200306014562193       \n",
       "...                                                       ...       \n",
       "Patient 82                                  0.992231127789039       \n",
       "Patient 83                                 1.0225462622146242       \n",
       "Patient 84                                  0.992231127789039       \n",
       "Patient 85                                  0.992231127789039       \n",
       "Patient 86                                 1.0215880977083234       \n",
       "\n",
       "           delta_f1_f2_gtv_original_shape_Maximum2DDiameterRow  \\\n",
       "NaN         delta_f1_f2_gtv_original_shape_Maximum2DDiamet...    \n",
       "Patient 1                                  0.9994449070122994    \n",
       "Patient 2                                  1.0617537167081992    \n",
       "Patient 3                                                 1.0    \n",
       "Patient 4                                  1.0118432264595953    \n",
       "...                                                       ...    \n",
       "Patient 82                                 0.9932698150689871    \n",
       "Patient 83                                 1.0035457406064479    \n",
       "Patient 84                                 0.9932698150689871    \n",
       "Patient 85                                 0.9932698150689871    \n",
       "Patient 86                                 1.0260310550989173    \n",
       "\n",
       "           delta_f1_f2_gtv_original_shape_Maximum2DDiameterSlice  \\\n",
       "NaN         delta_f1_f2_gtv_original_shape_Maximum2DDiamet...      \n",
       "Patient 1                                                 1.0      \n",
       "Patient 2                                  1.5163299460179533      \n",
       "Patient 3                                                 1.0      \n",
       "Patient 4                                                 1.0      \n",
       "...                                                       ...      \n",
       "Patient 82                                 1.0087186398099945      \n",
       "Patient 83                                                1.0      \n",
       "Patient 84                                 1.0087186398099945      \n",
       "Patient 85                                 1.0087186398099945      \n",
       "Patient 86                                                1.0      \n",
       "\n",
       "            delta_f1_f2_gtv_original_shape_Maximum3DDiameter  \\\n",
       "NaN         delta_f1_f2_gtv_original_shape_Maximum3DDiameter   \n",
       "Patient 1                                                1.0   \n",
       "Patient 2                                 1.0620035116880624   \n",
       "Patient 3                                                1.0   \n",
       "Patient 4                                 1.0009979046947155   \n",
       "...                                                      ...   \n",
       "Patient 82                                0.9947563287088904   \n",
       "Patient 83                                1.0147616532090105   \n",
       "Patient 84                                0.9947563287088904   \n",
       "Patient 85                                0.9947563287088904   \n",
       "Patient 86                                1.0206839205330291   \n",
       "\n",
       "            delta_f1_f2_gtv_original_shape_MeshVolume  \\\n",
       "NaN         delta_f1_f2_gtv_original_shape_MeshVolume   \n",
       "Patient 1                          0.9748118234809576   \n",
       "Patient 2                          1.2000804308470223   \n",
       "Patient 3                          1.0123438714470576   \n",
       "Patient 4                          0.9788907226531014   \n",
       "...                                               ...   \n",
       "Patient 82                          0.989721614167625   \n",
       "Patient 83                         1.0076890516447952   \n",
       "Patient 84                          0.989721614167625   \n",
       "Patient 85                          0.989721614167625   \n",
       "Patient 86                          1.001519906553895   \n",
       "\n",
       "            delta_f1_f2_gtv_original_shape_MinorAxisLength  ...  \\\n",
       "NaN         delta_f1_f2_gtv_original_shape_MinorAxisLength  ...   \n",
       "Patient 1                                 1.00486642157079  ...   \n",
       "Patient 2                               1.0239577300135294  ...   \n",
       "Patient 3                               1.0006614072696776  ...   \n",
       "Patient 4                               0.9952741940031794  ...   \n",
       "...                                                    ...  ...   \n",
       "Patient 82                              1.0047643352738291  ...   \n",
       "Patient 83                               1.000456146445066  ...   \n",
       "Patient 84                              1.0047643352738291  ...   \n",
       "Patient 85                              1.0047643352738291  ...   \n",
       "Patient 86                              0.9964240595886937  ...   \n",
       "\n",
       "           delta_f1_f2_gtv_original_gldm_LargeDependenceLowGrayLevelEmphasis  \\\n",
       "NaN         delta_f1_f2_gtv_original_gldm_LargeDependenceL...                  \n",
       "Patient 1                                  1.2314584487596094                  \n",
       "Patient 2                                  0.9687803791849082                  \n",
       "Patient 3                                  0.4358569653800307                  \n",
       "Patient 4                                  0.9643597327874158                  \n",
       "...                                                       ...                  \n",
       "Patient 82                                 1.1191828783968878                  \n",
       "Patient 83                                   0.40074822323672                  \n",
       "Patient 84                                 1.1191828783968878                  \n",
       "Patient 85                                 1.1191828783968878                  \n",
       "Patient 86                                 0.6100813870982725                  \n",
       "\n",
       "           delta_f1_f2_gtv_original_gldm_LowGrayLevelEmphasis  \\\n",
       "NaN         delta_f1_f2_gtv_original_gldm_LowGrayLevelEmph...   \n",
       "Patient 1                                  1.1252224542812879   \n",
       "Patient 2                                  0.9454783268118273   \n",
       "Patient 3                                  0.5439261336075271   \n",
       "Patient 4                                  1.0061963882015297   \n",
       "...                                                       ...   \n",
       "Patient 82                                 1.0535088138156903   \n",
       "Patient 83                                 0.4579714659685028   \n",
       "Patient 84                                 1.0535088138156903   \n",
       "Patient 85                                 1.0535088138156903   \n",
       "Patient 86                                 0.7589101751041244   \n",
       "\n",
       "           delta_f1_f2_gtv_original_gldm_SmallDependenceEmphasis  \\\n",
       "NaN         delta_f1_f2_gtv_original_gldm_SmallDependenceE...      \n",
       "Patient 1                                  0.9486809918566094      \n",
       "Patient 2                                  1.0268534790684118      \n",
       "Patient 3                                  1.1897804614403913      \n",
       "Patient 4                                  0.9521167022178358      \n",
       "...                                                       ...      \n",
       "Patient 82                                 1.0041846869640128      \n",
       "Patient 83                                   1.13634363087306      \n",
       "Patient 84                                 1.0041846869640128      \n",
       "Patient 85                                 1.0041846869640128      \n",
       "Patient 86                                 1.2783971272220127      \n",
       "\n",
       "           delta_f1_f2_gtv_original_gldm_SmallDependenceHighGrayLevelEmphasis  \\\n",
       "NaN         delta_f1_f2_gtv_original_gldm_SmallDependenceH...                   \n",
       "Patient 1                                  0.9068556418257702                   \n",
       "Patient 2                                  1.1773692553263946                   \n",
       "Patient 3                                  1.7734779235355733                   \n",
       "Patient 4                                  0.8952447075358734                   \n",
       "...                                                       ...                   \n",
       "Patient 82                                 1.0343313488479422                   \n",
       "Patient 83                                 1.6870558790311723                   \n",
       "Patient 84                                 1.0343313488479422                   \n",
       "Patient 85                                 1.0343313488479422                   \n",
       "Patient 86                                 1.9292594633097087                   \n",
       "\n",
       "           delta_f1_f2_gtv_original_gldm_SmallDependenceLowGrayLevelEmphasis  \\\n",
       "NaN         delta_f1_f2_gtv_original_gldm_SmallDependenceL...                  \n",
       "Patient 1                                  1.0264389660511064                  \n",
       "Patient 2                                  0.8817974261682512                  \n",
       "Patient 3                                  0.6118387084587389                  \n",
       "Patient 4                                  1.0650670083689928                  \n",
       "...                                                       ...                  \n",
       "Patient 82                                 1.0485863604456636                  \n",
       "Patient 83                                 0.5258167898160477                  \n",
       "Patient 84                                 1.0485863604456636                  \n",
       "Patient 85                                 1.0485863604456636                  \n",
       "Patient 86                                  1.028717865759151                  \n",
       "\n",
       "            delta_f1_f2_gtv_original_ngtdm_Busyness  \\\n",
       "NaN         delta_f1_f2_gtv_original_ngtdm_Busyness   \n",
       "Patient 1                        1.0445421482259094   \n",
       "Patient 2                        1.0973939688566694   \n",
       "Patient 3                        0.5657350703695729   \n",
       "Patient 4                        0.8713053630367043   \n",
       "...                                             ...   \n",
       "Patient 82                       1.0377541976448854   \n",
       "Patient 83                       0.6293115641000646   \n",
       "Patient 84                       1.0377541976448854   \n",
       "Patient 85                       1.0377541976448854   \n",
       "Patient 86                       0.4975304747273708   \n",
       "\n",
       "            delta_f1_f2_gtv_original_ngtdm_Coarseness  \\\n",
       "NaN         delta_f1_f2_gtv_original_ngtdm_Coarseness   \n",
       "Patient 1                           1.056893995552261   \n",
       "Patient 2                          0.8169427582621931   \n",
       "Patient 3                          0.9709532177707567   \n",
       "Patient 4                          1.0081334020936592   \n",
       "...                                               ...   \n",
       "Patient 82                         1.0240391149756944   \n",
       "Patient 83                         0.9452798907889297   \n",
       "Patient 84                         1.0240391149756944   \n",
       "Patient 85                         1.0240391149756944   \n",
       "Patient 86                         1.0051034100516172   \n",
       "\n",
       "            delta_f1_f2_gtv_original_ngtdm_Complexity  \\\n",
       "NaN         delta_f1_f2_gtv_original_ngtdm_Complexity   \n",
       "Patient 1                          0.9236888369368765   \n",
       "Patient 2                          1.3574295582631413   \n",
       "Patient 3                          2.0941032062565985   \n",
       "Patient 4                          1.0999682180827544   \n",
       "...                                               ...   \n",
       "Patient 82                          1.075895950419839   \n",
       "Patient 83                         1.5601381590195083   \n",
       "Patient 84                          1.075895950419839   \n",
       "Patient 85                          1.075895950419839   \n",
       "Patient 86                          3.294648864246911   \n",
       "\n",
       "            delta_f1_f2_gtv_original_ngtdm_Contrast  \\\n",
       "NaN         delta_f1_f2_gtv_original_ngtdm_Contrast   \n",
       "Patient 1                        0.9670507008915769   \n",
       "Patient 2                        1.1400354232110554   \n",
       "Patient 3                        0.9461689310720233   \n",
       "Patient 4                        0.8344736629283562   \n",
       "...                                             ...   \n",
       "Patient 82                       1.0410935531864232   \n",
       "Patient 83                       0.8717416706384625   \n",
       "Patient 84                       1.0410935531864232   \n",
       "Patient 85                       1.0410935531864232   \n",
       "Patient 86                       0.9758214587976093   \n",
       "\n",
       "            delta_f1_f2_gtv_original_ngtdm_Strength  \n",
       "NaN         delta_f1_f2_gtv_original_ngtdm_Strength  \n",
       "Patient 1                        1.0399378992331816  \n",
       "Patient 2                        0.9975796877958977  \n",
       "Patient 3                        1.8424700982909878  \n",
       "Patient 4                        1.1637164855137894  \n",
       "...                                             ...  \n",
       "Patient 82                        1.115809324281991  \n",
       "Patient 83                        1.297701862107879  \n",
       "Patient 84                        1.115809324281991  \n",
       "Patient 85                        1.115809324281991  \n",
       "Patient 86                        2.983945078333839  \n",
       "\n",
       "[87 rows x 107 columns]"
      ]
     },
     "execution_count": 26,
     "metadata": {},
     "output_type": "execute_result"
    }
   ],
   "source": [
    "# load data\n",
    "f1_f2_gtv_df = pd.read_csv(\"/mnt/c/Users/tachenne/delta-rad/Results GTV-PTV/ratio_f2_f1_gtv.csv\", sep =',', header=None, names=new_feature_list) # \n",
    "f1_f2_gtv_df\n"
   ]
  },
  {
   "cell_type": "code",
   "execution_count": 27,
   "metadata": {},
   "outputs": [
    {
     "name": "stdout",
     "output_type": "stream",
     "text": [
      "Index([         nan,  'Patient 1',  'Patient 2',  'Patient 3',  'Patient 4',\n",
      "        'Patient 5',  'Patient 6',  'Patient 7',  'Patient 8',  'Patient 9',\n",
      "       'Patient 10', 'Patient 11', 'Patient 12', 'Patient 13', 'Patient 14',\n",
      "       'Patient 15', 'Patient 16', 'Patient 17', 'Patient 18', 'Patient 19',\n",
      "       'Patient 20', 'Patient 21', 'Patient 22', 'Patient 23', 'Patient 24',\n",
      "       'Patient 25', 'Patient 26', 'Patient 27', 'Patient 28', 'Patient 29',\n",
      "       'Patient 30', 'Patient 31', 'Patient 32', 'Patient 33', 'Patient 34',\n",
      "       'Patient 35', 'Patient 36', 'Patient 37', 'Patient 38', 'Patient 39',\n",
      "       'Patient 40', 'Patient 41', 'Patient 42', 'Patient 43', 'Patient 44',\n",
      "       'Patient 45', 'Patient 46', 'Patient 47', 'Patient 48', 'Patient 49',\n",
      "       'Patient 50', 'Patient 51', 'Patient 52', 'Patient 53', 'Patient 54',\n",
      "       'Patient 55', 'Patient 56', 'Patient 57', 'Patient 58', 'Patient 59',\n",
      "       'Patient 60', 'Patient 61', 'Patient 62', 'Patient 63', 'Patient 64',\n",
      "       'Patient 65', 'Patient 66', 'Patient 67', 'Patient 68', 'Patient 69',\n",
      "       'Patient 70', 'Patient 71', 'Patient 72', 'Patient 73', 'Patient 74',\n",
      "       'Patient 75', 'Patient 76', 'Patient 77', 'Patient 78', 'Patient 79',\n",
      "       'Patient 80', 'Patient 81', 'Patient 82', 'Patient 83', 'Patient 84',\n",
      "       'Patient 85', 'Patient 86'],\n",
      "      dtype='object')\n"
     ]
    }
   ],
   "source": [
    "print(f1_f2_gtv_df.index)"
   ]
  },
  {
   "cell_type": "markdown",
   "metadata": {},
   "source": [
    "## Recreate X_train"
   ]
  },
  {
   "cell_type": "code",
   "execution_count": 28,
   "metadata": {},
   "outputs": [
    {
     "name": "stdout",
     "output_type": "stream",
     "text": [
      "60\n"
     ]
    }
   ],
   "source": [
    "train_patients_id = set(true_rec_train_patients.index).union(set(false_rec_train_patients.index))\n",
    "print(len(train_patients_id))"
   ]
  },
  {
   "cell_type": "code",
   "execution_count": 29,
   "metadata": {},
   "outputs": [
    {
     "name": "stdout",
     "output_type": "stream",
     "text": [
      "(60, 107)\n"
     ]
    }
   ],
   "source": [
    "X_train = f1_f2_gtv_df.loc[list(train_patients_id)]\n",
    "print(X_train.shape)"
   ]
  },
  {
   "cell_type": "markdown",
   "metadata": {},
   "source": [
    "## Recreate X_val"
   ]
  },
  {
   "cell_type": "code",
   "execution_count": 30,
   "metadata": {},
   "outputs": [
    {
     "name": "stdout",
     "output_type": "stream",
     "text": [
      "25\n"
     ]
    }
   ],
   "source": [
    "val_patients_id = set(true_rec_val_patients.index).union(set(false_rec_val_patients.index))\n",
    "print(len(val_patients_id))\n"
   ]
  },
  {
   "cell_type": "code",
   "execution_count": 31,
   "metadata": {},
   "outputs": [
    {
     "name": "stdout",
     "output_type": "stream",
     "text": [
      "(25, 107)\n"
     ]
    }
   ],
   "source": [
    "X_val = f1_f2_gtv_df.loc[list(val_patients_id)]\n",
    "print(X_val.shape)"
   ]
  },
  {
   "cell_type": "markdown",
   "metadata": {},
   "source": [
    "## Normalize data"
   ]
  },
  {
   "cell_type": "code",
   "execution_count": 32,
   "metadata": {},
   "outputs": [
    {
     "data": {
      "text/html": [
       "<div>\n",
       "<style scoped>\n",
       "    .dataframe tbody tr th:only-of-type {\n",
       "        vertical-align: middle;\n",
       "    }\n",
       "\n",
       "    .dataframe tbody tr th {\n",
       "        vertical-align: top;\n",
       "    }\n",
       "\n",
       "    .dataframe thead th {\n",
       "        text-align: right;\n",
       "    }\n",
       "</style>\n",
       "<table border=\"1\" class=\"dataframe\">\n",
       "  <thead>\n",
       "    <tr style=\"text-align: right;\">\n",
       "      <th></th>\n",
       "      <th>delta_f1_f2_gtv_original_shape_Elongation</th>\n",
       "      <th>delta_f1_f2_gtv_original_shape_Flatness</th>\n",
       "      <th>delta_f1_f2_gtv_original_shape_LeastAxisLength</th>\n",
       "      <th>delta_f1_f2_gtv_original_shape_MajorAxisLength</th>\n",
       "      <th>delta_f1_f2_gtv_original_shape_Maximum2DDiameterColumn</th>\n",
       "      <th>delta_f1_f2_gtv_original_shape_Maximum2DDiameterRow</th>\n",
       "      <th>delta_f1_f2_gtv_original_shape_Maximum2DDiameterSlice</th>\n",
       "      <th>delta_f1_f2_gtv_original_shape_Maximum3DDiameter</th>\n",
       "      <th>delta_f1_f2_gtv_original_shape_MeshVolume</th>\n",
       "      <th>delta_f1_f2_gtv_original_shape_MinorAxisLength</th>\n",
       "      <th>...</th>\n",
       "      <th>delta_f1_f2_gtv_original_gldm_LargeDependenceLowGrayLevelEmphasis</th>\n",
       "      <th>delta_f1_f2_gtv_original_gldm_LowGrayLevelEmphasis</th>\n",
       "      <th>delta_f1_f2_gtv_original_gldm_SmallDependenceEmphasis</th>\n",
       "      <th>delta_f1_f2_gtv_original_gldm_SmallDependenceHighGrayLevelEmphasis</th>\n",
       "      <th>delta_f1_f2_gtv_original_gldm_SmallDependenceLowGrayLevelEmphasis</th>\n",
       "      <th>delta_f1_f2_gtv_original_ngtdm_Busyness</th>\n",
       "      <th>delta_f1_f2_gtv_original_ngtdm_Coarseness</th>\n",
       "      <th>delta_f1_f2_gtv_original_ngtdm_Complexity</th>\n",
       "      <th>delta_f1_f2_gtv_original_ngtdm_Contrast</th>\n",
       "      <th>delta_f1_f2_gtv_original_ngtdm_Strength</th>\n",
       "    </tr>\n",
       "  </thead>\n",
       "  <tbody>\n",
       "    <tr>\n",
       "      <th>0</th>\n",
       "      <td>-0.170111</td>\n",
       "      <td>-0.181696</td>\n",
       "      <td>0.068536</td>\n",
       "      <td>0.173057</td>\n",
       "      <td>0.158250</td>\n",
       "      <td>0.149037</td>\n",
       "      <td>-0.145065</td>\n",
       "      <td>0.094805</td>\n",
       "      <td>0.058432</td>\n",
       "      <td>-0.283605</td>\n",
       "      <td>...</td>\n",
       "      <td>-1.066369</td>\n",
       "      <td>-1.154012</td>\n",
       "      <td>1.026517</td>\n",
       "      <td>2.711921</td>\n",
       "      <td>-0.854748</td>\n",
       "      <td>-1.744327</td>\n",
       "      <td>0.426354</td>\n",
       "      <td>1.880789</td>\n",
       "      <td>0.277403</td>\n",
       "      <td>1.712786</td>\n",
       "    </tr>\n",
       "    <tr>\n",
       "      <th>1</th>\n",
       "      <td>-0.152460</td>\n",
       "      <td>-0.121341</td>\n",
       "      <td>0.140167</td>\n",
       "      <td>0.154151</td>\n",
       "      <td>0.158250</td>\n",
       "      <td>-0.008250</td>\n",
       "      <td>-0.145065</td>\n",
       "      <td>-0.053422</td>\n",
       "      <td>0.098174</td>\n",
       "      <td>-0.164563</td>\n",
       "      <td>...</td>\n",
       "      <td>3.857938</td>\n",
       "      <td>2.012693</td>\n",
       "      <td>-2.200844</td>\n",
       "      <td>-1.793763</td>\n",
       "      <td>0.669096</td>\n",
       "      <td>2.009034</td>\n",
       "      <td>-0.030505</td>\n",
       "      <td>-1.351420</td>\n",
       "      <td>-0.736904</td>\n",
       "      <td>-0.849760</td>\n",
       "    </tr>\n",
       "    <tr>\n",
       "      <th>2</th>\n",
       "      <td>-0.134496</td>\n",
       "      <td>-0.027564</td>\n",
       "      <td>0.328927</td>\n",
       "      <td>0.180995</td>\n",
       "      <td>0.158250</td>\n",
       "      <td>0.149037</td>\n",
       "      <td>-0.145065</td>\n",
       "      <td>0.094805</td>\n",
       "      <td>0.239550</td>\n",
       "      <td>0.129995</td>\n",
       "      <td>...</td>\n",
       "      <td>1.336339</td>\n",
       "      <td>0.021210</td>\n",
       "      <td>-1.576823</td>\n",
       "      <td>-1.751824</td>\n",
       "      <td>-0.493324</td>\n",
       "      <td>1.839744</td>\n",
       "      <td>-0.345528</td>\n",
       "      <td>-1.481646</td>\n",
       "      <td>-1.062774</td>\n",
       "      <td>-1.165931</td>\n",
       "    </tr>\n",
       "    <tr>\n",
       "      <th>3</th>\n",
       "      <td>-0.121457</td>\n",
       "      <td>-0.069044</td>\n",
       "      <td>0.522172</td>\n",
       "      <td>0.369313</td>\n",
       "      <td>0.240460</td>\n",
       "      <td>0.247106</td>\n",
       "      <td>0.248757</td>\n",
       "      <td>0.270730</td>\n",
       "      <td>0.641226</td>\n",
       "      <td>0.983510</td>\n",
       "      <td>...</td>\n",
       "      <td>-0.540293</td>\n",
       "      <td>-0.692081</td>\n",
       "      <td>0.641562</td>\n",
       "      <td>0.602850</td>\n",
       "      <td>-0.527631</td>\n",
       "      <td>-0.508019</td>\n",
       "      <td>-0.205913</td>\n",
       "      <td>0.685345</td>\n",
       "      <td>-0.055925</td>\n",
       "      <td>0.267136</td>\n",
       "    </tr>\n",
       "    <tr>\n",
       "      <th>4</th>\n",
       "      <td>-0.620826</td>\n",
       "      <td>-3.059460</td>\n",
       "      <td>-4.607930</td>\n",
       "      <td>0.152795</td>\n",
       "      <td>-1.914903</td>\n",
       "      <td>-0.311238</td>\n",
       "      <td>-0.145065</td>\n",
       "      <td>-0.655332</td>\n",
       "      <td>-1.908995</td>\n",
       "      <td>-5.206890</td>\n",
       "      <td>...</td>\n",
       "      <td>0.687658</td>\n",
       "      <td>-0.265164</td>\n",
       "      <td>-1.280801</td>\n",
       "      <td>-0.735938</td>\n",
       "      <td>-0.564533</td>\n",
       "      <td>-1.932874</td>\n",
       "      <td>0.257930</td>\n",
       "      <td>-1.137378</td>\n",
       "      <td>-0.551045</td>\n",
       "      <td>-0.434516</td>\n",
       "    </tr>\n",
       "  </tbody>\n",
       "</table>\n",
       "<p>5 rows × 107 columns</p>\n",
       "</div>"
      ],
      "text/plain": [
       "   delta_f1_f2_gtv_original_shape_Elongation  \\\n",
       "0                                  -0.170111   \n",
       "1                                  -0.152460   \n",
       "2                                  -0.134496   \n",
       "3                                  -0.121457   \n",
       "4                                  -0.620826   \n",
       "\n",
       "   delta_f1_f2_gtv_original_shape_Flatness  \\\n",
       "0                                -0.181696   \n",
       "1                                -0.121341   \n",
       "2                                -0.027564   \n",
       "3                                -0.069044   \n",
       "4                                -3.059460   \n",
       "\n",
       "   delta_f1_f2_gtv_original_shape_LeastAxisLength  \\\n",
       "0                                        0.068536   \n",
       "1                                        0.140167   \n",
       "2                                        0.328927   \n",
       "3                                        0.522172   \n",
       "4                                       -4.607930   \n",
       "\n",
       "   delta_f1_f2_gtv_original_shape_MajorAxisLength  \\\n",
       "0                                        0.173057   \n",
       "1                                        0.154151   \n",
       "2                                        0.180995   \n",
       "3                                        0.369313   \n",
       "4                                        0.152795   \n",
       "\n",
       "   delta_f1_f2_gtv_original_shape_Maximum2DDiameterColumn  \\\n",
       "0                                           0.158250        \n",
       "1                                           0.158250        \n",
       "2                                           0.158250        \n",
       "3                                           0.240460        \n",
       "4                                          -1.914903        \n",
       "\n",
       "   delta_f1_f2_gtv_original_shape_Maximum2DDiameterRow  \\\n",
       "0                                           0.149037     \n",
       "1                                          -0.008250     \n",
       "2                                           0.149037     \n",
       "3                                           0.247106     \n",
       "4                                          -0.311238     \n",
       "\n",
       "   delta_f1_f2_gtv_original_shape_Maximum2DDiameterSlice  \\\n",
       "0                                          -0.145065       \n",
       "1                                          -0.145065       \n",
       "2                                          -0.145065       \n",
       "3                                           0.248757       \n",
       "4                                          -0.145065       \n",
       "\n",
       "   delta_f1_f2_gtv_original_shape_Maximum3DDiameter  \\\n",
       "0                                          0.094805   \n",
       "1                                         -0.053422   \n",
       "2                                          0.094805   \n",
       "3                                          0.270730   \n",
       "4                                         -0.655332   \n",
       "\n",
       "   delta_f1_f2_gtv_original_shape_MeshVolume  \\\n",
       "0                                   0.058432   \n",
       "1                                   0.098174   \n",
       "2                                   0.239550   \n",
       "3                                   0.641226   \n",
       "4                                  -1.908995   \n",
       "\n",
       "   delta_f1_f2_gtv_original_shape_MinorAxisLength  ...  \\\n",
       "0                                       -0.283605  ...   \n",
       "1                                       -0.164563  ...   \n",
       "2                                        0.129995  ...   \n",
       "3                                        0.983510  ...   \n",
       "4                                       -5.206890  ...   \n",
       "\n",
       "   delta_f1_f2_gtv_original_gldm_LargeDependenceLowGrayLevelEmphasis  \\\n",
       "0                                          -1.066369                   \n",
       "1                                           3.857938                   \n",
       "2                                           1.336339                   \n",
       "3                                          -0.540293                   \n",
       "4                                           0.687658                   \n",
       "\n",
       "   delta_f1_f2_gtv_original_gldm_LowGrayLevelEmphasis  \\\n",
       "0                                          -1.154012    \n",
       "1                                           2.012693    \n",
       "2                                           0.021210    \n",
       "3                                          -0.692081    \n",
       "4                                          -0.265164    \n",
       "\n",
       "   delta_f1_f2_gtv_original_gldm_SmallDependenceEmphasis  \\\n",
       "0                                           1.026517       \n",
       "1                                          -2.200844       \n",
       "2                                          -1.576823       \n",
       "3                                           0.641562       \n",
       "4                                          -1.280801       \n",
       "\n",
       "   delta_f1_f2_gtv_original_gldm_SmallDependenceHighGrayLevelEmphasis  \\\n",
       "0                                           2.711921                    \n",
       "1                                          -1.793763                    \n",
       "2                                          -1.751824                    \n",
       "3                                           0.602850                    \n",
       "4                                          -0.735938                    \n",
       "\n",
       "   delta_f1_f2_gtv_original_gldm_SmallDependenceLowGrayLevelEmphasis  \\\n",
       "0                                          -0.854748                   \n",
       "1                                           0.669096                   \n",
       "2                                          -0.493324                   \n",
       "3                                          -0.527631                   \n",
       "4                                          -0.564533                   \n",
       "\n",
       "   delta_f1_f2_gtv_original_ngtdm_Busyness  \\\n",
       "0                                -1.744327   \n",
       "1                                 2.009034   \n",
       "2                                 1.839744   \n",
       "3                                -0.508019   \n",
       "4                                -1.932874   \n",
       "\n",
       "   delta_f1_f2_gtv_original_ngtdm_Coarseness  \\\n",
       "0                                   0.426354   \n",
       "1                                  -0.030505   \n",
       "2                                  -0.345528   \n",
       "3                                  -0.205913   \n",
       "4                                   0.257930   \n",
       "\n",
       "   delta_f1_f2_gtv_original_ngtdm_Complexity  \\\n",
       "0                                   1.880789   \n",
       "1                                  -1.351420   \n",
       "2                                  -1.481646   \n",
       "3                                   0.685345   \n",
       "4                                  -1.137378   \n",
       "\n",
       "   delta_f1_f2_gtv_original_ngtdm_Contrast  \\\n",
       "0                                 0.277403   \n",
       "1                                -0.736904   \n",
       "2                                -1.062774   \n",
       "3                                -0.055925   \n",
       "4                                -0.551045   \n",
       "\n",
       "   delta_f1_f2_gtv_original_ngtdm_Strength  \n",
       "0                                 1.712786  \n",
       "1                                -0.849760  \n",
       "2                                -1.165931  \n",
       "3                                 0.267136  \n",
       "4                                -0.434516  \n",
       "\n",
       "[5 rows x 107 columns]"
      ]
     },
     "execution_count": 32,
     "metadata": {},
     "output_type": "execute_result"
    }
   ],
   "source": [
    "from sklearn.preprocessing import StandardScaler\n",
    "znorm_scaler = StandardScaler()\n",
    "znorm_scaled_x_train = znorm_scaler.fit(X_train)\n",
    "znorm_scaled_x_train = znorm_scaler.transform(X_train)\n",
    "znorm_scaled_x_train = pd.DataFrame(znorm_scaled_x_train, columns=X_train.columns)\n",
    "znorm_scaled_x_train.head()"
   ]
  },
  {
   "cell_type": "code",
   "execution_count": 33,
   "metadata": {},
   "outputs": [
    {
     "data": {
      "text/html": [
       "<div>\n",
       "<style scoped>\n",
       "    .dataframe tbody tr th:only-of-type {\n",
       "        vertical-align: middle;\n",
       "    }\n",
       "\n",
       "    .dataframe tbody tr th {\n",
       "        vertical-align: top;\n",
       "    }\n",
       "\n",
       "    .dataframe thead th {\n",
       "        text-align: right;\n",
       "    }\n",
       "</style>\n",
       "<table border=\"1\" class=\"dataframe\">\n",
       "  <thead>\n",
       "    <tr style=\"text-align: right;\">\n",
       "      <th></th>\n",
       "      <th>delta_f1_f2_gtv_original_shape_Elongation</th>\n",
       "      <th>delta_f1_f2_gtv_original_shape_Flatness</th>\n",
       "      <th>delta_f1_f2_gtv_original_shape_LeastAxisLength</th>\n",
       "      <th>delta_f1_f2_gtv_original_shape_MajorAxisLength</th>\n",
       "      <th>delta_f1_f2_gtv_original_shape_Maximum2DDiameterColumn</th>\n",
       "      <th>delta_f1_f2_gtv_original_shape_Maximum2DDiameterRow</th>\n",
       "      <th>delta_f1_f2_gtv_original_shape_Maximum2DDiameterSlice</th>\n",
       "      <th>delta_f1_f2_gtv_original_shape_Maximum3DDiameter</th>\n",
       "      <th>delta_f1_f2_gtv_original_shape_MeshVolume</th>\n",
       "      <th>delta_f1_f2_gtv_original_shape_MinorAxisLength</th>\n",
       "      <th>...</th>\n",
       "      <th>delta_f1_f2_gtv_original_gldm_LargeDependenceLowGrayLevelEmphasis</th>\n",
       "      <th>delta_f1_f2_gtv_original_gldm_LowGrayLevelEmphasis</th>\n",
       "      <th>delta_f1_f2_gtv_original_gldm_SmallDependenceEmphasis</th>\n",
       "      <th>delta_f1_f2_gtv_original_gldm_SmallDependenceHighGrayLevelEmphasis</th>\n",
       "      <th>delta_f1_f2_gtv_original_gldm_SmallDependenceLowGrayLevelEmphasis</th>\n",
       "      <th>delta_f1_f2_gtv_original_ngtdm_Busyness</th>\n",
       "      <th>delta_f1_f2_gtv_original_ngtdm_Coarseness</th>\n",
       "      <th>delta_f1_f2_gtv_original_ngtdm_Complexity</th>\n",
       "      <th>delta_f1_f2_gtv_original_ngtdm_Contrast</th>\n",
       "      <th>delta_f1_f2_gtv_original_ngtdm_Strength</th>\n",
       "    </tr>\n",
       "  </thead>\n",
       "  <tbody>\n",
       "    <tr>\n",
       "      <th>0</th>\n",
       "      <td>-0.086408</td>\n",
       "      <td>0.280890</td>\n",
       "      <td>0.122178</td>\n",
       "      <td>-0.273300</td>\n",
       "      <td>-0.004127</td>\n",
       "      <td>-0.041872</td>\n",
       "      <td>-0.194819</td>\n",
       "      <td>0.269085</td>\n",
       "      <td>-0.664092</td>\n",
       "      <td>-0.155675</td>\n",
       "      <td>...</td>\n",
       "      <td>0.179233</td>\n",
       "      <td>0.246965</td>\n",
       "      <td>-0.270970</td>\n",
       "      <td>-0.205796</td>\n",
       "      <td>-0.038571</td>\n",
       "      <td>0.123410</td>\n",
       "      <td>0.846770</td>\n",
       "      <td>-0.380744</td>\n",
       "      <td>0.154241</td>\n",
       "      <td>-0.166836</td>\n",
       "    </tr>\n",
       "    <tr>\n",
       "      <th>1</th>\n",
       "      <td>-0.673783</td>\n",
       "      <td>-2.499779</td>\n",
       "      <td>-1.549553</td>\n",
       "      <td>1.593620</td>\n",
       "      <td>1.402494</td>\n",
       "      <td>1.063966</td>\n",
       "      <td>-0.194819</td>\n",
       "      <td>0.347114</td>\n",
       "      <td>-0.514963</td>\n",
       "      <td>-0.358728</td>\n",
       "      <td>...</td>\n",
       "      <td>-0.489903</td>\n",
       "      <td>-0.175231</td>\n",
       "      <td>-0.234213</td>\n",
       "      <td>-0.255109</td>\n",
       "      <td>0.084452</td>\n",
       "      <td>-0.852627</td>\n",
       "      <td>0.045101</td>\n",
       "      <td>0.394392</td>\n",
       "      <td>-0.498769</td>\n",
       "      <td>0.433404</td>\n",
       "    </tr>\n",
       "    <tr>\n",
       "      <th>2</th>\n",
       "      <td>-0.261134</td>\n",
       "      <td>-0.158116</td>\n",
       "      <td>0.255161</td>\n",
       "      <td>0.484549</td>\n",
       "      <td>-0.004127</td>\n",
       "      <td>0.007638</td>\n",
       "      <td>-0.194819</td>\n",
       "      <td>0.269085</td>\n",
       "      <td>0.378198</td>\n",
       "      <td>-0.151451</td>\n",
       "      <td>...</td>\n",
       "      <td>-0.711082</td>\n",
       "      <td>-0.836927</td>\n",
       "      <td>-0.861095</td>\n",
       "      <td>-0.594003</td>\n",
       "      <td>-1.003329</td>\n",
       "      <td>-0.145348</td>\n",
       "      <td>0.273249</td>\n",
       "      <td>-0.512472</td>\n",
       "      <td>-0.761011</td>\n",
       "      <td>-0.172082</td>\n",
       "    </tr>\n",
       "    <tr>\n",
       "      <th>3</th>\n",
       "      <td>0.108119</td>\n",
       "      <td>0.191314</td>\n",
       "      <td>-0.198579</td>\n",
       "      <td>-0.184851</td>\n",
       "      <td>-0.549685</td>\n",
       "      <td>-0.592645</td>\n",
       "      <td>0.058569</td>\n",
       "      <td>-0.140933</td>\n",
       "      <td>-0.118974</td>\n",
       "      <td>-0.157836</td>\n",
       "      <td>...</td>\n",
       "      <td>-0.102040</td>\n",
       "      <td>-0.007410</td>\n",
       "      <td>0.322841</td>\n",
       "      <td>0.335614</td>\n",
       "      <td>0.031964</td>\n",
       "      <td>0.085166</td>\n",
       "      <td>0.306606</td>\n",
       "      <td>0.288541</td>\n",
       "      <td>0.518940</td>\n",
       "      <td>0.201087</td>\n",
       "    </tr>\n",
       "    <tr>\n",
       "      <th>4</th>\n",
       "      <td>1.777133</td>\n",
       "      <td>-1.882506</td>\n",
       "      <td>-4.207442</td>\n",
       "      <td>-2.600162</td>\n",
       "      <td>2.681185</td>\n",
       "      <td>2.541450</td>\n",
       "      <td>-0.867756</td>\n",
       "      <td>-3.848211</td>\n",
       "      <td>-3.630214</td>\n",
       "      <td>1.433142</td>\n",
       "      <td>...</td>\n",
       "      <td>0.832820</td>\n",
       "      <td>0.904368</td>\n",
       "      <td>-0.436488</td>\n",
       "      <td>-1.199835</td>\n",
       "      <td>0.063238</td>\n",
       "      <td>1.408125</td>\n",
       "      <td>-0.896326</td>\n",
       "      <td>-0.683527</td>\n",
       "      <td>-0.622637</td>\n",
       "      <td>-0.715750</td>\n",
       "    </tr>\n",
       "  </tbody>\n",
       "</table>\n",
       "<p>5 rows × 107 columns</p>\n",
       "</div>"
      ],
      "text/plain": [
       "   delta_f1_f2_gtv_original_shape_Elongation  \\\n",
       "0                                  -0.086408   \n",
       "1                                  -0.673783   \n",
       "2                                  -0.261134   \n",
       "3                                   0.108119   \n",
       "4                                   1.777133   \n",
       "\n",
       "   delta_f1_f2_gtv_original_shape_Flatness  \\\n",
       "0                                 0.280890   \n",
       "1                                -2.499779   \n",
       "2                                -0.158116   \n",
       "3                                 0.191314   \n",
       "4                                -1.882506   \n",
       "\n",
       "   delta_f1_f2_gtv_original_shape_LeastAxisLength  \\\n",
       "0                                        0.122178   \n",
       "1                                       -1.549553   \n",
       "2                                        0.255161   \n",
       "3                                       -0.198579   \n",
       "4                                       -4.207442   \n",
       "\n",
       "   delta_f1_f2_gtv_original_shape_MajorAxisLength  \\\n",
       "0                                       -0.273300   \n",
       "1                                        1.593620   \n",
       "2                                        0.484549   \n",
       "3                                       -0.184851   \n",
       "4                                       -2.600162   \n",
       "\n",
       "   delta_f1_f2_gtv_original_shape_Maximum2DDiameterColumn  \\\n",
       "0                                          -0.004127        \n",
       "1                                           1.402494        \n",
       "2                                          -0.004127        \n",
       "3                                          -0.549685        \n",
       "4                                           2.681185        \n",
       "\n",
       "   delta_f1_f2_gtv_original_shape_Maximum2DDiameterRow  \\\n",
       "0                                          -0.041872     \n",
       "1                                           1.063966     \n",
       "2                                           0.007638     \n",
       "3                                          -0.592645     \n",
       "4                                           2.541450     \n",
       "\n",
       "   delta_f1_f2_gtv_original_shape_Maximum2DDiameterSlice  \\\n",
       "0                                          -0.194819       \n",
       "1                                          -0.194819       \n",
       "2                                          -0.194819       \n",
       "3                                           0.058569       \n",
       "4                                          -0.867756       \n",
       "\n",
       "   delta_f1_f2_gtv_original_shape_Maximum3DDiameter  \\\n",
       "0                                          0.269085   \n",
       "1                                          0.347114   \n",
       "2                                          0.269085   \n",
       "3                                         -0.140933   \n",
       "4                                         -3.848211   \n",
       "\n",
       "   delta_f1_f2_gtv_original_shape_MeshVolume  \\\n",
       "0                                  -0.664092   \n",
       "1                                  -0.514963   \n",
       "2                                   0.378198   \n",
       "3                                  -0.118974   \n",
       "4                                  -3.630214   \n",
       "\n",
       "   delta_f1_f2_gtv_original_shape_MinorAxisLength  ...  \\\n",
       "0                                       -0.155675  ...   \n",
       "1                                       -0.358728  ...   \n",
       "2                                       -0.151451  ...   \n",
       "3                                       -0.157836  ...   \n",
       "4                                        1.433142  ...   \n",
       "\n",
       "   delta_f1_f2_gtv_original_gldm_LargeDependenceLowGrayLevelEmphasis  \\\n",
       "0                                           0.179233                   \n",
       "1                                          -0.489903                   \n",
       "2                                          -0.711082                   \n",
       "3                                          -0.102040                   \n",
       "4                                           0.832820                   \n",
       "\n",
       "   delta_f1_f2_gtv_original_gldm_LowGrayLevelEmphasis  \\\n",
       "0                                           0.246965    \n",
       "1                                          -0.175231    \n",
       "2                                          -0.836927    \n",
       "3                                          -0.007410    \n",
       "4                                           0.904368    \n",
       "\n",
       "   delta_f1_f2_gtv_original_gldm_SmallDependenceEmphasis  \\\n",
       "0                                          -0.270970       \n",
       "1                                          -0.234213       \n",
       "2                                          -0.861095       \n",
       "3                                           0.322841       \n",
       "4                                          -0.436488       \n",
       "\n",
       "   delta_f1_f2_gtv_original_gldm_SmallDependenceHighGrayLevelEmphasis  \\\n",
       "0                                          -0.205796                    \n",
       "1                                          -0.255109                    \n",
       "2                                          -0.594003                    \n",
       "3                                           0.335614                    \n",
       "4                                          -1.199835                    \n",
       "\n",
       "   delta_f1_f2_gtv_original_gldm_SmallDependenceLowGrayLevelEmphasis  \\\n",
       "0                                          -0.038571                   \n",
       "1                                           0.084452                   \n",
       "2                                          -1.003329                   \n",
       "3                                           0.031964                   \n",
       "4                                           0.063238                   \n",
       "\n",
       "   delta_f1_f2_gtv_original_ngtdm_Busyness  \\\n",
       "0                                 0.123410   \n",
       "1                                -0.852627   \n",
       "2                                -0.145348   \n",
       "3                                 0.085166   \n",
       "4                                 1.408125   \n",
       "\n",
       "   delta_f1_f2_gtv_original_ngtdm_Coarseness  \\\n",
       "0                                   0.846770   \n",
       "1                                   0.045101   \n",
       "2                                   0.273249   \n",
       "3                                   0.306606   \n",
       "4                                  -0.896326   \n",
       "\n",
       "   delta_f1_f2_gtv_original_ngtdm_Complexity  \\\n",
       "0                                  -0.380744   \n",
       "1                                   0.394392   \n",
       "2                                  -0.512472   \n",
       "3                                   0.288541   \n",
       "4                                  -0.683527   \n",
       "\n",
       "   delta_f1_f2_gtv_original_ngtdm_Contrast  \\\n",
       "0                                 0.154241   \n",
       "1                                -0.498769   \n",
       "2                                -0.761011   \n",
       "3                                 0.518940   \n",
       "4                                -0.622637   \n",
       "\n",
       "   delta_f1_f2_gtv_original_ngtdm_Strength  \n",
       "0                                -0.166836  \n",
       "1                                 0.433404  \n",
       "2                                -0.172082  \n",
       "3                                 0.201087  \n",
       "4                                -0.715750  \n",
       "\n",
       "[5 rows x 107 columns]"
      ]
     },
     "execution_count": 33,
     "metadata": {},
     "output_type": "execute_result"
    }
   ],
   "source": [
    "znorm_scaled_x_val = znorm_scaler.fit(X_val)\n",
    "znorm_scaled_x_val = znorm_scaler.transform(X_val)\n",
    "znorm_scaled_x_val = pd.DataFrame(znorm_scaled_x_val, columns=X_val.columns)\n",
    "znorm_scaled_x_val.head()"
   ]
  },
  {
   "cell_type": "markdown",
   "metadata": {},
   "source": [
    "## Get y_train and y_val"
   ]
  },
  {
   "cell_type": "code",
   "execution_count": 34,
   "metadata": {},
   "outputs": [
    {
     "data": {
      "text/html": [
       "<div>\n",
       "<style scoped>\n",
       "    .dataframe tbody tr th:only-of-type {\n",
       "        vertical-align: middle;\n",
       "    }\n",
       "\n",
       "    .dataframe tbody tr th {\n",
       "        vertical-align: top;\n",
       "    }\n",
       "\n",
       "    .dataframe thead th {\n",
       "        text-align: right;\n",
       "    }\n",
       "</style>\n",
       "<table border=\"1\" class=\"dataframe\">\n",
       "  <thead>\n",
       "    <tr style=\"text-align: right;\">\n",
       "      <th></th>\n",
       "      <th>Recurrence</th>\n",
       "    </tr>\n",
       "  </thead>\n",
       "  <tbody>\n",
       "    <tr>\n",
       "      <th>Patient 61</th>\n",
       "      <td>False</td>\n",
       "    </tr>\n",
       "    <tr>\n",
       "      <th>Patient 52</th>\n",
       "      <td>True</td>\n",
       "    </tr>\n",
       "    <tr>\n",
       "      <th>Patient 60</th>\n",
       "      <td>True</td>\n",
       "    </tr>\n",
       "    <tr>\n",
       "      <th>Patient 32</th>\n",
       "      <td>True</td>\n",
       "    </tr>\n",
       "    <tr>\n",
       "      <th>Patient 65</th>\n",
       "      <td>False</td>\n",
       "    </tr>\n",
       "  </tbody>\n",
       "</table>\n",
       "</div>"
      ],
      "text/plain": [
       "            Recurrence\n",
       "Patient 61       False\n",
       "Patient 52        True\n",
       "Patient 60        True\n",
       "Patient 32        True\n",
       "Patient 65       False"
      ]
     },
     "execution_count": 34,
     "metadata": {},
     "output_type": "execute_result"
    }
   ],
   "source": [
    "y_train = cleaned_outcome_df.loc[list(train_patients_id)][['Recurrence']]\n",
    "y_train.head()"
   ]
  },
  {
   "cell_type": "code",
   "execution_count": 35,
   "metadata": {},
   "outputs": [
    {
     "data": {
      "text/html": [
       "<div>\n",
       "<style scoped>\n",
       "    .dataframe tbody tr th:only-of-type {\n",
       "        vertical-align: middle;\n",
       "    }\n",
       "\n",
       "    .dataframe tbody tr th {\n",
       "        vertical-align: top;\n",
       "    }\n",
       "\n",
       "    .dataframe thead th {\n",
       "        text-align: right;\n",
       "    }\n",
       "</style>\n",
       "<table border=\"1\" class=\"dataframe\">\n",
       "  <thead>\n",
       "    <tr style=\"text-align: right;\">\n",
       "      <th></th>\n",
       "      <th>Recurrence</th>\n",
       "    </tr>\n",
       "  </thead>\n",
       "  <tbody>\n",
       "    <tr>\n",
       "      <th>Patient 1</th>\n",
       "      <td>True</td>\n",
       "    </tr>\n",
       "    <tr>\n",
       "      <th>Patient 4</th>\n",
       "      <td>True</td>\n",
       "    </tr>\n",
       "    <tr>\n",
       "      <th>Patient 49</th>\n",
       "      <td>True</td>\n",
       "    </tr>\n",
       "    <tr>\n",
       "      <th>Patient 84</th>\n",
       "      <td>True</td>\n",
       "    </tr>\n",
       "    <tr>\n",
       "      <th>Patient 42</th>\n",
       "      <td>False</td>\n",
       "    </tr>\n",
       "  </tbody>\n",
       "</table>\n",
       "</div>"
      ],
      "text/plain": [
       "            Recurrence\n",
       "Patient 1         True\n",
       "Patient 4         True\n",
       "Patient 49        True\n",
       "Patient 84        True\n",
       "Patient 42       False"
      ]
     },
     "execution_count": 35,
     "metadata": {},
     "output_type": "execute_result"
    }
   ],
   "source": [
    "y_val = cleaned_outcome_df.loc[list(val_patients_id)][['Recurrence']]\n",
    "y_val.head()"
   ]
  },
  {
   "cell_type": "markdown",
   "metadata": {},
   "source": [
    "### avoid df errors"
   ]
  },
  {
   "cell_type": "code",
   "execution_count": 36,
   "metadata": {},
   "outputs": [],
   "source": [
    "y_train = y_train.values.reshape(-1, 1).ravel() # to avoid errors\n",
    "y_val = y_val.values.reshape(-1, 1).ravel() # to avoid errors"
   ]
  },
  {
   "cell_type": "markdown",
   "metadata": {},
   "source": [
    "# Random Forest\n",
    "The idea is to identify using the Gini index, which features are the most predictive for patient outcome. For that we plot the feature importance (using plot_importances). \n"
   ]
  },
  {
   "cell_type": "code",
   "execution_count": 64,
   "metadata": {},
   "outputs": [],
   "source": [
    "from sklearn.ensemble import RandomForestClassifier\n",
    "import sklearn_utils as sku \n"
   ]
  },
  {
   "cell_type": "code",
   "execution_count": 45,
   "metadata": {},
   "outputs": [
    {
     "name": "stdout",
     "output_type": "stream",
     "text": [
      "best mean cross-validation score: 0.845\n",
      "best parameters: {'max_depth': 5, 'n_estimators': 75}\n"
     ]
    }
   ],
   "source": [
    "\n",
    "param_grid = {'max_depth': range(1, 21, 4), 'n_estimators' : range(25, 1001, 25)} # maximimum depth tuning\n",
    "\n",
    "scorer = 'roc_auc' # 'f1'\n",
    "estimator = RandomForestClassifier(random_state=42) \n",
    "\n",
    "grid_rf = sku.hyper_parameters_search(estimator, znorm_scaled_x_train, y_train, param_grid, scorer=scorer, cv=5)"
   ]
  },
  {
   "cell_type": "markdown",
   "metadata": {},
   "source": [
    "### Plot feature importances"
   ]
  },
  {
   "cell_type": "code",
   "execution_count": 46,
   "metadata": {},
   "outputs": [],
   "source": [
    "def select_best_features(importances, feat_names, n_features):\n",
    "    # Combine importances and feature names into a list of tuples\n",
    "    feature_importance = list(zip(feat_names, importances))\n",
    "    \n",
    "    # Sort the list of tuples based on importances in descending order\n",
    "    sorted_features = sorted(feature_importance, key=lambda x: x[1], reverse=True)\n",
    "    \n",
    "    # Select top n_features from both input and sorted lists\n",
    "    top_features = {k: v for k, v in sorted_features[:n_features] if v > 0}\n",
    "\n",
    "    # Display the results\n",
    "    print(\"Top\", n_features, \"features:\")\n",
    "    for feature, importance in top_features.items():\n",
    "        print(f\"{feature}: {importance:.4f}\")\n",
    "\n",
    "    return top_features"
   ]
  },
  {
   "cell_type": "markdown",
   "metadata": {},
   "source": [
    "## Select most important features from RF\n"
   ]
  },
  {
   "cell_type": "code",
   "execution_count": 47,
   "metadata": {},
   "outputs": [
    {
     "name": "stdout",
     "output_type": "stream",
     "text": [
      "Top 5 features:\n",
      "delta_f1_f2_gtv_original_shape_VoxelVolume: 0.0457\n",
      "delta_f1_f2_gtv_original_shape_Sphericity: 0.0374\n",
      "delta_f1_f2_gtv_original_glszm_LargeAreaEmphasis: 0.0301\n",
      "delta_f1_f2_gtv_original_glcm_Autocorrelation: 0.0279\n",
      "delta_f1_f2_gtv_original_glrlm_RunPercentage: 0.0277\n"
     ]
    }
   ],
   "source": [
    "best_rf_features = select_best_features(grid_rf.best_estimator_.feature_importances_, znorm_scaled_x_train.columns, n_features=5)\n",
    "#sku.plot_importances(grid_rf.best_estimator_.feature_importances_, znorm_scaled_x_train.columns)"
   ]
  },
  {
   "cell_type": "markdown",
   "metadata": {},
   "source": [
    "# AdaBoost\n"
   ]
  },
  {
   "cell_type": "code",
   "execution_count": 56,
   "metadata": {},
   "outputs": [
    {
     "name": "stdout",
     "output_type": "stream",
     "text": [
      "best mean cross-validation score: 0.792\n",
      "best parameters: {'n_estimators': 25}\n"
     ]
    }
   ],
   "source": [
    "from sklearn.ensemble import AdaBoostClassifier\n",
    "\n",
    "param_grid = {'n_estimators' : range(25, 1001, 25)} # number of estimators tuning\n",
    "\n",
    "scorer = 'roc_auc' # 'f1'\n",
    "estimator = AdaBoostClassifier(random_state=42, algorithm='SAMME') \n",
    "\n",
    "grid_adab = sku.hyper_parameters_search(estimator, znorm_scaled_x_train, y_train, param_grid, scorer=scorer, cv=5)"
   ]
  },
  {
   "cell_type": "code",
   "execution_count": null,
   "metadata": {},
   "outputs": [
    {
     "name": "stdout",
     "output_type": "stream",
     "text": [
      "Top 5 features:\n",
      "delta_f1_f2_gtv_original_glcm_Imc1: 0.0980\n",
      "delta_f1_f2_gtv_original_shape_SurfaceVolumeRatio: 0.0933\n",
      "delta_f1_f2_gtv_original_ngtdm_Busyness: 0.0740\n",
      "delta_f1_f2_gtv_original_firstorder_Skewness: 0.0671\n",
      "delta_f1_f2_gtv_original_firstorder_Minimum: 0.0462\n"
     ]
    }
   ],
   "source": [
    "best_adab_features = select_best_features(grid_adab.best_estimator_.feature_importances_, znorm_scaled_x_train.columns, n_features=5)"
   ]
  },
  {
   "cell_type": "markdown",
   "metadata": {},
   "source": [
    "# Near Zero Variance\n"
   ]
  },
  {
   "cell_type": "markdown",
   "metadata": {},
   "source": [
    "## 0.01 Variance"
   ]
  },
  {
   "cell_type": "code",
   "execution_count": null,
   "metadata": {},
   "outputs": [],
   "source": [
    "from sklearn.feature_selection import VarianceThreshold\n",
    "\n",
    "selector = VarianceThreshold(threshold=0.01)\n",
    "X_filtered  = selector.fit_transform(X_train) # data have to have variance different than 0!! Not normalized!! \n"
   ]
  },
  {
   "cell_type": "code",
   "execution_count": null,
   "metadata": {},
   "outputs": [
    {
     "name": "stdout",
     "output_type": "stream",
     "text": [
      "Number of features before selection: 107 After selection: 78\n"
     ]
    }
   ],
   "source": [
    "selected_features1 = selector.get_feature_names_out(X_train.columns)\n",
    "print(\"Number of features before selection: {} After selection: {}\".format(len(X_train.columns), len(selected_features1)))"
   ]
  },
  {
   "cell_type": "markdown",
   "metadata": {},
   "source": [
    "## 0.1 Variance"
   ]
  },
  {
   "cell_type": "code",
   "execution_count": null,
   "metadata": {},
   "outputs": [],
   "source": [
    "selector = VarianceThreshold(threshold=0.1)\n",
    "X_filtered  = selector.fit_transform(X_train) # data have to have variance different than 0!! Not normalized!! "
   ]
  },
  {
   "cell_type": "code",
   "execution_count": null,
   "metadata": {},
   "outputs": [
    {
     "name": "stdout",
     "output_type": "stream",
     "text": [
      "Number of features before selection: 107 After selection: 25\n"
     ]
    }
   ],
   "source": [
    "selected_features2 = selector.get_feature_names_out(X_train.columns)\n",
    "print(\"Number of features before selection: {} After selection: {}\".format(len(X_train.columns), len(selected_features2)))"
   ]
  },
  {
   "cell_type": "markdown",
   "metadata": {},
   "source": [
    "# Statistics tests"
   ]
  },
  {
   "cell_type": "code",
   "execution_count": null,
   "metadata": {},
   "outputs": [],
   "source": [
    "from sklearn.feature_selection import GenericUnivariateSelect, f_classif, chi2, mutual_info_classif"
   ]
  },
  {
   "cell_type": "markdown",
   "metadata": {},
   "source": [
    "## ANOVA"
   ]
  },
  {
   "cell_type": "code",
   "execution_count": null,
   "metadata": {},
   "outputs": [
    {
     "data": {
      "text/plain": [
       "(60, 6)"
      ]
     },
     "execution_count": 302,
     "metadata": {},
     "output_type": "execute_result"
    }
   ],
   "source": [
    "selector = GenericUnivariateSelect(score_func=f_classif, mode='percentile', param=5)\n",
    "X_selected = selector.fit_transform(znorm_scaled_x_train, y_train)\n",
    "X_selected.shape"
   ]
  },
  {
   "cell_type": "code",
   "execution_count": null,
   "metadata": {},
   "outputs": [
    {
     "name": "stdout",
     "output_type": "stream",
     "text": [
      "Number of features before selection: 107 After selection: 6\n",
      "Selected features:  ['delta_f1_f2_gtv_original_glcm_Autocorrelation'\n",
      " 'delta_f1_f2_gtv_original_glrlm_HighGrayLevelRunEmphasis'\n",
      " 'delta_f1_f2_gtv_original_glrlm_RunPercentage'\n",
      " 'delta_f1_f2_gtv_original_glrlm_ShortRunHighGrayLevelEmphasis'\n",
      " 'delta_f1_f2_gtv_original_gldm_HighGrayLevelEmphasis'\n",
      " 'delta_f1_f2_gtv_original_gldm_SmallDependenceHighGrayLevelEmphasis']\n"
     ]
    }
   ],
   "source": [
    "selected_features_anova1 = selector.get_feature_names_out(znorm_scaled_x_train.columns)\n",
    "print(\"Number of features before selection: {} After selection: {}\".format(len(znorm_scaled_x_train.columns), len(selected_features_anova1)))\n",
    "print(\"Selected features: \", selected_features_anova1)"
   ]
  },
  {
   "cell_type": "code",
   "execution_count": null,
   "metadata": {},
   "outputs": [
    {
     "data": {
      "text/plain": [
       "(60, 5)"
      ]
     },
     "execution_count": 304,
     "metadata": {},
     "output_type": "execute_result"
    }
   ],
   "source": [
    "selector = GenericUnivariateSelect(score_func=f_classif, mode='k_best', param=5)\n",
    "X_selected = selector.fit_transform(znorm_scaled_x_train, y_train)\n",
    "X_selected.shape"
   ]
  },
  {
   "cell_type": "code",
   "execution_count": null,
   "metadata": {},
   "outputs": [
    {
     "name": "stdout",
     "output_type": "stream",
     "text": [
      "Number of features before selection: 107 After selection: 5\n",
      "Selected features:  ['delta_f1_f2_gtv_original_glcm_Autocorrelation'\n",
      " 'delta_f1_f2_gtv_original_glrlm_HighGrayLevelRunEmphasis'\n",
      " 'delta_f1_f2_gtv_original_glrlm_ShortRunHighGrayLevelEmphasis'\n",
      " 'delta_f1_f2_gtv_original_gldm_HighGrayLevelEmphasis'\n",
      " 'delta_f1_f2_gtv_original_gldm_SmallDependenceHighGrayLevelEmphasis']\n"
     ]
    }
   ],
   "source": [
    "selected_features_anova2 = selector.get_feature_names_out(znorm_scaled_x_train.columns)\n",
    "print(\"Number of features before selection: {} After selection: {}\".format(len(znorm_scaled_x_train.columns), len(selected_features_anova2)))\n",
    "print(\"Selected features: \", selected_features_anova2)"
   ]
  },
  {
   "cell_type": "markdown",
   "metadata": {},
   "source": [
    "## Chi-test"
   ]
  },
  {
   "cell_type": "code",
   "execution_count": null,
   "metadata": {},
   "outputs": [],
   "source": [
    "from sklearn.preprocessing import MinMaxScaler\n",
    "scaler = MinMaxScaler()\n",
    "X_train_minmax_scaled = scaler.fit_transform(X_train)\n"
   ]
  },
  {
   "cell_type": "code",
   "execution_count": null,
   "metadata": {},
   "outputs": [],
   "source": [
    "selector = GenericUnivariateSelect(score_func=chi2, mode='percentile', param=5)\n",
    "X_selected = selector.fit_transform(X_train_minmax_scaled, y_train) # chi2 does not support negative values"
   ]
  },
  {
   "cell_type": "code",
   "execution_count": null,
   "metadata": {},
   "outputs": [
    {
     "name": "stdout",
     "output_type": "stream",
     "text": [
      "Number of features before selection: 107 After selection: 6\n",
      "Selected features:  ['delta_f1_f2_gtv_original_glcm_Autocorrelation'\n",
      " 'delta_f1_f2_gtv_original_glcm_SumAverage'\n",
      " 'delta_f1_f2_gtv_original_glrlm_HighGrayLevelRunEmphasis'\n",
      " 'delta_f1_f2_gtv_original_glrlm_ShortRunHighGrayLevelEmphasis'\n",
      " 'delta_f1_f2_gtv_original_gldm_HighGrayLevelEmphasis'\n",
      " 'delta_f1_f2_gtv_original_gldm_SmallDependenceHighGrayLevelEmphasis']\n"
     ]
    }
   ],
   "source": [
    "selected_features_chi1 = selector.get_feature_names_out(znorm_scaled_x_train.columns)\n",
    "print(\"Number of features before selection: {} After selection: {}\".format(len(znorm_scaled_x_train.columns), len(selected_features_chi1)))\n",
    "print(\"Selected features: \", selected_features_chi1)"
   ]
  },
  {
   "cell_type": "code",
   "execution_count": null,
   "metadata": {},
   "outputs": [],
   "source": [
    "selector = GenericUnivariateSelect(score_func=chi2, mode='k_best', param=5)\n",
    "X_selected = selector.fit_transform(X_train_minmax_scaled, y_train) # chi2 does not support negative values"
   ]
  },
  {
   "cell_type": "code",
   "execution_count": null,
   "metadata": {},
   "outputs": [
    {
     "name": "stdout",
     "output_type": "stream",
     "text": [
      "Number of features before selection: 107 After selection: 5\n",
      "Selected features:  ['delta_f1_f2_gtv_original_glcm_Autocorrelation'\n",
      " 'delta_f1_f2_gtv_original_glrlm_HighGrayLevelRunEmphasis'\n",
      " 'delta_f1_f2_gtv_original_glrlm_ShortRunHighGrayLevelEmphasis'\n",
      " 'delta_f1_f2_gtv_original_gldm_HighGrayLevelEmphasis'\n",
      " 'delta_f1_f2_gtv_original_gldm_SmallDependenceHighGrayLevelEmphasis']\n"
     ]
    }
   ],
   "source": [
    "selected_features_chi2 = selector.get_feature_names_out(znorm_scaled_x_train.columns)\n",
    "print(\"Number of features before selection: {} After selection: {}\".format(len(znorm_scaled_x_train.columns), len(selected_features_chi2)))\n",
    "print(\"Selected features: \", selected_features_chi2)"
   ]
  },
  {
   "cell_type": "markdown",
   "metadata": {},
   "source": [
    "## Mutual info "
   ]
  },
  {
   "cell_type": "code",
   "execution_count": null,
   "metadata": {},
   "outputs": [],
   "source": [
    "selector = GenericUnivariateSelect(score_func=mutual_info_classif, mode='percentile', param=5)\n",
    "X_selected = selector.fit_transform(X_train_minmax_scaled, y_train) # chi2 does not support negative values"
   ]
  },
  {
   "cell_type": "code",
   "execution_count": null,
   "metadata": {},
   "outputs": [
    {
     "name": "stdout",
     "output_type": "stream",
     "text": [
      "Number of features before selection: 107 After selection: 6\n",
      "Selected features:  ['delta_f1_f2_gtv_original_glcm_JointAverage'\n",
      " 'delta_f1_f2_gtv_original_glcm_SumAverage'\n",
      " 'delta_f1_f2_gtv_original_glrlm_HighGrayLevelRunEmphasis'\n",
      " 'delta_f1_f2_gtv_original_glrlm_ShortRunHighGrayLevelEmphasis'\n",
      " 'delta_f1_f2_gtv_original_glszm_ZoneVariance'\n",
      " 'delta_f1_f2_gtv_original_gldm_HighGrayLevelEmphasis']\n"
     ]
    }
   ],
   "source": [
    "selected_features_mi1 = selector.get_feature_names_out(znorm_scaled_x_train.columns)\n",
    "print(\"Number of features before selection: {} After selection: {}\".format(len(znorm_scaled_x_train.columns), len(selected_features_mi1)))\n",
    "print(\"Selected features: \", selected_features_mi1)"
   ]
  },
  {
   "cell_type": "code",
   "execution_count": null,
   "metadata": {},
   "outputs": [],
   "source": [
    "selector = GenericUnivariateSelect(score_func=mutual_info_classif, mode='k_best', param=5)\n",
    "X_selected = selector.fit_transform(X_train_minmax_scaled, y_train) # chi2 does not support negative values"
   ]
  },
  {
   "cell_type": "code",
   "execution_count": null,
   "metadata": {},
   "outputs": [
    {
     "name": "stdout",
     "output_type": "stream",
     "text": [
      "Number of features before selection: 107 After selection: 5\n",
      "Selected features:  ['delta_f1_f2_gtv_original_glcm_JointAverage'\n",
      " 'delta_f1_f2_gtv_original_glcm_SumAverage'\n",
      " 'delta_f1_f2_gtv_original_glrlm_HighGrayLevelRunEmphasis'\n",
      " 'delta_f1_f2_gtv_original_glszm_ZoneVariance'\n",
      " 'delta_f1_f2_gtv_original_gldm_HighGrayLevelEmphasis']\n"
     ]
    }
   ],
   "source": [
    "selected_features_mi2 = selector.get_feature_names_out(znorm_scaled_x_train.columns)\n",
    "print(\"Number of features before selection: {} After selection: {}\".format(len(znorm_scaled_x_train.columns), len(selected_features_mi2)))\n",
    "print(\"Selected features: \", selected_features_mi2)"
   ]
  },
  {
   "cell_type": "markdown",
   "metadata": {},
   "source": [
    "## No selection"
   ]
  },
  {
   "cell_type": "code",
   "execution_count": null,
   "metadata": {},
   "outputs": [],
   "source": [
    "no_selection_features = znorm_scaled_x_train.columns"
   ]
  },
  {
   "cell_type": "markdown",
   "metadata": {},
   "source": [
    "## Random selection"
   ]
  },
  {
   "cell_type": "code",
   "execution_count": null,
   "metadata": {},
   "outputs": [
    {
     "name": "stdout",
     "output_type": "stream",
     "text": [
      "Selected features:  ['delta_f1_f2_gtv_original_firstorder_Minimum', 'delta_f1_f2_gtv_original_glrlm_ShortRunEmphasis', 'delta_f1_f2_gtv_original_glrlm_LongRunEmphasis', 'delta_f1_f2_gtv_original_glcm_DifferenceEntropy', 'delta_f1_f2_gtv_original_glszm_SizeZoneNonUniformity']\n"
     ]
    }
   ],
   "source": [
    "import random\n",
    "random_selected_features = random.sample(list(znorm_scaled_x_train.columns), 5)\n",
    "print(\"Selected features: \", random_selected_features)"
   ]
  },
  {
   "cell_type": "markdown",
   "metadata": {},
   "source": [
    "# LASSO"
   ]
  },
  {
   "cell_type": "code",
   "execution_count": 99,
   "metadata": {},
   "outputs": [
    {
     "name": "stdout",
     "output_type": "stream",
     "text": [
      "best mean cross-validation score: 0.720\n",
      "best parameters: {'alpha': 0.02}\n"
     ]
    }
   ],
   "source": [
    "# No selection? Random selection? \n",
    "from sklearn.linear_model import Lasso # hyperparameters is model__alpha, scoring = 'neg_mean_squared error\n",
    "\n",
    "param_grid = {'alpha' : list(np.arange(0.01, 0.11, 0.01))} # regularizer tuning\n",
    "\n",
    "scorer = 'roc_auc' # 'f1'\n",
    "estimator = Lasso(random_state=42) \n",
    "\n",
    "grid_lasso = sku.hyper_parameters_search(estimator, znorm_scaled_x_train, y_train, param_grid, scorer=scorer, cv=5)"
   ]
  },
  {
   "cell_type": "code",
   "execution_count": null,
   "metadata": {},
   "outputs": [
    {
     "name": "stdout",
     "output_type": "stream",
     "text": [
      "Top 5 features:\n",
      "delta_f1_f2_gtv_original_shape_VoxelVolume: 0.1151\n",
      "delta_f1_f2_gtv_original_firstorder_Skewness: 0.0688\n",
      "delta_f1_f2_gtv_original_shape_Sphericity: 0.0194\n",
      "delta_f1_f2_gtv_original_gldm_DependenceVariance: 0.0051\n"
     ]
    }
   ],
   "source": [
    "best_lasso_features = select_best_features(grid_lasso.best_estimator_.coef_, znorm_scaled_x_train.columns, n_features=5)        \n"
   ]
  },
  {
   "cell_type": "markdown",
   "metadata": {},
   "source": [
    "Features are removed if their importance is zero. That is why we have only 4 of them. "
   ]
  },
  {
   "cell_type": "markdown",
   "metadata": {},
   "source": [
    "# ICA"
   ]
  },
  {
   "cell_type": "code",
   "execution_count": null,
   "metadata": {},
   "outputs": [],
   "source": [
    "\n",
    "from sklearn.decomposition import FastICA  \n",
    "\n",
    "estimator = FastICA(random_state=42, n_components=5) \n",
    "X_filtered = estimator.fit_transform(znorm_scaled_x_train, y_train)"
   ]
  },
  {
   "cell_type": "markdown",
   "metadata": {},
   "source": [
    "Find the best number of independant components with: https://bmcgenomics.biomedcentral.com/articles/10.1186/s12864-017-4112-9 "
   ]
  },
  {
   "cell_type": "markdown",
   "metadata": {},
   "source": [
    "# PCA"
   ]
  },
  {
   "cell_type": "code",
   "execution_count": 42,
   "metadata": {},
   "outputs": [
    {
     "data": {
      "text/plain": [
       "(60, 107)"
      ]
     },
     "execution_count": 42,
     "metadata": {},
     "output_type": "execute_result"
    }
   ],
   "source": [
    "znorm_scaled_x_train.shape"
   ]
  },
  {
   "cell_type": "code",
   "execution_count": 39,
   "metadata": {},
   "outputs": [
    {
     "name": "stdout",
     "output_type": "stream",
     "text": [
      "60\n"
     ]
    },
    {
     "data": {
      "image/png": "[encoded data removed]",
      "text/plain": [
       "<Figure size 640x480 with 2 Axes>"
      ]
     },
     "metadata": {},
     "output_type": "display_data"
    }
   ],
   "source": [
    "from sklearn.decomposition import PCA   \n",
    "\n",
    "# Perform PCA\n",
    "pca = PCA(n_components=None)  # This will determine the number of components automatically\n",
    "X_pca = pca.fit_transform(znorm_scaled_x_train)\n",
    "\n",
    "# Get eigenvalues and explained variance ratio\n",
    "print(pca.n_components_)\n",
    "eigenvalues = pca.explained_variance_\n",
    "explained_variance = pca.explained_variance_ratio_\n",
    "\n",
    "plt.subplot(1,2,1), plt.plot(np.arange(1,pca.n_components_+1),eigenvalues)\n",
    "plt.title(\"Eigen values vs factor number\")\n",
    "plt.ylabel(\"Eigen values\")\n",
    "plt.xlabel(\"Factor number\")\n",
    "plt.subplot(1,2,2), plt.plot(np.arange(1,pca.n_components_+1),eigenvalues)\n",
    "plt.title(\"Zoom\")\n",
    "plt.ylabel(\"Eigen values\")\n",
    "plt.xlabel(\"Factor number\")\n",
    "plt.xlim([5, 12])\n",
    "plt.ylim([0, 6])\n",
    "plt.show()\n"
   ]
  },
  {
   "cell_type": "code",
   "execution_count": null,
   "metadata": {},
   "outputs": [
    {
     "name": "stdout",
     "output_type": "stream",
     "text": [
      "Number of components according to Kaiser criteria:  9\n"
     ]
    }
   ],
   "source": [
    "# kaiser criteria \n",
    "n_axes_kaiser  = len([x for x in eigenvalues if x > 1])\n",
    "print(\"Number of components according to Kaiser criteria: \", n_axes_kaiser)"
   ]
  },
  {
   "cell_type": "code",
   "execution_count": null,
   "metadata": {},
   "outputs": [
    {
     "data": {
      "image/png": "[encoded data removed]",
      "text/plain": [
       "<Figure size 640x480 with 2 Axes>"
      ]
     },
     "metadata": {},
     "output_type": "display_data"
    }
   ],
   "source": [
    "plt.subplot(1,2,1), plt.plot(np.arange(1,pca.n_components_+1), np.cumsum(explained_variance))\n",
    "plt.title(\"Cumulative explained variance ratio vs. # of factors\")\n",
    "plt.ylabel(\"Cumsum explained variance ratio\")\n",
    "plt.xlabel(\"Factor number\")\n",
    "plt.subplot(1,2,2), plt.plot(np.arange(1,pca.n_components_+1), np.cumsum(explained_variance))\n",
    "plt.title(\"Zoom\")\n",
    "plt.ylabel(\"Cumsum explained variance ratio\")\n",
    "plt.xlabel(\"Factor number\")\n",
    "plt.xlim([5, 12])\n",
    "plt.show()\n"
   ]
  },
  {
   "cell_type": "code",
   "execution_count": null,
   "metadata": {},
   "outputs": [
    {
     "name": "stdout",
     "output_type": "stream",
     "text": [
      "cumulated quality with 8 axes: 0.9553527900744723 , cumulated quality with 9 axes: 0.9634032258088715\n"
     ]
    }
   ],
   "source": [
    "print(\"cumulated quality with 8 axes: {} , cumulated quality with 9 axes: {}\".format(np.sum(explained_variance[:9]), np.sum(explained_variance[:10])))"
   ]
  },
  {
   "cell_type": "markdown",
   "metadata": {},
   "source": [
    "Let's test PCA with 7, 8 and 9 components"
   ]
  },
  {
   "cell_type": "markdown",
   "metadata": {},
   "source": [
    "## 7 components PCA "
   ]
  },
  {
   "cell_type": "code",
   "execution_count": 41,
   "metadata": {},
   "outputs": [
    {
     "data": {
      "text/plain": [
       "(60, 7)"
      ]
     },
     "execution_count": 41,
     "metadata": {},
     "output_type": "execute_result"
    }
   ],
   "source": [
    "pca = PCA(n_components=7)  # This will determine the number of components automatically\n",
    "X_pca = pca.fit_transform(znorm_scaled_x_train)\n",
    "X_pca.shape"
   ]
  },
  {
   "cell_type": "markdown",
   "metadata": {},
   "source": [
    "We are going to use the data like this in the prediction algorithm and not going back to the original dataframe and drop features. \n",
    "model.fit(X_pca, y_train)  # Assuming y_train is your target variable\n"
   ]
  },
  {
   "cell_type": "markdown",
   "metadata": {},
   "source": [
    "# Make pred"
   ]
  },
  {
   "cell_type": "markdown",
   "metadata": {},
   "source": [
    "## Drop useless features"
   ]
  },
  {
   "cell_type": "code",
   "execution_count": 48,
   "metadata": {},
   "outputs": [
    {
     "name": "stdout",
     "output_type": "stream",
     "text": [
      "(60, 5)\n"
     ]
    }
   ],
   "source": [
    "X_train_filtered = znorm_scaled_x_train[best_rf_features.keys()] # drop all features but the five best \n",
    "X_val_filtered = znorm_scaled_x_val[best_rf_features.keys()]\n",
    "print(X_train_filtered.shape)"
   ]
  },
  {
   "cell_type": "code",
   "execution_count": 49,
   "metadata": {},
   "outputs": [
    {
     "data": {
      "text/html": [
       "<div>\n",
       "<style scoped>\n",
       "    .dataframe tbody tr th:only-of-type {\n",
       "        vertical-align: middle;\n",
       "    }\n",
       "\n",
       "    .dataframe tbody tr th {\n",
       "        vertical-align: top;\n",
       "    }\n",
       "\n",
       "    .dataframe thead th {\n",
       "        text-align: right;\n",
       "    }\n",
       "</style>\n",
       "<table border=\"1\" class=\"dataframe\">\n",
       "  <thead>\n",
       "    <tr style=\"text-align: right;\">\n",
       "      <th></th>\n",
       "      <th>delta_f1_f2_gtv_original_shape_VoxelVolume</th>\n",
       "      <th>delta_f1_f2_gtv_original_shape_Sphericity</th>\n",
       "      <th>delta_f1_f2_gtv_original_glszm_LargeAreaEmphasis</th>\n",
       "      <th>delta_f1_f2_gtv_original_glcm_Autocorrelation</th>\n",
       "      <th>delta_f1_f2_gtv_original_glrlm_RunPercentage</th>\n",
       "    </tr>\n",
       "  </thead>\n",
       "  <tbody>\n",
       "    <tr>\n",
       "      <th>0</th>\n",
       "      <td>-0.668776</td>\n",
       "      <td>-0.029023</td>\n",
       "      <td>-0.361240</td>\n",
       "      <td>-0.126140</td>\n",
       "      <td>-0.122404</td>\n",
       "    </tr>\n",
       "    <tr>\n",
       "      <th>1</th>\n",
       "      <td>-0.523954</td>\n",
       "      <td>0.010243</td>\n",
       "      <td>-0.282151</td>\n",
       "      <td>-0.010489</td>\n",
       "      <td>-0.056482</td>\n",
       "    </tr>\n",
       "    <tr>\n",
       "      <th>2</th>\n",
       "      <td>0.383522</td>\n",
       "      <td>0.005060</td>\n",
       "      <td>-0.145923</td>\n",
       "      <td>-0.184334</td>\n",
       "      <td>-0.747371</td>\n",
       "    </tr>\n",
       "    <tr>\n",
       "      <th>3</th>\n",
       "      <td>-0.107348</td>\n",
       "      <td>0.099683</td>\n",
       "      <td>-0.152314</td>\n",
       "      <td>0.283441</td>\n",
       "      <td>0.400852</td>\n",
       "    </tr>\n",
       "    <tr>\n",
       "      <th>4</th>\n",
       "      <td>-3.632456</td>\n",
       "      <td>-0.987449</td>\n",
       "      <td>0.350397</td>\n",
       "      <td>-1.514491</td>\n",
       "      <td>-1.097437</td>\n",
       "    </tr>\n",
       "  </tbody>\n",
       "</table>\n",
       "</div>"
      ],
      "text/plain": [
       "   delta_f1_f2_gtv_original_shape_VoxelVolume  \\\n",
       "0                                   -0.668776   \n",
       "1                                   -0.523954   \n",
       "2                                    0.383522   \n",
       "3                                   -0.107348   \n",
       "4                                   -3.632456   \n",
       "\n",
       "   delta_f1_f2_gtv_original_shape_Sphericity  \\\n",
       "0                                  -0.029023   \n",
       "1                                   0.010243   \n",
       "2                                   0.005060   \n",
       "3                                   0.099683   \n",
       "4                                  -0.987449   \n",
       "\n",
       "   delta_f1_f2_gtv_original_glszm_LargeAreaEmphasis  \\\n",
       "0                                         -0.361240   \n",
       "1                                         -0.282151   \n",
       "2                                         -0.145923   \n",
       "3                                         -0.152314   \n",
       "4                                          0.350397   \n",
       "\n",
       "   delta_f1_f2_gtv_original_glcm_Autocorrelation  \\\n",
       "0                                      -0.126140   \n",
       "1                                      -0.010489   \n",
       "2                                      -0.184334   \n",
       "3                                       0.283441   \n",
       "4                                      -1.514491   \n",
       "\n",
       "   delta_f1_f2_gtv_original_glrlm_RunPercentage  \n",
       "0                                     -0.122404  \n",
       "1                                     -0.056482  \n",
       "2                                     -0.747371  \n",
       "3                                      0.400852  \n",
       "4                                     -1.097437  "
      ]
     },
     "execution_count": 49,
     "metadata": {},
     "output_type": "execute_result"
    }
   ],
   "source": [
    "X_val_filtered.head()"
   ]
  },
  {
   "cell_type": "markdown",
   "metadata": {},
   "source": [
    "## Decision Tree"
   ]
  },
  {
   "cell_type": "code",
   "execution_count": null,
   "metadata": {},
   "outputs": [
    {
     "name": "stdout",
     "output_type": "stream",
     "text": [
      "best mean cross-validation score: 0.789\n",
      "best parameters: {'min_samples_split': 12}\n"
     ]
    },
    {
     "data": {
      "image/png": "[encoded data removed]",
      "text/plain": [
       "<Figure size 640x480 with 1 Axes>"
      ]
     },
     "metadata": {},
     "output_type": "display_data"
    }
   ],
   "source": [
    "from sklearn.tree import DecisionTreeClassifier\n",
    "\n",
    "param_grid = {'min_samples_split': range(2, 60, 5)} # minimum number of samples required to split an internal node\n",
    "\n",
    "scorer = 'roc_auc'\n",
    "estimator = DecisionTreeClassifier(random_state=0, criterion='gini') # we can the change the criterion to entropy \n",
    "\n",
    "#HYPER PARAMETER SEARCH\n",
    "grid_dt = sku.hyper_parameters_search(estimator, X_train_filtered, y_train, param_grid, scorer=scorer, cv=5)\n",
    "\n",
    "# do the plotting\n",
    "sku.plot_cv_scoring(grid_dt,'min_samples_split', scorer, plot_errors=True)"
   ]
  },
  {
   "cell_type": "code",
   "execution_count": 51,
   "metadata": {},
   "outputs": [
    {
     "name": "stdout",
     "output_type": "stream",
     "text": [
      "PERFORMANCE METRICS\n",
      "\tTRAIN\tTEST\n",
      "ACC:\t95.00\t64.00\n",
      "SEN:\t100.00\t84.21\n",
      "SPE:\t81.25\t0.00\n",
      "PPV:\t93.62\t72.73\n",
      "F1:\t96.70\t78.05\n"
     ]
    },
    {
     "data": {
      "image/png": "[encoded data removed]",
      "text/plain": [
       "<Figure size 600x600 with 2 Axes>"
      ]
     },
     "metadata": {},
     "output_type": "display_data"
    },
    {
     "data": {
      "image/png": "[encoded data removed]",
      "text/plain": [
       "<Figure size 1200x400 with 2 Axes>"
      ]
     },
     "metadata": {},
     "output_type": "display_data"
    }
   ],
   "source": [
    "dt_model =  grid_dt.best_estimator_ \n",
    "sku.analyze_train_test_performance(dt_model, X_train_filtered, X_val_filtered, y_train, y_val)"
   ]
  },
  {
   "cell_type": "markdown",
   "metadata": {},
   "source": [
    "## Random Forest"
   ]
  },
  {
   "cell_type": "code",
   "execution_count": 52,
   "metadata": {},
   "outputs": [
    {
     "name": "stdout",
     "output_type": "stream",
     "text": [
      "best mean cross-validation score: 0.872\n",
      "best parameters: {'max_depth': 5, 'n_estimators': 25}\n"
     ]
    }
   ],
   "source": [
    "param_grid = {'max_depth': range(1, 21, 4), 'n_estimators' : range(25, 1001, 25)} # maximimum depth tuning\n",
    "\n",
    "scorer = 'roc_auc'\n",
    "estimator = RandomForestClassifier(random_state=42) \n",
    "\n",
    "grid_rf = sku.hyper_parameters_search(estimator, X_train_filtered, y_train, param_grid, scorer=scorer, cv=5)"
   ]
  },
  {
   "cell_type": "code",
   "execution_count": 54,
   "metadata": {},
   "outputs": [
    {
     "name": "stdout",
     "output_type": "stream",
     "text": [
      "PERFORMANCE METRICS\n",
      "\tTRAIN\tTEST\n",
      "ACC:\t100.00\t72.00\n",
      "SEN:\t100.00\t94.74\n",
      "SPE:\t100.00\t0.00\n",
      "PPV:\t100.00\t75.00\n",
      "F1:\t100.00\t83.72\n"
     ]
    },
    {
     "data": {
      "image/png": "[encoded data removed]",
      "text/plain": [
       "<Figure size 600x600 with 2 Axes>"
      ]
     },
     "metadata": {},
     "output_type": "display_data"
    },
    {
     "data": {
      "image/png": "[encoded data removed]",
      "text/plain": [
       "<Figure size 1200x400 with 2 Axes>"
      ]
     },
     "metadata": {},
     "output_type": "display_data"
    }
   ],
   "source": [
    "rf_model =  grid_rf.best_estimator_ \n",
    "sku.analyze_train_test_performance(rf_model, X_train_filtered, X_val_filtered, y_train, y_val)"
   ]
  },
  {
   "cell_type": "markdown",
   "metadata": {},
   "source": [
    "Mauvaise prédiction sur les labels False (ceux qui ont pas eu de récurrence) car en sous-effectif: tenter SMOTE "
   ]
  },
  {
   "cell_type": "markdown",
   "metadata": {},
   "source": [
    "## AdaBoost"
   ]
  },
  {
   "cell_type": "code",
   "execution_count": 57,
   "metadata": {},
   "outputs": [
    {
     "name": "stdout",
     "output_type": "stream",
     "text": [
      "best mean cross-validation score: 0.744\n",
      "best parameters: {'n_estimators': 100}\n"
     ]
    }
   ],
   "source": [
    "param_grid = {'n_estimators' : range(25, 1001, 25)} # number of estimators tuning\n",
    "\n",
    "scorer = 'roc_auc' # 'f1'\n",
    "estimator = AdaBoostClassifier(random_state=42, algorithm='SAMME') \n",
    "\n",
    "grid_adab = sku.hyper_parameters_search(estimator, X_train_filtered, y_train, param_grid, scorer=scorer, cv=5)"
   ]
  },
  {
   "cell_type": "code",
   "execution_count": 58,
   "metadata": {},
   "outputs": [
    {
     "name": "stdout",
     "output_type": "stream",
     "text": [
      "PERFORMANCE METRICS\n",
      "\tTRAIN\tTEST\n",
      "ACC:\t100.00\t56.00\n",
      "SEN:\t100.00\t63.16\n",
      "SPE:\t100.00\t33.33\n",
      "PPV:\t100.00\t75.00\n",
      "F1:\t100.00\t68.57\n"
     ]
    },
    {
     "data": {
      "image/png": "[encoded data removed]",
      "text/plain": [
       "<Figure size 600x600 with 2 Axes>"
      ]
     },
     "metadata": {},
     "output_type": "display_data"
    },
    {
     "data": {
      "image/png": "[encoded data removed]",
      "text/plain": [
       "<Figure size 1200x400 with 2 Axes>"
      ]
     },
     "metadata": {},
     "output_type": "display_data"
    }
   ],
   "source": [
    "adab_model =  grid_adab.best_estimator_ \n",
    "sku.analyze_train_test_performance(adab_model, X_train_filtered, X_val_filtered, y_train, y_val)"
   ]
  },
  {
   "cell_type": "markdown",
   "metadata": {},
   "source": [
    "## BaggingClassifier"
   ]
  },
  {
   "cell_type": "code",
   "execution_count": 107,
   "metadata": {},
   "outputs": [
    {
     "name": "stdout",
     "output_type": "stream",
     "text": [
      "best mean cross-validation score: 0.847\n",
      "best parameters: {'n_estimators': 475}\n"
     ]
    }
   ],
   "source": [
    "from sklearn.ensemble import BaggingClassifier\n",
    "\n",
    "param_grid = {'n_estimators' : range(25, 1001, 25)}\n",
    "bagg = BaggingClassifier(oob_score=True)\n",
    "\n",
    "grid_bagging = sku.hyper_parameters_search(bagg, X_train_filtered, y_train, param_grid, scorer=scorer, cv=5)"
   ]
  },
  {
   "cell_type": "code",
   "execution_count": 108,
   "metadata": {},
   "outputs": [
    {
     "name": "stdout",
     "output_type": "stream",
     "text": [
      "PERFORMANCE METRICS\n",
      "\tTRAIN\tTEST\n",
      "ACC:\t100.00\t64.00\n",
      "SEN:\t100.00\t78.95\n",
      "SPE:\t100.00\t16.67\n",
      "PPV:\t100.00\t75.00\n",
      "F1:\t100.00\t76.92\n"
     ]
    },
    {
     "data": {
      "image/png": "[encoded data removed]",
      "text/plain": [
       "<Figure size 600x600 with 2 Axes>"
      ]
     },
     "metadata": {},
     "output_type": "display_data"
    },
    {
     "data": {
      "image/png": "[encoded data removed]",
      "text/plain": [
       "<Figure size 1200x400 with 2 Axes>"
      ]
     },
     "metadata": {},
     "output_type": "display_data"
    }
   ],
   "source": [
    "bagg_model = grid_bagging.best_estimator_ \n",
    "sku.analyze_train_test_performance(bagg_model, X_train_filtered, X_val_filtered, y_train, y_val)"
   ]
  },
  {
   "cell_type": "markdown",
   "metadata": {},
   "source": [
    "## Linear SVM"
   ]
  },
  {
   "cell_type": "code",
   "execution_count": 61,
   "metadata": {},
   "outputs": [
    {
     "name": "stdout",
     "output_type": "stream",
     "text": [
      "best mean cross-validation score: 0.875\n",
      "best parameters: {'C': 0.04}\n"
     ]
    }
   ],
   "source": [
    "from sklearn.svm import LinearSVC\n",
    "\n",
    "lsvm = LinearSVC(random_state=42, dual=False)\n",
    "param_grid = {'C' : list(np.arange(0.01, 0.11, 0.01))} # number of estimators tuning\n",
    "\n",
    "grid_lsvm = sku.hyper_parameters_search(lsvm, X_train_filtered, y_train, param_grid, scorer=scorer, cv=5)"
   ]
  },
  {
   "cell_type": "code",
   "execution_count": 65,
   "metadata": {},
   "outputs": [
    {
     "name": "stdout",
     "output_type": "stream",
     "text": [
      "PERFORMANCE METRICS\n",
      "\tTRAIN\tTEST\n",
      "ACC:\t90.00\t64.00\n",
      "SEN:\t97.73\t78.95\n",
      "SPE:\t68.75\t16.67\n",
      "PPV:\t89.58\t75.00\n",
      "F1:\t93.48\t76.92\n"
     ]
    },
    {
     "data": {
      "image/png": "[encoded data removed]",
      "text/plain": [
       "<Figure size 600x600 with 2 Axes>"
      ]
     },
     "metadata": {},
     "output_type": "display_data"
    },
    {
     "ename": "AttributeError",
     "evalue": "'LinearSVC' object has no attribute 'predict_proba'",
     "output_type": "error",
     "traceback": [
      "\u001b[0;31m---------------------------------------------------------------------------\u001b[0m",
      "\u001b[0;31mAttributeError\u001b[0m                            Traceback (most recent call last)",
      "Cell \u001b[0;32mIn[65], line 2\u001b[0m\n\u001b[1;32m      1\u001b[0m lsvm_model \u001b[38;5;241m=\u001b[39m  grid_lsvm\u001b[38;5;241m.\u001b[39mbest_estimator_ \n\u001b[0;32m----> 2\u001b[0m \u001b[43msku\u001b[49m\u001b[38;5;241;43m.\u001b[39;49m\u001b[43manalyze_train_test_performance\u001b[49m\u001b[43m(\u001b[49m\u001b[43mlsvm_model\u001b[49m\u001b[43m,\u001b[49m\u001b[43m \u001b[49m\u001b[43mX_train_filtered\u001b[49m\u001b[43m,\u001b[49m\u001b[43m \u001b[49m\u001b[43mX_val_filtered\u001b[49m\u001b[43m,\u001b[49m\u001b[43m \u001b[49m\u001b[43my_train\u001b[49m\u001b[43m,\u001b[49m\u001b[43m \u001b[49m\u001b[43my_val\u001b[49m\u001b[43m)\u001b[49m\n",
      "File \u001b[0;32m/mnt/c/Users/tachenne/delta-rad/sklearn_utils.py:145\u001b[0m, in \u001b[0;36manalyze_train_test_performance\u001b[0;34m(clf, X_train, X_test, y_train, y_test)\u001b[0m\n\u001b[1;32m    142\u001b[0m plot_confusion_matrix(confmat_train, confmat_test)\n\u001b[1;32m    144\u001b[0m \u001b[38;5;66;03m# Plot ROC curve\u001b[39;00m\n\u001b[0;32m--> 145\u001b[0m y_prob \u001b[38;5;241m=\u001b[39m \u001b[43mclf\u001b[49m\u001b[38;5;241;43m.\u001b[39;49m\u001b[43mpredict_proba\u001b[49m(X_test)[:, \u001b[38;5;241m1\u001b[39m]\n\u001b[1;32m    146\u001b[0m plot_roc_curve(y_test, y_prob)\n",
      "\u001b[0;31mAttributeError\u001b[0m: 'LinearSVC' object has no attribute 'predict_proba'"
     ]
    }
   ],
   "source": [
    "lsvm_model =  grid_lsvm.best_estimator_ \n",
    "sku.analyze_train_test_performance(lsvm_model, X_train_filtered, X_val_filtered, y_train, y_val)"
   ]
  },
  {
   "cell_type": "markdown",
   "metadata": {},
   "source": [
    "## P-SVM\n",
    "Test KSVM model: https://scikit-learn.org/stable/auto_examples/kernel_approximation/plot_scalable_poly_kernels.html#establishing-the-kernelized-svm-model as predictor \n"
   ]
  },
  {
   "cell_type": "code",
   "execution_count": 68,
   "metadata": {},
   "outputs": [
    {
     "name": "stdout",
     "output_type": "stream",
     "text": [
      "best mean cross-validation score: 0.844\n",
      "best parameters: {'C': 0.01, 'degree': 3}\n"
     ]
    }
   ],
   "source": [
    "from sklearn.svm import SVC\n",
    "\n",
    "param_grid = {'C' : list(np.arange(0.01, 0.11, 0.01)), 'degree': range(2, 5, 1)} # number of estimators tuning\n",
    "\n",
    "ksvm = SVC( kernel=\"poly\", coef0=0, gamma=1.0, probability=True)\n",
    "grid_ksvm = sku.hyper_parameters_search(ksvm, X_train_filtered, y_train, param_grid, scorer=scorer, cv=5)"
   ]
  },
  {
   "cell_type": "code",
   "execution_count": null,
   "metadata": {},
   "outputs": [
    {
     "name": "stdout",
     "output_type": "stream",
     "text": [
      "PERFORMANCE METRICS\n",
      "\tTRAIN\tTEST\n",
      "ACC:\t86.67\t68.00\n",
      "SEN:\t100.00\t84.21\n",
      "SPE:\t50.00\t16.67\n",
      "PPV:\t84.62\t76.19\n",
      "F1:\t91.67\t80.00\n"
     ]
    },
    {
     "data": {
      "image/png": "[encoded data removed]",
      "text/plain": [
       "<Figure size 600x600 with 2 Axes>"
      ]
     },
     "metadata": {},
     "output_type": "display_data"
    },
    {
     "data": {
      "image/png": "[encoded data removed]",
      "text/plain": [
       "<Figure size 1200x400 with 2 Axes>"
      ]
     },
     "metadata": {},
     "output_type": "display_data"
    }
   ],
   "source": [
    "ksvm_model =  grid_ksvm.best_estimator_ \n",
    "sku.analyze_train_test_performance(ksvm_model, X_train_filtered, X_val_filtered, y_train, y_val)"
   ]
  },
  {
   "cell_type": "markdown",
   "metadata": {},
   "source": [
    "## KNN"
   ]
  },
  {
   "cell_type": "code",
   "execution_count": 70,
   "metadata": {},
   "outputs": [
    {
     "name": "stdout",
     "output_type": "stream",
     "text": [
      "best mean cross-validation score: 0.856\n",
      "best parameters: {'n_neighbors': 6}\n"
     ]
    },
    {
     "data": {
      "image/png": "[encoded data removed]",
      "text/plain": [
       "<Figure size 640x480 with 1 Axes>"
      ]
     },
     "metadata": {},
     "output_type": "display_data"
    }
   ],
   "source": [
    "from sklearn.neighbors import KNeighborsClassifier\n",
    "\n",
    "\n",
    "param_grid = {'n_neighbors': range(1,25)}\n",
    "\n",
    "estimator = KNeighborsClassifier()\n",
    "\n",
    "# param_grid\n",
    "grid_knn = sku.hyper_parameters_search(estimator, X_train_filtered, y_train, param_grid, scorer=scorer, cv=5)\n",
    "\n",
    "# do the plotting\n",
    "sku.plot_cv_scoring(grid_knn,'n_neighbors', scorer, plot_errors=True)"
   ]
  },
  {
   "cell_type": "code",
   "execution_count": 71,
   "metadata": {},
   "outputs": [
    {
     "name": "stdout",
     "output_type": "stream",
     "text": [
      "PERFORMANCE METRICS\n",
      "\tTRAIN\tTEST\n",
      "ACC:\t90.00\t56.00\n",
      "SEN:\t93.18\t73.68\n",
      "SPE:\t81.25\t0.00\n",
      "PPV:\t93.18\t70.00\n",
      "F1:\t93.18\t71.79\n"
     ]
    },
    {
     "data": {
      "image/png": "[encoded data removed]",
      "text/plain": [
       "<Figure size 600x600 with 2 Axes>"
      ]
     },
     "metadata": {},
     "output_type": "display_data"
    },
    {
     "data": {
      "image/png": "[encoded data removed]",
      "text/plain": [
       "<Figure size 1200x400 with 2 Axes>"
      ]
     },
     "metadata": {},
     "output_type": "display_data"
    }
   ],
   "source": [
    "knn_model =  grid_knn.best_estimator_ \n",
    "sku.analyze_train_test_performance(knn_model, X_train_filtered, X_val_filtered, y_train, y_val)"
   ]
  },
  {
   "cell_type": "code",
   "execution_count": 72,
   "metadata": {},
   "outputs": [
    {
     "name": "stdout",
     "output_type": "stream",
     "text": [
      "PERFORMANCE METRICS\n",
      "\tTRAIN\tTEST\n",
      "ACC:\t86.67\t60.00\n",
      "SEN:\t97.73\t78.95\n",
      "SPE:\t56.25\t0.00\n",
      "PPV:\t86.00\t71.43\n",
      "F1:\t91.49\t75.00\n"
     ]
    },
    {
     "data": {
      "image/png": "[encoded data removed]",
      "text/plain": [
       "<Figure size 600x600 with 2 Axes>"
      ]
     },
     "metadata": {},
     "output_type": "display_data"
    },
    {
     "data": {
      "image/png": "[encoded data removed]",
      "text/plain": [
       "<Figure size 1200x400 with 2 Axes>"
      ]
     },
     "metadata": {},
     "output_type": "display_data"
    }
   ],
   "source": [
    "esstimator = KNeighborsClassifier(n_neighbors=4)\n",
    "knn_model2 = estimator.fit(X_train_filtered, y_train)\n",
    "sku.analyze_train_test_performance(knn_model2, X_train_filtered, X_val_filtered, y_train, y_val)"
   ]
  },
  {
   "cell_type": "markdown",
   "metadata": {},
   "source": [
    "## Logistic Regression"
   ]
  },
  {
   "cell_type": "code",
   "execution_count": null,
   "metadata": {},
   "outputs": [
    {
     "name": "stdout",
     "output_type": "stream",
     "text": [
      "best mean cross-validation score: 0.838\n",
      "best parameters: {'solver': 'lbfgs'}\n"
     ]
    }
   ],
   "source": [
    "from sklearn.linear_model import LogisticRegression\n",
    "\n",
    "param_grid = {'solver': ['lbfgs', 'newton-cg']} # C is the inverse of regularization stength, as in SVM \n",
    "\n",
    "logreg = LogisticRegression(multi_class='multinomial', penalty=None) \n",
    "grid_logreg = sku.hyper_parameters_search(logreg, X_train_filtered, y_train, param_grid, scorer=scorer, cv=5)\n",
    "\n"
   ]
  },
  {
   "cell_type": "code",
   "execution_count": 91,
   "metadata": {},
   "outputs": [
    {
     "name": "stdout",
     "output_type": "stream",
     "text": [
      "PERFORMANCE METRICS\n",
      "\tTRAIN\tTEST\n",
      "ACC:\t86.67\t56.00\n",
      "SEN:\t93.18\t68.42\n",
      "SPE:\t68.75\t16.67\n",
      "PPV:\t89.13\t72.22\n",
      "F1:\t91.11\t70.27\n"
     ]
    },
    {
     "data": {
      "image/png": "[encoded data removed]",
      "text/plain": [
       "<Figure size 600x600 with 2 Axes>"
      ]
     },
     "metadata": {},
     "output_type": "display_data"
    },
    {
     "data": {
      "image/png": "[encoded data removed]",
      "text/plain": [
       "<Figure size 1200x400 with 2 Axes>"
      ]
     },
     "metadata": {},
     "output_type": "display_data"
    }
   ],
   "source": [
    "logreg_model = grid_logreg.best_estimator_\n",
    "sku.analyze_train_test_performance(logreg_model, X_train_filtered, X_val_filtered, y_train, y_val)"
   ]
  },
  {
   "cell_type": "markdown",
   "metadata": {},
   "source": [
    "## Logistic regression with Ridge"
   ]
  },
  {
   "cell_type": "code",
   "execution_count": 96,
   "metadata": {},
   "outputs": [
    {
     "name": "stdout",
     "output_type": "stream",
     "text": [
      "best mean cross-validation score: 0.876\n",
      "best parameters: {'C': 0.2021181818181818, 'solver': 'newton-cg'}\n"
     ]
    }
   ],
   "source": [
    "\n",
    "logreg_ridge = LogisticRegression(multi_class='multinomial', penalty='l2') \n",
    "grid_logreg_ridge = sku.hyper_parameters_search(logreg_ridge, X_train_filtered, y_train, param_grid, scorer=scorer, cv=5)\n"
   ]
  },
  {
   "cell_type": "code",
   "execution_count": 97,
   "metadata": {},
   "outputs": [
    {
     "name": "stdout",
     "output_type": "stream",
     "text": [
      "PERFORMANCE METRICS\n",
      "\tTRAIN\tTEST\n",
      "ACC:\t88.33\t64.00\n",
      "SEN:\t97.73\t84.21\n",
      "SPE:\t62.50\t0.00\n",
      "PPV:\t87.76\t72.73\n",
      "F1:\t92.47\t78.05\n"
     ]
    },
    {
     "data": {
      "image/png": "[encoded data removed]",
      "text/plain": [
       "<Figure size 600x600 with 2 Axes>"
      ]
     },
     "metadata": {},
     "output_type": "display_data"
    },
    {
     "data": {
      "image/png": "[encoded data removed]",
      "text/plain": [
       "<Figure size 1200x400 with 2 Axes>"
      ]
     },
     "metadata": {},
     "output_type": "display_data"
    }
   ],
   "source": [
    "logreg_ridge_model = grid_logreg_ridge.best_estimator_\n",
    "sku.analyze_train_test_performance(logreg_ridge_model, X_train_filtered, X_val_filtered, y_train, y_val)"
   ]
  },
  {
   "cell_type": "markdown",
   "metadata": {},
   "source": [
    "## Multi Layer Perceptron"
   ]
  },
  {
   "cell_type": "code",
   "execution_count": 105,
   "metadata": {},
   "outputs": [
    {
     "name": "stdout",
     "output_type": "stream",
     "text": [
      "best mean cross-validation score: 0.876\n",
      "best parameters: {'alpha': 0.01, 'learning_rate_init': 0.0001}\n"
     ]
    }
   ],
   "source": [
    "from sklearn.neural_network import MLPClassifier\n",
    "import warnings\n",
    "warnings.filterwarnings('ignore')\n",
    "\n",
    "param_grid = {\n",
    "    'alpha' : 10.0 ** -np.arange(2, 5), \n",
    "    'learning_rate_init': 10.0 ** -np.arange(2, 5),\n",
    "}\n",
    "\n",
    "scorer = 'roc_auc'\n",
    "mlp = MLPClassifier(random_state=42, max_iter=1000, hidden_layer_sizes=(100, 100), solver='adam', learning_rate='invscaling')\n",
    "grid_mlp = sku.hyper_parameters_search(mlp, X_train_filtered, y_train, param_grid, scorer=scorer, cv=5)"
   ]
  },
  {
   "cell_type": "code",
   "execution_count": 106,
   "metadata": {},
   "outputs": [
    {
     "name": "stdout",
     "output_type": "stream",
     "text": [
      "PERFORMANCE METRICS\n",
      "\tTRAIN\tTEST\n",
      "ACC:\t91.67\t68.00\n",
      "SEN:\t97.73\t84.21\n",
      "SPE:\t75.00\t16.67\n",
      "PPV:\t91.49\t76.19\n",
      "F1:\t94.51\t80.00\n"
     ]
    },
    {
     "data": {
      "image/png": "[encoded data removed]",
      "text/plain": [
       "<Figure size 600x600 with 2 Axes>"
      ]
     },
     "metadata": {},
     "output_type": "display_data"
    },
    {
     "data": {
      "image/png": "[encoded data removed]",
      "text/plain": [
       "<Figure size 1200x400 with 2 Axes>"
      ]
     },
     "metadata": {},
     "output_type": "display_data"
    }
   ],
   "source": [
    "mlp_model = grid_mlp.best_estimator_\n",
    "sku.analyze_train_test_performance(mlp_model, X_train_filtered, X_val_filtered, y_train, y_val) "
   ]
  },
  {
   "cell_type": "markdown",
   "metadata": {},
   "source": [
    "## XGBoost\n",
    "Installer avec pip et voir docu https://inside-machinelearning.com/xgboost/"
   ]
  },
  {
   "cell_type": "markdown",
   "metadata": {},
   "source": [
    "## LinearDiscriminantAnalysis"
   ]
  },
  {
   "cell_type": "markdown",
   "metadata": {},
   "source": [
    "## Quadratic DiscriminantAnalysis"
   ]
  }
 ],
 "metadata": {
  "kernelspec": {
   "display_name": "floradiomics",
   "language": "python",
   "name": "python3"
  },
  "language_info": {
   "codemirror_mode": {
    "name": "ipython",
    "version": 3
   },
   "file_extension": ".py",
   "mimetype": "text/x-python",
   "name": "python",
   "nbconvert_exporter": "python",
   "pygments_lexer": "ipython3",
   "version": "3.8.20"
  }
 },
 "nbformat": 4,
 "nbformat_minor": 2
}
