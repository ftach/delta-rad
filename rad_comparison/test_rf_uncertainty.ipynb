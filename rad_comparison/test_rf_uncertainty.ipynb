{
 "cells": [
  {
   "cell_type": "markdown",
   "metadata": {},
   "source": [
    "# Test Random Forest with uncertainty"
   ]
  },
  {
   "cell_type": "code",
   "execution_count": 15,
   "metadata": {},
   "outputs": [],
   "source": [
    "import dataset\n",
    "import os\n",
    "from sklearn.model_selection import train_test_split\n",
    "from sklearn.preprocessing import StandardScaler\n",
    "from sklearn.ensemble import RandomForestClassifier\n",
    "import feature_selection as fsa \n",
    "import predictions as p \n"
   ]
  },
  {
   "cell_type": "markdown",
   "metadata": {},
   "source": [
    "# Parameters"
   ]
  },
  {
   "cell_type": "code",
   "execution_count": 16,
   "metadata": {},
   "outputs": [],
   "source": [
    "folder_path = '/home/tachennf/Documents/delta-rad/extracted_radiomics/'\n",
    "table = 'rd_f1_f5_gtv.csv'\n",
    "outcome_csv = 'outcomes.csv'\n",
    "outcome = 'Récidive Locale'\n",
    "feat_sel_algo = 'ANOVA_PERC'\n",
    "max_features = 2"
   ]
  },
  {
   "cell_type": "markdown",
   "metadata": {},
   "source": [
    "# Load data"
   ]
  },
  {
   "cell_type": "code",
   "execution_count": 17,
   "metadata": {},
   "outputs": [],
   "source": [
    "X, y, features_list = dataset.get_xy(os.path.join(folder_path, table), os.path.join(folder_path, outcome_csv), outcome)\n",
    "X_train, _, y_train, _ = train_test_split(X, y, test_size=0.3, random_state=42, stratify=y[outcome])"
   ]
  },
  {
   "cell_type": "code",
   "execution_count": 18,
   "metadata": {},
   "outputs": [
    {
     "name": "stdout",
     "output_type": "stream",
     "text": [
      "26 features are selected after repeatability, reproductibility and correlation analysis\n"
     ]
    }
   ],
   "source": [
    "print(\"{} features are selected after repeatability, reproductibility and correlation analysis\".format(len(features_list)))"
   ]
  },
  {
   "cell_type": "code",
   "execution_count": 19,
   "metadata": {},
   "outputs": [],
   "source": [
    "znorm_scaler = StandardScaler()\n",
    "X_train = znorm_scaler.fit_transform(X_train)"
   ]
  },
  {
   "cell_type": "markdown",
   "metadata": {},
   "source": [
    "# Feature selection"
   ]
  },
  {
   "cell_type": "code",
   "execution_count": 20,
   "metadata": {},
   "outputs": [
    {
     "name": "stdout",
     "output_type": "stream",
     "text": [
      "['original_shape_Maximum2DDiameterRow']\n"
     ]
    }
   ],
   "source": [
    "best_features, best_feat_sel_model = fsa.get_best_features(X_train, y_train, feat_sel_algo, features_list=features_list, max_features=max_features)\n",
    "print(best_features)\n"
   ]
  },
  {
   "cell_type": "code",
   "execution_count": 21,
   "metadata": {},
   "outputs": [
    {
     "ename": "IndexError",
     "evalue": "arrays used as indices must be of integer (or boolean) type",
     "output_type": "error",
     "traceback": [
      "\u001b[0;31m---------------------------------------------------------------------------\u001b[0m",
      "\u001b[0;31mIndexError\u001b[0m                                Traceback (most recent call last)",
      "Cell \u001b[0;32mIn[21], line 1\u001b[0m\n\u001b[0;32m----> 1\u001b[0m sel_features, X_filtered \u001b[38;5;241m=\u001b[39m \u001b[43mfsa\u001b[49m\u001b[38;5;241;43m.\u001b[39;49m\u001b[43mfilter_dataset2\u001b[49m\u001b[43m(\u001b[49m\u001b[43mX_train\u001b[49m\u001b[43m,\u001b[49m\u001b[43m \u001b[49m\u001b[43mbest_features\u001b[49m\u001b[43m,\u001b[49m\u001b[43m \u001b[49m\u001b[38;5;28;43mlen\u001b[39;49m\u001b[43m(\u001b[49m\u001b[43mbest_features\u001b[49m\u001b[43m)\u001b[49m\u001b[43m,\u001b[49m\u001b[43m \u001b[49m\u001b[43mfeatures_list\u001b[49m\u001b[43m)\u001b[49m\n",
      "File \u001b[0;32m~/Documents/delta-rad/rad_comparison/feature_selection.py:342\u001b[0m, in \u001b[0;36mfilter_dataset2\u001b[0;34m(X, best_features, nb_features, feature_names)\u001b[0m\n\u001b[1;32m    339\u001b[0m selected_features \u001b[38;5;241m=\u001b[39m best_features[:nb_features] \u001b[38;5;66;03m# select only i best features \u001b[39;00m\n\u001b[1;32m    341\u001b[0m \u001b[38;5;66;03m# Use indices to filter the arrays\u001b[39;00m\n\u001b[0;32m--> 342\u001b[0m X_filtered \u001b[38;5;241m=\u001b[39m \u001b[43mX\u001b[49m\u001b[43m[\u001b[49m\u001b[43mselected_features\u001b[49m\u001b[43m]\u001b[49m\n\u001b[1;32m    344\u001b[0m \u001b[38;5;28;01mreturn\u001b[39;00m selected_features, X_filtered\n",
      "\u001b[0;31mIndexError\u001b[0m: arrays used as indices must be of integer (or boolean) type"
     ]
    }
   ],
   "source": [
    "sel_features, X_filtered = fsa.filter_dataset2(X_train, best_features, len(best_features), features_list)"
   ]
  },
  {
   "cell_type": "markdown",
   "metadata": {},
   "source": [
    "# Training"
   ]
  },
  {
   "cell_type": "code",
   "execution_count": null,
   "metadata": {},
   "outputs": [],
   "source": [
    "param_grid = [{'RF__max_depth': range(1, 5, 4), 'RF__n_estimators' : range(25, 1001, 25)}]\n",
    "model = RandomForestClassifier()\n",
    "model.fit(X_filtered, y_train)"
   ]
  }
 ],
 "metadata": {
  "kernelspec": {
   "display_name": "flothesis",
   "language": "python",
   "name": "python3"
  },
  "language_info": {
   "codemirror_mode": {
    "name": "ipython",
    "version": 3
   },
   "file_extension": ".py",
   "mimetype": "text/x-python",
   "name": "python",
   "nbconvert_exporter": "python",
   "pygments_lexer": "ipython3",
   "version": "3.8.20"
  }
 },
 "nbformat": 4,
 "nbformat_minor": 2
}
