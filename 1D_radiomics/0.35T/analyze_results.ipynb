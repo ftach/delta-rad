{
 "cells": [
  {
   "cell_type": "markdown",
   "metadata": {},
   "source": [
    "# Analyze results"
   ]
  },
  {
   "cell_type": "code",
   "execution_count": 1,
   "metadata": {},
   "outputs": [],
   "source": [
    "import json \n",
    "import pandas as pd \n",
    "import matplotlib.pyplot as plt\n",
    "import numpy as np\n",
    "import sys \n",
    "\n",
    "# Add the directory containing the module to the Python path\n",
    "module_path = '/home/tachennf/Documents/delta-rad/1D_radiomics/utils'\n",
    "if module_path not in sys.path:\n",
    "    sys.path.append(module_path)\n",
    "\n",
    "# Now you can import your module\n",
    "import analysis_functions as af\n",
    "import dataset"
   ]
  },
  {
   "cell_type": "markdown",
   "metadata": {},
   "source": [
    "# Retest Récidive Locale\n"
   ]
  },
  {
   "cell_type": "code",
   "execution_count": null,
   "metadata": {},
   "outputs": [
    {
     "name": "stdout",
     "output_type": "stream",
     "text": [
      "dict_keys(['simu_mridian_gtv.csv', 'f1_gtv.csv', 'f3_gtv.csv', 'f5_gtv.csv', 'rd_simu_f1_gtv.csv', 'rd_simu_f3_gtv.csv', 'rd_simu_f5_gtv.csv', 'rd_f1_f3_gtv.csv', 'rd_f1_f5_gtv.csv'])\n",
      "['RF']\n",
      "['ANOVA_K_BEST']\n"
     ]
    }
   ],
   "source": [
    "params = dataset.load_config(\"/home/tachennf/Documents/delta-rad/1D_radiomics/settings.yaml\")\n",
    "folder_path = params['paths']['data_folder_path']\n",
    "outcome_csv = params['paths']['outcome_csv_file']\n",
    "results_file = params['paths']['results_file']   \n",
    "delta_rad_tables = params['paths']['delta_rad_tables']\n",
    "outcomes_list = params['parameters']['outcomes_list']\n",
    "feat_sel_algo_list = params['parameters']['feat_sel_algo_list']\n",
    "pred_algo_list = params['parameters']['pred_algo_list']\n",
    "nice_tables = ['SIMU', 'F1', 'F3', 'F5', 'Simu_F1', 'Simu_F3', 'Simu_F5', 'F1_F3', 'F1_F5']\n",
    "\n",
    "results = pd.read_json(results_file)\n",
    "results_dict = json.load(open(results_file))\n",
    "print(results_dict.keys())  \n",
    "print(pred_algo_list)\n",
    "print(feat_sel_algo_list)"
   ]
  },
  {
   "cell_type": "markdown",
   "metadata": {},
   "source": [
    "# Compare one algo with different metrics and CI"
   ]
  },
  {
   "cell_type": "code",
   "execution_count": 3,
   "metadata": {},
   "outputs": [
    {
     "name": "stdout",
     "output_type": "stream",
     "text": [
      "1 ['original_shape_Elongation']\n",
      "Train AUC:  0.7224496877870716\n",
      "{'values': [0.541380853588975, 0.543774420854637, 0.47231101325553804, 0.897872941447959, 0.588823550323011], 'conf_int': [[0.192307692307692, 0.8571428571428571], [0.24375000000000002, 0.7916666666666661], [0.152211538461538, 0.884615384615384], [0.636363636363636, 1.0], [0.08863636363636301, 0.9287499999999981]]}\n",
      "Test AUC: 0.6088325558940241 (0.2626538461538458; 0.892434981684981)\n",
      "Test Brier loss: 0.2614731947137172 (0.182559037352773; 0.3442876976290575)\n",
      "Test sensitivity: 0.3833333333333332 (0.3833333333333332; 0.3833333333333332)\n",
      "Test specificity: 0.6036363636363634 (0.6036363636363634; 0.6036363636363634)\n",
      "\n",
      "2 ['original_shape_Elongation', 'original_firstorder_Kurtosis']\n",
      "Train AUC:  0.7473012702999102\n",
      "{'values': [0.544478092740592, 0.370069823793228, 0.380329755392569, 0.7658581260212091, 0.680843721565186], 'conf_int': [[0.152529761904761, 0.8500000000000001], [0.16666666666666602, 0.64621212121212], [0.0, 0.7677777777777771], [0.300480769230769, 1.0], [0.16602564102564102, 1.0]]}\n",
      "Test AUC: 0.5483159039025568 (0.1571405677655674; 0.8527979797979794)\n",
      "Test Brier loss: 0.24825516457177804 (0.1972438874532302; 0.3018427239103921)\n",
      "Test sensitivity: 0.55 (0.55; 0.55)\n",
      "Test specificity: 0.6418181818181816 (0.6418181818181816; 0.6418181818181816)\n",
      "\n",
      "3 ['original_shape_Elongation', 'original_firstorder_Kurtosis', 'original_glszm_LargeAreaHighGrayLevelEmphasis']\n",
      "Train AUC:  0.7856077529167524\n",
      "{'values': [0.40811749761498506, 0.33323382441863103, 0.42137318990334005, 0.7177823868179191, 0.43226146373467805], 'conf_int': [[0.0, 0.7504999999999991], [0.08141025641025601, 0.636363636363636], [0.152403846153846, 0.7000000000000001], [0.370833333333333, 1.0], [0.08333333333333301, 1.0]]}\n",
      "Test AUC: 0.46255367249791074 (0.1375961538461536; 0.8173727272727269)\n",
      "Test Brier loss: 0.262399773881581 (0.22813605774966578; 0.2972935084513368)\n",
      "Test sensitivity: 0.3833333333333332 (0.3833333333333332; 0.3833333333333332)\n",
      "Test specificity: 0.5418181818181816 (0.5418181818181816; 0.5418181818181816)\n",
      "\n"
     ]
    }
   ],
   "source": [
    "pred_algo = \"RF\"\n",
    "feat_sel_algo = \"ANOVA_K_BEST\"\n",
    "inter_res = results['simu_mridian_gtv.csv'][feat_sel_algo][pred_algo]['Récidive Locale']\n",
    "#for table in delta_rad_tables: \n",
    "for nb_features in inter_res.keys():\n",
    "    print(nb_features, inter_res[nb_features]['features'])\n",
    "    print(\"Train AUC: \", np.mean(inter_res[nb_features]['train_metrics']['auc']['values']))\n",
    "    print(inter_res[nb_features]['test_metrics']['auc'])\n",
    "    print(\"Test AUC: {} ({}; {})\".format(np.mean(inter_res[nb_features]['test_metrics']['auc']['values']), \n",
    "        np.mean(np.array(inter_res[nb_features]['test_metrics']['auc']['conf_int']), axis=0)[0], \n",
    "        np.mean(np.array(inter_res[nb_features]['test_metrics']['auc']['conf_int']), axis=0)[1]))\n",
    "    print(\"Test Brier loss: {} ({}; {})\".format(np.mean(inter_res[nb_features]['test_metrics']['brier_loss']['values']), \n",
    "        np.mean(np.array(inter_res[nb_features]['test_metrics']['brier_loss']['conf_int']), axis=0)[0], \n",
    "        np.mean(np.array(inter_res[nb_features]['test_metrics']['brier_loss']['conf_int']), axis=0)[1]))\n",
    "    print(\"Test sensitivity: {} ({}; {})\".format(np.mean(inter_res[nb_features]['test_metrics']['sensitivity']['values']), \n",
    "        np.mean(np.array(inter_res[nb_features]['test_metrics']['sensitivity']['conf_int']), axis=0)[0], \n",
    "        np.mean(np.array(inter_res[nb_features]['test_metrics']['sensitivity']['conf_int']), axis=0)[1]))\n",
    "    print(\"Test specificity: {} ({}; {})\".format(np.mean(inter_res[nb_features]['test_metrics']['specificity']['values']), \n",
    "        np.mean(np.array(inter_res[nb_features]['test_metrics']['specificity']['conf_int']), axis=0)[0], \n",
    "        np.mean(np.array(inter_res[nb_features]['test_metrics']['specificity']['conf_int']), axis=0)[1]))\n",
    "    print('')\n"
   ]
  },
  {
   "cell_type": "markdown",
   "metadata": {},
   "source": [
    "## Best train AUC"
   ]
  },
  {
   "cell_type": "code",
   "execution_count": 4,
   "metadata": {},
   "outputs": [
    {
     "name": "stdout",
     "output_type": "stream",
     "text": [
      "Top 3 results for each table and Récidive Locale in terms of train_auc:\n",
      "Top 3 mean results for table simu_mridian_gtv.csv:\n",
      "Mean train_auc: 0.7856077529167524, Prediction Algorithm: RF, Feature Selection Algorithm: ANOVA_K_BEST, Features: ['original_shape_Elongation', 'original_firstorder_Kurtosis', 'original_glszm_LargeAreaHighGrayLevelEmphasis']\n",
      "\n",
      "\n",
      "Top 3 mean results for table f1_gtv.csv:\n",
      "Mean train_auc: 0.8703993252037119, Prediction Algorithm: RF, Feature Selection Algorithm: ANOVA_K_BEST, Features: ['original_glcm_MCC', 'original_firstorder_Kurtosis']\n",
      "\n",
      "\n",
      "Top 3 mean results for table f3_gtv.csv:\n",
      "Mean train_auc: 0.8026266921452964, Prediction Algorithm: RF, Feature Selection Algorithm: ANOVA_K_BEST, Features: ['original_glszm_GrayLevelNonUniformityNormalized', 'original_glcm_MCC']\n",
      "\n",
      "\n",
      "Top 3 mean results for table f5_gtv.csv:\n",
      "Mean train_auc: 0.7885847107438013, Prediction Algorithm: RF, Feature Selection Algorithm: ANOVA_K_BEST, Features: ['original_glcm_Imc1', 'original_glcm_MCC']\n",
      "\n",
      "\n",
      "Top 3 mean results for table rd_simu_f1_gtv.csv:\n",
      "Mean train_auc: 0.8307007361689467, Prediction Algorithm: RF, Feature Selection Algorithm: ANOVA_K_BEST, Features: ['original_shape_Maximum2DDiameterSlice', 'original_glrlm_RunEntropy', 'original_gldm_DependenceEntropy']\n",
      "\n",
      "\n",
      "Top 3 mean results for table rd_simu_f3_gtv.csv:\n",
      "Mean train_auc: 0.7460625, Prediction Algorithm: RF, Feature Selection Algorithm: ANOVA_K_BEST, Features: ['original_glszm_ZoneEntropy', 'original_glrlm_RunEntropy', 'original_gldm_DependenceEntropy']\n",
      "\n",
      "\n",
      "Top 3 mean results for table rd_simu_f5_gtv.csv:\n",
      "Mean train_auc: 0.7474517420926964, Prediction Algorithm: RF, Feature Selection Algorithm: ANOVA_K_BEST, Features: ['original_glcm_InverseVariance', 'original_shape_SurfaceVolumeRatio', 'original_glrlm_RunLengthNonUniformity']\n",
      "\n",
      "\n",
      "Top 3 mean results for table rd_f1_f3_gtv.csv:\n",
      "Mean train_auc: 0.8225083457346255, Prediction Algorithm: RF, Feature Selection Algorithm: ANOVA_K_BEST, Features: ['original_shape_Maximum3DDiameter', 'original_shape_Maximum2DDiameterSlice', 'original_glszm_LargeAreaHighGrayLevelEmphasis']\n",
      "\n",
      "\n",
      "Top 3 mean results for table rd_f1_f5_gtv.csv:\n",
      "Mean train_auc: 0.8808513592337155, Prediction Algorithm: RF, Feature Selection Algorithm: ANOVA_K_BEST, Features: ['original_shape_Maximum3DDiameter', 'original_shape_Maximum2DDiameterRow', 'original_gldm_DependenceEntropy']\n",
      "\n",
      "\n"
     ]
    }
   ],
   "source": [
    "top_results = af.get_best_results(results, delta_rad_tables, feat_sel_algo_list, pred_algo_list, 'Récidive Locale', metric='train_auc', k = 3)"
   ]
  },
  {
   "cell_type": "code",
   "execution_count": 8,
   "metadata": {},
   "outputs": [
    {
     "name": "stdout",
     "output_type": "stream",
     "text": [
      "Top 1 results for each table and Récidive Locale in terms of train_auc:\n"
     ]
    },
    {
     "data": {
      "text/plain": [
       "({'whiskers': [<matplotlib.lines.Line2D at 0x7f17e134bbb0>,\n",
       "   <matplotlib.lines.Line2D at 0x7f17e134be50>,\n",
       "   <matplotlib.lines.Line2D at 0x7f17e135de50>,\n",
       "   <matplotlib.lines.Line2D at 0x7f17e1369130>,\n",
       "   <matplotlib.lines.Line2D at 0x7f17e1378130>,\n",
       "   <matplotlib.lines.Line2D at 0x7f17e13783d0>,\n",
       "   <matplotlib.lines.Line2D at 0x7f17e1305400>,\n",
       "   <matplotlib.lines.Line2D at 0x7f17e13056a0>,\n",
       "   <matplotlib.lines.Line2D at 0x7f17e13136a0>,\n",
       "   <matplotlib.lines.Line2D at 0x7f17e1313940>,\n",
       "   <matplotlib.lines.Line2D at 0x7f17e1321940>,\n",
       "   <matplotlib.lines.Line2D at 0x7f17e1321be0>,\n",
       "   <matplotlib.lines.Line2D at 0x7f17e132cbe0>,\n",
       "   <matplotlib.lines.Line2D at 0x7f17e132ce80>,\n",
       "   <matplotlib.lines.Line2D at 0x7f17e1339e80>,\n",
       "   <matplotlib.lines.Line2D at 0x7f17e12c9160>,\n",
       "   <matplotlib.lines.Line2D at 0x7f17e12d5160>,\n",
       "   <matplotlib.lines.Line2D at 0x7f17e12d5400>],\n",
       "  'caps': [<matplotlib.lines.Line2D at 0x7f17e135d130>,\n",
       "   <matplotlib.lines.Line2D at 0x7f17e135d3d0>,\n",
       "   <matplotlib.lines.Line2D at 0x7f17e13693d0>,\n",
       "   <matplotlib.lines.Line2D at 0x7f17e1369670>,\n",
       "   <matplotlib.lines.Line2D at 0x7f17e13786a0>,\n",
       "   <matplotlib.lines.Line2D at 0x7f17e1378940>,\n",
       "   <matplotlib.lines.Line2D at 0x7f17e1305940>,\n",
       "   <matplotlib.lines.Line2D at 0x7f17e1305be0>,\n",
       "   <matplotlib.lines.Line2D at 0x7f17e1313be0>,\n",
       "   <matplotlib.lines.Line2D at 0x7f17e1313e80>,\n",
       "   <matplotlib.lines.Line2D at 0x7f17e1321e80>,\n",
       "   <matplotlib.lines.Line2D at 0x7f17e132c160>,\n",
       "   <matplotlib.lines.Line2D at 0x7f17e1339160>,\n",
       "   <matplotlib.lines.Line2D at 0x7f17e1339400>,\n",
       "   <matplotlib.lines.Line2D at 0x7f17e12c9400>,\n",
       "   <matplotlib.lines.Line2D at 0x7f17e12c96a0>,\n",
       "   <matplotlib.lines.Line2D at 0x7f17e12d56a0>,\n",
       "   <matplotlib.lines.Line2D at 0x7f17e12d5940>],\n",
       "  'boxes': [<matplotlib.lines.Line2D at 0x7f17e134b910>,\n",
       "   <matplotlib.lines.Line2D at 0x7f17e135dbb0>,\n",
       "   <matplotlib.lines.Line2D at 0x7f17e1369e50>,\n",
       "   <matplotlib.lines.Line2D at 0x7f17e1305160>,\n",
       "   <matplotlib.lines.Line2D at 0x7f17e1313400>,\n",
       "   <matplotlib.lines.Line2D at 0x7f17e13216a0>,\n",
       "   <matplotlib.lines.Line2D at 0x7f17e132c940>,\n",
       "   <matplotlib.lines.Line2D at 0x7f17e1339be0>,\n",
       "   <matplotlib.lines.Line2D at 0x7f17e12c9e80>],\n",
       "  'medians': [<matplotlib.lines.Line2D at 0x7f17e135d670>,\n",
       "   <matplotlib.lines.Line2D at 0x7f17e1369910>,\n",
       "   <matplotlib.lines.Line2D at 0x7f17e1378be0>,\n",
       "   <matplotlib.lines.Line2D at 0x7f17e1305e80>,\n",
       "   <matplotlib.lines.Line2D at 0x7f17e1321160>,\n",
       "   <matplotlib.lines.Line2D at 0x7f17e132c400>,\n",
       "   <matplotlib.lines.Line2D at 0x7f17e13396a0>,\n",
       "   <matplotlib.lines.Line2D at 0x7f17e12c9940>,\n",
       "   <matplotlib.lines.Line2D at 0x7f17e12d5be0>],\n",
       "  'fliers': [<matplotlib.lines.Line2D at 0x7f17e135d910>,\n",
       "   <matplotlib.lines.Line2D at 0x7f17e1369bb0>,\n",
       "   <matplotlib.lines.Line2D at 0x7f17e1378e80>,\n",
       "   <matplotlib.lines.Line2D at 0x7f17e1313160>,\n",
       "   <matplotlib.lines.Line2D at 0x7f17e1321400>,\n",
       "   <matplotlib.lines.Line2D at 0x7f17e132c6a0>,\n",
       "   <matplotlib.lines.Line2D at 0x7f17e1339940>,\n",
       "   <matplotlib.lines.Line2D at 0x7f17e12c9be0>,\n",
       "   <matplotlib.lines.Line2D at 0x7f17e12d5e80>],\n",
       "  'means': []},\n",
       " Text(0.5, 1.0, 'Boxplot of train AUC for récidive locale'),\n",
       " (0.0, 1.0),\n",
       " ([<matplotlib.axis.XTick at 0x7f17e139be50>,\n",
       "   <matplotlib.axis.XTick at 0x7f17e139be20>,\n",
       "   <matplotlib.axis.XTick at 0x7f17e1399dc0>,\n",
       "   <matplotlib.axis.XTick at 0x7f17e12e38e0>,\n",
       "   <matplotlib.axis.XTick at 0x7f17e12e83d0>,\n",
       "   <matplotlib.axis.XTick at 0x7f17e12e8e80>,\n",
       "   <matplotlib.axis.XTick at 0x7f17e12ed970>,\n",
       "   <matplotlib.axis.XTick at 0x7f17e12f4460>,\n",
       "   <matplotlib.axis.XTick at 0x7f17e12e8790>],\n",
       "  [Text(1, 0, 'SIMU'),\n",
       "   Text(2, 0, 'F1'),\n",
       "   Text(3, 0, 'F3'),\n",
       "   Text(4, 0, 'F5'),\n",
       "   Text(5, 0, 'Simu_F1'),\n",
       "   Text(6, 0, 'Simu_F3'),\n",
       "   Text(7, 0, 'Simu_F5'),\n",
       "   Text(8, 0, 'F1_F3'),\n",
       "   Text(9, 0, 'F1_F5')]))"
      ]
     },
     "execution_count": 8,
     "metadata": {},
     "output_type": "execute_result"
    },
    {
     "data": {
      "image/png": "[encoded data removed]",
      "text/plain": [
       "<Figure size 800x550 with 1 Axes>"
      ]
     },
     "metadata": {},
     "output_type": "display_data"
    }
   ],
   "source": [
    "plt.style.use('seaborn-v0_8')\n",
    "widths = 0.1\n",
    "medianprops = dict(linestyle='-', linewidth=1, color='red')\n",
    "\n",
    "data = af.get_best_results_to_plot(results, delta_rad_tables, feat_sel_algo_list, pred_algo_list, metric='train_auc', outcome='Récidive Locale', k=1)\n",
    "plt.boxplot(data.values(), widths=widths, medianprops=medianprops), plt.title(f'Boxplot of train AUC for récidive locale'), plt.ylim([0, 1]), plt.xticks(range(1, len(delta_rad_tables) + 1), nice_tables), \n"
   ]
  },
  {
   "cell_type": "markdown",
   "metadata": {},
   "source": [
    "## Best train Brier loss"
   ]
  },
  {
   "cell_type": "code",
   "execution_count": null,
   "metadata": {},
   "outputs": [
    {
     "name": "stdout",
     "output_type": "stream",
     "text": [
      "Top 3 results for each table and Récidive Locale in terms of train_brier_loss:\n",
      "Top 3 mean results for table simu_mridian_gtv.csv:\n",
      "Mean train_brier_loss: 0.22241435126128478, Prediction Algorithm: RF, Feature Selection Algorithm: ANOVA_K_BEST, Features: ['original_shape_Elongation', 'original_firstorder_Kurtosis', 'original_glszm_LargeAreaHighGrayLevelEmphasis']\n",
      "\n",
      "\n",
      "Top 3 mean results for table f1_gtv.csv:\n",
      "Mean train_brier_loss: 0.2010879908297714, Prediction Algorithm: RF, Feature Selection Algorithm: ANOVA_K_BEST, Features: ['original_glcm_MCC', 'original_firstorder_Kurtosis', 'original_glszm_LargeAreaHighGrayLevelEmphasis']\n",
      "\n",
      "\n",
      "Top 3 mean results for table f3_gtv.csv:\n",
      "Mean train_brier_loss: 0.21203173557056462, Prediction Algorithm: RF, Feature Selection Algorithm: ANOVA_K_BEST, Features: ['original_glszm_GrayLevelNonUniformityNormalized']\n",
      "\n",
      "\n",
      "Top 3 mean results for table f5_gtv.csv:\n",
      "Mean train_brier_loss: 0.215992784186907, Prediction Algorithm: RF, Feature Selection Algorithm: ANOVA_K_BEST, Features: ['original_glcm_Imc1', 'original_glcm_MCC', 'original_glcm_Imc2']\n",
      "\n",
      "\n",
      "Top 3 mean results for table rd_simu_f1_gtv.csv:\n",
      "Mean train_brier_loss: 0.203997205778751, Prediction Algorithm: RF, Feature Selection Algorithm: ANOVA_K_BEST, Features: ['original_shape_Maximum2DDiameterSlice']\n",
      "\n",
      "\n",
      "Top 3 mean results for table rd_simu_f3_gtv.csv:\n",
      "Mean train_brier_loss: 0.21697829584052783, Prediction Algorithm: RF, Feature Selection Algorithm: ANOVA_K_BEST, Features: ['original_glszm_ZoneEntropy']\n",
      "\n",
      "\n",
      "Top 3 mean results for table rd_simu_f5_gtv.csv:\n",
      "Mean train_brier_loss: 0.2264196453772092, Prediction Algorithm: RF, Feature Selection Algorithm: ANOVA_K_BEST, Features: ['original_glcm_InverseVariance']\n",
      "\n",
      "\n",
      "Top 3 mean results for table rd_f1_f3_gtv.csv:\n",
      "Mean train_brier_loss: 0.2261573321014596, Prediction Algorithm: RF, Feature Selection Algorithm: ANOVA_K_BEST, Features: ['original_shape_Maximum3DDiameter', 'original_shape_Maximum2DDiameterSlice']\n",
      "\n",
      "\n",
      "Top 3 mean results for table rd_f1_f5_gtv.csv:\n",
      "Mean train_brier_loss: 0.2203371583704342, Prediction Algorithm: RF, Feature Selection Algorithm: ANOVA_K_BEST, Features: ['original_shape_Maximum3DDiameter']\n",
      "\n",
      "\n"
     ]
    }
   ],
   "source": [
    "top_results = af.get_best_results(results, delta_rad_tables, feat_sel_algo_list, pred_algo_list, 'Récidive Locale', metric='train_brier_loss', k = 3)"
   ]
  },
  {
   "cell_type": "code",
   "execution_count": 10,
   "metadata": {},
   "outputs": [
    {
     "name": "stdout",
     "output_type": "stream",
     "text": [
      "Top 1 results for each table and Récidive Locale in terms of train_brier_loss:\n"
     ]
    },
    {
     "data": {
      "text/plain": [
       "({'whiskers': [<matplotlib.lines.Line2D at 0x7f17e11413d0>,\n",
       "   <matplotlib.lines.Line2D at 0x7f17e1141670>,\n",
       "   <matplotlib.lines.Line2D at 0x7f17e114e670>,\n",
       "   <matplotlib.lines.Line2D at 0x7f17e114e910>,\n",
       "   <matplotlib.lines.Line2D at 0x7f17e115c910>,\n",
       "   <matplotlib.lines.Line2D at 0x7f17e115cbb0>,\n",
       "   <matplotlib.lines.Line2D at 0x7f17e1169be0>,\n",
       "   <matplotlib.lines.Line2D at 0x7f17e1169e80>,\n",
       "   <matplotlib.lines.Line2D at 0x7f17e1176e80>,\n",
       "   <matplotlib.lines.Line2D at 0x7f17e1104160>,\n",
       "   <matplotlib.lines.Line2D at 0x7f17e1112160>,\n",
       "   <matplotlib.lines.Line2D at 0x7f17e1112400>,\n",
       "   <matplotlib.lines.Line2D at 0x7f17e1122400>,\n",
       "   <matplotlib.lines.Line2D at 0x7f17e11226a0>,\n",
       "   <matplotlib.lines.Line2D at 0x7f17e11326a0>,\n",
       "   <matplotlib.lines.Line2D at 0x7f17e1132940>,\n",
       "   <matplotlib.lines.Line2D at 0x7f17e113e940>,\n",
       "   <matplotlib.lines.Line2D at 0x7f17e209b160>],\n",
       "  'caps': [<matplotlib.lines.Line2D at 0x7f17e1141910>,\n",
       "   <matplotlib.lines.Line2D at 0x7f17e1141bb0>,\n",
       "   <matplotlib.lines.Line2D at 0x7f17e114ebb0>,\n",
       "   <matplotlib.lines.Line2D at 0x7f17e114ee50>,\n",
       "   <matplotlib.lines.Line2D at 0x7f17e115ce50>,\n",
       "   <matplotlib.lines.Line2D at 0x7f17e1169130>,\n",
       "   <matplotlib.lines.Line2D at 0x7f17e1176160>,\n",
       "   <matplotlib.lines.Line2D at 0x7f17e1176400>,\n",
       "   <matplotlib.lines.Line2D at 0x7f17e1104400>,\n",
       "   <matplotlib.lines.Line2D at 0x7f17e11046a0>,\n",
       "   <matplotlib.lines.Line2D at 0x7f17e11126a0>,\n",
       "   <matplotlib.lines.Line2D at 0x7f17e1112940>,\n",
       "   <matplotlib.lines.Line2D at 0x7f17e1122940>,\n",
       "   <matplotlib.lines.Line2D at 0x7f17e1122be0>,\n",
       "   <matplotlib.lines.Line2D at 0x7f17e1132be0>,\n",
       "   <matplotlib.lines.Line2D at 0x7f17e1132e80>,\n",
       "   <matplotlib.lines.Line2D at 0x7f17e113ecd0>,\n",
       "   <matplotlib.lines.Line2D at 0x7f17e113ef70>],\n",
       "  'boxes': [<matplotlib.lines.Line2D at 0x7f17e1141130>,\n",
       "   <matplotlib.lines.Line2D at 0x7f17e114e3d0>,\n",
       "   <matplotlib.lines.Line2D at 0x7f17e115c670>,\n",
       "   <matplotlib.lines.Line2D at 0x7f17e1169910>,\n",
       "   <matplotlib.lines.Line2D at 0x7f17e1176be0>,\n",
       "   <matplotlib.lines.Line2D at 0x7f17e1104e80>,\n",
       "   <matplotlib.lines.Line2D at 0x7f17e1122160>,\n",
       "   <matplotlib.lines.Line2D at 0x7f17e1132400>,\n",
       "   <matplotlib.lines.Line2D at 0x7f17e113e6a0>],\n",
       "  'medians': [<matplotlib.lines.Line2D at 0x7f17e1141e50>,\n",
       "   <matplotlib.lines.Line2D at 0x7f17e115c130>,\n",
       "   <matplotlib.lines.Line2D at 0x7f17e11693d0>,\n",
       "   <matplotlib.lines.Line2D at 0x7f17e11766a0>,\n",
       "   <matplotlib.lines.Line2D at 0x7f17e1104940>,\n",
       "   <matplotlib.lines.Line2D at 0x7f17e1112be0>,\n",
       "   <matplotlib.lines.Line2D at 0x7f17e1122e80>,\n",
       "   <matplotlib.lines.Line2D at 0x7f17e113e160>,\n",
       "   <matplotlib.lines.Line2D at 0x7f17e10cc250>],\n",
       "  'fliers': [<matplotlib.lines.Line2D at 0x7f17e114e130>,\n",
       "   <matplotlib.lines.Line2D at 0x7f17e115c3d0>,\n",
       "   <matplotlib.lines.Line2D at 0x7f17e1169670>,\n",
       "   <matplotlib.lines.Line2D at 0x7f17e1176940>,\n",
       "   <matplotlib.lines.Line2D at 0x7f17e1104be0>,\n",
       "   <matplotlib.lines.Line2D at 0x7f17e1112e80>,\n",
       "   <matplotlib.lines.Line2D at 0x7f17e1132160>,\n",
       "   <matplotlib.lines.Line2D at 0x7f17e113e400>,\n",
       "   <matplotlib.lines.Line2D at 0x7f17e10cc4f0>],\n",
       "  'means': []},\n",
       " Text(0.5, 1.0, 'Boxplot of train Brier loss for récidive locale'),\n",
       " (0.0, 0.5),\n",
       " ([<matplotlib.axis.XTick at 0x7f18126041c0>,\n",
       "   <matplotlib.axis.XTick at 0x7f18126040d0>,\n",
       "   <matplotlib.axis.XTick at 0x7f17e12e3e20>,\n",
       "   <matplotlib.axis.XTick at 0x7f17e10ccdf0>,\n",
       "   <matplotlib.axis.XTick at 0x7f17e10d6b20>,\n",
       "   <matplotlib.axis.XTick at 0x7f17e10d6340>,\n",
       "   <matplotlib.axis.XTick at 0x7f17e10ddb50>,\n",
       "   <matplotlib.axis.XTick at 0x7f17e10e4640>,\n",
       "   <matplotlib.axis.XTick at 0x7f17e10e4eb0>],\n",
       "  [Text(1, 0, 'SIMU'),\n",
       "   Text(2, 0, 'F1'),\n",
       "   Text(3, 0, 'F3'),\n",
       "   Text(4, 0, 'F5'),\n",
       "   Text(5, 0, 'Simu_F1'),\n",
       "   Text(6, 0, 'Simu_F3'),\n",
       "   Text(7, 0, 'Simu_F5'),\n",
       "   Text(8, 0, 'F1_F3'),\n",
       "   Text(9, 0, 'F1_F5')]))"
      ]
     },
     "execution_count": 10,
     "metadata": {},
     "output_type": "execute_result"
    },
    {
     "data": {
      "image/png": "[encoded data removed]",
      "text/plain": [
       "<Figure size 800x550 with 1 Axes>"
      ]
     },
     "metadata": {},
     "output_type": "display_data"
    }
   ],
   "source": [
    "data = af.get_best_results_to_plot(results, delta_rad_tables, feat_sel_algo_list, pred_algo_list, metric='train_brier_loss', outcome='Récidive Locale', k=1)\n",
    "plt.boxplot(data.values(), widths=widths, medianprops=medianprops), plt.title(f'Boxplot of train Brier loss for récidive locale'), plt.ylim([0, 0.5]), plt.xticks(range(1, len(delta_rad_tables) + 1), nice_tables), \n"
   ]
  },
  {
   "cell_type": "markdown",
   "metadata": {},
   "source": [
    "## Best test AUC"
   ]
  },
  {
   "cell_type": "code",
   "execution_count": null,
   "metadata": {},
   "outputs": [
    {
     "name": "stdout",
     "output_type": "stream",
     "text": [
      "Top 3 results for each table and Récidive Locale in terms of test_auc:\n",
      "Top 3 mean results for table simu_mridian_gtv.csv:\n",
      "Mean test_auc: 0.6088325558940241, Prediction Algorithm: RF, Feature Selection Algorithm: ANOVA_K_BEST, Features: ['original_shape_Elongation']\n",
      "\n",
      "\n",
      "Top 3 mean results for table f1_gtv.csv:\n",
      "Mean test_auc: 0.6987986898433081, Prediction Algorithm: RF, Feature Selection Algorithm: ANOVA_K_BEST, Features: ['original_glcm_MCC']\n",
      "\n",
      "\n",
      "Top 3 mean results for table f3_gtv.csv:\n",
      "Mean test_auc: 0.7121142179882907, Prediction Algorithm: RF, Feature Selection Algorithm: ANOVA_K_BEST, Features: ['original_glszm_GrayLevelNonUniformityNormalized', 'original_glcm_MCC']\n",
      "\n",
      "\n",
      "Top 3 mean results for table f5_gtv.csv:\n",
      "Mean test_auc: 0.5724625488391392, Prediction Algorithm: RF, Feature Selection Algorithm: ANOVA_K_BEST, Features: ['original_glcm_Imc1', 'original_glcm_MCC']\n",
      "\n",
      "\n",
      "Top 3 mean results for table rd_simu_f1_gtv.csv:\n",
      "Mean test_auc: 0.7036169580467836, Prediction Algorithm: RF, Feature Selection Algorithm: ANOVA_K_BEST, Features: ['original_shape_Maximum2DDiameterSlice']\n",
      "\n",
      "\n",
      "Top 3 mean results for table rd_simu_f3_gtv.csv:\n",
      "Mean test_auc: 0.6157313373188849, Prediction Algorithm: RF, Feature Selection Algorithm: ANOVA_K_BEST, Features: ['original_glszm_ZoneEntropy', 'original_glrlm_RunEntropy']\n",
      "\n",
      "\n",
      "Top 3 mean results for table rd_simu_f5_gtv.csv:\n",
      "Mean test_auc: 0.5101906421179095, Prediction Algorithm: RF, Feature Selection Algorithm: ANOVA_K_BEST, Features: ['original_glcm_InverseVariance']\n",
      "\n",
      "\n",
      "Top 3 mean results for table rd_f1_f3_gtv.csv:\n",
      "Mean test_auc: 0.5827484506978362, Prediction Algorithm: RF, Feature Selection Algorithm: ANOVA_K_BEST, Features: ['original_shape_Maximum3DDiameter']\n",
      "\n",
      "\n",
      "Top 3 mean results for table rd_f1_f5_gtv.csv:\n",
      "Mean test_auc: 0.7410226665904249, Prediction Algorithm: RF, Feature Selection Algorithm: ANOVA_K_BEST, Features: ['original_shape_Maximum3DDiameter', 'original_shape_Maximum2DDiameterRow', 'original_gldm_DependenceEntropy']\n",
      "\n",
      "\n"
     ]
    }
   ],
   "source": [
    "top_results = af.get_best_results(results, delta_rad_tables, feat_sel_algo_list, pred_algo_list, 'Récidive Locale', metric='test_auc', k = 3)"
   ]
  },
  {
   "cell_type": "code",
   "execution_count": 14,
   "metadata": {},
   "outputs": [
    {
     "name": "stdout",
     "output_type": "stream",
     "text": [
      "Top 1 results for each table and Récidive Locale in terms of test_auc:\n"
     ]
    },
    {
     "data": {
      "text/plain": [
       "({'whiskers': [<matplotlib.lines.Line2D at 0x7f17e0cd57f0>,\n",
       "   <matplotlib.lines.Line2D at 0x7f17e0cd5a90>,\n",
       "   <matplotlib.lines.Line2D at 0x7f17e0ce5a90>,\n",
       "   <matplotlib.lines.Line2D at 0x7f17e0ce5d30>,\n",
       "   <matplotlib.lines.Line2D at 0x7f17e0cf3d30>,\n",
       "   <matplotlib.lines.Line2D at 0x7f17e0cf3fd0>,\n",
       "   <matplotlib.lines.Line2D at 0x7f17e0c82fd0>,\n",
       "   <matplotlib.lines.Line2D at 0x7f17e0c8e2b0>,\n",
       "   <matplotlib.lines.Line2D at 0x7f17e0c9e2b0>,\n",
       "   <matplotlib.lines.Line2D at 0x7f17e0c9e550>,\n",
       "   <matplotlib.lines.Line2D at 0x7f17e0cac550>,\n",
       "   <matplotlib.lines.Line2D at 0x7f17e0cac7f0>,\n",
       "   <matplotlib.lines.Line2D at 0x7f17e0cba7f0>,\n",
       "   <matplotlib.lines.Line2D at 0x7f17e0cbaa90>,\n",
       "   <matplotlib.lines.Line2D at 0x7f17e0c49a90>,\n",
       "   <matplotlib.lines.Line2D at 0x7f17e0c49d30>,\n",
       "   <matplotlib.lines.Line2D at 0x7f17e0c58d30>,\n",
       "   <matplotlib.lines.Line2D at 0x7f17e0c58fd0>],\n",
       "  'caps': [<matplotlib.lines.Line2D at 0x7f17e0cd5d30>,\n",
       "   <matplotlib.lines.Line2D at 0x7f17e0cd5fd0>,\n",
       "   <matplotlib.lines.Line2D at 0x7f17e0ce5fd0>,\n",
       "   <matplotlib.lines.Line2D at 0x7f17e0cf32b0>,\n",
       "   <matplotlib.lines.Line2D at 0x7f17e0c822b0>,\n",
       "   <matplotlib.lines.Line2D at 0x7f17e0c82550>,\n",
       "   <matplotlib.lines.Line2D at 0x7f17e0c8e550>,\n",
       "   <matplotlib.lines.Line2D at 0x7f17e0c8e7f0>,\n",
       "   <matplotlib.lines.Line2D at 0x7f17e0c9e7f0>,\n",
       "   <matplotlib.lines.Line2D at 0x7f17e0c9ea90>,\n",
       "   <matplotlib.lines.Line2D at 0x7f17e0caca90>,\n",
       "   <matplotlib.lines.Line2D at 0x7f17e0cacd30>,\n",
       "   <matplotlib.lines.Line2D at 0x7f17e0cbad30>,\n",
       "   <matplotlib.lines.Line2D at 0x7f17e0cbafd0>,\n",
       "   <matplotlib.lines.Line2D at 0x7f17e0c49fd0>,\n",
       "   <matplotlib.lines.Line2D at 0x7f17e0c582b0>,\n",
       "   <matplotlib.lines.Line2D at 0x7f17e0c652b0>,\n",
       "   <matplotlib.lines.Line2D at 0x7f17e0c65550>],\n",
       "  'boxes': [<matplotlib.lines.Line2D at 0x7f17e0cd5550>,\n",
       "   <matplotlib.lines.Line2D at 0x7f17e0ce57f0>,\n",
       "   <matplotlib.lines.Line2D at 0x7f17e0cf3a90>,\n",
       "   <matplotlib.lines.Line2D at 0x7f17e0c82d30>,\n",
       "   <matplotlib.lines.Line2D at 0x7f17e0c8efd0>,\n",
       "   <matplotlib.lines.Line2D at 0x7f17e0cac2b0>,\n",
       "   <matplotlib.lines.Line2D at 0x7f17e0cba550>,\n",
       "   <matplotlib.lines.Line2D at 0x7f17e0c497f0>,\n",
       "   <matplotlib.lines.Line2D at 0x7f17e0c58a90>],\n",
       "  'medians': [<matplotlib.lines.Line2D at 0x7f17e0ce52b0>,\n",
       "   <matplotlib.lines.Line2D at 0x7f17e0cf3550>,\n",
       "   <matplotlib.lines.Line2D at 0x7f17e0c827f0>,\n",
       "   <matplotlib.lines.Line2D at 0x7f17e0c8ea90>,\n",
       "   <matplotlib.lines.Line2D at 0x7f17e0c9ed30>,\n",
       "   <matplotlib.lines.Line2D at 0x7f17e0cacfd0>,\n",
       "   <matplotlib.lines.Line2D at 0x7f17e0c492b0>,\n",
       "   <matplotlib.lines.Line2D at 0x7f17e0c58550>,\n",
       "   <matplotlib.lines.Line2D at 0x7f17e0c657f0>],\n",
       "  'fliers': [<matplotlib.lines.Line2D at 0x7f17e0ce5550>,\n",
       "   <matplotlib.lines.Line2D at 0x7f17e0cf37f0>,\n",
       "   <matplotlib.lines.Line2D at 0x7f17e0c82a90>,\n",
       "   <matplotlib.lines.Line2D at 0x7f17e0c8ed30>,\n",
       "   <matplotlib.lines.Line2D at 0x7f17e0c9efd0>,\n",
       "   <matplotlib.lines.Line2D at 0x7f17e0cba2b0>,\n",
       "   <matplotlib.lines.Line2D at 0x7f17e0c49550>,\n",
       "   <matplotlib.lines.Line2D at 0x7f17e0c587f0>,\n",
       "   <matplotlib.lines.Line2D at 0x7f17e0c65a90>],\n",
       "  'means': []},\n",
       " Text(0.5, 1.0, 'Boxplot of test AUC for récidive locale'),\n",
       " (0.5, 0.8),\n",
       " ([<matplotlib.axis.XTick at 0x7f17e0d23ac0>,\n",
       "   <matplotlib.axis.XTick at 0x7f17e0d23a90>,\n",
       "   <matplotlib.axis.XTick at 0x7f17e0d393d0>,\n",
       "   <matplotlib.axis.XTick at 0x7f17e0c6f610>,\n",
       "   <matplotlib.axis.XTick at 0x7f17e0c6fe80>,\n",
       "   <matplotlib.axis.XTick at 0x7f17e0c6f7c0>,\n",
       "   <matplotlib.axis.XTick at 0x7f17e0c77fa0>,\n",
       "   <matplotlib.axis.XTick at 0x7f17e0c7ca90>,\n",
       "   <matplotlib.axis.XTick at 0x7f17e0c035b0>],\n",
       "  [Text(1, 0, 'SIMU'),\n",
       "   Text(2, 0, 'F1'),\n",
       "   Text(3, 0, 'F3'),\n",
       "   Text(4, 0, 'F5'),\n",
       "   Text(5, 0, 'Simu_F1'),\n",
       "   Text(6, 0, 'Simu_F3'),\n",
       "   Text(7, 0, 'Simu_F5'),\n",
       "   Text(8, 0, 'F1_F3'),\n",
       "   Text(9, 0, 'F1_F5')]))"
      ]
     },
     "execution_count": 14,
     "metadata": {},
     "output_type": "execute_result"
    },
    {
     "data": {
      "image/png": "[encoded data removed]",
      "text/plain": [
       "<Figure size 800x550 with 1 Axes>"
      ]
     },
     "metadata": {},
     "output_type": "display_data"
    }
   ],
   "source": [
    "data = af.get_best_results_to_plot(results, delta_rad_tables, feat_sel_algo_list, pred_algo_list, metric='test_auc', outcome='Récidive Locale', k=1)\n",
    "plt.boxplot(data.values(), widths=widths, medianprops=medianprops), plt.title(f'Boxplot of test AUC for récidive locale'), plt.ylim([0.5, 0.8]), plt.xticks(range(1, len(delta_rad_tables) + 1), nice_tables), \n"
   ]
  },
  {
   "cell_type": "markdown",
   "metadata": {},
   "source": [
    "## Best test brier loss"
   ]
  },
  {
   "cell_type": "code",
   "execution_count": null,
   "metadata": {},
   "outputs": [
    {
     "name": "stdout",
     "output_type": "stream",
     "text": [
      "Top 3 results for each table and Récidive Locale in terms of test_brier_loss:\n",
      "Top 3 mean results for table simu_mridian_gtv.csv:\n",
      "Mean test_brier_loss: 0.262399773881581, Prediction Algorithm: RF, Feature Selection Algorithm: ANOVA_K_BEST, Features: ['original_shape_Elongation', 'original_firstorder_Kurtosis', 'original_glszm_LargeAreaHighGrayLevelEmphasis']\n",
      "\n",
      "\n",
      "Top 3 mean results for table f1_gtv.csv:\n",
      "Mean test_brier_loss: 0.23369784081450762, Prediction Algorithm: RF, Feature Selection Algorithm: ANOVA_K_BEST, Features: ['original_glcm_MCC', 'original_firstorder_Kurtosis', 'original_glszm_LargeAreaHighGrayLevelEmphasis']\n",
      "\n",
      "\n",
      "Top 3 mean results for table f3_gtv.csv:\n",
      "Mean test_brier_loss: 0.2350524844399086, Prediction Algorithm: RF, Feature Selection Algorithm: ANOVA_K_BEST, Features: ['original_glszm_GrayLevelNonUniformityNormalized', 'original_glcm_MCC', 'original_glcm_Imc2']\n",
      "\n",
      "\n",
      "Top 3 mean results for table f5_gtv.csv:\n",
      "Mean test_brier_loss: 0.26958336090561863, Prediction Algorithm: RF, Feature Selection Algorithm: ANOVA_K_BEST, Features: ['original_glcm_Imc1', 'original_glcm_MCC', 'original_glcm_Imc2']\n",
      "\n",
      "\n",
      "Top 3 mean results for table rd_simu_f1_gtv.csv:\n",
      "Mean test_brier_loss: 0.220323676425601, Prediction Algorithm: RF, Feature Selection Algorithm: ANOVA_K_BEST, Features: ['original_shape_Maximum2DDiameterSlice']\n",
      "\n",
      "\n",
      "Top 3 mean results for table rd_simu_f3_gtv.csv:\n",
      "Mean test_brier_loss: 0.25357154568877005, Prediction Algorithm: RF, Feature Selection Algorithm: ANOVA_K_BEST, Features: ['original_glszm_ZoneEntropy', 'original_glrlm_RunEntropy']\n",
      "\n",
      "\n",
      "Top 3 mean results for table rd_simu_f5_gtv.csv:\n",
      "Mean test_brier_loss: 0.27445516192291985, Prediction Algorithm: RF, Feature Selection Algorithm: ANOVA_K_BEST, Features: ['original_glcm_InverseVariance']\n",
      "\n",
      "\n",
      "Top 3 mean results for table rd_f1_f3_gtv.csv:\n",
      "Mean test_brier_loss: 0.2477636956304668, Prediction Algorithm: RF, Feature Selection Algorithm: ANOVA_K_BEST, Features: ['original_shape_Maximum3DDiameter', 'original_shape_Maximum2DDiameterSlice']\n",
      "\n",
      "\n",
      "Top 3 mean results for table rd_f1_f5_gtv.csv:\n",
      "Mean test_brier_loss: 0.2508199502105222, Prediction Algorithm: RF, Feature Selection Algorithm: ANOVA_K_BEST, Features: ['original_shape_Maximum3DDiameter']\n",
      "\n",
      "\n"
     ]
    }
   ],
   "source": [
    "test_brier_loss = af.get_best_results(results, delta_rad_tables, feat_sel_algo_list, pred_algo_list, 'Récidive Locale', metric='test_brier_loss', k = 3)"
   ]
  },
  {
   "cell_type": "code",
   "execution_count": 19,
   "metadata": {},
   "outputs": [
    {
     "name": "stdout",
     "output_type": "stream",
     "text": [
      "Top 1 results for each table and Récidive Locale in terms of test_brier_loss:\n"
     ]
    },
    {
     "data": {
      "text/plain": [
       "({'whiskers': [<matplotlib.lines.Line2D at 0x7f17e077e790>,\n",
       "   <matplotlib.lines.Line2D at 0x7f17e077ea30>,\n",
       "   <matplotlib.lines.Line2D at 0x7f17e0712a30>,\n",
       "   <matplotlib.lines.Line2D at 0x7f17e0712cd0>,\n",
       "   <matplotlib.lines.Line2D at 0x7f17e0720cd0>,\n",
       "   <matplotlib.lines.Line2D at 0x7f17e0720f70>,\n",
       "   <matplotlib.lines.Line2D at 0x7f17e072b940>,\n",
       "   <matplotlib.lines.Line2D at 0x7f17e072bbe0>,\n",
       "   <matplotlib.lines.Line2D at 0x7f17e06c0be0>,\n",
       "   <matplotlib.lines.Line2D at 0x7f17e2448070>,\n",
       "   <matplotlib.lines.Line2D at 0x7f17e10d67f0>,\n",
       "   <matplotlib.lines.Line2D at 0x7f17e10d65e0>,\n",
       "   <matplotlib.lines.Line2D at 0x7f17e16dca90>,\n",
       "   <matplotlib.lines.Line2D at 0x7f17e10e43a0>,\n",
       "   <matplotlib.lines.Line2D at 0x7f17e0f82460>,\n",
       "   <matplotlib.lines.Line2D at 0x7f17e0f9a1c0>,\n",
       "   <matplotlib.lines.Line2D at 0x7f17e0f8aaf0>,\n",
       "   <matplotlib.lines.Line2D at 0x7f17e0f8a0d0>],\n",
       "  'caps': [<matplotlib.lines.Line2D at 0x7f17e077ecd0>,\n",
       "   <matplotlib.lines.Line2D at 0x7f17e077ef70>,\n",
       "   <matplotlib.lines.Line2D at 0x7f17e0712f70>,\n",
       "   <matplotlib.lines.Line2D at 0x7f17e0720250>,\n",
       "   <matplotlib.lines.Line2D at 0x7f17e072b250>,\n",
       "   <matplotlib.lines.Line2D at 0x7f17e072b4f0>,\n",
       "   <matplotlib.lines.Line2D at 0x7f17e072be80>,\n",
       "   <matplotlib.lines.Line2D at 0x7f17e06c0160>,\n",
       "   <matplotlib.lines.Line2D at 0x7f17e227ef70>,\n",
       "   <matplotlib.lines.Line2D at 0x7f17e21fb6d0>,\n",
       "   <matplotlib.lines.Line2D at 0x7f17e10dd0d0>,\n",
       "   <matplotlib.lines.Line2D at 0x7f17e10dd0a0>,\n",
       "   <matplotlib.lines.Line2D at 0x7f17e10ae1c0>,\n",
       "   <matplotlib.lines.Line2D at 0x7f17e0fff820>,\n",
       "   <matplotlib.lines.Line2D at 0x7f17e0f9ad00>,\n",
       "   <matplotlib.lines.Line2D at 0x7f17e0f95550>,\n",
       "   <matplotlib.lines.Line2D at 0x7f17e10e82b0>,\n",
       "   <matplotlib.lines.Line2D at 0x7f17e10e8940>],\n",
       "  'boxes': [<matplotlib.lines.Line2D at 0x7f17e077e490>,\n",
       "   <matplotlib.lines.Line2D at 0x7f17e0712790>,\n",
       "   <matplotlib.lines.Line2D at 0x7f17e0720a30>,\n",
       "   <matplotlib.lines.Line2D at 0x7f17e0789220>,\n",
       "   <matplotlib.lines.Line2D at 0x7f17e06c0940>,\n",
       "   <matplotlib.lines.Line2D at 0x7f17e16d6340>,\n",
       "   <matplotlib.lines.Line2D at 0x7f17e10ccd00>,\n",
       "   <matplotlib.lines.Line2D at 0x7f17e10f8fa0>,\n",
       "   <matplotlib.lines.Line2D at 0x7f17e0ff89d0>],\n",
       "  'medians': [<matplotlib.lines.Line2D at 0x7f17e0712250>,\n",
       "   <matplotlib.lines.Line2D at 0x7f17e07204f0>,\n",
       "   <matplotlib.lines.Line2D at 0x7f17e072b790>,\n",
       "   <matplotlib.lines.Line2D at 0x7f17e06c0400>,\n",
       "   <matplotlib.lines.Line2D at 0x7f17e228c8e0>,\n",
       "   <matplotlib.lines.Line2D at 0x7f17e1186f10>,\n",
       "   <matplotlib.lines.Line2D at 0x7f17e0fffb50>,\n",
       "   <matplotlib.lines.Line2D at 0x7f17e0f95df0>,\n",
       "   <matplotlib.lines.Line2D at 0x7f17e0fa4850>],\n",
       "  'fliers': [<matplotlib.lines.Line2D at 0x7f17e07124f0>,\n",
       "   <matplotlib.lines.Line2D at 0x7f17e0720790>,\n",
       "   <matplotlib.lines.Line2D at 0x7f17e07993a0>,\n",
       "   <matplotlib.lines.Line2D at 0x7f17e06c06a0>,\n",
       "   <matplotlib.lines.Line2D at 0x7f17e12a7e20>,\n",
       "   <matplotlib.lines.Line2D at 0x7f17e10ee7f0>,\n",
       "   <matplotlib.lines.Line2D at 0x7f17e10f8880>,\n",
       "   <matplotlib.lines.Line2D at 0x7f17e0ff8040>,\n",
       "   <matplotlib.lines.Line2D at 0x7f17e0eaa550>],\n",
       "  'means': []},\n",
       " Text(0.5, 1.0, 'Boxplot of test Brier loss for récidive locale'),\n",
       " (0.0, 0.5),\n",
       " ([<matplotlib.axis.XTick at 0x7f17e07548e0>,\n",
       "   <matplotlib.axis.XTick at 0x7f17e07548b0>,\n",
       "   <matplotlib.axis.XTick at 0x7f17e07542b0>,\n",
       "   <matplotlib.axis.XTick at 0x7f17e0e407c0>,\n",
       "   <matplotlib.axis.XTick at 0x7f17e0e45220>,\n",
       "   <matplotlib.axis.XTick at 0x7f17e0f4fc10>,\n",
       "   <matplotlib.axis.XTick at 0x7f17e109d880>,\n",
       "   <matplotlib.axis.XTick at 0x7f17e0e6d940>,\n",
       "   <matplotlib.axis.XTick at 0x7f17e0d46c10>],\n",
       "  [Text(1, 0, 'SIMU'),\n",
       "   Text(2, 0, 'F1'),\n",
       "   Text(3, 0, 'F3'),\n",
       "   Text(4, 0, 'F5'),\n",
       "   Text(5, 0, 'Simu_F1'),\n",
       "   Text(6, 0, 'Simu_F3'),\n",
       "   Text(7, 0, 'Simu_F5'),\n",
       "   Text(8, 0, 'F1_F3'),\n",
       "   Text(9, 0, 'F1_F5')]))"
      ]
     },
     "execution_count": 19,
     "metadata": {},
     "output_type": "execute_result"
    },
    {
     "data": {
      "image/png": "[encoded data removed]",
      "text/plain": [
       "<Figure size 800x550 with 1 Axes>"
      ]
     },
     "metadata": {},
     "output_type": "display_data"
    }
   ],
   "source": [
    "data = af.get_best_results_to_plot(results, delta_rad_tables, feat_sel_algo_list, pred_algo_list, metric='test_brier_loss', outcome='Récidive Locale', k=1)\n",
    "plt.boxplot(data.values(), widths=widths, medianprops=medianprops), plt.title(f'Boxplot of test Brier loss for récidive locale'), plt.ylim([0, 0.5]), plt.xticks(range(1, len(delta_rad_tables) + 1), nice_tables), \n"
   ]
  },
  {
   "cell_type": "markdown",
   "metadata": {},
   "source": [
    "## Best sensitivity"
   ]
  },
  {
   "cell_type": "code",
   "execution_count": null,
   "metadata": {},
   "outputs": [
    {
     "name": "stdout",
     "output_type": "stream",
     "text": [
      "Top 3 results for each table and Récidive Locale in terms of sensitivity:\n",
      "Top 3 mean results for table simu_mridian_gtv.csv:\n",
      "Mean sensitivity: 0.55, Prediction Algorithm: RF, Feature Selection Algorithm: ANOVA_K_BEST, Features: ['original_shape_Elongation', 'original_firstorder_Kurtosis']\n",
      "\n",
      "\n",
      "Top 3 mean results for table f1_gtv.csv:\n",
      "Mean sensitivity: 0.7333333333333332, Prediction Algorithm: RF, Feature Selection Algorithm: ANOVA_K_BEST, Features: ['original_glcm_MCC']\n",
      "\n",
      "\n",
      "Top 3 mean results for table f3_gtv.csv:\n",
      "Mean sensitivity: 0.5333333333333332, Prediction Algorithm: RF, Feature Selection Algorithm: ANOVA_K_BEST, Features: ['original_glszm_GrayLevelNonUniformityNormalized']\n",
      "\n",
      "\n",
      "Top 3 mean results for table f5_gtv.csv:\n",
      "Mean sensitivity: 0.433333333333333, Prediction Algorithm: RF, Feature Selection Algorithm: ANOVA_K_BEST, Features: ['original_glcm_Imc1']\n",
      "\n",
      "\n",
      "Top 3 mean results for table rd_simu_f1_gtv.csv:\n",
      "Mean sensitivity: 0.45, Prediction Algorithm: RF, Feature Selection Algorithm: ANOVA_K_BEST, Features: ['original_shape_Maximum2DDiameterSlice']\n",
      "\n",
      "\n",
      "Top 3 mean results for table rd_simu_f3_gtv.csv:\n",
      "Mean sensitivity: 0.4666666666666666, Prediction Algorithm: RF, Feature Selection Algorithm: ANOVA_K_BEST, Features: ['original_glszm_ZoneEntropy', 'original_glrlm_RunEntropy', 'original_gldm_DependenceEntropy']\n",
      "\n",
      "\n",
      "Top 3 mean results for table rd_simu_f5_gtv.csv:\n",
      "Mean sensitivity: 0.433333333333333, Prediction Algorithm: RF, Feature Selection Algorithm: ANOVA_K_BEST, Features: ['original_glcm_InverseVariance']\n",
      "\n",
      "\n",
      "Top 3 mean results for table rd_f1_f3_gtv.csv:\n",
      "Mean sensitivity: 0.3, Prediction Algorithm: RF, Feature Selection Algorithm: ANOVA_K_BEST, Features: ['original_shape_Maximum3DDiameter']\n",
      "\n",
      "\n",
      "Top 3 mean results for table rd_f1_f5_gtv.csv:\n",
      "Mean sensitivity: 0.6999999999999998, Prediction Algorithm: RF, Feature Selection Algorithm: ANOVA_K_BEST, Features: ['original_shape_Maximum3DDiameter', 'original_shape_Maximum2DDiameterRow', 'original_gldm_DependenceEntropy']\n",
      "\n",
      "\n"
     ]
    }
   ],
   "source": [
    "top_results = af.get_best_results(results, delta_rad_tables, feat_sel_algo_list, pred_algo_list, 'Récidive Locale', metric='sensitivity', k = 3)"
   ]
  },
  {
   "cell_type": "code",
   "execution_count": 18,
   "metadata": {},
   "outputs": [
    {
     "name": "stdout",
     "output_type": "stream",
     "text": [
      "Top 1 results for each table and Récidive Locale in terms of sensitivity:\n"
     ]
    },
    {
     "data": {
      "text/plain": [
       "({'whiskers': [<matplotlib.lines.Line2D at 0x7f17e0866400>,\n",
       "   <matplotlib.lines.Line2D at 0x7f17e08666a0>,\n",
       "   <matplotlib.lines.Line2D at 0x7f17e0874580>,\n",
       "   <matplotlib.lines.Line2D at 0x7f17e0874820>,\n",
       "   <matplotlib.lines.Line2D at 0x7f17e0802820>,\n",
       "   <matplotlib.lines.Line2D at 0x7f17e0802ac0>,\n",
       "   <matplotlib.lines.Line2D at 0x7f17e0810af0>,\n",
       "   <matplotlib.lines.Line2D at 0x7f17e0810d90>,\n",
       "   <matplotlib.lines.Line2D at 0x7f17e081fd90>,\n",
       "   <matplotlib.lines.Line2D at 0x7f17e082f070>,\n",
       "   <matplotlib.lines.Line2D at 0x7f17e082fcd0>,\n",
       "   <matplotlib.lines.Line2D at 0x7f17e082ff70>,\n",
       "   <matplotlib.lines.Line2D at 0x7f17e083df70>,\n",
       "   <matplotlib.lines.Line2D at 0x7f17e07cb250>,\n",
       "   <matplotlib.lines.Line2D at 0x7f17e07db250>,\n",
       "   <matplotlib.lines.Line2D at 0x7f17e07db4f0>,\n",
       "   <matplotlib.lines.Line2D at 0x7f17e07e84f0>,\n",
       "   <matplotlib.lines.Line2D at 0x7f17e07e8790>],\n",
       "  'caps': [<matplotlib.lines.Line2D at 0x7f17e08667f0>,\n",
       "   <matplotlib.lines.Line2D at 0x7f17e0866ac0>,\n",
       "   <matplotlib.lines.Line2D at 0x7f17e0874ac0>,\n",
       "   <matplotlib.lines.Line2D at 0x7f17e0874d60>,\n",
       "   <matplotlib.lines.Line2D at 0x7f17e0802d60>,\n",
       "   <matplotlib.lines.Line2D at 0x7f17e0810040>,\n",
       "   <matplotlib.lines.Line2D at 0x7f17e081f070>,\n",
       "   <matplotlib.lines.Line2D at 0x7f17e081f310>,\n",
       "   <matplotlib.lines.Line2D at 0x7f17e082f310>,\n",
       "   <matplotlib.lines.Line2D at 0x7f17e082f5b0>,\n",
       "   <matplotlib.lines.Line2D at 0x7f17e083d250>,\n",
       "   <matplotlib.lines.Line2D at 0x7f17e083d4f0>,\n",
       "   <matplotlib.lines.Line2D at 0x7f17e07cb4f0>,\n",
       "   <matplotlib.lines.Line2D at 0x7f17e07cb790>,\n",
       "   <matplotlib.lines.Line2D at 0x7f17e07db790>,\n",
       "   <matplotlib.lines.Line2D at 0x7f17e07dba30>,\n",
       "   <matplotlib.lines.Line2D at 0x7f17e07e8a30>,\n",
       "   <matplotlib.lines.Line2D at 0x7f17e07e8cd0>],\n",
       "  'boxes': [<matplotlib.lines.Line2D at 0x7f17e0866160>,\n",
       "   <matplotlib.lines.Line2D at 0x7f17e08742e0>,\n",
       "   <matplotlib.lines.Line2D at 0x7f17e0802580>,\n",
       "   <matplotlib.lines.Line2D at 0x7f17e0810850>,\n",
       "   <matplotlib.lines.Line2D at 0x7f17e081faf0>,\n",
       "   <matplotlib.lines.Line2D at 0x7f17e082fa30>,\n",
       "   <matplotlib.lines.Line2D at 0x7f17e083dcd0>,\n",
       "   <matplotlib.lines.Line2D at 0x7f17e07cbf70>,\n",
       "   <matplotlib.lines.Line2D at 0x7f17e07e8250>],\n",
       "  'medians': [<matplotlib.lines.Line2D at 0x7f17e0866d60>,\n",
       "   <matplotlib.lines.Line2D at 0x7f17e0802040>,\n",
       "   <matplotlib.lines.Line2D at 0x7f17e0810310>,\n",
       "   <matplotlib.lines.Line2D at 0x7f17e081f5b0>,\n",
       "   <matplotlib.lines.Line2D at 0x7f17e082f850>,\n",
       "   <matplotlib.lines.Line2D at 0x7f17e083d790>,\n",
       "   <matplotlib.lines.Line2D at 0x7f17e07cba30>,\n",
       "   <matplotlib.lines.Line2D at 0x7f17e07dbcd0>,\n",
       "   <matplotlib.lines.Line2D at 0x7f17e07e8f70>],\n",
       "  'fliers': [<matplotlib.lines.Line2D at 0x7f17e0874040>,\n",
       "   <matplotlib.lines.Line2D at 0x7f17e08022e0>,\n",
       "   <matplotlib.lines.Line2D at 0x7f17e08105b0>,\n",
       "   <matplotlib.lines.Line2D at 0x7f17e081f850>,\n",
       "   <matplotlib.lines.Line2D at 0x7f17e08f2100>,\n",
       "   <matplotlib.lines.Line2D at 0x7f17e083da30>,\n",
       "   <matplotlib.lines.Line2D at 0x7f17e07cbcd0>,\n",
       "   <matplotlib.lines.Line2D at 0x7f17e07dbf70>,\n",
       "   <matplotlib.lines.Line2D at 0x7f17e07f5250>],\n",
       "  'means': []},\n",
       " Text(0.5, 1.0, 'Boxplot of sensitivity for récidive locale'),\n",
       " (0.0, 1.0),\n",
       " ([<matplotlib.axis.XTick at 0x7f17e08b5340>,\n",
       "   <matplotlib.axis.XTick at 0x7f17e08b5130>,\n",
       "   <matplotlib.axis.XTick at 0x7f17e0857e50>,\n",
       "   <matplotlib.axis.XTick at 0x7f17e07f5d90>,\n",
       "   <matplotlib.axis.XTick at 0x7f17e07fe880>,\n",
       "   <matplotlib.axis.XTick at 0x7f17e0784370>,\n",
       "   <matplotlib.axis.XTick at 0x7f17e0784e20>,\n",
       "   <matplotlib.axis.XTick at 0x7f17e0784640>,\n",
       "   <matplotlib.axis.XTick at 0x7f17e0789910>],\n",
       "  [Text(1, 0, 'SIMU'),\n",
       "   Text(2, 0, 'F1'),\n",
       "   Text(3, 0, 'F3'),\n",
       "   Text(4, 0, 'F5'),\n",
       "   Text(5, 0, 'Simu_F1'),\n",
       "   Text(6, 0, 'Simu_F3'),\n",
       "   Text(7, 0, 'Simu_F5'),\n",
       "   Text(8, 0, 'F1_F3'),\n",
       "   Text(9, 0, 'F1_F5')]))"
      ]
     },
     "execution_count": 18,
     "metadata": {},
     "output_type": "execute_result"
    },
    {
     "data": {
      "image/png": "[encoded data removed]",
      "text/plain": [
       "<Figure size 800x550 with 1 Axes>"
      ]
     },
     "metadata": {},
     "output_type": "display_data"
    }
   ],
   "source": [
    "data = af.get_best_results_to_plot(results, delta_rad_tables, feat_sel_algo_list, pred_algo_list, metric='sensitivity', outcome='Récidive Locale', k=1)\n",
    "plt.boxplot(data.values(), widths=widths, medianprops=medianprops), plt.title(f'Boxplot of sensitivity for récidive locale'), plt.ylim([0, 1]), plt.xticks(range(1, len(delta_rad_tables) + 1), nice_tables), \n"
   ]
  },
  {
   "cell_type": "markdown",
   "metadata": {},
   "source": [
    "## Best specificity"
   ]
  },
  {
   "cell_type": "code",
   "execution_count": null,
   "metadata": {},
   "outputs": [
    {
     "name": "stdout",
     "output_type": "stream",
     "text": [
      "Top 3 results for each table and Récidive Locale in terms of specificity:\n",
      "Top 3 mean results for table simu_mridian_gtv.csv:\n",
      "Mean specificity: 0.6418181818181816, Prediction Algorithm: RF, Feature Selection Algorithm: ANOVA_K_BEST, Features: ['original_shape_Elongation', 'original_firstorder_Kurtosis']\n",
      "\n",
      "\n",
      "Top 3 mean results for table f1_gtv.csv:\n",
      "Mean specificity: 0.7545454545454541, Prediction Algorithm: RF, Feature Selection Algorithm: ANOVA_K_BEST, Features: ['original_glcm_MCC', 'original_firstorder_Kurtosis']\n",
      "\n",
      "\n",
      "Top 3 mean results for table f3_gtv.csv:\n",
      "Mean specificity: 0.7348484848484844, Prediction Algorithm: RF, Feature Selection Algorithm: ANOVA_K_BEST, Features: ['original_glszm_GrayLevelNonUniformityNormalized', 'original_glcm_MCC', 'original_glcm_Imc2']\n",
      "\n",
      "\n",
      "Top 3 mean results for table f5_gtv.csv:\n",
      "Mean specificity: 0.7272727272727268, Prediction Algorithm: RF, Feature Selection Algorithm: ANOVA_K_BEST, Features: ['original_glcm_Imc1', 'original_glcm_MCC']\n",
      "\n",
      "\n",
      "Top 3 mean results for table rd_simu_f1_gtv.csv:\n",
      "Mean specificity: 0.8454545454545455, Prediction Algorithm: RF, Feature Selection Algorithm: ANOVA_K_BEST, Features: ['original_shape_Maximum2DDiameterSlice', 'original_glrlm_RunEntropy', 'original_gldm_DependenceEntropy']\n",
      "\n",
      "\n",
      "Top 3 mean results for table rd_simu_f3_gtv.csv:\n",
      "Mean specificity: 0.72, Prediction Algorithm: RF, Feature Selection Algorithm: ANOVA_K_BEST, Features: ['original_glszm_ZoneEntropy']\n",
      "\n",
      "\n",
      "Top 3 mean results for table rd_simu_f5_gtv.csv:\n",
      "Mean specificity: 0.6244444444444441, Prediction Algorithm: RF, Feature Selection Algorithm: ANOVA_K_BEST, Features: ['original_glcm_InverseVariance', 'original_shape_SurfaceVolumeRatio', 'original_glrlm_RunLengthNonUniformity']\n",
      "\n",
      "\n",
      "Top 3 mean results for table rd_f1_f3_gtv.csv:\n",
      "Mean specificity: 0.8621212121212121, Prediction Algorithm: RF, Feature Selection Algorithm: ANOVA_K_BEST, Features: ['original_shape_Maximum3DDiameter', 'original_shape_Maximum2DDiameterSlice']\n",
      "\n",
      "\n",
      "Top 3 mean results for table rd_f1_f5_gtv.csv:\n",
      "Mean specificity: 0.7599999999999996, Prediction Algorithm: RF, Feature Selection Algorithm: ANOVA_K_BEST, Features: ['original_shape_Maximum3DDiameter', 'original_shape_Maximum2DDiameterRow', 'original_gldm_DependenceEntropy']\n",
      "\n",
      "\n"
     ]
    }
   ],
   "source": [
    "top_results = af.get_best_results(results, delta_rad_tables, feat_sel_algo_list, pred_algo_list, 'Récidive Locale', metric='specificity', k = 3)"
   ]
  },
  {
   "cell_type": "code",
   "execution_count": 17,
   "metadata": {},
   "outputs": [
    {
     "name": "stdout",
     "output_type": "stream",
     "text": [
      "Top 1 results for each table and Récidive Locale in terms of specificity:\n"
     ]
    },
    {
     "data": {
      "text/plain": [
       "({'whiskers': [<matplotlib.lines.Line2D at 0x7f17e09b8fa0>,\n",
       "   <matplotlib.lines.Line2D at 0x7f17e094a280>,\n",
       "   <matplotlib.lines.Line2D at 0x7f17e0958280>,\n",
       "   <matplotlib.lines.Line2D at 0x7f17e0958520>,\n",
       "   <matplotlib.lines.Line2D at 0x7f17e0966520>,\n",
       "   <matplotlib.lines.Line2D at 0x7f17e09667c0>,\n",
       "   <matplotlib.lines.Line2D at 0x7f17e09757c0>,\n",
       "   <matplotlib.lines.Line2D at 0x7f17e0975a60>,\n",
       "   <matplotlib.lines.Line2D at 0x7f17e0901a60>,\n",
       "   <matplotlib.lines.Line2D at 0x7f17e0901d00>,\n",
       "   <matplotlib.lines.Line2D at 0x7f17e0911d00>,\n",
       "   <matplotlib.lines.Line2D at 0x7f17e0911fa0>,\n",
       "   <matplotlib.lines.Line2D at 0x7f17e091ffa0>,\n",
       "   <matplotlib.lines.Line2D at 0x7f17e092c280>,\n",
       "   <matplotlib.lines.Line2D at 0x7f17e093c040>,\n",
       "   <matplotlib.lines.Line2D at 0x7f17e093c2e0>,\n",
       "   <matplotlib.lines.Line2D at 0x7f17e08c92e0>,\n",
       "   <matplotlib.lines.Line2D at 0x7f17e08c9580>],\n",
       "  'caps': [<matplotlib.lines.Line2D at 0x7f17e094a520>,\n",
       "   <matplotlib.lines.Line2D at 0x7f17e094a7c0>,\n",
       "   <matplotlib.lines.Line2D at 0x7f17e09587c0>,\n",
       "   <matplotlib.lines.Line2D at 0x7f17e0958a60>,\n",
       "   <matplotlib.lines.Line2D at 0x7f17e0966a60>,\n",
       "   <matplotlib.lines.Line2D at 0x7f17e0966d00>,\n",
       "   <matplotlib.lines.Line2D at 0x7f17e0975d00>,\n",
       "   <matplotlib.lines.Line2D at 0x7f17e0975fa0>,\n",
       "   <matplotlib.lines.Line2D at 0x7f17e0901fa0>,\n",
       "   <matplotlib.lines.Line2D at 0x7f17e0911280>,\n",
       "   <matplotlib.lines.Line2D at 0x7f17e091f280>,\n",
       "   <matplotlib.lines.Line2D at 0x7f17e091f520>,\n",
       "   <matplotlib.lines.Line2D at 0x7f17e092c520>,\n",
       "   <matplotlib.lines.Line2D at 0x7f17e092c7c0>,\n",
       "   <matplotlib.lines.Line2D at 0x7f17e093c580>,\n",
       "   <matplotlib.lines.Line2D at 0x7f17e093c820>,\n",
       "   <matplotlib.lines.Line2D at 0x7f17e08c9820>,\n",
       "   <matplotlib.lines.Line2D at 0x7f17e08c9ac0>],\n",
       "  'boxes': [<matplotlib.lines.Line2D at 0x7f17e09b8d00>,\n",
       "   <matplotlib.lines.Line2D at 0x7f17e094afa0>,\n",
       "   <matplotlib.lines.Line2D at 0x7f17e0966280>,\n",
       "   <matplotlib.lines.Line2D at 0x7f17e0975520>,\n",
       "   <matplotlib.lines.Line2D at 0x7f17e09017c0>,\n",
       "   <matplotlib.lines.Line2D at 0x7f17e0911a60>,\n",
       "   <matplotlib.lines.Line2D at 0x7f17e091fd00>,\n",
       "   <matplotlib.lines.Line2D at 0x7f17e092cd60>,\n",
       "   <matplotlib.lines.Line2D at 0x7f17e08c9040>],\n",
       "  'medians': [<matplotlib.lines.Line2D at 0x7f17e094aa60>,\n",
       "   <matplotlib.lines.Line2D at 0x7f17e0958d00>,\n",
       "   <matplotlib.lines.Line2D at 0x7f17e0966fa0>,\n",
       "   <matplotlib.lines.Line2D at 0x7f17e0901280>,\n",
       "   <matplotlib.lines.Line2D at 0x7f17e0911520>,\n",
       "   <matplotlib.lines.Line2D at 0x7f17e091f7c0>,\n",
       "   <matplotlib.lines.Line2D at 0x7f17e092ca60>,\n",
       "   <matplotlib.lines.Line2D at 0x7f17e093cac0>,\n",
       "   <matplotlib.lines.Line2D at 0x7f17e08c9d60>],\n",
       "  'fliers': [<matplotlib.lines.Line2D at 0x7f17e094ad00>,\n",
       "   <matplotlib.lines.Line2D at 0x7f17e0958fa0>,\n",
       "   <matplotlib.lines.Line2D at 0x7f17e0975280>,\n",
       "   <matplotlib.lines.Line2D at 0x7f17e0901520>,\n",
       "   <matplotlib.lines.Line2D at 0x7f17e09117c0>,\n",
       "   <matplotlib.lines.Line2D at 0x7f17e091fa60>,\n",
       "   <matplotlib.lines.Line2D at 0x7f17e09c2f70>,\n",
       "   <matplotlib.lines.Line2D at 0x7f17e093cd60>,\n",
       "   <matplotlib.lines.Line2D at 0x7f17e08da040>],\n",
       "  'means': []},\n",
       " Text(0.5, 1.0, 'Boxplot of specificity for récidive locale'),\n",
       " (0.0, 1.0),\n",
       " ([<matplotlib.axis.XTick at 0x7f17e0999190>,\n",
       "   <matplotlib.axis.XTick at 0x7f17e0999160>,\n",
       "   <matplotlib.axis.XTick at 0x7f17e09b8a30>,\n",
       "   <matplotlib.axis.XTick at 0x7f17e08dab80>,\n",
       "   <matplotlib.axis.XTick at 0x7f17e08e0670>,\n",
       "   <matplotlib.axis.XTick at 0x7f17e08e0b80>,\n",
       "   <matplotlib.axis.XTick at 0x7f17e08e5670>,\n",
       "   <matplotlib.axis.XTick at 0x7f17e08e5ee0>,\n",
       "   <matplotlib.axis.XTick at 0x7f17e08eac10>],\n",
       "  [Text(1, 0, 'SIMU'),\n",
       "   Text(2, 0, 'F1'),\n",
       "   Text(3, 0, 'F3'),\n",
       "   Text(4, 0, 'F5'),\n",
       "   Text(5, 0, 'Simu_F1'),\n",
       "   Text(6, 0, 'Simu_F3'),\n",
       "   Text(7, 0, 'Simu_F5'),\n",
       "   Text(8, 0, 'F1_F3'),\n",
       "   Text(9, 0, 'F1_F5')]))"
      ]
     },
     "execution_count": 17,
     "metadata": {},
     "output_type": "execute_result"
    },
    {
     "data": {
      "image/png": "[encoded data removed]",
      "text/plain": [
       "<Figure size 800x550 with 1 Axes>"
      ]
     },
     "metadata": {},
     "output_type": "display_data"
    }
   ],
   "source": [
    "data = af.get_best_results_to_plot(results, delta_rad_tables, feat_sel_algo_list, pred_algo_list, metric='specificity', outcome='Récidive Locale', k=1)\n",
    "plt.boxplot(data.values(), widths=widths, medianprops=medianprops), plt.title(f'Boxplot of specificity for récidive locale'), plt.ylim([0, 1]), plt.xticks(range(1, len(delta_rad_tables) + 1), nice_tables), \n"
   ]
  },
  {
   "cell_type": "markdown",
   "metadata": {},
   "source": [
    "## Best spe & sens"
   ]
  },
  {
   "cell_type": "code",
   "execution_count": null,
   "metadata": {},
   "outputs": [
    {
     "name": "stdout",
     "output_type": "stream",
     "text": [
      "Table: f1_gtv.csv, Outcome: Récidive Locale, Feature Selection Algorithm: ANOVA_K_BEST, Prediction Algorithm: RF, Number of Features: 1, '\n",
      "'                                           TEST AUC: 0.6987986898433081, Sensitivity: 0.7333333333333332, Specificity: 0.6090909090909087, '\n",
      "'                                           Features: ['original_glcm_MCC']\n",
      "Table: rd_f1_f5_gtv.csv, Outcome: Récidive Locale, Feature Selection Algorithm: ANOVA_K_BEST, Prediction Algorithm: RF, Number of Features: 3, '\n",
      "'                                           TEST AUC: 0.7410226665904249, Sensitivity: 0.6999999999999998, Specificity: 0.7599999999999996, '\n",
      "'                                           Features: ['original_shape_Maximum3DDiameter', 'original_shape_Maximum2DDiameterRow', 'original_gldm_DependenceEntropy']\n"
     ]
    }
   ],
   "source": [
    "af.find_perf_alg(results, delta_rad_tables, ['Récidive Locale'], feat_sel_algo_list, pred_algo_list, metric='sens_spec', threshold=0.6)"
   ]
  }
 ],
 "metadata": {
  "kernelspec": {
   "display_name": "flothesis",
   "language": "python",
   "name": "python3"
  },
  "language_info": {
   "codemirror_mode": {
    "name": "ipython",
    "version": 3
   },
   "file_extension": ".py",
   "mimetype": "text/x-python",
   "name": "python",
   "nbconvert_exporter": "python",
   "pygments_lexer": "ipython3",
   "version": "3.8.20"
  }
 },
 "nbformat": 4,
 "nbformat_minor": 2
}
