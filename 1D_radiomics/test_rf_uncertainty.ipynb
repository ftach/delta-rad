{
 "cells": [
  {
   "cell_type": "markdown",
   "metadata": {},
   "source": [
    "# Test Random Forest with uncertainty"
   ]
  },
  {
   "cell_type": "code",
   "execution_count": 1,
   "metadata": {},
   "outputs": [],
   "source": [
    "import dataset\n",
    "import os\n",
    "import numpy as np\n",
    "from sklearn.model_selection import train_test_split\n",
    "from sklearn.preprocessing import StandardScaler\n",
    "from sklearn.ensemble import RandomForestClassifier\n",
    "import feature_selection as fsa \n",
    "import predictions as p \n",
    "from scipy.stats import entropy\n"
   ]
  },
  {
   "cell_type": "markdown",
   "metadata": {},
   "source": [
    "# Parameters"
   ]
  },
  {
   "cell_type": "code",
   "execution_count": 2,
   "metadata": {},
   "outputs": [],
   "source": [
    "folder_path = '/home/tachennf/Documents/delta-rad/extracted_radiomics/'\n",
    "table = 'rd_f1_f5_gtv.csv'\n",
    "outcome_csv = 'outcomes.csv'\n",
    "outcome = 'Récidive Locale'\n",
    "feat_sel_algo = 'ANOVA_PERC'\n",
    "max_features = 2"
   ]
  },
  {
   "cell_type": "markdown",
   "metadata": {},
   "source": [
    "# Load data"
   ]
  },
  {
   "cell_type": "code",
   "execution_count": 3,
   "metadata": {},
   "outputs": [],
   "source": [
    "X, y, features_list = dataset.get_xy(os.path.join(folder_path, table), os.path.join(folder_path, outcome_csv), outcome)\n",
    "X_train, X_test, y_train, y_test = train_test_split(X, y, test_size=0.3, random_state=42, stratify=y[outcome])"
   ]
  },
  {
   "cell_type": "code",
   "execution_count": 4,
   "metadata": {},
   "outputs": [
    {
     "name": "stdout",
     "output_type": "stream",
     "text": [
      "29 features are selected after repeatability, reproductibility and correlation analysis\n"
     ]
    }
   ],
   "source": [
    "print(\"{} features are selected after repeatability, reproductibility and correlation analysis\".format(len(features_list)))"
   ]
  },
  {
   "cell_type": "markdown",
   "metadata": {},
   "source": [
    "# Feature selection"
   ]
  },
  {
   "cell_type": "code",
   "execution_count": 5,
   "metadata": {},
   "outputs": [
    {
     "name": "stdout",
     "output_type": "stream",
     "text": [
      "['original_shape_Maximum2DDiameterRow']\n"
     ]
    }
   ],
   "source": [
    "best_features, best_feat_sel_model = fsa.get_best_features(X_train, y_train, feat_sel_algo, features_list=features_list, max_features=max_features)\n",
    "print(best_features)\n"
   ]
  },
  {
   "cell_type": "code",
   "execution_count": 6,
   "metadata": {},
   "outputs": [],
   "source": [
    "sel_features, X_filtered = fsa.filter_dataset2(X, best_features, len(best_features), features_list)\n",
    "X_filtered = X_filtered.loc[X_filtered.index.isin(y_train.index)]\n"
   ]
  },
  {
   "cell_type": "code",
   "execution_count": 7,
   "metadata": {},
   "outputs": [],
   "source": [
    "znorm_scaler = StandardScaler()\n",
    "X_train = znorm_scaler.fit_transform(X_filtered)"
   ]
  },
  {
   "cell_type": "markdown",
   "metadata": {},
   "source": [
    "# Training"
   ]
  },
  {
   "cell_type": "code",
   "execution_count": 8,
   "metadata": {},
   "outputs": [],
   "source": [
    "from sklearn.model_selection import GridSearchCV\n",
    "\n",
    "# These are customized functions: should be in utils.py\n",
    "def hyper_parameters_search(clf, X, y, param_grid, scorer = 'f1', cv=5):\n",
    "    \n",
    "    grid = GridSearchCV(clf, param_grid = param_grid, scoring = scorer, cv = cv, return_train_score = True)\n",
    "    grid.fit(X, y)\n",
    "\n",
    "    print(\"best mean cross-validation score: {:.3f}\".format(grid.best_score_))\n",
    "    print(\"best parameters: {}\".format(grid.best_params_))\n",
    "    \n",
    "    return grid"
   ]
  },
  {
   "cell_type": "code",
   "execution_count": 9,
   "metadata": {},
   "outputs": [
    {
     "name": "stdout",
     "output_type": "stream",
     "text": [
      "best mean cross-validation score: 0.233\n",
      "best parameters: {'max_depth': 1, 'n_estimators': 30}\n"
     ]
    }
   ],
   "source": [
    "param_grid = [{'max_depth': range(1, 5, 4), 'n_estimators' : range(5, 200, 25)}]\n",
    "model = RandomForestClassifier()\n",
    "rf_grid = hyper_parameters_search(model, X_train, y_train, param_grid, scorer = 'f1', cv=5)"
   ]
  },
  {
   "cell_type": "code",
   "execution_count": 10,
   "metadata": {},
   "outputs": [],
   "source": [
    "optimal_threshold = p.compute_opt_threshold(rf_grid, X_train, y_train) # compute optimal threshold\n"
   ]
  },
  {
   "cell_type": "markdown",
   "metadata": {},
   "source": [
    "# Testing"
   ]
  },
  {
   "cell_type": "code",
   "execution_count": 11,
   "metadata": {},
   "outputs": [
    {
     "name": "stdout",
     "output_type": "stream",
     "text": [
      "Index(['original_shape_Maximum2DDiameterRow'], dtype='object')\n"
     ]
    }
   ],
   "source": [
    "X_test = X_test[sel_features]\n",
    "print(X_test.columns)"
   ]
  },
  {
   "cell_type": "code",
   "execution_count": 12,
   "metadata": {},
   "outputs": [],
   "source": [
    "X_test = znorm_scaler.fit_transform(X_test)"
   ]
  },
  {
   "cell_type": "code",
   "execution_count": 13,
   "metadata": {},
   "outputs": [
    {
     "name": "stdout",
     "output_type": "stream",
     "text": [
      "[[ 0.79437167]\n",
      " [ 0.24969675]\n",
      " [-0.04296344]\n",
      " [ 1.08530303]\n",
      " [-0.16575844]\n",
      " [ 0.24969675]\n",
      " [ 0.20917148]\n",
      " [ 0.24969675]\n",
      " [ 0.24969675]\n",
      " [ 0.24969675]\n",
      " [-2.79462528]\n",
      " [-0.03012244]\n",
      " [ 0.24969675]\n",
      " [ 0.19924077]\n",
      " [ 0.24969675]\n",
      " [ 0.21043803]\n",
      " [-3.12580138]\n",
      " [ 0.47578112]\n",
      " [ 0.24969675]\n",
      " [ 0.69966576]\n",
      " [ 0.48772509]]\n"
     ]
    }
   ],
   "source": [
    "print(X_test)"
   ]
  },
  {
   "cell_type": "code",
   "execution_count": 14,
   "metadata": {},
   "outputs": [
    {
     "name": "stdout",
     "output_type": "stream",
     "text": [
      "Test AUC: 0.525\n",
      "Sensitivity: 0.200\n",
      "Specificity: 0.875\n",
      "Brier loss: 0.231\n"
     ]
    }
   ],
   "source": [
    "test_auc, sensitivity, specificity, brier_loss = p.compute_test_metrics(rf_grid, X_test, y_test, optimal_threshold)\n",
    "print(\"Test AUC: {:.3f}\".format(test_auc))\n",
    "print(\"Sensitivity: {:.3f}\".format(sensitivity))\n",
    "print(\"Specificity: {:.3f}\".format(specificity))\n",
    "print(\"Brier loss: {:.3f}\".format(brier_loss))"
   ]
  },
  {
   "cell_type": "markdown",
   "metadata": {},
   "source": [
    "# Uncertainty test"
   ]
  },
  {
   "cell_type": "code",
   "execution_count": 15,
   "metadata": {},
   "outputs": [],
   "source": [
    "rf_model = rf_grid.best_estimator_\n",
    "tree_probs = np.array([tree.predict_proba(X_test) for tree in rf_model.estimators_])\n",
    "# Calculate the mean probabilities across all trees\n",
    "mean_probs = np.mean(tree_probs, axis=0)\n",
    "# Calculate the entropy of the mean probability distribution\n",
    "entropies = np.array([entropy(prob) for prob in mean_probs])"
   ]
  },
  {
   "cell_type": "code",
   "execution_count": 16,
   "metadata": {},
   "outputs": [
    {
     "name": "stdout",
     "output_type": "stream",
     "text": [
      "[0.40798673 0.40798673 0.40798673 0.50291593 0.40798673 0.40798673\n",
      " 0.40798673 0.40798673 0.40798673 0.40798673 0.6085921  0.40798673\n",
      " 0.40798673 0.40798673 0.40798673 0.40798673 0.6085921  0.40798673\n",
      " 0.40798673 0.40798673 0.40798673]\n"
     ]
    }
   ],
   "source": [
    "print(entropies)"
   ]
  },
  {
   "cell_type": "code",
   "execution_count": 17,
   "metadata": {},
   "outputs": [
    {
     "name": "stdout",
     "output_type": "stream",
     "text": [
      "[False False False  True False False False False False False  True False\n",
      " False False False False  True False False False False]\n"
     ]
    }
   ],
   "source": [
    "uncertain_predictions = entropies > 0.5\n",
    "print(uncertain_predictions)"
   ]
  },
  {
   "cell_type": "code",
   "execution_count": 18,
   "metadata": {},
   "outputs": [],
   "source": [
    "##removeuncertain predictions\n",
    "X_test = X_test[~uncertain_predictions]\n",
    "y_test = y_test[~uncertain_predictions]"
   ]
  },
  {
   "cell_type": "code",
   "execution_count": 19,
   "metadata": {},
   "outputs": [
    {
     "name": "stdout",
     "output_type": "stream",
     "text": [
      "Test AUC: 0.500\n",
      "Sensitivity: 0.000\n",
      "Specificity: 1.000\n",
      "Brier loss: 0.179\n"
     ]
    }
   ],
   "source": [
    "test_auc, sensitivity, specificity, brier_loss = p.compute_test_metrics(rf_grid, X_test, y_test, optimal_threshold)\n",
    "print(\"Test AUC: {:.3f}\".format(test_auc))\n",
    "print(\"Sensitivity: {:.3f}\".format(sensitivity))\n",
    "print(\"Specificity: {:.3f}\".format(specificity))\n",
    "print(\"Brier loss: {:.3f}\".format(brier_loss))"
   ]
  },
  {
   "cell_type": "markdown",
   "metadata": {},
   "source": [
    "# Brier score"
   ]
  },
  {
   "cell_type": "code",
   "execution_count": null,
   "metadata": {},
   "outputs": [],
   "source": []
  }
 ],
 "metadata": {
  "kernelspec": {
   "display_name": "flothesis",
   "language": "python",
   "name": "python3"
  },
  "language_info": {
   "codemirror_mode": {
    "name": "ipython",
    "version": 3
   },
   "file_extension": ".py",
   "mimetype": "text/x-python",
   "name": "python",
   "nbconvert_exporter": "python",
   "pygments_lexer": "ipython3",
   "version": "3.8.20"
  }
 },
 "nbformat": 4,
 "nbformat_minor": 2
}
