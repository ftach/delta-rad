{
 "cells": [
  {
   "cell_type": "markdown",
   "metadata": {},
   "source": [
    "# MR image preprocessing and Radiomic features extraction \n",
    "## Image preprocessing\n",
    "MR images will be preprocessed with bias field correction, noise filtering and intensity normalized.\n",
    "> Bias field correction is performed with [N4 alorithm](https://simpleitk.readthedocs.io/en/master/link_N4BiasFieldCorrection_docs.html). Simple ITK must be installed: `pip install SimpleITK`\n",
    "\n",
    "> Noise filtering is performed with gradient anisotropic filter, using [medpy code](https://loli.github.io/medpy/generated/medpy.filter.smoothing.anisotropic_diffusion.html#medpy.filter.smoothing.anisotropic_diffusion). Medpy must be installed: `pip3 install medpy`\n",
    "\n",
    "> Intensity normalization is performed with Nyul algorithm, code from [intensity-normalization](https://github.com/jcreinhold/intensity-normalization). Installation of the package: `pip install intensity-normalization`\n",
    "\n",
    "Radiomic feature extraction is performed with pyradiomics"
   ]
  },
  {
   "cell_type": "code",
   "execution_count": 1,
   "metadata": {},
   "outputs": [],
   "source": [
    "#!/usr/bin/env python\n",
    "\n",
    "from __future__ import print_function\n",
    "\n",
    "import collections\n",
    "import csv\n",
    "import logging\n",
    "import os\n",
    "\n",
    "import SimpleITK as sitk\n",
    "import numpy as np\n",
    "import matplotlib.pyplot as plt\n",
    "import itk\n",
    "\n",
    "#import radiomics\n",
    "#from radiomics import featureextractor\n",
    "\n",
    "import nibabel as nib"
   ]
  },
  {
   "cell_type": "markdown",
   "metadata": {},
   "source": [
    "## Read Data\n",
    "Data are saved as nifti files. Folder path and names of data and masks are stored in a csv file, in current folder."
   ]
  },
  {
   "cell_type": "code",
   "execution_count": 1,
   "metadata": {},
   "outputs": [],
   "source": [
    "import os\n",
    "import csv\n",
    "\n",
    "out_path = r''\n",
    "input_csv = os.path.join(out_path, 'DataToCompute.csv')  # !!! change csv filename if needed !!!\n",
    "\n",
    "f_lists = []\n",
    "try:\n",
    "    with open(input_csv, 'r') as in_file:\n",
    "        csv_reader = csv.DictReader(in_file, lineterminator='\\n')\n",
    "        f_lists = [row for row in csv_reader]\n",
    "except Exception:\n",
    "    print(\"CSV READ FAILED\")\n",
    "\n",
    "image_filepath = []\n",
    "image_id = []\n",
    "mask_filepath = []\n",
    "mask_temp = []\n",
    "for entry in f_lists:\n",
    "    image_filepath.append(entry['Image'])\n",
    "    image_id.append(entry['ID'])\n",
    "    num_mask = len(entry) - 2\n",
    "    k = 0\n",
    "\n",
    "    while k < num_mask:\n",
    "        k += 1\n",
    "        mask_name = 'Mask' + str(k)\n",
    "        mask_temp.append(entry[mask_name])\n",
    "    mask_filepath.append(\",\".join(mask_temp))\n",
    "    mask_temp.clear()\n"
   ]
  },
  {
   "cell_type": "code",
   "execution_count": 2,
   "metadata": {},
   "outputs": [
    {
     "name": "stdout",
     "output_type": "stream",
     "text": [
      "['Data/Patient63/mask_dir/Patient63_IRM_simu_mridian_gtv.nii,Data/Patient63/mask_dir/Patient63_IRM_simu_mridian_gtv.nii', 'Data/Patient63/mask_dir/Patient63_mridian_ttt_1_gtv.nii,Data/Patient63/mask_dir/Patient63_mridian_ttt_1_gtv.nii']\n"
     ]
    }
   ],
   "source": [
    "print(mask_filepath)"
   ]
  },
  {
   "cell_type": "markdown",
   "metadata": {},
   "source": [
    "## N4 bias field correction"
   ]
  },
  {
   "cell_type": "code",
   "execution_count": null,
   "metadata": {},
   "outputs": [
    {
     "name": "stdout",
     "output_type": "stream",
     "text": [
      "N4 bias correction runs.\n",
      "Finished N4 Bias Field Correction.....\n"
     ]
    }
   ],
   "source": [
    "\n",
    "print(\"N4 bias correction runs.\")\n",
    "\n",
    "bf_repert = 'Data/BFcorr'\n",
    "if not os.path.exists(bf_repert):\n",
    "    os.makedirs(bf_repert)\n",
    "\n",
    "mask_path = 'Data/Masks_WholePat'\n",
    "if not os.path.exists(mask_path):\n",
    "    os.makedirs(mask_path)\n",
    "\n",
    "list_whole_mask = []\n",
    "list_nam_bfc = []\n",
    "for name_im_or, nam_id in zip(image_filepath, image_id):\n",
    "\n",
    "    input_image = sitk.ReadImage(name_im_or)\n",
    "    mask_image = sitk.OtsuThreshold(input_image, 0, 1, 50)\n",
    "\n",
    "    input_image = sitk.Cast(input_image, sitk.sitkFloat32)\n",
    "\n",
    "    corrector = sitk.N4BiasFieldCorrectionImageFilter()\n",
    "    img_bf_corr = corrector.Execute(input_image, mask_image)\n",
    "\n",
    "    name_bf_corr = os.path.join(bf_repert, nam_id + '_BFc.nii')\n",
    "    sitk.WriteImage(img_bf_corr, name_bf_corr)\n",
    "    list_nam_bfc.append(name_bf_corr)\n",
    "\n",
    "    mask_wp = os.path.join(mask_path, nam_id + '_mask.nii')\n",
    "    sitk.WriteImage(mask_image, mask_wp)\n",
    "    list_whole_mask.append(mask_wp)\n",
    "\n",
    "print(\"Finished N4 Bias Field Correction.....\")\n",
    "\n"
   ]
  },
  {
   "cell_type": "markdown",
   "metadata": {},
   "source": [
    "## Noise filtering\n",
    "Settings:\n",
    "> Number of iteration: 5\n",
    "\n",
    "> kappa: 5\n",
    "\n",
    "> gamma: 3"
   ]
  },
  {
   "cell_type": "code",
   "execution_count": 4,
   "metadata": {},
   "outputs": [
    {
     "name": "stdout",
     "output_type": "stream",
     "text": [
      "Noise filtering runs.\n",
      "Finished Noise filtering.....\n"
     ]
    }
   ],
   "source": [
    "from medpy.io import load, save, get_pixel_spacing\n",
    "from medpy.filter.smoothing import anisotropic_diffusion\n",
    "\n",
    "print(\"Noise filtering runs.\")\n",
    "\n",
    "nfRepert = 'Data/NFcorr'\n",
    "if not os.path.exists(nfRepert):\n",
    " os.makedirs(nfRepert)\n",
    "\n",
    "# Noise filtering settings\n",
    "numb_it = 5\n",
    "kappa = 5\n",
    "gamma = 3\n",
    "\n",
    "listNamNfc = []\n",
    "for nameBFc,namID in zip(listNamBfc,imageID):\n",
    "    data_input, header_input = load(nameBFc)\n",
    "    data_output = anisotropic_diffusion(data_input, numb_it, kappa, gamma, get_pixel_spacing(header_input))\n",
    "    data_output[data_output<=0] = 0\n",
    "    \n",
    "    nameNfCorr = nfRepert + '/' + namID + '_NFc.nii'\n",
    "    listNamNfc.append(nameNfCorr)\n",
    "    save(data_output, nameNfCorr, header_input)\n",
    "\n",
    "\n",
    "    \n",
    "print(\"Finished Noise filtering.....\")"
   ]
  },
  {
   "cell_type": "markdown",
   "metadata": {},
   "source": [
    "## Radiomics extraction\n",
    "A setting file in .yalm is uploaded and contains all the needed settings for features extraction (feature class to extract, number of bins or binwidth, interpolation, resample parameters...)\n",
    "\n",
    "Feature values are stored in a csv file (outputFilepath)"
   ]
  },
  {
   "cell_type": "code",
   "execution_count": 5,
   "metadata": {},
   "outputs": [
    {
     "name": "stdout",
     "output_type": "stream",
     "text": [
      "Feature extractation.\n"
     ]
    },
    {
     "name": "stderr",
     "output_type": "stream",
     "text": [
      "GLCM is symmetrical, therefore Sum Average = 2 * Joint Average, only 1 needs to be calculated\n",
      "GLCM is symmetrical, therefore Sum Average = 2 * Joint Average, only 1 needs to be calculated\n",
      "GLCM is symmetrical, therefore Sum Average = 2 * Joint Average, only 1 needs to be calculated\n",
      "GLCM is symmetrical, therefore Sum Average = 2 * Joint Average, only 1 needs to be calculated\n",
      "GLCM is symmetrical, therefore Sum Average = 2 * Joint Average, only 1 needs to be calculated\n",
      "GLCM is symmetrical, therefore Sum Average = 2 * Joint Average, only 1 needs to be calculated\n"
     ]
    },
    {
     "name": "stdout",
     "output_type": "stream",
     "text": [
      "...End....\n"
     ]
    }
   ],
   "source": [
    "print(\"Feature extractation.\")\n",
    "\n",
    "params = os.path.join(outPath, 'Params_MRIdian.yaml')\n",
    "outputFilepath = os.path.join(outPath, 'extractedFeature.csv')\n",
    "# Initialize feature extractor using the settings file\n",
    "extractor = featureextractor.RadiomicsFeatureExtractor(params)\n",
    "headers = None\n",
    "\n",
    "datasetToExtract = {}\n",
    "for idExtr, imgExtr, mskExtr in zip(imageID, listNamNfc, maskFilepath):\n",
    "    allMasks = mskExtr.split(',') \n",
    "    \n",
    "    for eachMask in allMasks:\n",
    "        datasetToExtract['ID'] = idExtr\n",
    "        datasetToExtract['Image'] = imgExtr\n",
    "        datasetToExtract['Mask'] = eachMask\n",
    "        \n",
    "        try:\n",
    "            datasetToExtract.update(extractor.execute(imgExtr, eachMask))\n",
    "            \n",
    "            with open(outputFilepath, 'a') as outputFile:\n",
    "                writer = csv.writer(outputFile, lineterminator='\\n')\n",
    "                if headers is None:\n",
    "                    headers = list(datasetToExtract.keys())\n",
    "                    writer.writerow(headers)\n",
    "                row = []\n",
    "                for h in headers:\n",
    "                    row.append(datasetToExtract.get(h, \"N/A\"))\n",
    "                writer.writerow(row)\n",
    "            \n",
    "        except Exception:\n",
    "            print('FEATURE EXTRACTION FAILED')\n",
    "            \n",
    "        \n",
    "print(\"...End....\")        "
   ]
  },
  {
   "cell_type": "code",
   "execution_count": null,
   "metadata": {},
   "outputs": [],
   "source": []
  }
 ],
 "metadata": {
  "kernelspec": {
   "display_name": "flothesis",
   "language": "python",
   "name": "python3"
  },
  "language_info": {
   "codemirror_mode": {
    "name": "ipython",
    "version": 3
   },
   "file_extension": ".py",
   "mimetype": "text/x-python",
   "name": "python",
   "nbconvert_exporter": "python",
   "pygments_lexer": "ipython3",
   "version": "3.8.20"
  }
 },
 "nbformat": 4,
 "nbformat_minor": 4
}
